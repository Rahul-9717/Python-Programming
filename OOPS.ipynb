{
 "cells": [
  {
   "cell_type": "markdown",
   "metadata": {},
   "source": [
    "## **Object Oriented Programming (OOP) in Python**"
   ]
  },
  {
   "cell_type": "markdown",
   "metadata": {},
   "source": [
    "#### **Python Classes & Objects**\n",
    "\n",
    "Think of a class as a blueprint of a house. It contains all the details about the floors, doors, window etc. Based on these descriptions we build the house.\n",
    "The actual physical house is the object "
   ]
  },
  {
   "cell_type": "code",
   "execution_count": 1,
   "metadata": {},
   "outputs": [],
   "source": [
    "class Student:\n",
    "    pass\n",
    "student1 = Student()\n",
    "student2 = Student()"
   ]
  },
  {
   "cell_type": "markdown",
   "metadata": {},
   "source": [
    "Here *student1* and *student2* are objects of the *student* class.\n",
    "\n",
    "Now we can start adding different attributes to these object instances."
   ]
  },
  {
   "cell_type": "code",
   "execution_count": 2,
   "metadata": {},
   "outputs": [
    {
     "name": "stdout",
     "output_type": "stream",
     "text": [
      "Harry\n",
      "85\n"
     ]
    }
   ],
   "source": [
    "class student:\n",
    "    pass\n",
    "\n",
    "student1 = Student()\n",
    "student1.name = \"Harry\"\n",
    "student1.marks = 85\n",
    "\n",
    "print(student1.name)\n",
    "print(student1.marks)"
   ]
  },
  {
   "cell_type": "markdown",
   "metadata": {},
   "source": [
    "Let's see now how we can define methods inside a class"
   ]
  },
  {
   "cell_type": "code",
   "execution_count": 4,
   "metadata": {},
   "outputs": [
    {
     "name": "stdout",
     "output_type": "stream",
     "text": [
      "Pass\n"
     ]
    }
   ],
   "source": [
    "class Student:\n",
    "    def check_result(self):\n",
    "        if self.marks >= 40:\n",
    "            return \"Pass\"\n",
    "        else:\n",
    "            return \"Fail\"\n",
    "\n",
    "student1 = Student()\n",
    "student1.name = \"Harry\"\n",
    "student1.marks = 85\n",
    "\n",
    "result = student1.check_result()\n",
    "print(result)      "
   ]
  },
  {
   "cell_type": "markdown",
   "metadata": {},
   "source": [
    "Here the *check_result()* method is defined inside the *Student* class.\n",
    "\n",
    "Now any object created from the *Student* class can access this method.\n",
    "\n",
    "We have called this method without passing any arguments however the method definition takes one argument named *self* (using self is just a convention but it is highly recommended to use it)\n",
    "\n",
    "Whenever we define methods for a class we need to use *self* as the first parameter. This *self* represents the object calling it.\n",
    "\n",
    "In our example, *self* refers to the *student1* object & *self.marks* refers to the *marks* attribute of the *student1* object.\n",
    "\n",
    "Let's try the same for another student object."
   ]
  },
  {
   "cell_type": "code",
   "execution_count": 6,
   "metadata": {},
   "outputs": [
    {
     "name": "stdout",
     "output_type": "stream",
     "text": [
      "Pass\n",
      "Fail\n"
     ]
    }
   ],
   "source": [
    "class Student:\n",
    "    def check_result(self):\n",
    "        if self.marks >= 40:\n",
    "            return \"Pass\"\n",
    "        else:\n",
    "            return \"Fail\"\n",
    "\n",
    "student1 = Student()\n",
    "student1.name = \"Harry\"\n",
    "student1.marks = 85\n",
    "\n",
    "result = student1.check_result()\n",
    "print(result) \n",
    "\n",
    "student2 = Student()\n",
    "student2.name = \"Rachel\"\n",
    "student2.marks = 35\n",
    "\n",
    "result = student2.check_result()\n",
    "print(result) "
   ]
  },
  {
   "cell_type": "markdown",
   "metadata": {},
   "source": [
    "**The __init__() Method**\n",
    "\n",
    "Adding attributes to the object manually after deleting it is not a good practice.\n",
    "\n",
    "Python offers a much more elegant & compact way of defining attributes right while instantiating the object. For that we use the *init()* method. \n",
    "\n",
    "This closely resembles constructors in other programming languages like C++ or Java.\n",
    "\n",
    "When we create an object the __init__() method is automatically called, remember that the first argument *self* represents the object calling it."
   ]
  },
  {
   "cell_type": "code",
   "execution_count": 14,
   "metadata": {},
   "outputs": [
    {
     "name": "stdout",
     "output_type": "stream",
     "text": [
      "Harry\n",
      "85\n",
      "Your result is: Pass\n",
      "Rachel\n",
      "35\n",
      "Your result is: Fail\n"
     ]
    }
   ],
   "source": [
    "class Student:\n",
    "    \n",
    "    def __init__(self, name, marks):\n",
    "        self.name = name\n",
    "        self.marks = marks\n",
    "\n",
    "    def check_result(self):\n",
    "        if self.marks >= 40:\n",
    "            return \"Pass\"\n",
    "        else:\n",
    "            return \"Fail\"\n",
    "\n",
    "student1 = Student(\"Harry\", 85)\n",
    "print(student1.name)\n",
    "print(student1.marks)\n",
    "\n",
    "result = student1.check_result()\n",
    "print(\"Your result is:\",result)\n",
    "\n",
    "student2 = Student(\"Rachel\", 35)\n",
    "print(student2.name)\n",
    "print(student2.marks)\n",
    "\n",
    "result = student2.check_result()\n",
    "print(\"Your result is:\",result)"
   ]
  },
  {
   "cell_type": "markdown",
   "metadata": {},
   "source": [
    "Let's see another example"
   ]
  },
  {
   "cell_type": "code",
   "execution_count": 23,
   "metadata": {},
   "outputs": [
    {
     "name": "stdout",
     "output_type": "stream",
     "text": [
      "My name is Virat Kohli\n",
      "having email id : Virat.Kohli@email.com\n",
      "and my salary is 1000000 per month\n",
      "My name is Jasprit Bumrah\n",
      "having email id : Jasprit.Bumrah@email.com\n",
      "and my salary is 700000 per month\n"
     ]
    }
   ],
   "source": [
    "class Employee:\n",
    "\n",
    "    def __init__(self, fname, lname, sal):\n",
    "        self.fname = fname\n",
    "        self.lname = lname\n",
    "        self.email = fname + '.' + lname + '@email.com'\n",
    "        self.sal = sal\n",
    "\n",
    "    def full_details(self):\n",
    "        return f'My name is {self.fname} {self.lname}\\nhaving email id : {self.email}\\nand my salary is {self.sal} per month'\n",
    "\n",
    "emp_1 = Employee('Virat', 'Kohli', 1000000)\n",
    "emp_2 = Employee('Jasprit', 'Bumrah', 700000)\n",
    "emp_1_details = emp_1.full_details()\n",
    "print(emp_1_details)\n",
    "emp_2_details = emp_2.full_details()\n",
    "print(emp_2_details)"
   ]
  },
  {
   "cell_type": "markdown",
   "metadata": {},
   "source": [
    "Let us take another example of adding two complex numbers"
   ]
  },
  {
   "cell_type": "code",
   "execution_count": 26,
   "metadata": {},
   "outputs": [
    {
     "name": "stdout",
     "output_type": "stream",
     "text": [
      "real= 9\n",
      "imag= 8\n"
     ]
    }
   ],
   "source": [
    "class Complex:\n",
    "\n",
    "    def __init__(self, real, imag):\n",
    "        self.real = real\n",
    "        self.imag = imag\n",
    "\n",
    "    def add_nums(self, number):\n",
    "        real = self.real + number.real\n",
    "        imag = self.imag + number.imag\n",
    "        result = Complex(real, imag)\n",
    "        return result\n",
    "\n",
    "n1 = Complex(5, 6)\n",
    "n2 = Complex(4, 2)  \n",
    "final_result = n1.add_nums(n2)\n",
    "print('real=', final_result.real)\n",
    "print('imag=', final_result.imag)"
   ]
  },
  {
   "cell_type": "markdown",
   "metadata": {},
   "source": [
    "Let us have a look at another example which calculates the perimeter of a triangle"
   ]
  },
  {
   "cell_type": "code",
   "execution_count": 27,
   "metadata": {},
   "outputs": [
    {
     "name": "stdout",
     "output_type": "stream",
     "text": [
      "The perimeter of the Triangle is: 12\n"
     ]
    }
   ],
   "source": [
    "class Triangle:\n",
    "\n",
    "    def __init__(self, a, b, c):\n",
    "        self.a = a\n",
    "        self.b = b\n",
    "        self.c = c\n",
    "\n",
    "    def perimeter(self):\n",
    "        result = self.a + self.b + self.c\n",
    "        return result\n",
    "\n",
    "t1 = Triangle(3, 4, 5)\n",
    "result = t1.perimeter()\n",
    "print(\"The perimeter of the Triangle is:\",result)"
   ]
  },
  {
   "cell_type": "markdown",
   "metadata": {},
   "source": [
    "**Why object-oriented programming?**\n",
    "\n",
    "Creating objects allows us to organize related data and functionalities together. This helps us to write structured and flexible code.\n",
    "\n",
    "Now, instead of thinking in terms of individual data and functions, we start thinking in terms of objects and how one object interacts with the other. This helps us to divide a complex problem into smaller sub-problems.\n",
    "\n",
    "Also, using an object-oriented style of programming makes our code reusable because we can define multiple objects with similar attributes and functionalities from a single Class."
   ]
  },
  {
   "cell_type": "markdown",
   "metadata": {},
   "source": [
    "#### **Everything in Python is already an object**\n",
    "\n",
    "Whether its's strings, numbers, functions or even classes.\n",
    "\n",
    "We can check this using *type()* function"
   ]
  },
  {
   "cell_type": "code",
   "execution_count": 28,
   "metadata": {},
   "outputs": [
    {
     "name": "stdout",
     "output_type": "stream",
     "text": [
      "<class 'list'>\n",
      "<class 'int'>\n",
      "<class 'bool'>\n",
      "<class 'function'>\n"
     ]
    }
   ],
   "source": [
    "nums = [1, 4, 9, 16]\n",
    "print(type(nums))\n",
    "\n",
    "num = 5\n",
    "print(type(num))\n",
    "\n",
    "flag = True\n",
    "print(type(flag))\n",
    "\n",
    "def my_function():\n",
    "    pass\n",
    "print(type(my_function))"
   ]
  },
  {
   "cell_type": "markdown",
   "metadata": {},
   "source": [
    "We can see that all these entities are instantiated from a class, which means they are all objects."
   ]
  },
  {
   "cell_type": "markdown",
   "metadata": {},
   "source": [
    "**The dir() function**\n",
    "\n",
    "We can list out all the attributes and methods of a given object by using the *dir()* function."
   ]
  },
  {
   "cell_type": "code",
   "execution_count": 29,
   "metadata": {},
   "outputs": [
    {
     "name": "stdout",
     "output_type": "stream",
     "text": [
      "['__add__', '__class__', '__contains__', '__delattr__', '__delitem__', '__dir__', '__doc__', '__eq__', '__format__', '__ge__', '__getattribute__', '__getitem__', '__gt__', '__hash__', '__iadd__', '__imul__', '__init__', '__init_subclass__', '__iter__', '__le__', '__len__', '__lt__', '__mul__', '__ne__', '__new__', '__reduce__', '__reduce_ex__', '__repr__', '__reversed__', '__rmul__', '__setattr__', '__setitem__', '__sizeof__', '__str__', '__subclasshook__', 'append', 'clear', 'copy', 'count', 'extend', 'index', 'insert', 'pop', 'remove', 'reverse', 'sort']\n"
     ]
    }
   ],
   "source": [
    "num_list = [1, 2, 3]\n",
    "print(dir(num_list))"
   ]
  },
  {
   "cell_type": "markdown",
   "metadata": {},
   "source": [
    "**The id() function**\n",
    "\n",
    "In Python, every object has an id for identity and this id is always unique and constant for an object during its lifetime.\n",
    "\n",
    "We can check the id of an object using the *id()* function"
   ]
  },
  {
   "cell_type": "code",
   "execution_count": 30,
   "metadata": {},
   "outputs": [
    {
     "name": "stdout",
     "output_type": "stream",
     "text": [
      "4381928304\n",
      "4381928464\n"
     ]
    }
   ],
   "source": [
    "num1 = 5\n",
    "num2 = 10\n",
    "print(id(num1))\n",
    "print(id(num2))"
   ]
  },
  {
   "cell_type": "markdown",
   "metadata": {},
   "source": [
    "Let's try assigning num1 to num2"
   ]
  },
  {
   "cell_type": "code",
   "execution_count": 31,
   "metadata": {},
   "outputs": [
    {
     "name": "stdout",
     "output_type": "stream",
     "text": [
      "4381928304\n",
      "4381928304\n"
     ]
    }
   ],
   "source": [
    "num1 = 5\n",
    "num2 = num1\n",
    "print(id(num1))\n",
    "print(id(num2))"
   ]
  },
  {
   "cell_type": "markdown",
   "metadata": {},
   "source": [
    "The id is the same for both num1 and num2, Python does this for memory optimization"
   ]
  },
  {
   "cell_type": "markdown",
   "metadata": {},
   "source": [
    "**How variables actually work**\n",
    "\n",
    "We have been learning that variables store a value. However this is technically not true.\n",
    "\n",
    "A variable is more like a name tag and it can refer to any value.\n",
    "\n",
    "Let's see this through an example."
   ]
  },
  {
   "cell_type": "code",
   "execution_count": 33,
   "metadata": {},
   "outputs": [
    {
     "name": "stdout",
     "output_type": "stream",
     "text": [
      "a = [1, 2, 3, 4]\n",
      "b = [1, 2, 3, 4]\n",
      "4427908864\n",
      "4427908864\n"
     ]
    }
   ],
   "source": [
    "a = [1, 2, 3]\n",
    "b = a\n",
    "a.append(4)\n",
    "print(\"a =\", a)\n",
    "print(\"b =\", b)\n",
    "print(id(a))\n",
    "print(id(b))"
   ]
  },
  {
   "cell_type": "markdown",
   "metadata": {},
   "source": [
    "Here both variables a and b are changed. It's because a and b are referring to the same object as the id of both of a and b is the same.\n",
    "\n",
    "That's why we use the list's *copy()* mehtod to copy one list to another if we do not want this behaviour."
   ]
  },
  {
   "cell_type": "code",
   "execution_count": 35,
   "metadata": {},
   "outputs": [
    {
     "name": "stdout",
     "output_type": "stream",
     "text": [
      "a = [1, 2, 3, 4]\n",
      "b = [1, 2, 3]\n",
      "4415430080\n",
      "4416793600\n"
     ]
    }
   ],
   "source": [
    "a = [1, 2, 3]\n",
    "b = a.copy()\n",
    "\n",
    "a.append(4)\n",
    "\n",
    "print(\"a =\", a)\n",
    "print(\"b =\", b)\n",
    "print(id(a))\n",
    "print(id(b))"
   ]
  },
  {
   "cell_type": "markdown",
   "metadata": {},
   "source": [
    "Thus a and b refer to two different objects and modifying one won't affect the other."
   ]
  },
  {
   "cell_type": "markdown",
   "metadata": {},
   "source": [
    "#### **Python Inheritance**\n",
    "\n",
    "Inheritance is a powerful feature of object-oriented programming which allows us to derive multiple child classes from a single parent class.\n",
    "\n",
    "In doing so, the child classes inherit all methods and attributes of the parent class.\n",
    "\n",
    "Eg : From a Base class named Vehicle we can have Derived classes such as Car and Motorbike which in addition to its own attributes & methods can also inherit methods and attributes of the Vehicle class."
   ]
  },
  {
   "cell_type": "markdown",
   "metadata": {},
   "source": [
    "Let's derive a dog and cat class from an animal class and get a fell on how inheritance works."
   ]
  },
  {
   "cell_type": "code",
   "execution_count": 36,
   "metadata": {},
   "outputs": [
    {
     "name": "stdout",
     "output_type": "stream",
     "text": [
      "I can bark\n",
      "I an an animal\n",
      "I can meow\n",
      "I an an animal\n"
     ]
    }
   ],
   "source": [
    "class Animal:\n",
    "    def identity(self):\n",
    "        print(\"I an an animal\")\n",
    "\n",
    "class Dog(Animal):\n",
    "    def bark(self):\n",
    "        print(\"I can bark\")\n",
    "\n",
    "class Cat(Animal):\n",
    "    def grumpy(self):\n",
    "        print(\"I can meow\")\n",
    "\n",
    "dog1 = Dog()\n",
    "dog1.bark()\n",
    "dog1.identity()\n",
    "\n",
    "cat1 = Cat()\n",
    "cat1.grumpy()\n",
    "cat1.identity()"
   ]
  },
  {
   "cell_type": "markdown",
   "metadata": {},
   "source": [
    "Thus in the above example both Dog and Cat are the derived classes of the base class Animal, both Dog and Cat classes can access the methods and attributes of the Animal class which is in this case the *identity()* function"
   ]
  },
  {
   "cell_type": "markdown",
   "metadata": {},
   "source": [
    "Let us now implement a program for calculating the perimeter of diferent polygons like triangles and quadrilaterals using inheritance.\n",
    "\n",
    "Here we will create objects from Triangle & Quadrilateral classes which are basically derived from the base class Polygon.\n",
    "\n",
    "Both the objects will be leveraging the get_perimeter() method created under the Polygon base class."
   ]
  },
  {
   "cell_type": "code",
   "execution_count": 42,
   "metadata": {},
   "outputs": [
    {
     "name": "stdout",
     "output_type": "stream",
     "text": [
      "A triangle is a polygon with 3 sides\n",
      "Perimeter of the Triangle t1 is: 12\n",
      "A quadrilateral is a polygon with 4 sides\n",
      "Perimeter of the Quadrilateral q1 is: 18\n"
     ]
    }
   ],
   "source": [
    "# Let's first create a base class called 'Polygon'\n",
    "\n",
    "class Polygon:\n",
    "    def __init__(self, sides):\n",
    "        self.sides = sides\n",
    "\n",
    "    def display_info(self):\n",
    "        print(\"A polygon is a two dimensional shape with straight lines\")\n",
    "\n",
    "    def perimeter(self):\n",
    "        value = 0\n",
    "        for side in self.sides:\n",
    "            value += side\n",
    "        return value\n",
    "\n",
    "# Let's create a class named 'Triangle' that will be inherited from the base class named 'Polygon'\n",
    "\n",
    "class Triangle(Polygon):\n",
    "    def display_info(self):\n",
    "        print(\"A triangle is a polygon with 3 sides\")\n",
    "\n",
    "# Let's create another class named 'Quadrilateral' that will be inherited from the base class named 'Polygon'\n",
    "\n",
    "class Quadrilateral(Polygon):\n",
    "    def display_info(self):\n",
    "        print(\"A quadrilateral is a polygon with 4 sides\")\n",
    "\n",
    "t1 = Triangle([3, 4, 5])\n",
    "result = t1.perimeter()\n",
    "t1.display_info()\n",
    "print(\"Perimeter of the Triangle t1 is:\", result)\n",
    "\n",
    "q1 = Quadrilateral([3, 4, 5, 6])\n",
    "result = q1.perimeter()\n",
    "q1.display_info()\n",
    "print(\"Perimeter of the Quadrilateral q1 is:\", result)\n"
   ]
  },
  {
   "cell_type": "markdown",
   "metadata": {},
   "source": [
    "#### **Method Overriding**\n",
    "\n",
    "In the above example we can see that the *display_info()* of the Triangle and Quadrilateral classes was called and the *display_info()* method of its parent class was not executed.\n",
    "\n",
    "This is called Method Overriding i.e. if the same method is defined in both the base and derived class, then the mthod of the derived class overrides the method of the base class."
   ]
  },
  {
   "cell_type": "markdown",
   "metadata": {},
   "source": [
    "If required we can call the *display_info()* method of the base class *Polygon* from inside its derived classes as demonstrated below:-"
   ]
  },
  {
   "cell_type": "code",
   "execution_count": 43,
   "metadata": {},
   "outputs": [
    {
     "name": "stdout",
     "output_type": "stream",
     "text": [
      "A triangle is a polygon with 3 sides\n",
      "A polygon is a two dimensional shape with straight lines\n",
      "Perimeter of the Triangle t1 is: 12\n",
      "A quadrilateral is a polygon with 4 sides\n",
      "A polygon is a two dimensional shape with straight lines\n",
      "Perimeter of the Quadrilateral q1 is: 18\n"
     ]
    }
   ],
   "source": [
    "class Polygon:\n",
    "    def __init__(self, sides):\n",
    "        self.sides = sides\n",
    "\n",
    "    def display_info(self):\n",
    "        print(\"A polygon is a two dimensional shape with straight lines\")\n",
    "\n",
    "    def perimeter(self):\n",
    "        perimeter = sum(self.sides)\n",
    "        return perimeter\n",
    "\n",
    "class Triangle(Polygon):\n",
    "    def display_info(self):\n",
    "        print(\"A triangle is a polygon with 3 sides\")\n",
    "        Polygon.display_info(self)\n",
    "\n",
    "class Quadrilateral(Polygon):\n",
    "    def display_info(self):\n",
    "        print(\"A quadrilateral is a polygon with 4 sides\")\n",
    "        Polygon.display_info(self)\n",
    "\n",
    "t1 = Triangle([3, 4, 5])\n",
    "result = t1.perimeter()\n",
    "t1.display_info()\n",
    "print(\"Perimeter of the Triangle t1 is:\", result)\n",
    "\n",
    "q1 = Quadrilateral([3, 4, 5, 6])\n",
    "result = q1.perimeter()\n",
    "q1.display_info()\n",
    "print(\"Perimeter of the Quadrilateral q1 is:\", result)"
   ]
  },
  {
   "cell_type": "markdown",
   "metadata": {},
   "source": [
    "Since we are calling the method using a class (Polygon.display_info(self)) rather than an object, we also need to pass the self object manually.\n",
    "\n",
    "This code is a bit unorthodox and there is a more elegant way to achieve this task using the **super()** function. \n",
    "\n",
    "#### **The super() function**\n",
    "\n",
    "The super() function returns a temporary object of the base class for a derived class."
   ]
  },
  {
   "cell_type": "code",
   "execution_count": 44,
   "metadata": {},
   "outputs": [
    {
     "name": "stdout",
     "output_type": "stream",
     "text": [
      "A triangle is a polygon with 3 sides\n",
      "A polygon is a two dimensional shape with straight lines\n",
      "Perimeter of the Triangle t1 is: 12\n",
      "A quadrilateral is a polygon with 4 sides\n",
      "A polygon is a two dimensional shape with straight lines\n",
      "Perimeter of the Quadrilateral q1 is: 18\n"
     ]
    }
   ],
   "source": [
    "class Polygon:\n",
    "    def __init__(self, sides):\n",
    "        self.sides = sides\n",
    "\n",
    "    def display_info(self):\n",
    "        print(\"A polygon is a two dimensional shape with straight lines\")\n",
    "\n",
    "    def perimeter(self):\n",
    "        perimeter = sum(self.sides)\n",
    "        return perimeter\n",
    "\n",
    "class Triangle(Polygon):\n",
    "    def display_info(self):\n",
    "        print(\"A triangle is a polygon with 3 sides\")\n",
    "        super().display_info()\n",
    "\n",
    "class Quadrilateral(Polygon):\n",
    "    def display_info(self):\n",
    "        print(\"A quadrilateral is a polygon with 4 sides\")\n",
    "        super().display_info()\n",
    "\n",
    "t1 = Triangle([3, 4, 5])\n",
    "result = t1.perimeter()\n",
    "t1.display_info()\n",
    "print(\"Perimeter of the Triangle t1 is:\", result)\n",
    "\n",
    "q1 = Quadrilateral([3, 4, 5, 6])\n",
    "result = q1.perimeter()\n",
    "q1.display_info()\n",
    "print(\"Perimeter of the Quadrilateral q1 is:\", result)"
   ]
  },
  {
   "cell_type": "markdown",
   "metadata": {},
   "source": [
    "In the above scenario, super() is an object of the base class Polygon and we are using it to call display_info() method of the Polygon class."
   ]
  },
  {
   "cell_type": "markdown",
   "metadata": {},
   "source": [
    "#### **Polymorphism**\n",
    "\n",
    "Polymorphism is the condition of occurence in many forms. It is a very important concept in programming.\n",
    "\n",
    "It refers to the use of a single type entity (method, operator or object) to represent different types in different scenarios.\n"
   ]
  },
  {
   "cell_type": "markdown",
   "metadata": {},
   "source": [
    "Example: Polymorphism in addition operator : We know that + operator is used extensively but it does not have a single usage."
   ]
  },
  {
   "cell_type": "code",
   "execution_count": 1,
   "metadata": {},
   "outputs": [
    {
     "name": "stdout",
     "output_type": "stream",
     "text": [
      "3\n",
      "Rahul Arora\n"
     ]
    }
   ],
   "source": [
    "# For integer data types + operator is used to perform aritmetic addition operation\n",
    "num1 = 1\n",
    "num2 = 2\n",
    "print(num1 + num2)\n",
    "\n",
    "# For string data types + operator is used to perform concatenation\n",
    "str1 = \"Rahul\"\n",
    "str2 = \"Arora\"\n",
    "print(str1 + \" \" + str2)"
   ]
  },
  {
   "cell_type": "markdown",
   "metadata": {},
   "source": [
    "Example: Function Polymorphism : The *len()* function can run with many data types in Python."
   ]
  },
  {
   "cell_type": "code",
   "execution_count": 2,
   "metadata": {},
   "outputs": [
    {
     "name": "stdout",
     "output_type": "stream",
     "text": [
      "5\n",
      "3\n",
      "3\n"
     ]
    }
   ],
   "source": [
    "# len() function used to find the length of a string, number of items in a list & number of keys in a dictionary\n",
    "str1 = \"Rahul\"\n",
    "print(len(str1))\n",
    "list1 = [\"Rahul\", \"Sarvesha\", \"Sapna\"]\n",
    "print(len(list1))\n",
    "dict1 = {\"Name\": \"Rahul\", \"Age\": 37, \"Address\": \"Delhi\"}\n",
    "print(len(dict1))"
   ]
  },
  {
   "cell_type": "markdown",
   "metadata": {},
   "source": [
    "Example: We can use the concept of polymorphism while creating class methods as Python allows different classes to have methods with the same name"
   ]
  },
  {
   "cell_type": "code",
   "execution_count": 6,
   "metadata": {},
   "outputs": [
    {
     "name": "stdout",
     "output_type": "stream",
     "text": [
      "Washington DC is the capital of USA\n",
      "English is the language of USA\n",
      "USA is a developed nation\n",
      "New Delhi is the capital of India\n",
      "Hindi is the language of India\n",
      "India is a developing nation\n"
     ]
    }
   ],
   "source": [
    "class India:\n",
    "    def capital(self):\n",
    "        print(\"New Delhi is the capital of India\")\n",
    "    def language(self):\n",
    "        print(\"Hindi is the language of India\")\n",
    "    def status(self):\n",
    "        print(\"India is a developing nation\")\n",
    "\n",
    "class USA:\n",
    "    def capital(self):\n",
    "        print(\"Washington DC is the capital of USA\")\n",
    "    def language(self):\n",
    "        print(\"English is the language of USA\")\n",
    "    def status(self):\n",
    "        print(\"USA is a developed nation\")\n",
    "\n",
    "ind = India()\n",
    "us = USA()\n",
    "for func in (us, ind):\n",
    "    func.capital()\n",
    "    func.language()\n",
    "    func.status()"
   ]
  },
  {
   "cell_type": "markdown",
   "metadata": {},
   "source": [
    "In the above example both the classes India & USA share a similar structure & have the same method names.\n",
    "\n",
    "Even though we have not created a common base class or linked the two classes we are able to pack the two different objects ind & us into a tuple & iterate through it using a common func variable.\n",
    "\n",
    "This is made possible due to polymorphism."
   ]
  },
  {
   "cell_type": "markdown",
   "metadata": {},
   "source": [
    "It is also possible to create a function that can take any object. Let us use the above example:- "
   ]
  },
  {
   "cell_type": "code",
   "execution_count": 7,
   "metadata": {},
   "outputs": [
    {
     "name": "stdout",
     "output_type": "stream",
     "text": [
      "New Delhi is the capital of India\n",
      "Hindi is the language of India\n",
      "India is a developing nation\n",
      "Washington DC is the capital of USA\n",
      "English is the language of USA\n",
      "USA is a developed nation\n"
     ]
    }
   ],
   "source": [
    "class India:\n",
    "    def capital(self):\n",
    "        print(\"New Delhi is the capital of India\")\n",
    "    def language(self):\n",
    "        print(\"Hindi is the language of India\")\n",
    "    def status(self):\n",
    "        print(\"India is a developing nation\")\n",
    "\n",
    "class USA:\n",
    "    def capital(self):\n",
    "        print(\"Washington DC is the capital of USA\")\n",
    "    def language(self):\n",
    "        print(\"English is the language of USA\")\n",
    "    def status(self):\n",
    "        print(\"USA is a developed nation\")\n",
    "\n",
    "def func(obj):\n",
    "    obj.capital()\n",
    "    obj.language()\n",
    "    obj.status()\n",
    "\n",
    "ind = India()\n",
    "us = USA()\n",
    "\n",
    "func(ind)\n",
    "func(us)\n"
   ]
  },
  {
   "cell_type": "markdown",
   "metadata": {},
   "source": [
    "#### **Encapsulation**\n",
    "\n",
    "Encapsulation describes the idea of wrapping data & the methods that work on data within one unit.\n",
    "\n",
    "This puts restrictions on accessing variables & methods directly & can prevent the accidental modification of data.\n",
    "\n",
    "To prevent accidental change, an object's variable can only be changed by an object's method. Those type of variables are known as **private variable** & **protected variable**.\n",
    "\n",
    "It is used to hide the entire class data from the outside source.\n",
    "\n",
    "A class is an example of encapsulation as it encapsulates all the data that is member functions, variables etc."
   ]
  },
  {
   "cell_type": "code",
   "execution_count": 12,
   "metadata": {},
   "outputs": [
    {
     "name": "stdout",
     "output_type": "stream",
     "text": [
      "Rectangle height= 20\n",
      "Rectangle width= 30\n",
      "The rectangle area is: 600\n",
      "Changing the class variables from outside the class:\n",
      "Rectangle height= 50\n",
      "Rectangle width= 70\n",
      "The rectangle area is: 3500\n"
     ]
    }
   ],
   "source": [
    "# Below example showcases that Python allows us to access method & variables from outside the class\n",
    "\n",
    "class rectangle:\n",
    "    def __init__(self, a, b):\n",
    "        self.height = a\n",
    "        self.width = b\n",
    "\n",
    "    def display(self):\n",
    "        print(\"Rectangle height=\", self.height)\n",
    "        print(\"Rectangle width=\", self.width)\n",
    "\n",
    "    def area(self):\n",
    "        result = self.height * self.width\n",
    "        return result    \n",
    "\n",
    "rect = rectangle(20, 30)\n",
    "rect.display()\n",
    "result = rect.area()\n",
    "print(\"The rectangle area is:\", result)\n",
    "\n",
    "print(\"Changing the class variables from outside the class:\")\n",
    "\n",
    "rect.height = 50\n",
    "rect.width = 70\n",
    "rect.display()\n",
    "result = rect.area()\n",
    "print(\"The rectangle area is:\", result)\n",
    "\n",
    "# The class variables height & width are updated from outside the class\n"
   ]
  },
  {
   "cell_type": "markdown",
   "metadata": {},
   "source": [
    "There are multiple methods to control the variable access from outside the class.\n",
    "\n",
    "- **using single underscore(_)** : We generally prefix the variable name with a single underscore, the vraibles are accessible as usual & this single underscore provide partial security in Python.\n",
    "- **using double underscore(__)** : When we put double underscore with variables, Python treats it as a private variable. we can't access it from outside of the class.\n",
    "- **using getter & setter methods** : We can easily access the private variable using Getter & setter method in Python."
   ]
  },
  {
   "cell_type": "code",
   "execution_count": 13,
   "metadata": {},
   "outputs": [
    {
     "name": "stdout",
     "output_type": "stream",
     "text": [
      "Rectangle height= 20\n",
      "Rectangle width= 30\n",
      "The rectangle area is: 600\n",
      "Changing the class variables from outside the class:\n",
      "Rectangle height= 50\n",
      "Rectangle width= 70\n",
      "The rectangle area is: 3500\n"
     ]
    }
   ],
   "source": [
    "# using single underscore(_) :\n",
    "\n",
    "class rectangle:\n",
    "    def __init__(self, a, b):\n",
    "        self._height = a\n",
    "        self._width = b\n",
    "\n",
    "    def display(self):\n",
    "        print(\"Rectangle height=\", self._height)\n",
    "        print(\"Rectangle width=\", self._width)\n",
    "\n",
    "    def area(self):\n",
    "        result = self._height * self._width\n",
    "        return result    \n",
    "\n",
    "rect = rectangle(20, 30)\n",
    "rect.display()\n",
    "result = rect.area()\n",
    "print(\"The rectangle area is:\", result)\n",
    "\n",
    "print(\"Changing the class variables from outside the class:\")\n",
    "\n",
    "rect._height = 50\n",
    "rect._width = 70\n",
    "rect.display()\n",
    "result = rect.area()\n",
    "print(\"The rectangle area is:\", result)\n"
   ]
  },
  {
   "cell_type": "code",
   "execution_count": 18,
   "metadata": {},
   "outputs": [
    {
     "name": "stdout",
     "output_type": "stream",
     "text": [
      "Rectangle height= 20\n",
      "Rectangle width= 30\n",
      "The rectangle area is: 600\n",
      "Changing the class variables from outside the class:\n",
      "Rectangle height= 20\n",
      "Rectangle width= 30\n",
      "The rectangle area is: 600\n"
     ]
    }
   ],
   "source": [
    "# using double underscore (__) :\n",
    "\n",
    "class rectangle:\n",
    "    def __init__(self, a, b):\n",
    "        self.__height = a\n",
    "        self.__width = b\n",
    "\n",
    "    def display(self):\n",
    "        print(\"Rectangle height=\", self.__height)\n",
    "        print(\"Rectangle width=\", self.__width)\n",
    "\n",
    "    def area(self):\n",
    "        result = self.__height * self.__width\n",
    "        return result    \n",
    "\n",
    "rect = rectangle(20, 30)\n",
    "rect.display()\n",
    "result = rect.area()\n",
    "print(\"The rectangle area is:\", result)\n",
    "\n",
    "print(\"Changing the class variables from outside the class:\")\n",
    "\n",
    "rect.__height = 80\n",
    "rect.__width = 20\n",
    "rect.display()\n",
    "result = rect.area()\n",
    "print(\"The rectangle area is:\", result)\n"
   ]
  },
  {
   "cell_type": "code",
   "execution_count": 24,
   "metadata": {},
   "outputs": [
    {
     "name": "stdout",
     "output_type": "stream",
     "text": [
      "2000\n",
      "4500\n",
      "6300\n"
     ]
    }
   ],
   "source": [
    "# using the getter & setter methods to access the private variables :\n",
    "\n",
    "class rectangle:\n",
    "    def __init__(self, a, b):\n",
    "        self.__height = a\n",
    "        self.__width = b\n",
    "\n",
    "    def set_height(self, c):\n",
    "        self.__height = c\n",
    "\n",
    "    def get_height(self):\n",
    "        return self.__height\n",
    "\n",
    "    def set_width(self, d):\n",
    "        self.__width = d\n",
    "\n",
    "    def get_width(self):\n",
    "        return self.__width                 \n",
    "\n",
    "    def area(self):\n",
    "        result = self.__height * self.__width\n",
    "        return result  \n",
    "\n",
    "rect1 = rectangle(40, 50)\n",
    "result = rect1.area()\n",
    "print(result)\n",
    "\n",
    "rect1.set_height(90)\n",
    "result = rect1.area()\n",
    "print(result)\n",
    "\n",
    "rect1.set_width(70)\n",
    "result = rect1.area()\n",
    "print(result)"
   ]
  },
  {
   "cell_type": "code",
   "execution_count": 30,
   "metadata": {},
   "outputs": [
    {
     "name": "stdout",
     "output_type": "stream",
     "text": [
      "Profit\n",
      "Loss\n"
     ]
    }
   ],
   "source": [
    "# Another example :\n",
    "\n",
    "class profit_or_loss:\n",
    "    def __init__(self, sp, cp):\n",
    "        self.__sp = sp\n",
    "        self.__cp = cp\n",
    "\n",
    "    def set_sp(self,a):\n",
    "        self.__sp = a\n",
    "\n",
    "    def get_sp(self):\n",
    "        return self.__sp\n",
    "\n",
    "    def set_cp(self,b):\n",
    "        self.__cp = b\n",
    "\n",
    "    def get_cp(self):\n",
    "        return self.__cp    \n",
    "\n",
    "    def result(self):\n",
    "        if (self.__sp - self.__cp) > 0:\n",
    "            print(\"Profit\")\n",
    "        elif (self.__sp - self.__cp) == 0:\n",
    "            print(\"No Profit, No Loss\")\n",
    "        else :\n",
    "            print(\"Loss\")\n",
    "\n",
    "verdict = profit_or_loss(2300, 2000)\n",
    "verdict.result()\n",
    "verdict.set_cp(3000)\n",
    "verdict.result()"
   ]
  },
  {
   "cell_type": "markdown",
   "metadata": {},
   "source": [
    "#### **Abstraction**\n",
    "\n",
    "Abstraction is used to hide internal details & shows only functionalities & the class from which an object cannot be created is called an **abstract class**.\n",
    "\n",
    "The method contained inside an abstract class is called **abstract method**.\n",
    "\n",
    "An abstract method is a method that is declared but contains no implementation.\n",
    "\n",
    "Abstract classes require sub-classes to provide implementations for the abstract methods."
   ]
  },
  {
   "cell_type": "code",
   "execution_count": 36,
   "metadata": {},
   "outputs": [
    {
     "name": "stdout",
     "output_type": "stream",
     "text": [
      "Draw the circle\n",
      "Draw the square\n"
     ]
    }
   ],
   "source": [
    "# Let us see an example to understand abstraction.\n",
    "\n",
    "from abc import ABC, abstractmethod\n",
    "\n",
    "class shape(ABC):\n",
    "\n",
    "    @abstractmethod\n",
    "    def draw(self):\n",
    "        pass\n",
    "\n",
    "class circle(shape):\n",
    "\n",
    "    def draw(self):\n",
    "        print(\"Draw the circle\")\n",
    "\n",
    "class square(shape):\n",
    "\n",
    "    def draw(self):\n",
    "        print(\"Draw the square\")\n",
    "\n",
    "#s = shape() --> this will show an error because shape is an abstract class\n",
    "c = circle()\n",
    "sq = square()\n",
    "c.draw()\n",
    "sq.draw()\n"
   ]
  },
  {
   "cell_type": "code",
   "execution_count": 39,
   "metadata": {},
   "outputs": [
    {
     "name": "stdout",
     "output_type": "stream",
     "text": [
      "SBI Interest rate is 5%\n",
      "HDFC Interest rate is 2%\n"
     ]
    }
   ],
   "source": [
    "# Another example of abstraction\n",
    "\n",
    "from abc import ABC, abstractmethod\n",
    "\n",
    "class RBI(ABC):\n",
    "\n",
    "    @abstractmethod\n",
    "    def Interest(self):\n",
    "        pass\n",
    "\n",
    "class SBI(RBI):\n",
    "\n",
    "    def Interest(self):\n",
    "        print(\"SBI Interest rate is 5%\")\n",
    "\n",
    "class HDFC(RBI):\n",
    "\n",
    "    def Interest(self):\n",
    "        print(\"HDFC Interest rate is 2%\")\n",
    "\n",
    "s = SBI()\n",
    "s.Interest()\n",
    "h = HDFC()\n",
    "h.Interest()"
   ]
  }
 ],
 "metadata": {
  "interpreter": {
   "hash": "31f2aee4e71d21fbe5cf8b01ff0e069b9275f58929596ceb00d14d90e3e16cd6"
  },
  "kernelspec": {
   "display_name": "Python 3.8.9 64-bit",
   "language": "python",
   "name": "python3"
  },
  "language_info": {
   "codemirror_mode": {
    "name": "ipython",
    "version": 3
   },
   "file_extension": ".py",
   "mimetype": "text/x-python",
   "name": "python",
   "nbconvert_exporter": "python",
   "pygments_lexer": "ipython3",
   "version": "3.8.9"
  },
  "orig_nbformat": 4
 },
 "nbformat": 4,
 "nbformat_minor": 2
}
