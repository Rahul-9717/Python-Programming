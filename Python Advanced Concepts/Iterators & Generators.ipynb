{
 "cells": [
  {
   "cell_type": "markdown",
   "metadata": {},
   "source": [
    "#### **Iterators and Generators**"
   ]
  },
  {
   "cell_type": "markdown",
   "metadata": {},
   "source": [
    "##### Iterators in Python\n",
    "- Anthing through which we can loop over or iterate is known as an **Iterable**, for eg list is an iterable.\n",
    "- In Python an object is considered to be iterable which implements the __iter__() method.\n",
    "- Iterator is an object which returns data one at a time when an iteration is done over it.\n",
    "- In order for an object to be an iterator it must implement two methods namely **iter() & next()**.\n",
    "- The __iter__() method creates the iterator object while __next__() method returns the next value in the iteration & moves the iteration to the next value."
   ]
  },
  {
   "cell_type": "code",
   "execution_count": 1,
   "metadata": {},
   "outputs": [
    {
     "name": "stdout",
     "output_type": "stream",
     "text": [
      "<list_iterator object at 0x1077c0af0>\n"
     ]
    }
   ],
   "source": [
    "# to create an iterator object.\n",
    "my_list = [1, 2, 3, 4, 5]\n",
    "iter_obj = my_list.__iter__()\n",
    "print(iter_obj) # this returns an iterator object with a specified memory location."
   ]
  },
  {
   "cell_type": "code",
   "execution_count": 10,
   "metadata": {},
   "outputs": [
    {
     "name": "stdout",
     "output_type": "stream",
     "text": [
      "<list_iterator object at 0x108405580>\n",
      "1\n",
      "2\n",
      "3\n"
     ]
    }
   ],
   "source": [
    "# let us see how the two iterator methods i.e. __iter__() & __next__() works.\n",
    "my_list = [1, 2, 3]\n",
    "iter_obj = my_list.__iter__()\n",
    "print(iter_obj)\n",
    "item1 = iter_obj.__next__()\n",
    "print(item1)\n",
    "item2 = iter_obj.__next__()\n",
    "print(item2)\n",
    "item3 = iter_obj.__next__()\n",
    "print(item3)"
   ]
  },
  {
   "cell_type": "markdown",
   "metadata": {},
   "source": [
    "- Here an important thing to note that when we are creating a list object which is an iterable all the values stored inside the list will be intialized.\n",
    "- Thus all the values of the list will be stored in different memory locations.\n",
    "- While in the case of an iterator object, the values will only be intialized & memory will be allocated once we call them one by one using next method."
   ]
  },
  {
   "cell_type": "code",
   "execution_count": 32,
   "metadata": {},
   "outputs": [
    {
     "name": "stdout",
     "output_type": "stream",
     "text": [
      "<list_iterator object at 0x10842e610>\n",
      "3\n",
      "4\n",
      "5\n"
     ]
    },
    {
     "ename": "StopIteration",
     "evalue": "",
     "output_type": "error",
     "traceback": [
      "\u001b[0;31m---------------------------------------------------------------------------\u001b[0m",
      "\u001b[0;31mStopIteration\u001b[0m                             Traceback (most recent call last)",
      "\u001b[0;32m/var/folders/lq/gsh3xl_j3_355v403cm3hq2r0000gn/T/ipykernel_2285/2830544443.py\u001b[0m in \u001b[0;36m<module>\u001b[0;34m\u001b[0m\n\u001b[1;32m      9\u001b[0m \u001b[0mitem3\u001b[0m \u001b[0;34m=\u001b[0m \u001b[0mnext\u001b[0m\u001b[0;34m(\u001b[0m\u001b[0miter_obj\u001b[0m\u001b[0;34m)\u001b[0m\u001b[0;34m\u001b[0m\u001b[0;34m\u001b[0m\u001b[0m\n\u001b[1;32m     10\u001b[0m \u001b[0mprint\u001b[0m\u001b[0;34m(\u001b[0m\u001b[0mitem3\u001b[0m\u001b[0;34m)\u001b[0m\u001b[0;34m\u001b[0m\u001b[0;34m\u001b[0m\u001b[0m\n\u001b[0;32m---> 11\u001b[0;31m \u001b[0mitem4\u001b[0m \u001b[0;34m=\u001b[0m \u001b[0mnext\u001b[0m\u001b[0;34m(\u001b[0m\u001b[0miter_obj\u001b[0m\u001b[0;34m)\u001b[0m \u001b[0;31m# since we have returned all the values in the iterator, now this will throw a StopIteration error.\u001b[0m\u001b[0;34m\u001b[0m\u001b[0;34m\u001b[0m\u001b[0m\n\u001b[0m\u001b[1;32m     12\u001b[0m \u001b[0mprint\u001b[0m\u001b[0;34m(\u001b[0m\u001b[0mitem4\u001b[0m\u001b[0;34m)\u001b[0m\u001b[0;34m\u001b[0m\u001b[0;34m\u001b[0m\u001b[0m\n",
      "\u001b[0;31mStopIteration\u001b[0m: "
     ]
    }
   ],
   "source": [
    "# instead of using dunder methods __iter__() & __next__(), we can also use them simply in the form of iter() & next().\n",
    "my_list = [3, 4, 5]\n",
    "iter_obj = iter(my_list)\n",
    "print(iter_obj)\n",
    "item1 = next(iter_obj)\n",
    "print(item1)\n",
    "item2 = next(iter_obj)\n",
    "print(item2)\n",
    "item3 = next(iter_obj)\n",
    "print(item3)\n",
    "item4 = next(iter_obj) # since we have returned all the values in the iterator, now this will throw a StopIteration error.\n",
    "print(item4)"
   ]
  },
  {
   "cell_type": "code",
   "execution_count": 17,
   "metadata": {},
   "outputs": [
    {
     "name": "stdout",
     "output_type": "stream",
     "text": [
      "1\n",
      "2\n",
      "3\n",
      "4\n",
      "5\n"
     ]
    }
   ],
   "source": [
    "# we can return all the values at once from an iterable directly using for loop.\n",
    "my_list = [1, 2, 3, 4, 5]\n",
    "for i in my_list: # in the for loop the StopIteration error is raised internally & the loop terminates once all the items are returned.\n",
    "    print(i)"
   ]
  },
  {
   "cell_type": "code",
   "execution_count": 50,
   "metadata": {},
   "outputs": [
    {
     "name": "stdout",
     "output_type": "stream",
     "text": [
      "1\n",
      "8\n",
      "27\n",
      "64\n",
      "125\n"
     ]
    }
   ],
   "source": [
    "# we can also create our own custom iterators using classes.\n",
    "\n",
    "# below example showcases an iterator that returns the cube of a number in each iteration.\n",
    "class Cube_num:\n",
    "    def __init__(self, x):\n",
    "        self.x = x\n",
    "        self.n = 1\n",
    "    def __iter__(self):\n",
    "        return self\n",
    "    def __next__(self):\n",
    "        if self.n <= self.x:\n",
    "            result = self.n ** 3\n",
    "            self.n += 1\n",
    "            return result\n",
    "        else:\n",
    "            raise StopIteration\n",
    "\n",
    "num = Cube_num(5)\n",
    "item = iter(num)\n",
    "print(next(item))\n",
    "print(next(item))\n",
    "print(next(item))\n",
    "print(next(item))\n",
    "print(next(item))"
   ]
  },
  {
   "cell_type": "code",
   "execution_count": 52,
   "metadata": {},
   "outputs": [
    {
     "name": "stdout",
     "output_type": "stream",
     "text": [
      "<__main__.Rev object at 0x1084052e0>\n",
      "5,4,3,2,1,"
     ]
    }
   ],
   "source": [
    "# let us see another example of a custom iterator built to loop over a sequence in a reverse manner.\n",
    "class Rev:\n",
    "    def __init__(self, x):\n",
    "        self.x = x\n",
    "        self.index = len(x)\n",
    "    def __iter__(self):\n",
    "        return self\n",
    "    def __next__(self):\n",
    "        if self.index == 0:\n",
    "            raise StopIteration\n",
    "        self.index -= 1\n",
    "        return self.x[self.index] \n",
    "\n",
    "rev = Rev([1, 2, 3, 4, 5])\n",
    "rev = iter(rev)\n",
    "print(rev)\n",
    "for i in rev:\n",
    "    print(i, end=\",\")                   "
   ]
  },
  {
   "cell_type": "markdown",
   "metadata": {},
   "source": [
    "##### Generators in Python\n",
    "- Generators are a simple way to create iterators by using functions.\n",
    "- The only exception while using generator function is that instead of return we will use the yield keyword.\n",
    "- The yield keyword is ised to get the next item of the iterator."
   ]
  },
  {
   "cell_type": "code",
   "execution_count": 53,
   "metadata": {},
   "outputs": [
    {
     "name": "stdout",
     "output_type": "stream",
     "text": [
      "1\n",
      "8\n",
      "27\n",
      "64\n",
      "125\n",
      "l\n",
      "u\n",
      "h\n",
      "a\n",
      "R\n"
     ]
    }
   ],
   "source": [
    "# the custom iterators created in the above examples can be easily generated through generator.\n",
    "\n",
    "# lets see the first example.\n",
    "def Cube_generator(x):\n",
    "    n = 1\n",
    "    while n <= x:\n",
    "        yield n ** 3\n",
    "        n += 1\n",
    "num_cube = Cube_generator(5)\n",
    "print(next(num_cube))\n",
    "print(next(num_cube))\n",
    "print(next(num_cube))\n",
    "print(next(num_cube))\n",
    "print(next(num_cube))\n",
    "\n",
    "# now let's see the next example.\n",
    "def Rev_generator(x):\n",
    "    index = len(x)\n",
    "    yield x[index]\n",
    "    index -= 1\n",
    "\n",
    "rev = Rev(\"Rahul\")\n",
    "print(next(rev))\n",
    "print(next(rev))\n",
    "print(next(rev))\n",
    "print(next(rev))\n",
    "print(next(rev))"
   ]
  },
  {
   "cell_type": "markdown",
   "metadata": {},
   "source": [
    "- Iterators & Generators are basically used to handle large / infinite stream of data as the item will be handled in chunks rather than the entire data at once."
   ]
  },
  {
   "cell_type": "code",
   "execution_count": 59,
   "metadata": {},
   "outputs": [
    {
     "name": "stdout",
     "output_type": "stream",
     "text": [
      "0\n",
      "2\n",
      "4\n",
      "6\n",
      "8\n",
      "10\n",
      "0\n",
      "1\n",
      "1\n",
      "2\n",
      "3\n",
      "5\n",
      "8\n"
     ]
    }
   ],
   "source": [
    "# let us see one example where we can generate infinite stream of even numbers, one by one using generator function.\n",
    "\n",
    "def even_num_generator():\n",
    "    n = 0\n",
    "    while True:\n",
    "        yield n\n",
    "        n += 2\n",
    "\n",
    "even_num = even_num_generator()\n",
    "print(next(even_num))\n",
    "print(next(even_num))\n",
    "print(next(even_num))\n",
    "print(next(even_num))\n",
    "print(next(even_num))\n",
    "print(next(even_num))\n",
    "\n",
    "# similarly we can also generate a fibonacci series.\n",
    "def fibo_generator():\n",
    "    n1 = 0\n",
    "    n2 = 1\n",
    "    while True:\n",
    "        yield n1\n",
    "        n1, n2 = n2, n1 + n2\n",
    "\n",
    "val = fibo_generator()\n",
    "print(next(val))\n",
    "print(next(val))\n",
    "print(next(val))\n",
    "print(next(val))\n",
    "print(next(val))\n",
    "print(next(val))\n",
    "print(next(val))      "
   ]
  },
  {
   "cell_type": "code",
   "execution_count": 66,
   "metadata": {},
   "outputs": [
    {
     "name": "stdout",
     "output_type": "stream",
     "text": [
      "[1, 2]\n",
      "[3, 4]\n",
      "[5, 6]\n",
      "[7, 8]\n",
      "[9, 10]\n"
     ]
    }
   ],
   "source": [
    "# another important example is that we can create a generator to process a range of data in chunks.\n",
    "def chunk(seq, chunk_size):\n",
    "    for i in range(0, len(seq), chunk_size):\n",
    "        yield seq[i:i + chunk_size]\n",
    "\n",
    "for i in chunk([1, 2, 3, 4, 5, 6, 7, 8, 9, 10], 2):\n",
    "    print(list(i))"
   ]
  },
  {
   "cell_type": "code",
   "execution_count": 73,
   "metadata": {},
   "outputs": [
    {
     "name": "stdout",
     "output_type": "stream",
     "text": [
      "<generator object <genexpr> at 0x1084015f0>\n",
      "1\n",
      "4\n",
      "9\n",
      "16\n",
      "25\n",
      "Sum: 55\n"
     ]
    }
   ],
   "source": [
    "# we can create a generator in the same way as using list comprehension, with the only exception of paranthesis instead of square brackets.\n",
    "\n",
    "# here is an example.\n",
    "\n",
    "square_iterator = (x ** 2 for x in range(1, 6))\n",
    "print(square_iterator)\n",
    "\n",
    "for i in square_iterator:\n",
    "    print(i)\n",
    "\n",
    "# we can also perform numerical operations on the iterator\n",
    "itr_sum = sum(x ** 2 for x in range(1, 6))\n",
    "print(\"Sum:\", itr_sum)"
   ]
  }
 ],
 "metadata": {
  "interpreter": {
   "hash": "31f2aee4e71d21fbe5cf8b01ff0e069b9275f58929596ceb00d14d90e3e16cd6"
  },
  "kernelspec": {
   "display_name": "Python 3.8.9 64-bit",
   "language": "python",
   "name": "python3"
  },
  "language_info": {
   "codemirror_mode": {
    "name": "ipython",
    "version": 3
   },
   "file_extension": ".py",
   "mimetype": "text/x-python",
   "name": "python",
   "nbconvert_exporter": "python",
   "pygments_lexer": "ipython3",
   "version": "3.8.9"
  },
  "orig_nbformat": 4
 },
 "nbformat": 4,
 "nbformat_minor": 2
}
