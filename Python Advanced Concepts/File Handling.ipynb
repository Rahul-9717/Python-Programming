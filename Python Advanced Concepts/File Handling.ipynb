{
 "cells": [
  {
   "cell_type": "markdown",
   "metadata": {},
   "source": [
    "#### **File Handling in Python**\n",
    "- There are three basic actions which are done during file handling.\n",
    "- These are **Opening a File**, **Reading / Writing a file** & **Closing a File**."
   ]
  },
  {
   "cell_type": "markdown",
   "metadata": {},
   "source": [
    "##### Opening a File\n",
    "- We can open a file in three modes in Python: **Read(r), Write(w) & Append(a)**.\n",
    "- The read mode opens a file for reading.\n",
    "- The write mode opens a file for writing, creates a new file if the file doesn't exists, clears the content of an existing file.\n",
    "- The append mode opens a file for appending at the end of the file & also creates a new file if the file doesn't exists.\n",
    "- By default the open() function will open the file in read mode, however we can also explicitly pass an argument for the mode.\n",
    "- Syntax : **open(\"File Path\", \"Mode\")**"
   ]
  },
  {
   "cell_type": "code",
   "execution_count": 1,
   "metadata": {},
   "outputs": [],
   "source": [
    "# in order to open a file in Python, we use the in-built open() function which will return a file object that will be stored in a variable.\n",
    "f = open(\"/Users/rahul_arora/Documents/demo.txt\", \"r\")"
   ]
  },
  {
   "cell_type": "markdown",
   "metadata": {},
   "source": [
    "##### Reading & Closing a File"
   ]
  },
  {
   "cell_type": "code",
   "execution_count": 2,
   "metadata": {},
   "outputs": [
    {
     "name": "stdout",
     "output_type": "stream",
     "text": [
      "Hello my name is Rahul Arora.\n",
      "I am 37 years old.\n",
      "I work as a Lead - Business Process Improvement at Airbnb.\n",
      "I am happily married & blessed with a daughter.\n"
     ]
    }
   ],
   "source": [
    "# in order to open a file in Python, we use the in- built read() method.\n",
    "data = f.read()\n",
    "print(data)\n",
    "# in order to open a file in Python, we use the in- built close() method. \n",
    "f.close()"
   ]
  },
  {
   "cell_type": "code",
   "execution_count": 8,
   "metadata": {},
   "outputs": [
    {
     "name": "stdout",
     "output_type": "stream",
     "text": [
      "Hello\n",
      " my name is\n",
      " Rahul Arora.\n"
     ]
    }
   ],
   "source": [
    "# we can also read only certain characters of the content that is stored inside the file.\n",
    "f = open(\"/Users/rahul_arora/Documents/demo.txt\", \"r\")\n",
    "data = f.read(5) # this will return only the first 5 characters on the content stored inside the file.\n",
    "print(data)\n",
    "\n",
    "# if we futher try to read the content in the file it will start from the 6th character now.\n",
    "more_data = f.read(11)\n",
    "print(more_data)\n",
    "\n",
    "# & so on\n",
    "further_data = f.read(13)\n",
    "print(further_data)\n",
    "f.close()"
   ]
  },
  {
   "cell_type": "code",
   "execution_count": 10,
   "metadata": {},
   "outputs": [
    {
     "name": "stdout",
     "output_type": "stream",
     "text": [
      "Hello my name is Rahul Arora.\n",
      "I am 37 years old.\n",
      "I work as a Lead - Business Process Improvement at Airbnb.\n",
      "I am happily married & blessed with a daughter.\n"
     ]
    }
   ],
   "source": [
    "# we can also open a file in Python using the with open() function.\n",
    "with open(\"/Users/rahul_arora/Documents/demo.txt\", \"r\") as f:\n",
    "    data = f.read()\n",
    "print(data)\n",
    "# in order to open a file in Python, we use the in- built close() method. \n",
    "f.close()"
   ]
  },
  {
   "cell_type": "markdown",
   "metadata": {},
   "source": [
    "##### Writing to File\n",
    "- While writing content to an already existing file, it will be overwritten.\n",
    "- In case the file doesn't exists, a new file will be created."
   ]
  },
  {
   "cell_type": "code",
   "execution_count": 30,
   "metadata": {},
   "outputs": [],
   "source": [
    "# let us first write a code for writing in a file that doesn't exists.\n",
    "with open(\"intro_daughter.txt\", \"w\") as f:\n",
    "    f.write(\"Hello my name is Sarvesha Arora.\\n\")\n",
    "    f.write(\"I am 10 years old.\\n\")\n",
    "    f.write(\"I study in fifth grade.\\n\")    "
   ]
  },
  {
   "cell_type": "code",
   "execution_count": 16,
   "metadata": {},
   "outputs": [],
   "source": [
    "# let us now overwrite the data in the same file created above.\n",
    "with open(\"intro_daughter.txt\", \"w\") as f:\n",
    "    f.write(\"My school name is DL DAV Model School.\\n\")\n",
    "    f.write(\"I love doing calculations using Abacus.\")"
   ]
  },
  {
   "cell_type": "markdown",
   "metadata": {},
   "source": [
    "##### Appending to File"
   ]
  },
  {
   "cell_type": "code",
   "execution_count": 31,
   "metadata": {},
   "outputs": [],
   "source": [
    "# let us append the data in the file that was created previously.\n",
    "with open(\"intro_daughter.txt\", \"a\") as f:\n",
    "    f.write(\"My school name is DL DAV Model School.\\n\")\n",
    "    f.write(\"I love doing calculations using Abacus.\\n\")\n",
    "    f.write(\"My favourite food is Pizza.\")"
   ]
  },
  {
   "cell_type": "markdown",
   "metadata": {},
   "source": [
    "##### readlines() & writelines() methods\n",
    "- The readline method will return a list which will contain each line of the content that is present in the file.\n",
    "- the writeline() methos will write the elements of a list into a file."
   ]
  },
  {
   "cell_type": "code",
   "execution_count": 32,
   "metadata": {},
   "outputs": [
    {
     "name": "stdout",
     "output_type": "stream",
     "text": [
      "['Hello my name is Sarvesha Arora.\\n', 'I am 10 years old.\\n', 'I study in fifth grade.\\n', 'My school name is DL DAV Model School.\\n', 'I love doing calculations using Abacus.\\n', 'My favourite food is Pizza.']\n",
      "Hello my name is Sarvesha Arora.\n",
      "\n",
      "I am 10 years old.\n",
      "\n",
      "I study in fifth grade.\n",
      "\n",
      "My school name is DL DAV Model School.\n",
      "\n",
      "I love doing calculations using Abacus.\n",
      "\n",
      "My favourite food is Pizza.\n"
     ]
    }
   ],
   "source": [
    "# let us see how readlines() method works.\n",
    "with open(\"intro_daughter.txt\", \"r\") as f:\n",
    "    content_lines = f.readlines()\n",
    "    print(content_lines)\n",
    "\n",
    "# we can use a for loop now to iterate through each line.\n",
    "for i in content_lines:\n",
    "    print(i)"
   ]
  },
  {
   "cell_type": "code",
   "execution_count": 33,
   "metadata": {},
   "outputs": [],
   "source": [
    "# let us see now how writelines() method works. Here we will create a new file & write the content from the list created from the above example.\n",
    "with open(\"intro.txt\", \"w\") as f:\n",
    "    f.writelines(content_lines)"
   ]
  }
 ],
 "metadata": {
  "interpreter": {
   "hash": "31f2aee4e71d21fbe5cf8b01ff0e069b9275f58929596ceb00d14d90e3e16cd6"
  },
  "kernelspec": {
   "display_name": "Python 3.8.9 64-bit",
   "language": "python",
   "name": "python3"
  },
  "language_info": {
   "codemirror_mode": {
    "name": "ipython",
    "version": 3
   },
   "file_extension": ".py",
   "mimetype": "text/x-python",
   "name": "python",
   "nbconvert_exporter": "python",
   "pygments_lexer": "ipython3",
   "version": "3.8.9"
  },
  "orig_nbformat": 4
 },
 "nbformat": 4,
 "nbformat_minor": 2
}
