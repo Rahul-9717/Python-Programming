{
 "cells": [
  {
   "cell_type": "markdown",
   "metadata": {},
   "source": [
    "#### **Python Functions**\n",
    "- A function is a group of related statements that performs a specific task.\n",
    "- Functions make a code more organized & manageable as it grows larger by breaking it into smaller chunks.\n",
    "- Functions are reusable & can be called while creating any code.\n",
    "- Syntax : \n",
    "\n",
    "def function_name(parameters):\n",
    "\n",
    "        \"\"\"docstring\"\"\"\n",
    "        statement(s)"
   ]
  },
  {
   "cell_type": "markdown",
   "metadata": {},
   "source": [
    "##### Defining & Calling a Function"
   ]
  },
  {
   "cell_type": "code",
   "execution_count": 8,
   "metadata": {},
   "outputs": [
    {
     "name": "stdout",
     "output_type": "stream",
     "text": [
      "Hey\n",
      "How are you?\n"
     ]
    }
   ],
   "source": [
    "# defining a function.\n",
    "def greet():\n",
    "    print(\"Hey\")\n",
    "    print(\"How are you?\")\n",
    "\n",
    "# calling that function.\n",
    "greet()"
   ]
  },
  {
   "cell_type": "markdown",
   "metadata": {},
   "source": [
    "##### Function Arguments"
   ]
  },
  {
   "cell_type": "code",
   "execution_count": 9,
   "metadata": {},
   "outputs": [
    {
     "name": "stdout",
     "output_type": "stream",
     "text": [
      "Hey Rahul\n",
      "How are you?\n"
     ]
    }
   ],
   "source": [
    "# adding parameters to the above function.\n",
    "def greet(name):\n",
    "    print(\"Hey\", name)\n",
    "    print(\"How are you?\")\n",
    "\n",
    "# calling the function & passing the argument inside the function.\n",
    "greet(\"Rahul\")"
   ]
  },
  {
   "cell_type": "code",
   "execution_count": 10,
   "metadata": {},
   "outputs": [
    {
     "name": "stdout",
     "output_type": "stream",
     "text": [
      "The product is: 20\n"
     ]
    }
   ],
   "source": [
    "# we can also pass multiple arguments in a function.\n",
    "def prod_nums(x, y):\n",
    "    \"\"\"This function returns the product of two numbers.\"\"\"\n",
    "    result = x * y\n",
    "    print(\"The product is:\", result)\n",
    "\n",
    "# calling the function & passing multiple arguments inside the function.\n",
    "prod_nums(5, 4)"
   ]
  },
  {
   "cell_type": "markdown",
   "metadata": {},
   "source": [
    "##### Return Value from a Function"
   ]
  },
  {
   "cell_type": "code",
   "execution_count": 11,
   "metadata": {},
   "outputs": [
    {
     "name": "stdout",
     "output_type": "stream",
     "text": [
      "The sum is 12\n"
     ]
    }
   ],
   "source": [
    "# its better for the function to just perform the task & result can be printed outside the function.\n",
    "def add_nums(x, y):\n",
    "    \"\"\"This function returns the sum of two numbers.\"\"\"\n",
    "    result = x + y\n",
    "    return result \n",
    "\n",
    "# we have to now assign the function call to a variable in order to get the output.\n",
    "add_result = add_nums(5 , 7)\n",
    "print(\"The sum is\", add_result)\n",
    "   "
   ]
  },
  {
   "cell_type": "code",
   "execution_count": 12,
   "metadata": {},
   "outputs": [
    {
     "name": "stdout",
     "output_type": "stream",
     "text": [
      "Hey Rahul\n"
     ]
    }
   ],
   "source": [
    "# whenever we use the return statement, the function terminates there itself & the control of the program goes back to where the function was called.\n",
    "def greet(name):\n",
    "    print(\"Hey\", name)\n",
    "    return\n",
    "    print(\"How are you?\")\n",
    "\n",
    "greet(\"Rahul\")"
   ]
  },
  {
   "cell_type": "code",
   "execution_count": 13,
   "metadata": {},
   "outputs": [
    {
     "name": "stdout",
     "output_type": "stream",
     "text": [
      "Your average score is: 67.8\n",
      "Your Rating is: Meets All Expectations\n"
     ]
    }
   ],
   "source": [
    "# here is an example where we have defined functions that return the average score an employee has achieved based on indivdual scores attained against specified criterias.\n",
    "# And based on the average score, the rating of an employee is decided basis the below criteria:-\n",
    "'''\n",
    "\"Exceed Expectations\" if the average score is greater than or equal to 80.\n",
    "\"Meets All Expectations\" if the average score is greater than or equal to 60 & less than 80.\n",
    "\"Meets Most Expectations\" if the average score is greater than or equal to 50 & less than 60.\n",
    "\"Does not Meet Expectations\" if the average score is less than 50.\n",
    "'''\n",
    "\n",
    "def find_avg_score(scores):\n",
    "    sum_score = sum(scores)   # here we have used sum() & len() which are functions built-in inside Python in order to create a user defined function.\n",
    "    num_criteria = len(scores)\n",
    "    avg_score = sum_score / num_criteria\n",
    "    return avg_score\n",
    "\n",
    "scores = [55, 64, 75, 80, 65]\n",
    "average_score = find_avg_score(scores)\n",
    "print(\"Your average score is:\", average_score)\n",
    "\n",
    "def find_rating(average_score):\n",
    "    if average_score >= 80:\n",
    "        rating = \"Exceed Expectations\"\n",
    "    elif average_score >= 60:\n",
    "        rating = \"Meets All Expectations\"\n",
    "    elif average_score >= 50:\n",
    "        rating = \"Meets Most Expectations\"\n",
    "    else:\n",
    "        rating = \"Does not Meet Expectations\"\n",
    "    return rating\n",
    "\n",
    "rating = find_rating(average_score)\n",
    "print(\"Your Rating is:\", rating)"
   ]
  },
  {
   "cell_type": "markdown",
   "metadata": {},
   "source": [
    "##### Positional, Default & Keyword Arguments"
   ]
  },
  {
   "cell_type": "code",
   "execution_count": 14,
   "metadata": {},
   "outputs": [
    {
     "name": "stdout",
     "output_type": "stream",
     "text": [
      "The sum is 12\n"
     ]
    },
    {
     "ename": "TypeError",
     "evalue": "add_nums() missing 1 required positional argument: 'y'",
     "output_type": "error",
     "traceback": [
      "\u001b[0;31m---------------------------------------------------------------------------\u001b[0m",
      "\u001b[0;31mTypeError\u001b[0m                                 Traceback (most recent call last)",
      "\u001b[0;32m/var/folders/lq/gsh3xl_j3_355v403cm3hq2r0000gn/T/ipykernel_1906/1183048952.py\u001b[0m in \u001b[0;36m<module>\u001b[0;34m\u001b[0m\n\u001b[1;32m     11\u001b[0m \u001b[0;34m\u001b[0m\u001b[0m\n\u001b[1;32m     12\u001b[0m \u001b[0;31m# let's say we do not pass the second argument while calling the function it will then throw an error.\u001b[0m\u001b[0;34m\u001b[0m\u001b[0;34m\u001b[0m\u001b[0;34m\u001b[0m\u001b[0m\n\u001b[0;32m---> 13\u001b[0;31m \u001b[0madd_result\u001b[0m \u001b[0;34m=\u001b[0m \u001b[0madd_nums\u001b[0m\u001b[0;34m(\u001b[0m\u001b[0;36m5\u001b[0m\u001b[0;34m)\u001b[0m\u001b[0;34m\u001b[0m\u001b[0;34m\u001b[0m\u001b[0m\n\u001b[0m\u001b[1;32m     14\u001b[0m \u001b[0mprint\u001b[0m\u001b[0;34m(\u001b[0m\u001b[0;34m\"The sum is\"\u001b[0m\u001b[0;34m,\u001b[0m \u001b[0madd_result\u001b[0m\u001b[0;34m)\u001b[0m\u001b[0;34m\u001b[0m\u001b[0;34m\u001b[0m\u001b[0m\n",
      "\u001b[0;31mTypeError\u001b[0m: add_nums() missing 1 required positional argument: 'y'"
     ]
    }
   ],
   "source": [
    "# positional arguments i.e. each argument called inside a function take a ceratin position\n",
    "\n",
    "def add_nums(x, y):\n",
    "    \"\"\"This function returns the sum of two numbers.\"\"\"\n",
    "    result = x + y\n",
    "    return result \n",
    "\n",
    "# here 5 is passed as the first argument & 7 is passed as a second argument\n",
    "add_result = add_nums(5 , 7)\n",
    "print(\"The sum is\", add_result)\n",
    "\n",
    "# let's say we do not pass the second argument while calling the function it will then throw an error.\n",
    "add_result = add_nums(5)\n",
    "print(\"The sum is\", add_result)"
   ]
  },
  {
   "cell_type": "code",
   "execution_count": 15,
   "metadata": {},
   "outputs": [
    {
     "name": "stdout",
     "output_type": "stream",
     "text": [
      "Hey Rahul\n",
      "Do you live in Delhi\n"
     ]
    }
   ],
   "source": [
    "# default arguments i.e. the argument is assigned a default value while defining the function itself.\n",
    "def greet(name, city = \"Delhi\"):\n",
    "    print(\"Hey\", name)\n",
    "    print(\"Do you live in\", city)\n",
    "\n",
    "# now even if we don't pass the second argument i.e. city it will take return the default value.\n",
    "greet(\"Rahul\")"
   ]
  },
  {
   "cell_type": "code",
   "execution_count": 42,
   "metadata": {},
   "outputs": [
    {
     "name": "stdout",
     "output_type": "stream",
     "text": [
      "Hey Rahul\n",
      "Do you live in Delhi\n",
      "Rahul\n",
      "37\n"
     ]
    }
   ],
   "source": [
    "# keyword arguments i.e. we can also pass arguments by specifying the parameter name instead of the inherent position basis.\n",
    "def greet(name, city):\n",
    "    print(\"Hey\", name)\n",
    "    print(\"Do you live in\", city)\n",
    "\n",
    "# here order of the argument doesn't matter as we have specified the parameter name.\n",
    "greet(city = \"Delhi\", name = \"Rahul\")\n",
    "\n",
    "# parameters defined inside a function after * are keyword only arguments.\n",
    "def my_func(name, *, age):\n",
    "    print(name)\n",
    "    print(age)\n",
    "\n",
    "# my_func(\"Rahul\", 37) --> this would raise a TypeError becuase we have not passed age as a keyword argument.\n",
    "my_func(\"Rahul\" , age = 37)"
   ]
  },
  {
   "cell_type": "markdown",
   "metadata": {},
   "source": [
    "##### *args & **kwargs\n",
    "- We can pass a variable number of arguments to a function using two special symbols:-\n",
    "- *args (Non Keyword Arguments) & **kwargs (Keyword Arguments)"
   ]
  },
  {
   "cell_type": "code",
   "execution_count": 17,
   "metadata": {},
   "outputs": [
    {
     "name": "stdout",
     "output_type": "stream",
     "text": [
      "[1, 2, 3]\n",
      "[1, 2, 3, 4, 5]\n",
      "[1, 2, 3, 4, 5, 6, 7, 8, 9, 10]\n"
     ]
    }
   ],
   "source": [
    "# *args : allows us to pass variable number of non keyword arguments to a function.\n",
    "# *args passes variable number of non-keyworded arguments list and on which operation of the list can be performed.\n",
    "def add_to_list(*num):\n",
    "    l = []\n",
    "    for i in num:\n",
    "        l.append(i)\n",
    "    print(l)\n",
    "\n",
    "# we can now pass any number of arguments in the function.\n",
    "add_to_list(1, 2, 3)\n",
    "add_to_list(1, 2, 3, 4, 5)\n",
    "add_to_list(1, 2, 3, 4, 5, 6, 7, 8, 9, 10)    "
   ]
  },
  {
   "cell_type": "code",
   "execution_count": 18,
   "metadata": {},
   "outputs": [
    {
     "name": "stdout",
     "output_type": "stream",
     "text": [
      "{'Firstname': 'Rahul', 'Lastname': 'Arora', 'Age': 22}\n",
      "{'Firstname': 'Rahul', 'Lastname': 'Arora', 'Age': 22, 'Country': 'India', 'Zipcode': 110085}\n"
     ]
    }
   ],
   "source": [
    "# **kwargs : allows us to pass variable number of keyword arguments to a function.\n",
    "# **kwargs passes variable number of keyword arguments dictionary to function on which operation of a dictionary can be performed.\n",
    "def employee_record(**data):\n",
    "    print(data)\n",
    "\n",
    "# we can now pass any number of arguments in the function.\n",
    "employee_record(Firstname = \"Rahul\", Lastname = \"Arora\", Age = 22)\n",
    "employee_record(Firstname = \"Rahul\", Lastname = \"Arora\", Age = 22, Country = \"India\", Zipcode = 110085)"
   ]
  },
  {
   "cell_type": "markdown",
   "metadata": {},
   "source": [
    "##### Recursive Function\n",
    "- Function which calls itself in order to perform some operation is known as *Recursive Function*."
   ]
  },
  {
   "cell_type": "code",
   "execution_count": 19,
   "metadata": {},
   "outputs": [
    {
     "name": "stdout",
     "output_type": "stream",
     "text": [
      "The factorial of 5 is: 120\n"
     ]
    }
   ],
   "source": [
    "# one classical example of a recursive function is to find the factorial of an integer.\n",
    "def factorial(x):\n",
    "    if x == 1:\n",
    "        return 1\n",
    "    else:\n",
    "        result = x * factorial(x-1)\n",
    "        return result\n",
    "\n",
    "num = 5\n",
    "fact_num = factorial(num)\n",
    "print(f\"The factorial of {num} is:\", fact_num)        "
   ]
  },
  {
   "cell_type": "markdown",
   "metadata": {},
   "source": [
    "##### Anonymous / Lambda Function\n",
    "- A lambda function is a function that is defined without a name.\n",
    "- It can take any number of arguments but can only have one expression.\n",
    "- There is no need to use the def keyword while defining a lambda function. Syntax : *lambda arguments : expression*"
   ]
  },
  {
   "cell_type": "code",
   "execution_count": 22,
   "metadata": {},
   "outputs": [
    {
     "name": "stdout",
     "output_type": "stream",
     "text": [
      "16\n",
      "25\n"
     ]
    }
   ],
   "source": [
    "# let us see below a small function that is defined to calculate square of any number.\n",
    "def square(x):\n",
    "    return x ** 2\n",
    "result = square(4)\n",
    "print(result)\n",
    "\n",
    "# now the above function can be defined in a more condensed way as a lambda function.\n",
    "square_num = lambda x : x ** 2\n",
    "result = square_num(5)\n",
    "print(result)"
   ]
  },
  {
   "cell_type": "code",
   "execution_count": 27,
   "metadata": {},
   "outputs": [
    {
     "name": "stdout",
     "output_type": "stream",
     "text": [
      "25\n",
      "125\n"
     ]
    }
   ],
   "source": [
    "# we can also use lambda function inside another function so as to create variations of that function.\n",
    "def num_raise_to_power(n):\n",
    "    result = lambda x : x ** n\n",
    "    return result\n",
    "\n",
    "result_2 = num_raise_to_power(2)\n",
    "print(result_2(5))\n",
    "\n",
    "result_3 = num_raise_to_power(3)\n",
    "print(result_3(5))"
   ]
  },
  {
   "cell_type": "code",
   "execution_count": 32,
   "metadata": {},
   "outputs": [
    {
     "name": "stdout",
     "output_type": "stream",
     "text": [
      "['Sapna', 'Saahil', 'Sandeep', 'Pratibha']\n",
      "['Sapna', 'Saahil', 'Sandeep', 'Pratibha']\n"
     ]
    }
   ],
   "source": [
    "# we can do custom sorting by using the in built sorted() function along with a lambda function being used as a key.\n",
    "my_list = [\"Sandeep\", \"Saahil\", \"Sapna\", \"Pratibha\"]\n",
    "# lets say we want to sort the names based on the length of the name.\n",
    "sorted_by_length = sorted(my_list, key = lambda x : len(x))\n",
    "print(sorted_by_length)\n",
    "\n",
    "# another way would be to use the lambda function as key inside the sort method.\n",
    "my_list.sort(key = lambda x : len(x))\n",
    "print(my_list)"
   ]
  },
  {
   "cell_type": "code",
   "execution_count": 37,
   "metadata": {},
   "outputs": [
    {
     "name": "stdout",
     "output_type": "stream",
     "text": [
      "[2.0, 3.0, 4.0, 5.0, 6.0, 7.0, 8.0, 9.0, 10.0]\n"
     ]
    }
   ],
   "source": [
    "# using map() function with lambda function in order to transform each element, here the map() function will take in an already defined function & a list as its arguments.\n",
    "# here the below code will return the square root of each element of a list.\n",
    "my_list = [4, 9, 16, 25, 36, 49, 64, 81, 100]\n",
    "my_func = lambda x : x ** 0.5\n",
    "new_list = list(map(my_func, my_list))\n",
    "print(new_list)"
   ]
  },
  {
   "cell_type": "code",
   "execution_count": 38,
   "metadata": {},
   "outputs": [
    {
     "name": "stdout",
     "output_type": "stream",
     "text": [
      "[1, 3, 5, 7, 9]\n"
     ]
    }
   ],
   "source": [
    "# using filter() function with lambda function in order to return filtered elements from a list, here the filter() function will take in an already defined function & a list as its arguments.\n",
    "# here the below code will filter out & return only the odd elements from the list.\n",
    "my_list = [1, 2, 3, 4, 5, 6, 7, 8, 9, 10]\n",
    "my_func = lambda x : (x % 2 != 0)\n",
    "new_list = list(filter(my_func, my_list))\n",
    "print(new_list)"
   ]
  },
  {
   "cell_type": "code",
   "execution_count": 40,
   "metadata": {},
   "outputs": [
    {
     "name": "stdout",
     "output_type": "stream",
     "text": [
      "55\n"
     ]
    }
   ],
   "source": [
    "# using reduce() function with lambda function in order to return a single value from a list, here the reduce() function will take in an already defined function & a list as its arguments.\n",
    "# here the below code returns the sum of all the lements contained inside the list.\n",
    "from functools import reduce\n",
    "my_list = [1, 2, 3, 4, 5, 6, 7, 8, 9, 10]\n",
    "my_func = lambda x, y : x + y\n",
    "new_list = reduce(my_func, my_list)\n",
    "print(new_list)"
   ]
  },
  {
   "cell_type": "markdown",
   "metadata": {},
   "source": [
    "##### Local & Global Variables (Variable Scope) in a Function"
   ]
  },
  {
   "cell_type": "code",
   "execution_count": 48,
   "metadata": {},
   "outputs": [
    {
     "name": "stdout",
     "output_type": "stream",
     "text": [
      "20\n",
      "20\n"
     ]
    }
   ],
   "source": [
    "# local variables are defined within the scope of a function & when the function ends the variable lifespan also ends there.\n",
    "# here in the below code the 'prod' variable is defined within the scope of the product() function.\n",
    "def product(x, y):\n",
    "    prod = x * y\n",
    "    print(prod)\n",
    "\n",
    "product(5, 4)\n",
    "\n",
    "# let's say we remove the print(prod) line & bring it outside the function scope.\n",
    "# def product(x, y):\n",
    "#     prod = x * y\n",
    " \n",
    "# product(5, 4)\n",
    "# print(prod) # this will throw NameError: name 'prod' is not defined since prod was defined within the scope of the product() function.\n",
    "\n",
    "# by using the return statement we are not using the local function 'prod' directly rather we are returning its value to the function call.\n",
    "def product(x, y):\n",
    "    prod = x * y\n",
    "    return prod\n",
    "\n",
    "result = product(5, 4)\n",
    "print(result)"
   ]
  },
  {
   "cell_type": "code",
   "execution_count": 60,
   "metadata": {},
   "outputs": [
    {
     "name": "stdout",
     "output_type": "stream",
     "text": [
      "Inside the function : Hello Mr Sandeep\n",
      "Outside the function : Hello Mr Rahul\n"
     ]
    }
   ],
   "source": [
    "# global variables are defined outside the scope of a function & can be used from bith inside & outside of a function.\n",
    "# here is an example given below.\n",
    "name = \"Rahul\" # here 'name' is a global variable having scope confined to the salutation_name() function\n",
    "def salutation_name():\n",
    "    name = \"Sandeep\" # here 'name' is a local variable having scope confined to the salutation_name() function\n",
    "    print(f\"Inside the function : Hello Mr {name}\")\n",
    "\n",
    "salutation_name()\n",
    "print(f\"Outside the function : Hello Mr {name}\")"
   ]
  },
  {
   "cell_type": "code",
   "execution_count": 59,
   "metadata": {},
   "outputs": [
    {
     "name": "stdout",
     "output_type": "stream",
     "text": [
      "Inside the function : Hello Mr Rahul\n",
      "Outside the function : Hello Mr Rahul\n"
     ]
    }
   ],
   "source": [
    "# If we didn't defined any variable inside the function then be default the function will return the value of the global variable.\n",
    "name = \"Rahul\" \n",
    "def salutation_name():\n",
    "     print(f\"Inside the function : Hello Mr {name}\")\n",
    "\n",
    "salutation_name()\n",
    "print(f\"Outside the function : Hello Mr {name}\")"
   ]
  },
  {
   "cell_type": "code",
   "execution_count": 57,
   "metadata": {},
   "outputs": [
    {
     "name": "stdout",
     "output_type": "stream",
     "text": [
      "Inside the function : Hello Mr Sahil\n",
      "Outside the function : Hello Mr Sahil\n"
     ]
    }
   ],
   "source": [
    "# In case we need to change the global variable inside the function we can do that by adding global before the variable 'name' inside the function body.\n",
    "# be careful..try to avoid using the global keyword inside a function as much as possible as it increases the complexity of the code.\n",
    "name = \"Rahul\" \n",
    "def salutation_name():\n",
    "    global name\n",
    "    name = \"Sahil\"\n",
    "    print(f\"Inside the function : Hello Mr {name}\")\n",
    "\n",
    "salutation_name()\n",
    "print(f\"Outside the function : Hello Mr {name}\")"
   ]
  }
 ],
 "metadata": {
  "interpreter": {
   "hash": "31f2aee4e71d21fbe5cf8b01ff0e069b9275f58929596ceb00d14d90e3e16cd6"
  },
  "kernelspec": {
   "display_name": "Python 3.8.9 64-bit",
   "language": "python",
   "name": "python3"
  },
  "language_info": {
   "codemirror_mode": {
    "name": "ipython",
    "version": 3
   },
   "file_extension": ".py",
   "mimetype": "text/x-python",
   "name": "python",
   "nbconvert_exporter": "python",
   "pygments_lexer": "ipython3",
   "version": "3.8.9"
  },
  "orig_nbformat": 4
 },
 "nbformat": 4,
 "nbformat_minor": 2
}
