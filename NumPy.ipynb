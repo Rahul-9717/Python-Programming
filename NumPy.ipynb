{
 "cells": [
  {
   "cell_type": "markdown",
   "metadata": {},
   "source": [
    "#### **NumPy**\n",
    "- Numpy stands for *Numerical Python* & is the core library for scientific computing in Python.\n",
    "- Central object in the NumPy library is the NumPy array which is a multidimensional or n-dimensional array(commonly known as ndarray) object.\n",
    "- Designed specifically to do mathematical operations, linear algebra & probability calculations.\n",
    "- Most of the popular libraries such as Pandas, matplotlib & Scikit Learn are built with NumPy as the base."
   ]
  },
  {
   "cell_type": "markdown",
   "metadata": {},
   "source": [
    "##### Installing & Importing NumPy"
   ]
  },
  {
   "cell_type": "code",
   "execution_count": 1,
   "metadata": {},
   "outputs": [],
   "source": [
    "# installing numpy. \n",
    "# %pip install numpy"
   ]
  },
  {
   "cell_type": "code",
   "execution_count": 2,
   "metadata": {},
   "outputs": [
    {
     "data": {
      "text/plain": [
       "'1.22.0'"
      ]
     },
     "execution_count": 2,
     "metadata": {},
     "output_type": "execute_result"
    }
   ],
   "source": [
    "# importing numpy.\n",
    "import numpy as np\n",
    "\n",
    "# checking the current version on numpy.\n",
    "np.__version__"
   ]
  },
  {
   "cell_type": "markdown",
   "metadata": {},
   "source": [
    "##### Creating a NumPy ndarray object"
   ]
  },
  {
   "cell_type": "code",
   "execution_count": 3,
   "metadata": {},
   "outputs": [
    {
     "name": "stdout",
     "output_type": "stream",
     "text": [
      "[1 2 3 4 5]\n",
      "<class 'numpy.ndarray'>\n"
     ]
    }
   ],
   "source": [
    "# using a list to create an 1d array : An array that has 0d arrays as its elements.\n",
    "arr = np.array([1, 2, 3, 4, 5])\n",
    "print(arr)\n",
    "print(type(arr))"
   ]
  },
  {
   "cell_type": "code",
   "execution_count": 4,
   "metadata": {},
   "outputs": [
    {
     "name": "stdout",
     "output_type": "stream",
     "text": [
      "[1 2 3 4 5]\n",
      "<class 'numpy.ndarray'>\n"
     ]
    }
   ],
   "source": [
    "# using a tuple to create an 1d array\n",
    "arr = np.array((1, 2, 3, 4, 5))\n",
    "print(arr)\n",
    "print(type(arr))"
   ]
  },
  {
   "cell_type": "code",
   "execution_count": 5,
   "metadata": {},
   "outputs": [
    {
     "name": "stdout",
     "output_type": "stream",
     "text": [
      "40\n",
      "<class 'numpy.ndarray'>\n"
     ]
    }
   ],
   "source": [
    "# create an 0d array or scalar.\n",
    "arr = np.array(40)\n",
    "print(arr)\n",
    "print(type(arr))"
   ]
  },
  {
   "cell_type": "code",
   "execution_count": 6,
   "metadata": {},
   "outputs": [
    {
     "name": "stdout",
     "output_type": "stream",
     "text": [
      "[[1 2 3]\n",
      " [4 5 6]]\n",
      "<class 'numpy.ndarray'>\n"
     ]
    }
   ],
   "source": [
    "# create a 2d array : An array that has 1d arrays as its elements.\n",
    "arr = np.array([[1, 2, 3], [4, 5, 6]])\n",
    "print(arr)\n",
    "print(type(arr))"
   ]
  },
  {
   "cell_type": "code",
   "execution_count": 7,
   "metadata": {},
   "outputs": [
    {
     "name": "stdout",
     "output_type": "stream",
     "text": [
      "[[[ 1  2  3]\n",
      "  [ 4  5  6]]\n",
      "\n",
      " [[ 7  8  9]\n",
      "  [10 11 12]]]\n",
      "<class 'numpy.ndarray'>\n"
     ]
    }
   ],
   "source": [
    "# create a 3d array: An array that has 2d arrays as its elements.\n",
    "arr = np.array([[[1, 2, 3], [4, 5, 6]],[[7, 8, 9], [10, 11, 12]]])\n",
    "print(arr)\n",
    "print(type(arr))"
   ]
  },
  {
   "cell_type": "markdown",
   "metadata": {},
   "source": [
    "##### Checking Array Structure"
   ]
  },
  {
   "cell_type": "code",
   "execution_count": 8,
   "metadata": {},
   "outputs": [
    {
     "name": "stdout",
     "output_type": "stream",
     "text": [
      "0\n",
      "1\n",
      "2\n",
      "3\n"
     ]
    }
   ],
   "source": [
    "a = np.array(42)\n",
    "b = np.array([1, 2, 3, 4, 5])\n",
    "c = np.array([[1, 2, 3], [4, 5, 6]])\n",
    "d = np.array([[[1, 2, 3], [4, 5, 6]],[[7, 8, 9], [10, 11, 12]]])\n",
    "\n",
    "# checking number of dimensions of an array.\n",
    "print(a.ndim)\n",
    "print(b.ndim)\n",
    "print(c.ndim)\n",
    "print(d.ndim)"
   ]
  },
  {
   "cell_type": "code",
   "execution_count": 9,
   "metadata": {},
   "outputs": [
    {
     "name": "stdout",
     "output_type": "stream",
     "text": [
      "1\n",
      "5\n",
      "6\n",
      "12\n"
     ]
    }
   ],
   "source": [
    "# checking total number of elements in an array.\n",
    "print(a.size)\n",
    "print(b.size)\n",
    "print(c.size)\n",
    "print(d.size)"
   ]
  },
  {
   "cell_type": "code",
   "execution_count": 10,
   "metadata": {},
   "outputs": [
    {
     "name": "stdout",
     "output_type": "stream",
     "text": [
      "()\n",
      "(5,)\n",
      "(2, 3)\n",
      "(2, 2, 3)\n"
     ]
    }
   ],
   "source": [
    "# checking shape of the array. (rows, columns)\n",
    "print(a.shape)\n",
    "print(b.shape)\n",
    "print(c.shape)\n",
    "print(d.shape)"
   ]
  },
  {
   "cell_type": "code",
   "execution_count": 11,
   "metadata": {},
   "outputs": [
    {
     "name": "stdout",
     "output_type": "stream",
     "text": [
      "int64\n",
      "8\n",
      "int64\n",
      "8\n",
      "int64\n",
      "8\n",
      "int64\n",
      "8\n",
      "[b'1' b'2' b'3' b'4' b'5']\n",
      "|S1\n",
      "[1. 2. 3. 4. 5.]\n",
      "float32\n",
      "[1 2 3]\n",
      "int32\n",
      "[ True False  True]\n",
      "bool\n"
     ]
    }
   ],
   "source": [
    "# checking datatype & size in bytes of each element.\n",
    "print(a.dtype)\n",
    "print(a.itemsize)\n",
    "print(b.dtype)\n",
    "print(b.itemsize)\n",
    "print(c.dtype)\n",
    "print(c.itemsize)\n",
    "print(d.dtype)\n",
    "print(d.itemsize)\n",
    "\n",
    "# we can explicitly mention the data type of elements while creating an array.\n",
    "arr = np.array([1, 2, 3, 4, 5], dtype = 'S') # string data type.\n",
    "print(arr)\n",
    "print(arr.dtype)\n",
    "\n",
    "arr = np.array([1, 2, 3, 4, 5], dtype = 'f') # float data type.\n",
    "print(arr)\n",
    "print(arr.dtype)\n",
    "\n",
    "# we can also convert the datatype of elements present in an array by making a copy of the array using the astype() method.\n",
    "arr = np.array([1.1, 2.2, 3.3]) # float to integer\n",
    "newarr = arr.astype('i')\n",
    "print(newarr)\n",
    "print(newarr.dtype)\n",
    "\n",
    "arr = np.array([1, 0, 1]) # integer to bool.\n",
    "newarr = arr.astype(bool)\n",
    "print(newarr)\n",
    "print(newarr.dtype)"
   ]
  },
  {
   "cell_type": "markdown",
   "metadata": {},
   "source": [
    "##### "
   ]
  },
  {
   "cell_type": "markdown",
   "metadata": {},
   "source": [
    "##### Array Indexing"
   ]
  },
  {
   "cell_type": "code",
   "execution_count": 12,
   "metadata": {},
   "outputs": [
    {
     "name": "stdout",
     "output_type": "stream",
     "text": [
      "1\n",
      "3\n",
      "5\n",
      "4\n"
     ]
    }
   ],
   "source": [
    "# accessing elements of a 1d array : similar to a list or a tuple.\n",
    "arr = np.array([1, 2, 3, 4, 5])\n",
    "\n",
    "print(arr[0])\n",
    "print(arr[2])\n",
    "print(arr[-1])\n",
    "print(arr[-2])"
   ]
  },
  {
   "cell_type": "code",
   "execution_count": 13,
   "metadata": {},
   "outputs": [
    {
     "name": "stdout",
     "output_type": "stream",
     "text": [
      "[[ 1  2  3  4  5]\n",
      " [ 6  7  8  9 10]]\n",
      "9\n",
      "2\n"
     ]
    }
   ],
   "source": [
    "# accessing elements of a 2d array.\n",
    "arr = np.array([[1, 2, 3, 4, 5],[6, 7, 8, 9, 10]])\n",
    "print(arr)\n",
    "\n",
    "# getting a specific element. [row index, column index]\n",
    "print(arr[1, 3])\n",
    "print(arr[0, 1])"
   ]
  },
  {
   "cell_type": "code",
   "execution_count": 14,
   "metadata": {},
   "outputs": [
    {
     "name": "stdout",
     "output_type": "stream",
     "text": [
      "[[[1 2]\n",
      "  [3 4]]\n",
      "\n",
      " [[5 6]\n",
      "  [7 8]]]\n",
      "4\n",
      "7\n"
     ]
    }
   ],
   "source": [
    "# accessing elements of a 3d array.\n",
    "arr = np.array([[[1, 2], [3, 4]],[[5, 6], [7, 8]]])\n",
    "print(arr)\n",
    "\n",
    "# getting a specific element. [outer row index, inner row index, element index]\n",
    "print(arr[0, 1, 1])\n",
    "print(arr[1, 1, 0])"
   ]
  },
  {
   "cell_type": "markdown",
   "metadata": {},
   "source": [
    "##### Array Slicing"
   ]
  },
  {
   "cell_type": "code",
   "execution_count": 15,
   "metadata": {},
   "outputs": [
    {
     "name": "stdout",
     "output_type": "stream",
     "text": [
      "[1 2 3 4 5]\n",
      "[2 3 4]\n",
      "[3 4 5]\n",
      "[1 2 3]\n",
      "[2 3]\n",
      "[1 3 5]\n",
      "[5 4 3 2 1]\n"
     ]
    }
   ],
   "source": [
    "# slicing elements of a 1d array : similar to a list or a tuple.\n",
    "arr = np.array([1, 2, 3, 4, 5])\n",
    "print(arr)\n",
    "\n",
    "print(arr[1:4])\n",
    "print(arr[2:])\n",
    "print(arr[:3])\n",
    "print(arr[-4:-2])\n",
    "print(arr[::2])\n",
    "print(arr[::-1])"
   ]
  },
  {
   "cell_type": "code",
   "execution_count": 16,
   "metadata": {},
   "outputs": [
    {
     "name": "stdout",
     "output_type": "stream",
     "text": [
      "[[ 1  2  3  4  5]\n",
      " [ 6  7  8  9 10]]\n",
      "[1 2 3 4 5]\n",
      "[7 8 9]\n",
      "[3 8]\n",
      "[[2 3 4]\n",
      " [7 8 9]]\n",
      "[[ 1  3  5]\n",
      " [ 6  8 10]]\n"
     ]
    }
   ],
   "source": [
    "# slicing elements of a 2d array.\n",
    "arr = np.array([[1, 2, 3, 4, 5],[6, 7, 8, 9, 10]])\n",
    "print(arr)\n",
    "\n",
    "# getting a specific row.\n",
    "print(arr[0, :])\n",
    "\n",
    "# getting a specific range of elements in a row. \n",
    "print(arr[1, 1:4])\n",
    "\n",
    "# getting a specific column.\n",
    "print(arr[:, 2])\n",
    "\n",
    "# getting specific range of elements from columns.\n",
    "print(arr[:, 1:4])\n",
    "\n",
    "# getting specific range of elements in a specified sequence from columns.\n",
    "print(arr[:, ::2])"
   ]
  },
  {
   "cell_type": "code",
   "execution_count": 17,
   "metadata": {},
   "outputs": [
    {
     "name": "stdout",
     "output_type": "stream",
     "text": [
      "[[[1 2]\n",
      "  [3 4]]\n",
      "\n",
      " [[5 6]\n",
      "  [7 8]]]\n",
      "[[1 2]\n",
      " [3 4]]\n",
      "[[1 3]\n",
      " [5 7]]\n"
     ]
    }
   ],
   "source": [
    "# slicing elements of a 3d array.\n",
    "arr = np.array([[[1, 2], [3, 4]],[[5, 6], [7, 8]]])\n",
    "print(arr)\n",
    "\n",
    "# getting all subrows from a specific row.\n",
    "print(arr[0, :])\n",
    "\n",
    "# getting elements from a column in all subrows from all rows.\n",
    "print(arr[:, :, 0])\n"
   ]
  },
  {
   "cell_type": "markdown",
   "metadata": {},
   "source": [
    "##### Replacing elements of an Array"
   ]
  },
  {
   "cell_type": "code",
   "execution_count": 18,
   "metadata": {},
   "outputs": [
    {
     "name": "stdout",
     "output_type": "stream",
     "text": [
      "[1 2 3 4 5]\n",
      "[1 2 7 4 5]\n",
      "[11 12 13  4  5]\n",
      "[11 12 13 14 15]\n"
     ]
    }
   ],
   "source": [
    "# 1d array example.\n",
    "arr = np.array([1, 2, 3, 4, 5])\n",
    "print(arr)\n",
    "\n",
    "# replacing a single element\n",
    "arr[2] = 7\n",
    "print(arr)\n",
    "\n",
    "# replacing a range of elements\n",
    "arr[:3] = [11, 12, 13]\n",
    "print(arr)\n",
    "arr[3:] = [14, 15]\n",
    "print(arr)"
   ]
  },
  {
   "cell_type": "code",
   "execution_count": 19,
   "metadata": {},
   "outputs": [
    {
     "name": "stdout",
     "output_type": "stream",
     "text": [
      "[[ 1  2  3  4  5]\n",
      " [ 6  7  8  9 10]]\n",
      "[[ 1  2  3 15  5]\n",
      " [ 6  7  8  9 10]]\n",
      "[[ 1  2 20 15  5]\n",
      " [ 6  7 25  9 10]]\n",
      "[[ 1  2 20 15  5]\n",
      " [ 6 35 40  9 10]]\n",
      "[[  1  50  60  70   5]\n",
      " [  6  80  90 100  10]]\n"
     ]
    }
   ],
   "source": [
    "# 2d array example.\n",
    "arr = np.array([[1, 2, 3, 4, 5],[6, 7, 8, 9, 10]])\n",
    "print(arr)\n",
    "\n",
    "# replacing a element in a specified row.\n",
    "arr[0, 3] = 15\n",
    "print(arr)\n",
    "\n",
    "# replacing elements in a specified column.\n",
    "arr[:, 2] = [20, 25]\n",
    "print(arr)\n",
    "\n",
    "# replacing range of elements in a specified row.\n",
    "arr[1, 1:3] = [35, 40]\n",
    "print(arr)\n",
    "\n",
    "# replacing range of elements in a specified column.\n",
    "arr[:, 1:4] = [[50, 60, 70], [80, 90, 100]]\n",
    "print(arr)\n"
   ]
  },
  {
   "cell_type": "code",
   "execution_count": 20,
   "metadata": {},
   "outputs": [
    {
     "name": "stdout",
     "output_type": "stream",
     "text": [
      "[[[ 1  2  3]\n",
      "  [ 4  5  6]]\n",
      "\n",
      " [[ 7  8  9]\n",
      "  [10 11 12]]]\n",
      "[[[ 1  2  3]\n",
      "  [ 4  5 15]]\n",
      "\n",
      " [[ 7  8  9]\n",
      "  [10 11 12]]]\n",
      "[[[ 1  2 10]\n",
      "  [ 4  5 20]]\n",
      "\n",
      " [[ 7  8 30]\n",
      "  [10 11 40]]]\n",
      "[[[ 1  2 10]\n",
      "  [70 80 20]]\n",
      "\n",
      " [[ 7  8 30]\n",
      "  [10 11 40]]]\n",
      "[[[15 20 25]\n",
      "  [25 30 35]]\n",
      "\n",
      " [[35 40 45]\n",
      "  [45 50 55]]]\n"
     ]
    }
   ],
   "source": [
    "# 3d array example.\n",
    "arr = np.array([[[1, 2, 3], [4, 5, 6]],[[7, 8, 9], [10, 11, 12]]])\n",
    "print(arr)\n",
    "\n",
    "# replacing a element in a specified inner row.\n",
    "arr[0, 1, 2] = 15\n",
    "print(arr)\n",
    "\n",
    "# # replacing elements in a specified column.\n",
    "arr[:, :, 2] = [[10, 20], [30, 40]]\n",
    "print(arr)\n",
    "\n",
    "# # replacing range of elements in a specified inner row.\n",
    "arr[0, 1, :2] = [70, 80]\n",
    "print(arr)\n",
    "\n",
    "# # replacing range of elements in a specified column.\n",
    "arr[:, :, :] = [[[15, 20, 25], [25, 30, 35]], [[35, 40, 45], [45, 50, 55]]]\n",
    "print(arr)\n"
   ]
  },
  {
   "cell_type": "markdown",
   "metadata": {},
   "source": [
    "##### Initializing different kinds of Arrays"
   ]
  },
  {
   "cell_type": "code",
   "execution_count": 21,
   "metadata": {},
   "outputs": [
    {
     "name": "stdout",
     "output_type": "stream",
     "text": [
      "[[0. 0. 0.]\n",
      " [0. 0. 0.]]\n",
      "[[0. 0. 0. 0. 0.]\n",
      " [0. 0. 0. 0. 0.]\n",
      " [0. 0. 0. 0. 0.]\n",
      " [0. 0. 0. 0. 0.]\n",
      " [0. 0. 0. 0. 0.]]\n"
     ]
    }
   ],
   "source": [
    "# intializing NumPy array with zeroes.\n",
    "arr = np.zeros((2, 3))\n",
    "print(arr)\n",
    "\n",
    "arr = np.zeros((5, 5))\n",
    "print(arr)"
   ]
  },
  {
   "cell_type": "code",
   "execution_count": 22,
   "metadata": {},
   "outputs": [
    {
     "name": "stdout",
     "output_type": "stream",
     "text": [
      "[[1. 1. 1.]\n",
      " [1. 1. 1.]]\n",
      "[[[1 1]\n",
      "  [1 1]]\n",
      "\n",
      " [[1 1]\n",
      "  [1 1]]\n",
      "\n",
      " [[1 1]\n",
      "  [1 1]]]\n"
     ]
    }
   ],
   "source": [
    "# intializing NumPy array with all ones.\n",
    "arr = np.ones((2, 3))\n",
    "print(arr)\n",
    "\n",
    "arr = np.ones((3, 2, 2), dtype='i')\n",
    "print(arr)"
   ]
  },
  {
   "cell_type": "code",
   "execution_count": 23,
   "metadata": {},
   "outputs": [
    {
     "name": "stdout",
     "output_type": "stream",
     "text": [
      "[[7 7]\n",
      " [7 7]]\n",
      "[[[5 5]\n",
      "  [5 5]]\n",
      "\n",
      " [[5 5]\n",
      "  [5 5]]\n",
      "\n",
      " [[5 5]\n",
      "  [5 5]]\n",
      "\n",
      " [[5 5]\n",
      "  [5 5]]]\n",
      "[[ 1  2  3  4  5]\n",
      " [ 6  7  8  9 10]]\n",
      "[[3 3 3 3 3]\n",
      " [3 3 3 3 3]]\n"
     ]
    }
   ],
   "source": [
    "# intializing NumPy array having the same number.\n",
    "arr = np.full((2, 2), 7)\n",
    "print(arr)\n",
    "\n",
    "arr = np.full((4, 2, 2), 5)\n",
    "print(arr)\n",
    "\n",
    "# using full_like.\n",
    "arr = np.array([[1, 2, 3, 4, 5],[6, 7, 8, 9, 10]])\n",
    "print(arr)\n",
    "arr_new = np.full_like(arr, 3)\n",
    "print(arr_new)"
   ]
  },
  {
   "cell_type": "code",
   "execution_count": 24,
   "metadata": {},
   "outputs": [
    {
     "name": "stdout",
     "output_type": "stream",
     "text": [
      "[10 11 12 13 14 15 16 17 18 19]\n",
      "[10 20 30 40 50 60 70 80 90]\n",
      "[ 1.    3.25  5.5   7.75 10.  ]\n"
     ]
    }
   ],
   "source": [
    "# intializing array within a range.\n",
    "arr = np.arange(10, 20)\n",
    "print(arr)\n",
    "\n",
    "arr = np.arange(10, 100, 10)\n",
    "print(arr)\n",
    "\n",
    "# using linspace to generate specified number of random decimal numbers within a specified range.\n",
    "arr = np.linspace(1, 10, 5)\n",
    "print(arr)"
   ]
  },
  {
   "cell_type": "code",
   "execution_count": 35,
   "metadata": {},
   "outputs": [
    {
     "name": "stdout",
     "output_type": "stream",
     "text": [
      "[[1. 0. 0. 0.]\n",
      " [0. 1. 0. 0.]\n",
      " [0. 0. 1. 0.]\n",
      " [0. 0. 0. 1.]]\n",
      "[ 0.54030231 -0.41614684 -0.9899925  -0.65364362  0.28366219]\n"
     ]
    }
   ],
   "source": [
    "# intializing an identity matrix.\n",
    "arr = np.identity(4)\n",
    "print(arr)\n",
    "\n",
    "# estimating the cosine value of an array.\n",
    "arr = np.array([1, 2, 3, 4, 5])\n",
    "new_arr = np.cos(arr)\n",
    "print(new_arr)"
   ]
  },
  {
   "cell_type": "code",
   "execution_count": 26,
   "metadata": {},
   "outputs": [
    {
     "name": "stdout",
     "output_type": "stream",
     "text": [
      "[28 80 14 78 65  1 79 91 53 70]\n",
      "[[2 5 1]\n",
      " [4 1 7]\n",
      " [7 8 3]]\n",
      "[[0.85965663 0.19120842]\n",
      " [0.94322828 0.73825151]\n",
      " [0.20822604 0.38155962]\n",
      " [0.39801224 0.10169139]]\n"
     ]
    }
   ],
   "source": [
    "# intializing NumPy arrays with random numbers.\n",
    "\n",
    "# generates an array containing 10 random integers within the range from 1 to 100.\n",
    "arr = np.random.randint(1, 100, 10)\n",
    "print(arr)\n",
    "\n",
    "arr = np.random.randint(1, 10, size=(3, 3))\n",
    "print(arr)\n",
    "\n",
    "# generating an array containing random decimal numbers.\n",
    "arr = np.random.rand(4, 2)\n",
    "print(arr)"
   ]
  },
  {
   "cell_type": "code",
   "execution_count": 27,
   "metadata": {},
   "outputs": [
    {
     "name": "stdout",
     "output_type": "stream",
     "text": [
      "[[7 8 9]]\n",
      "[[7 8 9]\n",
      " [7 8 9]]\n",
      "[[7 7 8 8 9 9]]\n",
      "[[ 1  2  3  4  5]\n",
      " [ 6  7  8  9 10]]\n",
      "[[ 1  6]\n",
      " [ 2  7]\n",
      " [ 3  8]\n",
      " [ 4  9]\n",
      " [ 5 10]]\n"
     ]
    }
   ],
   "source": [
    "# intializing an array consisting of repeated elements.\n",
    "arr = np.array([[7, 8, 9]])\n",
    "print(arr)\n",
    "new_arr = np.repeat(arr, 2, axis=0)\n",
    "print(new_arr)\n",
    "new_arr = np.repeat(arr, 2, axis=1)\n",
    "print(new_arr)\n",
    "\n",
    "# transposing an array.\n",
    "arr = np.array([[1, 2, 3, 4, 5],[6, 7, 8, 9, 10]])\n",
    "print(arr)\n",
    "arr_trans = arr.transpose()\n",
    "print(arr_trans)"
   ]
  },
  {
   "cell_type": "markdown",
   "metadata": {},
   "source": [
    "##### Copying Arrays"
   ]
  },
  {
   "cell_type": "code",
   "execution_count": 28,
   "metadata": {},
   "outputs": [
    {
     "name": "stdout",
     "output_type": "stream",
     "text": [
      "[1 5 3]\n",
      "[1 5 3]\n",
      "[7 2 3]\n",
      "[1 2 3]\n"
     ]
    }
   ],
   "source": [
    "arr_org = np.array([1, 2, 3])\n",
    "\n",
    "# this just copies the reference, so be careful..!!\n",
    "arr_copy = arr_org\n",
    "\n",
    "# any changes in the copy will also get reflected in the original.\n",
    "arr_copy[1] = 5\n",
    "print(arr_copy)\n",
    "print(arr_org)\n",
    "\n",
    "# use copy() method to create an actual copy\n",
    "arr_org = np.array([1, 2, 3])\n",
    "arr_copy = arr_org.copy()\n",
    "\n",
    "# now any changes in the copy will not affect the original\n",
    "arr_copy[0] = 7\n",
    "print(arr_copy)\n",
    "print(arr_org)"
   ]
  },
  {
   "cell_type": "markdown",
   "metadata": {},
   "source": [
    "##### Joining NumPy Arrays"
   ]
  },
  {
   "cell_type": "code",
   "execution_count": 73,
   "metadata": {},
   "outputs": [
    {
     "name": "stdout",
     "output_type": "stream",
     "text": [
      "[[1 2 3 4]\n",
      " [5 6 7 8]]\n",
      "[1 2 3 4 5 6 7 8]\n",
      "[[1 5]\n",
      " [2 6]\n",
      " [3 7]\n",
      " [4 8]]\n",
      "[[1 2 3 4]\n",
      " [5 6 7 8]]\n",
      "[[1 2 3 4 5 6 7 8]]\n",
      "[[1 2]\n",
      " [3 4]\n",
      " [5 6]]\n",
      "[[1 2 5]\n",
      " [3 4 6]]\n"
     ]
    }
   ],
   "source": [
    "arr1 = np.array([1, 2, 3, 4])\n",
    "arr2 = np.array([5, 6, 7, 8])\n",
    "\n",
    "# vertical joining using vstack() method.\n",
    "new_arr = np.vstack((arr1, arr2))\n",
    "print(new_arr)\n",
    "\n",
    "# horizontal joining using vstack() method.\n",
    "new_arr = np.hstack((arr1, arr2))\n",
    "print(new_arr) \n",
    "\n",
    "# columnwise joining using column_stack() method.\n",
    "new_arr = np.column_stack((arr1, arr2))\n",
    "print(new_arr)\n",
    "\n",
    "# joining arrays using concatenation.\n",
    "arr1 = np.array([[1, 2, 3, 4]])\n",
    "arr2 = np.array([[5, 6, 7, 8]])\n",
    "arr_concat = np.concatenate((arr1, arr2))\n",
    "print(arr_concat)\n",
    "arr_concat = np.concatenate((arr1, arr2), axis = 1)\n",
    "print(arr_concat)\n",
    "\n",
    "# in case we need add a new column to the concatenated array.\n",
    "arr1 = np.array([[1, 2], [3, 4]])\n",
    "arr2 = np.array([[5, 6]])\n",
    "arr_concat = np.concatenate((arr1, arr2))\n",
    "print(arr_concat)\n",
    "arr_new = np.concatenate((arr1, arr2.T), axis = 1)\n",
    "print(arr_new)"
   ]
  },
  {
   "cell_type": "markdown",
   "metadata": {},
   "source": [
    "##### NumPy Array Intersection & Difference"
   ]
  },
  {
   "cell_type": "code",
   "execution_count": 30,
   "metadata": {},
   "outputs": [
    {
     "name": "stdout",
     "output_type": "stream",
     "text": [
      "[3 4]\n",
      "[1 2]\n",
      "[5 6]\n"
     ]
    }
   ],
   "source": [
    "arr1 = np.array([1, 2, 3, 4])\n",
    "arr2 = np.array([3, 4, 5, 6])\n",
    "\n",
    "# array intersection.\n",
    "new_arr = np.intersect1d(arr1, arr2)\n",
    "print(new_arr)\n",
    "\n",
    "# array difference.\n",
    "new_arr = np.setdiff1d(arr1, arr2)\n",
    "print(new_arr)\n",
    "new_arr = np.setdiff1d(arr2, arr1)\n",
    "print(new_arr)"
   ]
  },
  {
   "cell_type": "markdown",
   "metadata": {},
   "source": [
    "##### Mathematical Operations in NumPy Array "
   ]
  },
  {
   "cell_type": "code",
   "execution_count": 43,
   "metadata": {},
   "outputs": [
    {
     "name": "stdout",
     "output_type": "stream",
     "text": [
      "28\n",
      "[10 18]\n",
      "[ 4  6  8 10]\n",
      "[[1 2 3 4]\n",
      " [5 6 7 8]]\n",
      "8\n",
      "[5 6 7 8]\n",
      "[4 8]\n",
      "1\n",
      "[1 2 3 4]\n",
      "[1 5]\n"
     ]
    }
   ],
   "source": [
    "# addition of arrays : returns the overall sum of the array elements.\n",
    "arr1 = np.array([1, 2, 3, 4])\n",
    "arr2 = np.array([3, 4, 5, 6])\n",
    "arr_sum = np.sum([arr1, arr2])\n",
    "print(arr_sum)\n",
    "\n",
    "# row-wise sum of the array elements.\n",
    "arr_rowsum = np.sum([arr1, arr2], axis = 1)\n",
    "print(arr_rowsum)\n",
    "\n",
    "# column-wise sum of the array elements.\n",
    "arr_colsum = np.sum([arr1, arr2], axis = 0)\n",
    "print(arr_colsum)\n",
    "\n",
    "# calculating the max, min.\n",
    "arr = np.array([[1, 2, 3, 4], [5, 6, 7, 8]])\n",
    "print(arr)\n",
    "arr_max = np.max(arr)\n",
    "print(arr_max)\n",
    "arr_max = np.max(arr, axis = 0)\n",
    "print(arr_max)\n",
    "arr_max = np.max(arr, axis = 1)\n",
    "print(arr_max)\n",
    "\n",
    "arr_min = np.min(arr)\n",
    "print(arr_min)\n",
    "arr_min = np.min(arr, axis = 0)\n",
    "print(arr_min)\n",
    "arr_min = np.min(arr, axis = 1)\n",
    "print(arr_min)"
   ]
  },
  {
   "cell_type": "code",
   "execution_count": 34,
   "metadata": {},
   "outputs": [
    {
     "name": "stdout",
     "output_type": "stream",
     "text": [
      "[20 25 30 35]\n",
      "[100 150 200 250]\n",
      "[ 5 10 15 20]\n",
      "[2. 3. 4. 5.]\n",
      "[100 225 400 625]\n"
     ]
    }
   ],
   "source": [
    "# addition of an array with a scalar value.\n",
    "arr = np.array([10, 15, 20, 25])\n",
    "arr = arr + 10\n",
    "print(arr)\n",
    "\n",
    "# multiplication of an array with a scalar value.\n",
    "arr = np.array([10, 15, 20, 25])\n",
    "arr = arr * 10\n",
    "print(arr)\n",
    "\n",
    "# subtraction of an array with a scalar value.\n",
    "arr = np.array([10, 15, 20, 25])\n",
    "arr = arr - 5\n",
    "print(arr)\n",
    "\n",
    "# division of an array with a scalar value.\n",
    "arr = np.array([10, 15, 20, 25])\n",
    "arr = arr / 5\n",
    "print(arr)\n",
    "\n",
    "# exponentation of an array with a scalar value.\n",
    "arr = np.array([10, 15, 20, 25])\n",
    "arr = arr ** 2\n",
    "print(arr)"
   ]
  },
  {
   "cell_type": "code",
   "execution_count": 33,
   "metadata": {},
   "outputs": [
    {
     "name": "stdout",
     "output_type": "stream",
     "text": [
      "24.0\n",
      "20.0\n",
      "13.92838827718412\n"
     ]
    }
   ],
   "source": [
    "arr = np.array([10, 15, 20, 25, 50])\n",
    "\n",
    "# finding the mean of the elements in an array.\n",
    "print(np.mean(arr))\n",
    "\n",
    "# finding the median of the elements in an array.\n",
    "print(np.median(arr))\n",
    "\n",
    "# finding the standard deviation of the elements in an array.\n",
    "print(np.std(arr))"
   ]
  },
  {
   "cell_type": "code",
   "execution_count": 50,
   "metadata": {},
   "outputs": [
    {
     "name": "stdout",
     "output_type": "stream",
     "text": [
      "[[1 2 3]\n",
      " [4 5 6]\n",
      " [7 8 9]]\n",
      "[[10 11 12]\n",
      " [13 14 15]\n",
      " [16 17 18]]\n",
      "[[ 84  90  96]\n",
      " [201 216 231]\n",
      " [318 342 366]]\n",
      "[[138 171 204]\n",
      " [174 216 258]\n",
      " [210 261 312]]\n"
     ]
    }
   ],
   "source": [
    "# matrix multiplication.\n",
    "arr1 = np.array([[1, 2, 3], [4, 5, 6],[7, 8, 9]])\n",
    "print(arr1)\n",
    "arr2 = np.array([[10, 11, 12], [13, 14, 15],[16, 17, 18]])\n",
    "print(arr2)\n",
    "\n",
    "arr_multi = arr1.dot(arr2)\n",
    "print(arr_multi)\n",
    "\n",
    "arr_multi = arr2.dot(arr1)\n",
    "print(arr_multi)"
   ]
  },
  {
   "cell_type": "markdown",
   "metadata": {},
   "source": [
    "##### Reshaping Arrays."
   ]
  },
  {
   "cell_type": "code",
   "execution_count": 56,
   "metadata": {},
   "outputs": [
    {
     "name": "stdout",
     "output_type": "stream",
     "text": [
      "[1 2 3 4 5 6 7 8]\n",
      "(8,)\n",
      "[[1 2 3 4]\n",
      " [5 6 7 8]]\n",
      "(2, 4)\n",
      "[[1 2]\n",
      " [3 4]\n",
      " [5 6]\n",
      " [7 8]]\n",
      "(4, 2)\n",
      "[[1]\n",
      " [2]\n",
      " [3]\n",
      " [4]\n",
      " [5]\n",
      " [6]\n",
      " [7]\n",
      " [8]]\n",
      "(8, 1)\n"
     ]
    }
   ],
   "source": [
    "arr = np.arange(1, 9)\n",
    "print(arr)\n",
    "print(arr.shape)\n",
    "\n",
    "arr_reshaped = arr.reshape((2, 4))\n",
    "print(arr_reshaped)\n",
    "print(arr_reshaped.shape)\n",
    "\n",
    "arr_reshaped = arr.reshape((4, 2))\n",
    "print(arr_reshaped)\n",
    "print(arr_reshaped.shape)\n",
    "\n",
    "arr_reshaped = arr.reshape((8, 1))\n",
    "print(arr_reshaped)\n",
    "print(arr_reshaped.shape)"
   ]
  },
  {
   "cell_type": "markdown",
   "metadata": {},
   "source": [
    "##### Broadcasting"
   ]
  },
  {
   "cell_type": "code",
   "execution_count": 76,
   "metadata": {},
   "outputs": [
    {
     "name": "stdout",
     "output_type": "stream",
     "text": [
      "[[ 2  4  6]\n",
      " [ 5  7  9]\n",
      " [ 8 10 12]\n",
      " [11 13 15]]\n",
      "[[ 1  4  9]\n",
      " [ 4 10 18]\n",
      " [ 7 16 27]\n",
      " [10 22 36]]\n"
     ]
    }
   ],
   "source": [
    "# enables the user to perform aritmetic operations with arrays of different shapes.\n",
    "arr1 = np.array([[1, 2, 3], [4, 5, 6], [7, 8, 9], [10, 11, 12]])\n",
    "arr2 = np.array([1, 2, 3])\n",
    "arr_new = arr1 + arr2 # here we added elements of arr2 to each row of arr1.\n",
    "print(arr_new)\n",
    "\n",
    "# similarly we can do other aritmetic operations as well.\n",
    "arr_new = arr1 * arr2\n",
    "print(arr_new)"
   ]
  },
  {
   "cell_type": "markdown",
   "metadata": {},
   "source": [
    "##### Saving & Loading data to / from files with NumPy "
   ]
  },
  {
   "cell_type": "code",
   "execution_count": 77,
   "metadata": {},
   "outputs": [],
   "source": [
    "# saving data to a file.\n",
    "arr = np.array([10, 15, 20, 25, 30])\n",
    "np.save('arr_new', arr)"
   ]
  },
  {
   "cell_type": "code",
   "execution_count": 78,
   "metadata": {},
   "outputs": [
    {
     "name": "stdout",
     "output_type": "stream",
     "text": [
      "[10 15 20 25 30]\n"
     ]
    }
   ],
   "source": [
    "# loading data from a file\n",
    "arr_org = np.load('arr_new.npy')\n",
    "print(arr_org)"
   ]
  },
  {
   "cell_type": "markdown",
   "metadata": {},
   "source": [
    "##### Boolean Masking & Advanced Indexing"
   ]
  },
  {
   "cell_type": "code",
   "execution_count": 96,
   "metadata": {},
   "outputs": [
    {
     "name": "stdout",
     "output_type": "stream",
     "text": [
      "[[ 1  2  3]\n",
      " [ 4  5  6]\n",
      " [ 7  8  9]\n",
      " [10 11 12]]\n",
      "[[False False False]\n",
      " [False False  True]\n",
      " [ True  True  True]\n",
      " [ True  True  True]]\n",
      "[ 6  7  8  9 10 11 12]\n",
      "[6 7 8 9]\n",
      "[ 9 10 11 12]\n",
      "[1 2 3 4 5 6 7 8 9]\n",
      "[1 2 3 4 5 6 7 8]\n"
     ]
    }
   ],
   "source": [
    "arr = np.array([[1, 2, 3], [4, 5, 6], [7, 8, 9], [10, 11, 12]])\n",
    "print(arr)\n",
    "\n",
    "# boolean masking.\n",
    "print(arr > 5)\n",
    "\n",
    "# filtering data basis the boolean condition.\n",
    "arr_filtered = arr[arr > 5]\n",
    "print(arr_filtered)\n",
    "\n",
    "# filtering basis multiple boolean conditions.\n",
    "arr_filtered = arr[(arr > 5) & (arr < 10)]\n",
    "print(arr_filtered)\n",
    "\n",
    "arr_filtered = arr[(arr > 8) | (arr > 10)]\n",
    "print(arr_filtered)\n",
    "\n",
    "# we can use the tilde(~) to return result not matching with the specified boolean condition.\n",
    "arr_filtered = arr[~(arr >= 10)]\n",
    "print(arr_filtered)\n",
    "\n",
    "arr_filtered = arr[~((arr > 8) | (arr > 10))]\n",
    "print(arr_filtered)\n"
   ]
  }
 ],
 "metadata": {
  "interpreter": {
   "hash": "31f2aee4e71d21fbe5cf8b01ff0e069b9275f58929596ceb00d14d90e3e16cd6"
  },
  "kernelspec": {
   "display_name": "Python 3.8.9 64-bit",
   "language": "python",
   "name": "python3"
  },
  "language_info": {
   "codemirror_mode": {
    "name": "ipython",
    "version": 3
   },
   "file_extension": ".py",
   "mimetype": "text/x-python",
   "name": "python",
   "nbconvert_exporter": "python",
   "pygments_lexer": "ipython3",
   "version": "3.8.9"
  },
  "orig_nbformat": 4
 },
 "nbformat": 4,
 "nbformat_minor": 2
}
