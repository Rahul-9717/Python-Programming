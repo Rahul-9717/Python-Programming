{
 "cells": [
  {
   "cell_type": "markdown",
   "metadata": {},
   "source": [
    "#### **Conditional Statements in Python**\n",
    "- Conditional statements in Python performs different computations or actions based on whether a specific boolean condition or a comparison evaluates to true or false.\n",
    "- This process of performing specific actions based on a condition is known as **Decision Making**.\n",
    "- The various conditional statements are **if , if...else, if...elif...else, nested if**. "
   ]
  },
  {
   "cell_type": "code",
   "execution_count": 4,
   "metadata": {},
   "outputs": [
    {
     "name": "stdout",
     "output_type": "stream",
     "text": [
      "The number is greater than 12\n",
      "Congratulations!\n",
      "You have exceeded the expectations\n"
     ]
    }
   ],
   "source": [
    "# if statement.\n",
    "'''\n",
    "Syntax :\n",
    "if test_condition:\n",
    "    statement(s)\n",
    "'''\n",
    "# here are a few examples.\n",
    "num = 15\n",
    "if num >= 12:\n",
    "    print(\"The number is greater than 12\")\n",
    "\n",
    "num = 10\n",
    "if num >= 12:\n",
    "    print(\"The number is greater than 12\")  # here nothing will be returned as the condition is not evaluated to True.\n",
    "\n",
    "rating_score = int(input(\"Enter your rating score:\"))\n",
    "if rating_score > 80:\n",
    "    print(\"Congratulations!\\nYou have exceeded the expectations\")\n",
    "        "
   ]
  },
  {
   "cell_type": "code",
   "execution_count": 7,
   "metadata": {},
   "outputs": [
    {
     "name": "stdout",
     "output_type": "stream",
     "text": [
      "y is greater!\n",
      "Sorry!\n",
      "You have not exceeded the expectations\n"
     ]
    }
   ],
   "source": [
    "# if..else statement : allows us to make a choice amongst two options.\n",
    "'''\n",
    "Syntax :\n",
    "if test_condition:\n",
    "    statement(s)\n",
    "else:\n",
    "    statement(s)\n",
    "'''\n",
    "# here are a few examples.\n",
    "x = 25\n",
    "y = 30\n",
    "if x > y:\n",
    "    print(\"x is greater!\")\n",
    "else:\n",
    "    print(\"y is greater!\") # the statement in body of else is executed as the if statement returns False because x is not greater than y.\n",
    "\n",
    "rating_score = int(input(\"Enter your rating score:\"))\n",
    "if rating_score > 80:\n",
    "    print(\"Congratulations!\\nYou have exceeded the expectations\")\n",
    "else:\n",
    "    print(\"Sorry!\\nYou have not exceeded the expectations\")        "
   ]
  },
  {
   "cell_type": "code",
   "execution_count": 10,
   "metadata": {},
   "outputs": [
    {
     "name": "stdout",
     "output_type": "stream",
     "text": [
      "First Division..!\n",
      "You have met the expectations..!\n"
     ]
    }
   ],
   "source": [
    "# if..elif..else statement : allows us to make a choice amongst more than two options.\n",
    "'''\n",
    "Syntax :\n",
    "if test_condition:\n",
    "    statement(s)\n",
    "elif test_condition: ( one can add multiple elif statements based on the number of test conditions)\n",
    "    statement(s)    \n",
    "else:\n",
    "    statement(s)\n",
    "'''\n",
    "\n",
    "# here are a few examples.\n",
    "perc = 67\n",
    "if perc >= 70:\n",
    "    print(\"Distinction..!\")\n",
    "elif perc >= 65 and perc < 70:\n",
    "    print(\"First Division..!\")\n",
    "elif perc >= 60 and perc < 65:\n",
    "    print(\"Second Division..!\")        \n",
    "elif perc >= 55 and perc < 60:\n",
    "    print(\"Third Division..!\")\n",
    "else:\n",
    "    print(\"Fail..!\")\n",
    "\n",
    "rating_score = int(input(\"Enter your rating score:\"))\n",
    "if rating_score >= 80:\n",
    "    print(\"You have exceeded the expectations..!\")\n",
    "elif rating_score >= 70:\n",
    "    print(\"You have met the expectations..!\")\n",
    "else:\n",
    "    print(\"You have not met the expctations..!\")    \n"
   ]
  },
  {
   "cell_type": "code",
   "execution_count": 8,
   "metadata": {},
   "outputs": [
    {
     "name": "stdout",
     "output_type": "stream",
     "text": [
      "You can donate blood..!\n",
      "You have done exceptionally well & eligible for 100% performance incentive..!\n"
     ]
    }
   ],
   "source": [
    "# nested if/ if..else / if..elif..else statement: an if / if..else / if..elif..else statement inside another if / if..else / if..elif..else statement.\n",
    "\n",
    "# here are a few examples.\n",
    "age = int(input(\"Enter your Age:\"))\n",
    "if age >= 18:\n",
    "    weight = int(input(\"Enter your Weight:\"))\n",
    "    if weight >= 50:\n",
    "        print(\"You can donate blood..!\")\n",
    "    else:\n",
    "        print(\"Sorry, you are under weight hence cannot donate blood..!\")\n",
    "else:\n",
    "    print(\"Sorry, you are under age hence cannot donate blood..!\")        \n",
    "\n",
    "rating_score = int(input(\"Enter your rating score:\"))\n",
    "if rating_score > 80:\n",
    "    if rating_score >= 95:\n",
    "        print(\"You have done exceptionally well & eligible for 110% performance incentive..!\")\n",
    "    elif rating_score >= 90:\n",
    "        print(\"You have done exceptionally well & eligible for 100% performance incentive..!\")\n",
    "    else:\n",
    "        print(\"You have done exceptionally well but not eligible for performance incentive..!\")\n",
    "elif rating_score >= 70:\n",
    "    print(\"You have met the expectations..!\")\n",
    "else:\n",
    "    print(\"You have not met the expctations..!\")                   "
   ]
  },
  {
   "cell_type": "markdown",
   "metadata": {},
   "source": [
    "##### Lets practice some more examples showcasing application of conditional statements."
   ]
  },
  {
   "cell_type": "code",
   "execution_count": 10,
   "metadata": {},
   "outputs": [
    {
     "name": "stdout",
     "output_type": "stream",
     "text": [
      "This is an even number..!\n"
     ]
    }
   ],
   "source": [
    "# Check if a number is odd or even.\n",
    "num = int(input(\"Enter a number:\"))\n",
    "if num % 2 == 0:\n",
    "    print(\"This is an even number..!\")\n",
    "else:\n",
    "    print(\"This is an odd number..!\")    "
   ]
  },
  {
   "cell_type": "code",
   "execution_count": 13,
   "metadata": {},
   "outputs": [
    {
     "name": "stdout",
     "output_type": "stream",
     "text": [
      "Number is positive..!\n"
     ]
    }
   ],
   "source": [
    "# Check if a number is positive, negative or zero.\n",
    "num = float(input(\"Enter a number:\"))\n",
    "if num >= 0:\n",
    "    if num == 0:\n",
    "        print(\"Number is zero..!\")\n",
    "    else:\n",
    "        print(\"Number is positive..!\")\n",
    "else:\n",
    "    print(\"Number is negative..!\")            "
   ]
  },
  {
   "cell_type": "code",
   "execution_count": 18,
   "metadata": {},
   "outputs": [
    {
     "name": "stdout",
     "output_type": "stream",
     "text": [
      "2022 is not a leap year..!\n"
     ]
    }
   ],
   "source": [
    "# Check for a leap year.\n",
    "year = int(input(\"Enter a year:\"))\n",
    "if year % 400 == 0 and year % 100 == 0:\n",
    "    print(f\"{year} is a leap year..!\")\n",
    "elif year % 4 == 0 and year % 100 != 0:\n",
    "    print(f\"{year} is a leap year..!\")\n",
    "else:\n",
    "    print(f\"{year} is not a leap year..!\")    "
   ]
  },
  {
   "cell_type": "code",
   "execution_count": 21,
   "metadata": {},
   "outputs": [
    {
     "name": "stdout",
     "output_type": "stream",
     "text": [
      "70 is the greatest..!\n"
     ]
    }
   ],
   "source": [
    "# check for greatest amongst three numbers.\n",
    "num1 = 40\n",
    "num2 = 70\n",
    "num3 = 30\n",
    "if num1 > num2 and num1 > num3:\n",
    "    print(f\"{num1} is the greatest..!\")\n",
    "elif num2 > num1 and num2 > num3:\n",
    "    print(f\"{num2} is the greatest..!\")\n",
    "else:\n",
    "    print(f\"{num3} is the greatest..!\")    "
   ]
  },
  {
   "cell_type": "code",
   "execution_count": 29,
   "metadata": {},
   "outputs": [
    {
     "name": "stdout",
     "output_type": "stream",
     "text": [
      "rate & tare are anagrams\n"
     ]
    }
   ],
   "source": [
    "# check if two strings are anagrams i.e. if one string can be formed by rearranging the characters af another string. eg: bat & tab, race & care etc.\n",
    "str1 = input(\"Enter one string:\")\n",
    "str1 = str1.lower()\n",
    "str2 = input(\"Enter another string:\")\n",
    "str2 = str2.lower()\n",
    "\n",
    "if len(str1) == len(str2):\n",
    "    sorted_str1 = sorted(str1)\n",
    "    sorted_str2 = sorted(str2)\n",
    "    if sorted_str1 == sorted_str2:\n",
    "        print(f\"{str1} & {str2} are anagrams\")\n",
    "    else:\n",
    "        print(f\"{str1} & {str2} are not anagrams\")\n",
    "else:\n",
    "    print(f\"{str1} & {str2} are not anagrams\")"
   ]
  },
  {
   "cell_type": "code",
   "execution_count": 37,
   "metadata": {},
   "outputs": [
    {
     "name": "stdout",
     "output_type": "stream",
     "text": [
      "nayan is a palindrome..!\n"
     ]
    }
   ],
   "source": [
    "# check whether a string is a palindrome or not i.e. string which is the same both forward & reverse eg : dad.\n",
    "my_str = \"Nayan\"\n",
    "my_str = my_str.lower()\n",
    "rev_str = reversed(my_str)\n",
    "if list(my_str) == list(rev_str):\n",
    "    print(f\"{my_str} is a palindrome..!\")\n",
    "else:\n",
    "    print(f\"{my_str} is not a palindrome..!\")    "
   ]
  }
 ],
 "metadata": {
  "interpreter": {
   "hash": "31f2aee4e71d21fbe5cf8b01ff0e069b9275f58929596ceb00d14d90e3e16cd6"
  },
  "kernelspec": {
   "display_name": "Python 3.8.9 64-bit",
   "language": "python",
   "name": "python3"
  },
  "language_info": {
   "codemirror_mode": {
    "name": "ipython",
    "version": 3
   },
   "file_extension": ".py",
   "mimetype": "text/x-python",
   "name": "python",
   "nbconvert_exporter": "python",
   "pygments_lexer": "ipython3",
   "version": "3.8.9"
  },
  "orig_nbformat": 4
 },
 "nbformat": 4,
 "nbformat_minor": 2
}
