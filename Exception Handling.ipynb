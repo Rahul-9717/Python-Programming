{
 "cells": [
  {
   "cell_type": "markdown",
   "metadata": {},
   "source": [
    "#### **Python Exception Handling**\n",
    "- We come across errors while exceuting any code in Python.\n",
    "- Errors are basically of two types.\n",
    "- One is *Syntax Errors* like missing parenthesis, wrong indentations etc which can be easily fixed by correcting the syntax of the code.\n",
    "- Other is *Exceptions* which occurs even when the code is syntactically correct. eg : dividing a number by zero & these are encountered during runtime. "
   ]
  },
  {
   "cell_type": "code",
   "execution_count": 1,
   "metadata": {},
   "outputs": [
    {
     "ename": "SyntaxError",
     "evalue": "invalid syntax (905534542.py, line 2)",
     "output_type": "error",
     "traceback": [
      "\u001b[0;36m  File \u001b[0;32m\"/var/folders/lq/gsh3xl_j3_355v403cm3hq2r0000gn/T/ipykernel_2583/905534542.py\"\u001b[0;36m, line \u001b[0;32m2\u001b[0m\n\u001b[0;31m    for i in range(10) # here we missed to put the colon : in front of the range function which is required when we are intializing a for in loop.\u001b[0m\n\u001b[0m                       ^\u001b[0m\n\u001b[0;31mSyntaxError\u001b[0m\u001b[0;31m:\u001b[0m invalid syntax\n"
     ]
    }
   ],
   "source": [
    "# let us see an example demonstrating syntax error.\n",
    "for i in range(10) # here we missed to put the colon : in front of the range function which is required when we are intializing a for in loop.\n",
    "    print(i)"
   ]
  },
  {
   "cell_type": "code",
   "execution_count": 2,
   "metadata": {},
   "outputs": [
    {
     "ename": "ZeroDivisionError",
     "evalue": "division by zero",
     "output_type": "error",
     "traceback": [
      "\u001b[0;31m---------------------------------------------------------------------------\u001b[0m",
      "\u001b[0;31mZeroDivisionError\u001b[0m                         Traceback (most recent call last)",
      "\u001b[0;32m/var/folders/lq/gsh3xl_j3_355v403cm3hq2r0000gn/T/ipykernel_2583/3583831186.py\u001b[0m in \u001b[0;36m<module>\u001b[0;34m\u001b[0m\n\u001b[1;32m      2\u001b[0m \u001b[0mn1\u001b[0m \u001b[0;34m=\u001b[0m \u001b[0;36m10\u001b[0m\u001b[0;34m\u001b[0m\u001b[0;34m\u001b[0m\u001b[0m\n\u001b[1;32m      3\u001b[0m \u001b[0mn2\u001b[0m \u001b[0;34m=\u001b[0m \u001b[0;36m0\u001b[0m\u001b[0;34m\u001b[0m\u001b[0;34m\u001b[0m\u001b[0m\n\u001b[0;32m----> 4\u001b[0;31m \u001b[0mresult\u001b[0m \u001b[0;34m=\u001b[0m \u001b[0mn1\u001b[0m \u001b[0;34m/\u001b[0m \u001b[0mn2\u001b[0m\u001b[0;34m\u001b[0m\u001b[0;34m\u001b[0m\u001b[0m\n\u001b[0m\u001b[1;32m      5\u001b[0m \u001b[0mprint\u001b[0m\u001b[0;34m(\u001b[0m\u001b[0mresult\u001b[0m\u001b[0;34m)\u001b[0m \u001b[0;31m# here we have encountered an exception as we are trying to divide the number by zero.\u001b[0m\u001b[0;34m\u001b[0m\u001b[0;34m\u001b[0m\u001b[0m\n",
      "\u001b[0;31mZeroDivisionError\u001b[0m: division by zero"
     ]
    }
   ],
   "source": [
    "# let us see an example demonstrating exception.\n",
    "n1 = 10\n",
    "n2 = 0\n",
    "result = n1 / n2\n",
    "print(result) # here we have encountered an exception as we are trying to divide the number by zero."
   ]
  },
  {
   "cell_type": "code",
   "execution_count": 3,
   "metadata": {},
   "outputs": [
    {
     "name": "stdout",
     "output_type": "stream",
     "text": [
      "['ArithmeticError', 'AssertionError', 'AttributeError', 'BaseException', 'BlockingIOError', 'BrokenPipeError', 'BufferError', 'BytesWarning', 'ChildProcessError', 'ConnectionAbortedError', 'ConnectionError', 'ConnectionRefusedError', 'ConnectionResetError', 'DeprecationWarning', 'EOFError', 'Ellipsis', 'EnvironmentError', 'Exception', 'False', 'FileExistsError', 'FileNotFoundError', 'FloatingPointError', 'FutureWarning', 'GeneratorExit', 'IOError', 'ImportError', 'ImportWarning', 'IndentationError', 'IndexError', 'InterruptedError', 'IsADirectoryError', 'KeyError', 'KeyboardInterrupt', 'LookupError', 'MemoryError', 'ModuleNotFoundError', 'NameError', 'None', 'NotADirectoryError', 'NotImplemented', 'NotImplementedError', 'OSError', 'OverflowError', 'PendingDeprecationWarning', 'PermissionError', 'ProcessLookupError', 'RecursionError', 'ReferenceError', 'ResourceWarning', 'RuntimeError', 'RuntimeWarning', 'StopAsyncIteration', 'StopIteration', 'SyntaxError', 'SyntaxWarning', 'SystemError', 'SystemExit', 'TabError', 'TimeoutError', 'True', 'TypeError', 'UnboundLocalError', 'UnicodeDecodeError', 'UnicodeEncodeError', 'UnicodeError', 'UnicodeTranslateError', 'UnicodeWarning', 'UserWarning', 'ValueError', 'Warning', 'ZeroDivisionError', '__IPYTHON__', '__build_class__', '__debug__', '__doc__', '__import__', '__loader__', '__name__', '__package__', '__spec__', 'abs', 'all', 'any', 'ascii', 'bin', 'bool', 'breakpoint', 'bytearray', 'bytes', 'callable', 'chr', 'classmethod', 'compile', 'complex', 'copyright', 'credits', 'delattr', 'dict', 'dir', 'display', 'divmod', 'enumerate', 'eval', 'exec', 'execfile', 'filter', 'float', 'format', 'frozenset', 'get_ipython', 'getattr', 'globals', 'hasattr', 'hash', 'help', 'hex', 'id', 'input', 'int', 'isinstance', 'issubclass', 'iter', 'len', 'license', 'list', 'locals', 'map', 'max', 'memoryview', 'min', 'next', 'object', 'oct', 'open', 'ord', 'pow', 'print', 'property', 'range', 'repr', 'reversed', 'round', 'runfile', 'set', 'setattr', 'slice', 'sorted', 'staticmethod', 'str', 'sum', 'super', 'tuple', 'type', 'vars', 'zip']\n"
     ]
    }
   ],
   "source": [
    "# we can view all the built-in exceptions in Python by using the local() function.\n",
    "print(dir(locals()['__builtins__']))"
   ]
  },
  {
   "cell_type": "markdown",
   "metadata": {},
   "source": [
    "##### Exception Handling\n",
    "- Exception Handling is the process of responding to exceptions in a customized way during execution of a program.\n",
    "- Instead of showing the default error message, we may want to show a custom message or run a different set of code.\n",
    "- We use the try...except block to handle exceptions."
   ]
  },
  {
   "cell_type": "code",
   "execution_count": 7,
   "metadata": {},
   "outputs": [
    {
     "name": "stdout",
     "output_type": "stream",
     "text": [
      "Please enter a non zero value for n2 & try again.\n",
      "program ends!!\n"
     ]
    }
   ],
   "source": [
    "# Syntax:\n",
    "'''\n",
    "try:\n",
    "    code that may cause exception\n",
    "except:\n",
    "    code to run in case the exception occurs    \n",
    "'''\n",
    "# let us see through an example.\n",
    "try:\n",
    "    n1 = int(input(\"Enter n1: \"))\n",
    "    n2 = int(input(\"Enter n2: \"))\n",
    "    result = n1 / n2\n",
    "    print(result)\n",
    "except:\n",
    "    print(\"Please enter a non zero value for n2 & try again.\")\n",
    "print(\"program ends!!\")    "
   ]
  },
  {
   "cell_type": "code",
   "execution_count": 9,
   "metadata": {},
   "outputs": [
    {
     "name": "stdout",
     "output_type": "stream",
     "text": [
      "division by zero\n"
     ]
    }
   ],
   "source": [
    "# we can also catch the type of exception\n",
    "try:\n",
    "    n1 = int(input(\"Enter n1: \"))\n",
    "    n2 = int(input(\"Enter n2: \"))\n",
    "    result = n1 / n2\n",
    "    print(result)\n",
    "except Exception as e:\n",
    "    print(e)    "
   ]
  },
  {
   "cell_type": "code",
   "execution_count": 21,
   "metadata": {},
   "outputs": [
    {
     "name": "stdout",
     "output_type": "stream",
     "text": [
      "7.0\n",
      "everything is fine!!\n"
     ]
    }
   ],
   "source": [
    "# we can also use else statement with try..except in case no exception occurs.\n",
    "try:\n",
    "    n1 = int(input(\"Enter n1: \"))\n",
    "    n2 = int(input(\"Enter n2: \"))\n",
    "    result = n1 / n2\n",
    "    print(result)\n",
    "except:\n",
    "    print(\"Please enter a non zero value for n2 & try again.\")\n",
    "else:    \n",
    "    print(\"everything is fine!!\") "
   ]
  },
  {
   "cell_type": "code",
   "execution_count": 10,
   "metadata": {},
   "outputs": [
    {
     "name": "stdout",
     "output_type": "stream",
     "text": [
      "Only ZeroDivisionError is handled in this case.\n",
      "program ends!!\n"
     ]
    }
   ],
   "source": [
    "# in case we want to define an exception which handles a specific exception error by specifying the error type after the except keyword. \n",
    "try:\n",
    "    n1 = int(input(\"Enter n1: \"))\n",
    "    n2 = int(input(\"Enter n2: \"))\n",
    "    result = n1 / n2\n",
    "    print(result)\n",
    "except ZeroDivisionError:\n",
    "    print(\"Only ZeroDivisionError is handled in this case.\")\n",
    "\n",
    "print(\"program ends!!\")"
   ]
  },
  {
   "cell_type": "code",
   "execution_count": 27,
   "metadata": {},
   "outputs": [
    {
     "ename": "AssertionError",
     "evalue": "x is not positive",
     "output_type": "error",
     "traceback": [
      "\u001b[0;31m---------------------------------------------------------------------------\u001b[0m",
      "\u001b[0;31mAssertionError\u001b[0m                            Traceback (most recent call last)",
      "\u001b[0;32m/var/folders/lq/gsh3xl_j3_355v403cm3hq2r0000gn/T/ipykernel_2583/2420651293.py\u001b[0m in \u001b[0;36m<module>\u001b[0;34m\u001b[0m\n\u001b[1;32m      2\u001b[0m \u001b[0mmy_num\u001b[0m \u001b[0;34m=\u001b[0m \u001b[0;36m10\u001b[0m\u001b[0;34m\u001b[0m\u001b[0;34m\u001b[0m\u001b[0m\n\u001b[1;32m      3\u001b[0m \u001b[0mx\u001b[0m \u001b[0;34m=\u001b[0m \u001b[0mint\u001b[0m\u001b[0;34m(\u001b[0m\u001b[0minput\u001b[0m\u001b[0;34m(\u001b[0m\u001b[0;34m\"Enter the number: \"\u001b[0m\u001b[0;34m)\u001b[0m\u001b[0;34m)\u001b[0m\u001b[0;34m\u001b[0m\u001b[0;34m\u001b[0m\u001b[0m\n\u001b[0;32m----> 4\u001b[0;31m \u001b[0;32massert\u001b[0m\u001b[0;34m(\u001b[0m\u001b[0mx\u001b[0m \u001b[0;34m>=\u001b[0m \u001b[0;36m0\u001b[0m\u001b[0;34m)\u001b[0m\u001b[0;34m,\u001b[0m \u001b[0;34m\"x is not positive\"\u001b[0m\u001b[0;34m\u001b[0m\u001b[0;34m\u001b[0m\u001b[0m\n\u001b[0m\u001b[1;32m      5\u001b[0m \u001b[0;32mif\u001b[0m \u001b[0mx\u001b[0m \u001b[0;34m>\u001b[0m \u001b[0mmy_num\u001b[0m\u001b[0;34m:\u001b[0m\u001b[0;34m\u001b[0m\u001b[0;34m\u001b[0m\u001b[0m\n\u001b[1;32m      6\u001b[0m     \u001b[0;32mraise\u001b[0m \u001b[0mException\u001b[0m\u001b[0;34m(\u001b[0m\u001b[0;34m\"Number too large!!\"\u001b[0m\u001b[0;34m)\u001b[0m\u001b[0;34m\u001b[0m\u001b[0;34m\u001b[0m\u001b[0m\n",
      "\u001b[0;31mAssertionError\u001b[0m: x is not positive"
     ]
    }
   ],
   "source": [
    "# we cam also use the raise & assert keyword in order to force an exception to occur when a certain condition is met.\n",
    "my_num = 10\n",
    "x = int(input(\"Enter the number: \"))\n",
    "assert(x >= 0), \"x is not positive\"\n",
    "if x > my_num:\n",
    "    raise Exception(\"Number too large!!\")\n",
    "else:\n",
    "    print(x)  "
   ]
  },
  {
   "cell_type": "code",
   "execution_count": 28,
   "metadata": {},
   "outputs": [
    {
     "ename": "Exception",
     "evalue": "Number too large!!",
     "output_type": "error",
     "traceback": [
      "\u001b[0;31m---------------------------------------------------------------------------\u001b[0m",
      "\u001b[0;31mException\u001b[0m                                 Traceback (most recent call last)",
      "\u001b[0;32m/var/folders/lq/gsh3xl_j3_355v403cm3hq2r0000gn/T/ipykernel_2583/2583972065.py\u001b[0m in \u001b[0;36m<module>\u001b[0;34m\u001b[0m\n\u001b[1;32m      4\u001b[0m \u001b[0;32massert\u001b[0m\u001b[0;34m(\u001b[0m\u001b[0mx\u001b[0m \u001b[0;34m>=\u001b[0m \u001b[0;36m0\u001b[0m\u001b[0;34m)\u001b[0m\u001b[0;34m,\u001b[0m \u001b[0;34m\"x is not positive\"\u001b[0m\u001b[0;34m\u001b[0m\u001b[0;34m\u001b[0m\u001b[0m\n\u001b[1;32m      5\u001b[0m \u001b[0;32mif\u001b[0m \u001b[0mx\u001b[0m \u001b[0;34m>\u001b[0m \u001b[0mmy_num\u001b[0m\u001b[0;34m:\u001b[0m\u001b[0;34m\u001b[0m\u001b[0;34m\u001b[0m\u001b[0m\n\u001b[0;32m----> 6\u001b[0;31m     \u001b[0;32mraise\u001b[0m \u001b[0mException\u001b[0m\u001b[0;34m(\u001b[0m\u001b[0;34m\"Number too large!!\"\u001b[0m\u001b[0;34m)\u001b[0m\u001b[0;34m\u001b[0m\u001b[0;34m\u001b[0m\u001b[0m\n\u001b[0m\u001b[1;32m      7\u001b[0m \u001b[0;32melse\u001b[0m\u001b[0;34m:\u001b[0m\u001b[0;34m\u001b[0m\u001b[0;34m\u001b[0m\u001b[0m\n\u001b[1;32m      8\u001b[0m     \u001b[0mprint\u001b[0m\u001b[0;34m(\u001b[0m\u001b[0mx\u001b[0m\u001b[0;34m)\u001b[0m\u001b[0;34m\u001b[0m\u001b[0;34m\u001b[0m\u001b[0m\n",
      "\u001b[0;31mException\u001b[0m: Number too large!!"
     ]
    }
   ],
   "source": [
    "# continuing with the above example.\n",
    "my_num = 10\n",
    "x = int(input(\"Enter the number: \"))\n",
    "assert(x >= 0), \"x is not positive\"\n",
    "if x > my_num:\n",
    "    raise Exception(\"Number too large!!\")\n",
    "else:\n",
    "    print(x)"
   ]
  },
  {
   "cell_type": "code",
   "execution_count": 14,
   "metadata": {},
   "outputs": [
    {
     "name": "stdout",
     "output_type": "stream",
     "text": [
      "The entered value is not an integer: invalid literal for int() with base 10: 'r'\n",
      "program ends!!\n"
     ]
    }
   ],
   "source": [
    "# in case we need to catch different exceptions.\n",
    "try:\n",
    "    n1 = int(input(\"Enter n1: \"))\n",
    "    n2 = int(input(\"Enter n2: \"))\n",
    "    result = n1 / n2\n",
    "    print(result)\n",
    "except ZeroDivisionError:\n",
    "    print(\"ZeroDivisionError occurred:\", e)\n",
    "except ValueError as e:\n",
    "    print(\"The entered value is not an integer:\", e)    \n",
    "\n",
    "print(\"program ends!!\")"
   ]
  },
  {
   "cell_type": "code",
   "execution_count": 17,
   "metadata": {},
   "outputs": [
    {
     "name": "stdout",
     "output_type": "stream",
     "text": [
      "5.0\n",
      "The index number is out of range!!\n",
      "program ends!!\n"
     ]
    }
   ],
   "source": [
    "# another example of catching different exceptions.\n",
    "try:\n",
    "    n1 = int(input(\"Enter n1: \"))\n",
    "    n2 = int(input(\"Enter n2: \"))\n",
    "    result = n1 / n2\n",
    "    print(result)\n",
    "\n",
    "    my_list = [1, 2, 3, 4, 5]\n",
    "    i = int(input(\"Enter index number: \"))\n",
    "    print(my_list[i])\n",
    "except ZeroDivisionError:\n",
    "    print(\"The value of n2 entered cannot be zero!!\")\n",
    "except ValueError:\n",
    "    print(\"The entered value is not an integer!!\")\n",
    "except IndexError:\n",
    "    print(\"The index number is out of range!!\")\n",
    "\n",
    "print(\"program ends!!\")"
   ]
  },
  {
   "cell_type": "code",
   "execution_count": 29,
   "metadata": {},
   "outputs": [
    {
     "name": "stdout",
     "output_type": "stream",
     "text": [
      "You cannot add an integer with a string!!\n",
      "Need to re-execute the program!!\n"
     ]
    }
   ],
   "source": [
    "# there is also the finally block which is always executed regardless of the exception.\n",
    "# Syntax:\n",
    "'''\n",
    "try:\n",
    "    code that may cause exception\n",
    "except:\n",
    "    code to run in case the exception occurs\n",
    "finally:\n",
    "    this code will always be returned regardless of the exception encountered        \n",
    "'''\n",
    "\n",
    "# let us see an example.\n",
    "try:\n",
    "    x = 10\n",
    "    y = r\n",
    "    result = x + y\n",
    "except:\n",
    "    print(\"You cannot add an integer with a string!!\")\n",
    "finally:\n",
    "    print(\"Need to re-execute the program!!\")"
   ]
  },
  {
   "cell_type": "markdown",
   "metadata": {},
   "source": [
    "##### User Defined Exception in Python"
   ]
  },
  {
   "cell_type": "code",
   "execution_count": 31,
   "metadata": {},
   "outputs": [
    {
     "ename": "CustomizedError",
     "evalue": "",
     "output_type": "error",
     "traceback": [
      "\u001b[0;31m---------------------------------------------------------------------------\u001b[0m",
      "\u001b[0;31mCustomizedError\u001b[0m                           Traceback (most recent call last)",
      "\u001b[0;32m/var/folders/lq/gsh3xl_j3_355v403cm3hq2r0000gn/T/ipykernel_2583/4012564537.py\u001b[0m in \u001b[0;36m<module>\u001b[0;34m\u001b[0m\n\u001b[1;32m      5\u001b[0m \u001b[0;34m\u001b[0m\u001b[0m\n\u001b[1;32m      6\u001b[0m \u001b[0;31m# thus this new exception can be raised using the raise statement with an optional error message.\u001b[0m\u001b[0;34m\u001b[0m\u001b[0;34m\u001b[0m\u001b[0;34m\u001b[0m\u001b[0m\n\u001b[0;32m----> 7\u001b[0;31m \u001b[0;32mraise\u001b[0m \u001b[0mCustomizedError\u001b[0m\u001b[0;34m\u001b[0m\u001b[0;34m\u001b[0m\u001b[0m\n\u001b[0m",
      "\u001b[0;31mCustomizedError\u001b[0m: "
     ]
    }
   ],
   "source": [
    "# we can define our own exceptions in order to raise & catch erros in a program.\n",
    "# in the below example we have created a user defined exception 'CustomizedError' which inherits the 'Exception' class.\n",
    "class CustomizedError(Exception):\n",
    "    pass\n",
    "\n",
    "# thus this new exception can be raised using the raise statement with an optional error message. \n",
    "raise CustomizedError"
   ]
  },
  {
   "cell_type": "code",
   "execution_count": 36,
   "metadata": {},
   "outputs": [
    {
     "ename": "out_of_range_error",
     "evalue": "The value entered for x must be less than num!!",
     "output_type": "error",
     "traceback": [
      "\u001b[0;31m---------------------------------------------------------------------------\u001b[0m",
      "\u001b[0;31mout_of_range_error\u001b[0m                        Traceback (most recent call last)",
      "\u001b[0;32m/var/folders/lq/gsh3xl_j3_355v403cm3hq2r0000gn/T/ipykernel_2583/1129257393.py\u001b[0m in \u001b[0;36m<module>\u001b[0;34m\u001b[0m\n\u001b[1;32m      6\u001b[0m \u001b[0mx\u001b[0m \u001b[0;34m=\u001b[0m \u001b[0mint\u001b[0m\u001b[0;34m(\u001b[0m\u001b[0minput\u001b[0m\u001b[0;34m(\u001b[0m\u001b[0;34m\"Enter a value for x: \"\u001b[0m\u001b[0;34m)\u001b[0m\u001b[0;34m)\u001b[0m\u001b[0;34m\u001b[0m\u001b[0;34m\u001b[0m\u001b[0m\n\u001b[1;32m      7\u001b[0m \u001b[0;32mif\u001b[0m \u001b[0mx\u001b[0m \u001b[0;34m>\u001b[0m \u001b[0mnum\u001b[0m \u001b[0;34m:\u001b[0m\u001b[0;34m\u001b[0m\u001b[0;34m\u001b[0m\u001b[0m\n\u001b[0;32m----> 8\u001b[0;31m     \u001b[0;32mraise\u001b[0m \u001b[0mout_of_range_error\u001b[0m\u001b[0;34m(\u001b[0m\u001b[0;34m\"The value entered for x must be less than num!!\"\u001b[0m\u001b[0;34m)\u001b[0m\u001b[0;34m\u001b[0m\u001b[0;34m\u001b[0m\u001b[0m\n\u001b[0m\u001b[1;32m      9\u001b[0m \u001b[0;32melse\u001b[0m\u001b[0;34m:\u001b[0m\u001b[0;34m\u001b[0m\u001b[0;34m\u001b[0m\u001b[0m\n\u001b[1;32m     10\u001b[0m     \u001b[0mprint\u001b[0m\u001b[0;34m(\u001b[0m\u001b[0mx\u001b[0m\u001b[0;34m)\u001b[0m\u001b[0;34m\u001b[0m\u001b[0;34m\u001b[0m\u001b[0m\n",
      "\u001b[0;31mout_of_range_error\u001b[0m: The value entered for x must be less than num!!"
     ]
    }
   ],
   "source": [
    "# lets see through an example.\n",
    "class out_of_range_error(Exception):\n",
    "    pass\n",
    "\n",
    "num = int(input(\"Enter the number: \"))\n",
    "x = int(input(\"Enter a value for x: \"))\n",
    "if x > num :\n",
    "    raise out_of_range_error(\"The value entered for x must be less than num!!\")\n",
    "else:\n",
    "    print(x)"
   ]
  },
  {
   "cell_type": "code",
   "execution_count": null,
   "metadata": {},
   "outputs": [],
   "source": []
  }
 ],
 "metadata": {
  "interpreter": {
   "hash": "31f2aee4e71d21fbe5cf8b01ff0e069b9275f58929596ceb00d14d90e3e16cd6"
  },
  "kernelspec": {
   "display_name": "Python 3.8.9 64-bit",
   "language": "python",
   "name": "python3"
  },
  "language_info": {
   "codemirror_mode": {
    "name": "ipython",
    "version": 3
   },
   "file_extension": ".py",
   "mimetype": "text/x-python",
   "name": "python",
   "nbconvert_exporter": "python",
   "pygments_lexer": "ipython3",
   "version": "3.8.9"
  },
  "orig_nbformat": 4
 },
 "nbformat": 4,
 "nbformat_minor": 2
}
