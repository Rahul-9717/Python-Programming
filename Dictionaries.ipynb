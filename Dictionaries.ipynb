{
 "cells": [
  {
   "cell_type": "markdown",
   "metadata": {},
   "source": [
    "#### **Dictionaries**\n",
    "- A dictionary is a collection which is unordered, changeable & indexed.\n",
    "- A dictionary consists of a collection of key-value pairs.\n",
    "- Each key value pair maps the key to its associated value \n",
    "- A dictionary is written in braces {} where each key is separated from its value by a colon(:) & the items are separated by commas.\n",
    "- Eg : my_dict = {\"name\":\"Max\", \"age\":28, \"city\":\"New York\"}"
   ]
  },
  {
   "cell_type": "markdown",
   "metadata": {},
   "source": [
    "##### Creating a dictionary"
   ]
  },
  {
   "cell_type": "code",
   "execution_count": 1,
   "metadata": {},
   "outputs": [
    {
     "name": "stdout",
     "output_type": "stream",
     "text": [
      "{'name': 'Max', 'age': 28, 'city': 'New York'}\n",
      "<class 'dict'>\n",
      "{'name': 'Lisa', 'age': 27, 'city': 'Boston'}\n",
      "<class 'dict'>\n"
     ]
    }
   ],
   "source": [
    "# create a dictionary with braces.\n",
    "my_dict = {\"name\":\"Max\", \"age\":28, \"city\":\"New York\"}\n",
    "print(my_dict)\n",
    "print(type(my_dict))\n",
    "\n",
    "# using the dict constructor - no braces are required.\n",
    "my_dict_2 = dict(name=\"Lisa\", age=27, city=\"Boston\")\n",
    "print(my_dict_2)\n",
    "print(type(my_dict_2))"
   ]
  },
  {
   "cell_type": "markdown",
   "metadata": {},
   "source": [
    "##### Accessing elements of a Dictionary"
   ]
  },
  {
   "cell_type": "code",
   "execution_count": 2,
   "metadata": {},
   "outputs": [
    {
     "name": "stdout",
     "output_type": "stream",
     "text": [
      "Max\n",
      "28\n",
      "New York\n",
      "Max\n",
      "28\n",
      "New York\n"
     ]
    }
   ],
   "source": [
    "# elements of a dictionary are accessed through key as the elements in a dictionary are unordered using the [] syntax.\n",
    "my_dict = {\"name\":\"Max\", \"age\":28, \"city\":\"New York\"}\n",
    "print(my_dict['name'])\n",
    "print(my_dict['age'])\n",
    "print(my_dict['city'])\n",
    "\n",
    "# access elements through key using get() method.\n",
    "print(my_dict.get('name'))\n",
    "print(my_dict.get('age'))\n",
    "print(my_dict.get('city'))"
   ]
  },
  {
   "cell_type": "markdown",
   "metadata": {},
   "source": [
    "##### Adding & changing elements of a Dictionary"
   ]
  },
  {
   "cell_type": "code",
   "execution_count": 3,
   "metadata": {},
   "outputs": [
    {
     "name": "stdout",
     "output_type": "stream",
     "text": [
      "{'name': 'Max', 'age': 28, 'city': 'New York', 'email': 'max@xyz.com'}\n",
      "{'name': 'Max', 'age': 28, 'city': 'New York', 'email': 'coolmax@xyz.com'}\n"
     ]
    }
   ],
   "source": [
    "# add a new key.\n",
    "my_dict = {\"name\":\"Max\", \"age\":28, \"city\":\"New York\"}\n",
    "my_dict['email'] = \"max@xyz.com\"\n",
    "print(my_dict)\n",
    "\n",
    "# overwrite an existing key.\n",
    "my_dict[\"email\"] = \"coolmax@xyz.com\"\n",
    "print(my_dict)"
   ]
  },
  {
   "cell_type": "markdown",
   "metadata": {},
   "source": [
    "##### Deleting elements of a Dictionary"
   ]
  },
  {
   "cell_type": "code",
   "execution_count": 4,
   "metadata": {},
   "outputs": [
    {
     "name": "stdout",
     "output_type": "stream",
     "text": [
      "{'name': 'Max', 'age': 28, 'city': 'New York'}\n",
      "28\n",
      "{'name': 'Max', 'city': 'New York'}\n",
      "{}\n"
     ]
    }
   ],
   "source": [
    "# delete a key value pair using del keyword.\n",
    "my_dict = {'name': 'Max', 'age': 28, 'city': 'New York', 'email': 'max@xyz.com'}\n",
    "del my_dict['email']\n",
    "print(my_dict)\n",
    "\n",
    "# delete a key value pair using pop() method.\n",
    "pop_value = my_dict.pop('age')\n",
    "print(pop_value)\n",
    "print(my_dict)\n",
    "\n",
    "# deleting all the elements using clear() method - returns an empty dictionary.\n",
    "my_dict.clear()\n",
    "print(my_dict)"
   ]
  },
  {
   "cell_type": "markdown",
   "metadata": {},
   "source": [
    "##### Dictionary membership test"
   ]
  },
  {
   "cell_type": "code",
   "execution_count": 5,
   "metadata": {},
   "outputs": [
    {
     "name": "stdout",
     "output_type": "stream",
     "text": [
      "True\n",
      "True\n",
      "Max\n",
      "No such key found\n"
     ]
    }
   ],
   "source": [
    "# checks for the existence of keys in the dictionary.\n",
    "my_dict = {\"name\":\"Max\", \"age\":28, \"city\":\"New York\"}\n",
    "print(\"age\" in my_dict)\n",
    "print(\"email\" not in my_dict)\n",
    "\n",
    "# using if..in..\n",
    "if \"name\" in my_dict:\n",
    "    print(my_dict['name'])\n",
    "\n",
    "# using try except.\n",
    "try:\n",
    "    print(my_dict['email'])\n",
    "except KeyError:\n",
    "    print(\"No such key found\")"
   ]
  },
  {
   "cell_type": "markdown",
   "metadata": {},
   "source": [
    "##### Looping through Dictionary"
   ]
  },
  {
   "cell_type": "code",
   "execution_count": 6,
   "metadata": {},
   "outputs": [
    {
     "name": "stdout",
     "output_type": "stream",
     "text": [
      "name Max\n",
      "age 28\n",
      "city New York\n"
     ]
    }
   ],
   "source": [
    "# loop over keys.\n",
    "for key in my_dict:\n",
    "    print(key, my_dict[key])"
   ]
  },
  {
   "cell_type": "code",
   "execution_count": 7,
   "metadata": {},
   "outputs": [
    {
     "name": "stdout",
     "output_type": "stream",
     "text": [
      "name\n",
      "age\n",
      "city\n",
      "Max\n",
      "28\n",
      "New York\n"
     ]
    }
   ],
   "source": [
    "# loop over keys using keys() method.\n",
    "for key in my_dict.keys():\n",
    "    print(key)\n",
    "\n",
    "# loop over keys using values() method.\n",
    "for value in my_dict.values():\n",
    "    print(value)"
   ]
  },
  {
   "cell_type": "code",
   "execution_count": 8,
   "metadata": {},
   "outputs": [
    {
     "name": "stdout",
     "output_type": "stream",
     "text": [
      "name Max\n",
      "age 28\n",
      "city New York\n"
     ]
    }
   ],
   "source": [
    "# loop over both keys & values using items() method.\n",
    "for key, value in my_dict.items():\n",
    "    print(key, value)"
   ]
  },
  {
   "cell_type": "markdown",
   "metadata": {},
   "source": [
    "##### Copying a Dictionary"
   ]
  },
  {
   "cell_type": "code",
   "execution_count": 9,
   "metadata": {},
   "outputs": [
    {
     "name": "stdout",
     "output_type": "stream",
     "text": [
      "{'name': 'Lisa', 'age': 28, 'city': 'New York'}\n",
      "{'name': 'Lisa', 'age': 28, 'city': 'New York'}\n"
     ]
    }
   ],
   "source": [
    "dict_org = {\"name\":\"Max\", \"age\":28, \"city\":\"New York\"}\n",
    "\n",
    "# this just copies the reference to the dict, so be careful..!!\n",
    "dict_copy = dict_org\n",
    "\n",
    "# now modifying the copy also affects the original.\n",
    "dict_copy['name'] = \"Lisa\"\n",
    "print(dict_copy)\n",
    "print(dict_org)"
   ]
  },
  {
   "cell_type": "code",
   "execution_count": 10,
   "metadata": {},
   "outputs": [
    {
     "name": "stdout",
     "output_type": "stream",
     "text": [
      "{'name': 'Lisa', 'age': 28, 'city': 'New York'}\n",
      "{'name': 'Max', 'age': 28, 'city': 'New York'}\n"
     ]
    }
   ],
   "source": [
    "# use copy() to actually copy the dictionary.\n",
    "dict_org = {\"name\":\"Max\", \"age\":28, \"city\":\"New York\"}\n",
    "dict_copy = dict_org.copy()\n",
    "\n",
    "# now modifying the copy does not affects the original.\n",
    "dict_copy['name'] = \"Lisa\"\n",
    "print(dict_copy)\n",
    "print(dict_org)\n"
   ]
  },
  {
   "cell_type": "code",
   "execution_count": 11,
   "metadata": {},
   "outputs": [
    {
     "name": "stdout",
     "output_type": "stream",
     "text": [
      "{'name': 'Lisa', 'age': 28, 'city': 'New York'}\n",
      "{'name': 'Max', 'age': 28, 'city': 'New York'}\n"
     ]
    }
   ],
   "source": [
    "# use dict(x) to actually copy the dictionary.\n",
    "dict_org = {\"name\":\"Max\", \"age\":28, \"city\":\"New York\"}\n",
    "dict_copy = dict(dict_org)\n",
    "\n",
    "# now modifying the copy does not affects the original.\n",
    "dict_copy['name'] = \"Lisa\"\n",
    "print(dict_copy)\n",
    "print(dict_org)"
   ]
  },
  {
   "cell_type": "markdown",
   "metadata": {},
   "source": [
    "##### Merging two Dictionaries"
   ]
  },
  {
   "cell_type": "code",
   "execution_count": 12,
   "metadata": {},
   "outputs": [
    {
     "name": "stdout",
     "output_type": "stream",
     "text": [
      "{'name': 'Lisa', 'age': 27, 'email': 'max@xyz.com', 'city': 'Boston', 'gender': 'Female'}\n"
     ]
    }
   ],
   "source": [
    "# merge 2 dicts using the update() method, here existing keys are overwritten & new keys are added to the merged dictionary.\n",
    "my_dict = {'name': 'Max', 'age': 28, 'email': 'max@xyz.com'}\n",
    "my_dict_2 = dict(name=\"Lisa\", age=27, city=\"Boston\", gender = \"Female\")\n",
    "\n",
    "my_dict.update(my_dict_2)\n",
    "print(my_dict)"
   ]
  },
  {
   "cell_type": "markdown",
   "metadata": {},
   "source": [
    "##### Possible key types\n",
    "- Any immutable type like strings, numbers or tuples can be used as a key.\n",
    "- A list cannot be used as a key as it is not immutable."
   ]
  },
  {
   "cell_type": "code",
   "execution_count": 13,
   "metadata": {},
   "outputs": [
    {
     "name": "stdout",
     "output_type": "stream",
     "text": [
      "9 36 81\n",
      "{(8,): 15}\n",
      "15\n"
     ]
    }
   ],
   "source": [
    "# use numbers as key, but be careful..!!\n",
    "my_dict = {3: 9, 6: 36, 9: 81}\n",
    "# do not mistake the keys as indices of a list.\n",
    "print(my_dict[3], my_dict[6], my_dict[9])\n",
    "\n",
    "# use a tuple as key.\n",
    "my_tuple = (8,)\n",
    "my_dict = {my_tuple: 15}\n",
    "print(my_dict)\n",
    "print(my_dict[my_tuple])"
   ]
  },
  {
   "cell_type": "markdown",
   "metadata": {},
   "source": [
    "##### Nested Dictionaries"
   ]
  },
  {
   "cell_type": "code",
   "execution_count": 14,
   "metadata": {},
   "outputs": [
    {
     "name": "stdout",
     "output_type": "stream",
     "text": [
      "{'dictA': {'name': 'Max', 'age': 28}, 'dictB': {'name': 'Alex', 'age': 25}}\n"
     ]
    }
   ],
   "source": [
    "# The values can also be container types e.g. lists, tuples, dictionaries.\n",
    "my_dict_1 = {\"name\": \"Max\", \"age\": 28}\n",
    "my_dict_2 = {\"name\": \"Alex\", \"age\": 25}\n",
    "nested_dict = {\"dictA\": my_dict_1, \"dictB\": my_dict_2}\n",
    "print(nested_dict)"
   ]
  },
  {
   "cell_type": "code",
   "execution_count": 15,
   "metadata": {},
   "outputs": [
    {
     "name": "stdout",
     "output_type": "stream",
     "text": [
      "28\n",
      "Alex\n"
     ]
    }
   ],
   "source": [
    "# access the elements using the [] syntax.\n",
    "print(nested_dict['dictA']['age'])\n",
    "print(nested_dict['dictB']['name'])"
   ]
  },
  {
   "cell_type": "code",
   "execution_count": 16,
   "metadata": {},
   "outputs": [
    {
     "name": "stdout",
     "output_type": "stream",
     "text": [
      "{'dictA': {'name': 'Max', 'age': 30}, 'dictB': {'name': 'Lisa', 'age': 25}}\n",
      "{'dictA': {'name': 'Max', 'age': 30, 'gender': 'Male'}, 'dictB': {'name': 'Lisa', 'age': 25, 'gender': 'Female'}}\n",
      "{'dictA': {'name': 'Max', 'age': 30, 'gender': 'Male'}, 'dictB': {'name': 'Lisa', 'age': 25, 'gender': 'Female'}, 'dictC': {'name': 'Lindsay', 'age': 29, 'gender': 'Female'}}\n"
     ]
    }
   ],
   "source": [
    "nested_dict = {'dictA': {'name': 'Max', 'age': 28},\n",
    "               'dictB': {'name': 'Alex', 'age': 25}}\n",
    "\n",
    "# change elements in a nested dictionary.\n",
    "nested_dict['dictA']['age'] = 30\n",
    "nested_dict['dictB']['name'] = \"Lisa\"\n",
    "print(nested_dict)\n",
    "\n",
    "# adding elements in a nested dictionary.\n",
    "nested_dict['dictA']['gender'] = \"Male\" \n",
    "nested_dict['dictB']['gender'] = \"Female\"\n",
    "print(nested_dict)\n",
    "\n",
    "# add another dictionary to a nested dictionary.\n",
    "nested_dict['dictC'] = {}\n",
    "nested_dict['dictC']['name'] = \"Lindsay\"\n",
    "nested_dict['dictC']['age'] = 29\n",
    "nested_dict['dictC']['gender'] = \"Female\"\n",
    "print(nested_dict)\n"
   ]
  },
  {
   "cell_type": "code",
   "execution_count": 17,
   "metadata": {},
   "outputs": [
    {
     "name": "stdout",
     "output_type": "stream",
     "text": [
      "{'dictA': {'name': 'Max', 'age': 30, 'gender': 'Male'}, 'dictB': {'name': 'Lisa', 'age': 25, 'gender': 'Female'}, 'dictC': {'name': 'Lindsay'}}\n",
      "{'dictA': {'name': 'Max', 'age': 30, 'gender': 'Male'}, 'dictB': {'name': 'Lisa', 'age': 25, 'gender': 'Female'}}\n"
     ]
    }
   ],
   "source": [
    "nested_dict = {'dictA': {'name': 'Max', 'age': 30, 'gender': 'Male'}, \n",
    "               'dictB': {'name': 'Lisa', 'age': 25, 'gender': 'Female'},\n",
    "               'dictC': {'name': 'Lindsay', 'age': 29, 'gender': 'Female'}}\n",
    "\n",
    "# delete elements from a nested dictionary.\n",
    "del nested_dict['dictC']['gender']\n",
    "del nested_dict['dictC']['age']\n",
    "print(nested_dict)\n",
    "\n",
    "# delete dictionary from a nested dictionary.\n",
    "del nested_dict['dictC']\n",
    "print(nested_dict)"
   ]
  },
  {
   "cell_type": "code",
   "execution_count": 18,
   "metadata": {},
   "outputs": [
    {
     "name": "stdout",
     "output_type": "stream",
     "text": [
      "dict_items([('dictA', {'name': 'Max', 'age': 28, 'gender': 'Male'}), ('dictB', {'name': 'Alex', 'age': 25, 'gender': 'Female'})])\n",
      "\n",
      "id: dictA\n",
      "name: Max\n",
      "age: 28\n",
      "gender: Male\n",
      "\n",
      "id: dictB\n",
      "name: Alex\n",
      "age: 25\n",
      "gender: Female\n"
     ]
    }
   ],
   "source": [
    "# iterate through a nested dictionary using nested for in loop.\n",
    "nested_dict = {'dictA': {'name': 'Max', 'age': 28, 'gender': 'Male'},\n",
    "               'dictB': {'name': 'Alex', 'age': 25, 'gender': 'Female'}}\n",
    "\n",
    "print(nested_dict.items())\n",
    "\n",
    "for id, info in nested_dict.items():\n",
    "    print(\"\\nid:\",id)\n",
    "    for key in info:\n",
    "        print(key + \":\", info[key])"
   ]
  },
  {
   "cell_type": "markdown",
   "metadata": {},
   "source": [
    "##### Dictionary Comprehension\n",
    "- It is an elegant & concise way to create dictionaries.\n",
    "- Syntax : {key: value for vars in iterable}"
   ]
  },
  {
   "cell_type": "code",
   "execution_count": 19,
   "metadata": {},
   "outputs": [
    {
     "name": "stdout",
     "output_type": "stream",
     "text": [
      "{1: 1, 2: 4, 3: 9, 4: 16, 5: 25, 6: 36, 7: 49, 8: 64, 9: 81, 10: 100}\n",
      "<class 'dict'>\n",
      "{1: 1, 2: 4, 3: 9, 4: 16, 5: 25, 6: 36, 7: 49, 8: 64, 9: 81, 10: 100}\n",
      "<class 'dict'>\n"
     ]
    }
   ],
   "source": [
    "# creating dictionary using for in loop.\n",
    "squared_dict = {}\n",
    "for num in range (1, 11):\n",
    "    squared_dict[num] = num * num\n",
    "print(squared_dict)\n",
    "print(type(squared_dict))\n",
    "\n",
    "# creating dictionary using dictionary comprehension.\n",
    "squared_dict = {num: num * num for num in range(1, 11)}\n",
    "print(squared_dict)\n",
    "print(type(squared_dict))"
   ]
  },
  {
   "cell_type": "code",
   "execution_count": 20,
   "metadata": {},
   "outputs": [
    {
     "name": "stdout",
     "output_type": "stream",
     "text": [
      "{'milk': 0.7752, 'coffee': 1.9, 'bread': 1.9}\n"
     ]
    }
   ],
   "source": [
    "# Example : usage of dictionary comprehension.\n",
    "old_price = {\"milk\": 1.02, \"coffee\": 2.5, \"bread\": 2.5}\n",
    "dollar_to_pound = 0.76\n",
    "new_price = {item: value * dollar_to_pound for (item, value)in old_price.items()}\n",
    "print(new_price)"
   ]
  },
  {
   "cell_type": "code",
   "execution_count": 24,
   "metadata": {},
   "outputs": [
    {
     "name": "stdout",
     "output_type": "stream",
     "text": [
      "{'jack': 38, 'michael': 48}\n",
      "{'john': 33}\n",
      "{'jack': 'young', 'michael': 'old', 'guido': 'old', 'john': 'young'}\n"
     ]
    }
   ],
   "source": [
    "# conditionals in dictionary comprehension : if..\n",
    "original_dict = {'jack': 38, 'michael': 48, 'guido': 57, 'john': 33}\n",
    "even_dict = {key: value for (key, value) in original_dict.items() if value %2 == 0}\n",
    "print(even_dict)\n",
    "\n",
    "# conditionals in dictionary comprehension : multiple if..\n",
    "new_dict = {k: v for (k, v) in original_dict.items() if v % 2 != 0 if v < 40}\n",
    "print(new_dict)\n",
    "\n",
    "# conditionals in dictionary comprehension : if else..\n",
    "new_dict = {k: ('old' if v > 40 else 'young') for (k, v) in original_dict.items()}\n",
    "print(new_dict)"
   ]
  },
  {
   "cell_type": "code",
   "execution_count": 31,
   "metadata": {},
   "outputs": [
    {
     "name": "stdout",
     "output_type": "stream",
     "text": [
      "{11: {1: 11, 2: 22, 3: 33, 4: 44, 5: 55}, 12: {1: 12, 2: 24, 3: 36, 4: 48, 5: 60}, 13: {1: 13, 2: 26, 3: 39, 4: 52, 5: 65}, 14: {1: 14, 2: 28, 3: 42, 4: 56, 5: 70}, 15: {1: 15, 2: 30, 3: 45, 4: 60, 5: 75}}\n",
      "{11: {1: 11, 2: 22, 3: 33, 4: 44, 5: 55}, 12: {1: 12, 2: 24, 3: 36, 4: 48, 5: 60}, 13: {1: 13, 2: 26, 3: 39, 4: 52, 5: 65}, 14: {1: 14, 2: 28, 3: 42, 4: 56, 5: 70}, 15: {1: 15, 2: 30, 3: 45, 4: 60, 5: 75}}\n",
      "{11: {1: 11, 2: 22, 3: 33, 4: 44, 5: 55}, 12: {1: 12, 2: 24, 3: 36, 4: 48, 5: 60}, 13: {1: 13, 2: 26, 3: 39, 4: 52, 5: 65}, 14: {1: 14, 2: 28, 3: 42, 4: 56, 5: 70}, 15: {1: 15, 2: 30, 3: 45, 4: 60, 5: 75}}\n"
     ]
    }
   ],
   "source": [
    "# nested dictionary comprehension.\n",
    "dictionary = {k1:{k2: k1 * k2 for k2 in range(1, 6)} for k1 in range(11, 16)}\n",
    "print(dictionary)\n",
    "\n",
    "# the above code can also be done using for in loop with dictionary comprehension.\n",
    "dictionary = {}\n",
    "for k1 in range(11, 16):\n",
    "    dictionary[k1] = {k2: k1 * k2 for k2 in range(1, 6)}\n",
    "print(dictionary)  \n",
    "\n",
    "# this can be done using for in loop only.\n",
    "dictionary = {}\n",
    "for k1 in range(11, 16):\n",
    "    dictionary[k1] = {}\n",
    "    for k2 in range(1, 6):\n",
    "        dictionary[k1][k2] = k1 * k2\n",
    "print(dictionary)        "
   ]
  }
 ],
 "metadata": {
  "interpreter": {
   "hash": "31f2aee4e71d21fbe5cf8b01ff0e069b9275f58929596ceb00d14d90e3e16cd6"
  },
  "kernelspec": {
   "display_name": "Python 3.8.9 64-bit",
   "language": "python",
   "name": "python3"
  },
  "language_info": {
   "codemirror_mode": {
    "name": "ipython",
    "version": 3
   },
   "file_extension": ".py",
   "mimetype": "text/x-python",
   "name": "python",
   "nbconvert_exporter": "python",
   "pygments_lexer": "ipython3",
   "version": "3.8.9"
  },
  "orig_nbformat": 4
 },
 "nbformat": 4,
 "nbformat_minor": 2
}
