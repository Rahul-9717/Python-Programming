{
 "cells": [
  {
   "cell_type": "markdown",
   "metadata": {},
   "source": [
    "#### **Python Date & Time**\n",
    "- In order to work with Date & Time, Python has a module named *datetime*.\n",
    "- we can perform various manipulation tasks using date & time with this module."
   ]
  },
  {
   "cell_type": "code",
   "execution_count": 1,
   "metadata": {},
   "outputs": [],
   "source": [
    "# importing the datetime module.\n",
    "import datetime as dt"
   ]
  },
  {
   "cell_type": "markdown",
   "metadata": {},
   "source": [
    "##### Classes in datetime module\n",
    "- datetime module has three popular classes to work with date, time, date & time both.\n",
    "- The name of these classes are *date class, time class & datetime class*."
   ]
  },
  {
   "cell_type": "code",
   "execution_count": 26,
   "metadata": {},
   "outputs": [
    {
     "name": "stdout",
     "output_type": "stream",
     "text": [
      "2022-01-14\n",
      "2021-12-31\n",
      "Year: 2022\n",
      "Month: 1\n",
      "Day: 14\n",
      "2019-05-15\n"
     ]
    }
   ],
   "source": [
    "# some of the most common tasks performed using date class of the datetime module.\n",
    "\n",
    "# getting the current date.\n",
    "date_today = dt.date.today() # here we have used today() method belonging to the date class inside the datetime module.\n",
    "print(date_today)\n",
    "\n",
    "# creating date object that can store year, month, day.\n",
    "my_date = dt.date(2021, 12, 31)\n",
    "print(my_date)\n",
    "\n",
    "# we can also access the year, month & day separately from a given date.\n",
    "date_today = dt.date.today()\n",
    "print(\"Year:\", date_today.year)\n",
    "print(\"Month:\", date_today.month)\n",
    "print(\"Day:\", date_today.day)\n",
    "\n",
    "# in order to get date froma timestamp, we use the fromtimestamp() method.\n",
    "time_stamp = dt.date.fromtimestamp(1557893452)\n",
    "print(time_stamp)\n"
   ]
  },
  {
   "cell_type": "code",
   "execution_count": 9,
   "metadata": {},
   "outputs": [
    {
     "name": "stdout",
     "output_type": "stream",
     "text": [
      "11:50:40.047789\n",
      "Hours: 11\n",
      "Minutes: 50\n",
      "Seconds: 40\n",
      "Microseconds: 47789\n"
     ]
    }
   ],
   "source": [
    "# some of the most common tasks performed using time class of the datetime module.\n",
    "\n",
    "# creating time object that can store hours, minutes, seconds & microseconds.\n",
    "my_time = dt.time(11, 50, 40, 47789)\n",
    "print(my_time)\n",
    "\n",
    "# we can also access hours, minutes, seconds & microseconds separately from a given time.\n",
    "print(\"Hours:\", my_time.hour)\n",
    "print(\"Minutes:\", my_time.minute)\n",
    "print(\"Seconds:\", my_time.second)\n",
    "print(\"Microseconds:\", my_time.microsecond)"
   ]
  },
  {
   "cell_type": "code",
   "execution_count": 28,
   "metadata": {},
   "outputs": [
    {
     "name": "stdout",
     "output_type": "stream",
     "text": [
      "2022-01-11 10:45:55.045577\n",
      "2022-01-11\n",
      "10:45:55.045577\n",
      "Year: 2022\n",
      "Month: 1\n",
      "Day: 11\n",
      "Hours: 10\n",
      "Minutes: 45\n",
      "Seconds: 55\n",
      "Microseconds: 45577\n",
      "2022-01-14 12:34:04.902152\n",
      "1641878155.045577\n"
     ]
    }
   ],
   "source": [
    "# some of the most common tasks performed using datetime class of the datetime module.\n",
    "\n",
    "# creating a datetime object containing both date & time.\n",
    "my_datetime = dt.datetime(2022, 1, 11, 10, 45, 55, 45577)\n",
    "print(my_datetime)\n",
    "\n",
    "# in order to get the date & time separately from the date time created, we will use the date() method.\n",
    "date_only = my_datetime.date()\n",
    "print(date_only)\n",
    "\n",
    "time_only = my_datetime.time()\n",
    "print(time_only)\n",
    "\n",
    "# we can also access the individual attributes of date & time separately as well similar to the previous examples.\n",
    "print(\"Year:\", my_datetime.year)\n",
    "print(\"Month:\", my_datetime.month)\n",
    "print(\"Day:\", my_datetime.day)\n",
    "print(\"Hours:\", my_datetime.hour)\n",
    "print(\"Minutes:\", my_datetime.minute)\n",
    "print(\"Seconds:\", my_datetime.second)\n",
    "print(\"Microseconds:\", my_datetime.microsecond)\n",
    "\n",
    "# we can get the current date & time using the now() method.\n",
    "datetime_now = dt.datetime.now()\n",
    "print(datetime_now)\n",
    "\n",
    "# we can also get the timestamp from a datetime object.\n",
    "my_datetime = dt.datetime(2022, 1, 11, 10, 45, 55, 45577)\n",
    "time_stamp = my_datetime.timestamp()\n",
    "print(time_stamp)"
   ]
  },
  {
   "cell_type": "markdown",
   "metadata": {},
   "source": [
    "##### The datetime.timedelta Object\n",
    "- represents the difference between two dates or times."
   ]
  },
  {
   "cell_type": "code",
   "execution_count": 37,
   "metadata": {},
   "outputs": [
    {
     "name": "stdout",
     "output_type": "stream",
     "text": [
      "-379 days, 11:11:27.591537\n",
      "<class 'datetime.timedelta'>\n",
      "14 days, 0:00:00\n",
      "2022-01-28\n",
      "25 days, 12:48:32.409024\n",
      "2022-02-02 11:11:27.590976\n",
      "11 days, 7:00:44.034567\n",
      "Total Seconds: 975644.034567\n"
     ]
    }
   ],
   "source": [
    "# let us demonstrate how timedelta object works.\n",
    "# below example showcases the time difference between the previous new year & now.\n",
    "prev_new_year = dt.datetime(2021, 1, 1)\n",
    "time_now = dt.datetime.now()\n",
    "time_span = prev_new_year - time_now\n",
    "print(time_span)\n",
    "print(type(time_span)) # thus the difference between two datetimes is a timedelta object.\n",
    "\n",
    "# the timedelta object can also be added to or subtracted from datetime objects in order to create new datetime objects.\n",
    "date1 = dt.date(2021, 12, 31)\n",
    "date2 = dt.date.today()\n",
    "diff = date2 - date1\n",
    "print(diff)\n",
    "new_date = dt.date.today() + diff\n",
    "print(new_date)\n",
    "\n",
    "date1 = dt.datetime(2021, 12, 20)\n",
    "date2 = dt.datetime.now()\n",
    "diff = date2 - date1\n",
    "print(diff)\n",
    "past_date = dt.datetime(2022, 2, 28) - diff\n",
    "print(past_date)\n",
    "\n",
    "# in order to get the overall time duration in a seconds.\n",
    "my_time = dt.timedelta(days=11, hours=7, seconds=44, microseconds=34567)\n",
    "print(my_time)\n",
    "print(\"Total Seconds:\", my_time.total_seconds())"
   ]
  },
  {
   "cell_type": "markdown",
   "metadata": {},
   "source": [
    "##### The strftime() Method\n",
    "- This method returns a string which represents date & time in a custom format from a given datetime object.\n",
    "- The formatting varies depending on region. for eg: in US we have mm/dd/yyyy & in UK we have dd/mm/yyyy."
   ]
  },
  {
   "cell_type": "code",
   "execution_count": 42,
   "metadata": {},
   "outputs": [
    {
     "name": "stdout",
     "output_type": "stream",
     "text": [
      "2022-01-14 13:17:55.120549\n",
      "Friday, January 14, 2022\n",
      "Jan 14, 01PM\n",
      "01-14-2022, 13:17:55\n"
     ]
    }
   ],
   "source": [
    "# showcasing the date & time in a custom specific format.\n",
    "datetime_now = dt.datetime.now()\n",
    "print(datetime_now)\n",
    "formatted_date = datetime_now.strftime(\"%A, %B %d, %Y\")\n",
    "print(formatted_date)\n",
    "\n",
    "# we have other formats as well.\n",
    "formatted_date = datetime_now.strftime(\"%b %-d, %I%p\")\n",
    "print(formatted_date)\n",
    "\n",
    "formatted_date = datetime_now.strftime(\"%m-%d-%Y, %H:%M:%S\")\n",
    "print(formatted_date)\n",
    "\n",
    "\n",
    "# we have got different format codes in order to format the datetime objects in a certain format. Below are the commonly used format codes for reference.\n",
    "'''\n",
    "%Y : year as a zero-padded decimal i.e. 0001, ...., 2021, 2022, ...., 9999\n",
    "%m : month month as a zero-padded decimal i.e. 01, 02, ..., 12\n",
    "%a : abbreviated weekday name i.e. Sun, Mon, ...\n",
    "%A : Full weekday name i.e. Sunday, Monday, ...\n",
    "%w : Weekday as a decimal number i.e. 0, 1, ..., 6\n",
    "%d : Day of the month as a zero-padded decimal i.e. 01, 02, ..., 31\n",
    "%-d: Day of the month as a decimal number i.e. 1,2, ..., 30\n",
    "%H : hour as a zero-padded decimal i.e. 01, 02, ..., 23\n",
    "%M : minute as a zero-padded decimal i.e. 01, 02, ..., 59\n",
    "%S : second as a zero-padded decimal i.e. 01, 02, ..., 59\n",
    "%b : Abbreviated month name i.e. Jan, Feb, ..., Dec\n",
    "%B : Full month name i.e. January, February, ..., December\n",
    "%I : 12-hour clock as a zero-padded decinmal number i.e. 01, 02, ..., 12\n",
    "%p : Locale's AM or PM i.e. AM, PM\n",
    "'''\n"
   ]
  },
  {
   "cell_type": "markdown",
   "metadata": {},
   "source": [
    "##### The strptime() Method\n",
    "- This is the opposite of what strftime() method does, it basically creates a datime object from a given formatted string representing date & time."
   ]
  },
  {
   "cell_type": "code",
   "execution_count": 47,
   "metadata": {},
   "outputs": [
    {
     "name": "stdout",
     "output_type": "stream",
     "text": [
      "2021-01-14 00:00:00\n",
      "2022-01-14 01:00:00\n"
     ]
    }
   ],
   "source": [
    "# let us see how strptime() method creates a datetime object from a formatted date-time string.\n",
    "# it's important that the string format & format code defined under the strptime method must match otherwise Pythion will throw a value error.\n",
    "formatted_date = \"January 14, 2021\"\n",
    "datetime_obj = dt.datetime.strptime(formatted_date, \"%B %d, %Y\")\n",
    "print(datetime_obj)\n",
    "\n",
    "formatted_date = \"Jan 14 2022, 01PM\"\n",
    "datetime_obj = dt.datetime.strptime(formatted_date, \"%b %d %Y, %H%p\")\n",
    "print(datetime_obj)"
   ]
  },
  {
   "cell_type": "code",
   "execution_count": 51,
   "metadata": {},
   "outputs": [
    {
     "name": "stdout",
     "output_type": "stream",
     "text": [
      "14/01/2021\n",
      "2021-01-14 00:00:00\n",
      "01/14/2021\n"
     ]
    }
   ],
   "source": [
    "# one classic use case leveraging strftime & strptime methods is when the date format is required to be converted from one format to other let's say from UK to US format.datetime_obj\n",
    "date_str_uk = \"14/01/2021\"\n",
    "print(date_str_uk)\n",
    "date_obj = dt.datetime.strptime(date_str_uk, \"%d/%m/%Y\")\n",
    "print(date_obj)\n",
    "date_str_us = date_obj.strftime(\"%m/%d/%Y\")\n",
    "print(date_str_us)"
   ]
  },
  {
   "cell_type": "markdown",
   "metadata": {},
   "source": [
    "##### Timezone in Python\n",
    "- There are situations where we need to display date & time based on a certain timezone.\n",
    "- to handle such kind of tasks, there is a third party module named *'pytZ'*."
   ]
  },
  {
   "cell_type": "code",
   "execution_count": 61,
   "metadata": {},
   "outputs": [
    {
     "name": "stdout",
     "output_type": "stream",
     "text": [
      "India Timezone: 01-14-2022, 14:02:15\n",
      "New York Timezone: 01-14-2022, 03:32:15\n",
      "London Timezone: 01-14-2022, 08:32:15\n"
     ]
    }
   ],
   "source": [
    "# importing pytZ module for handling timezone related tasks.\n",
    "import pytz\n",
    "\n",
    "my_timezone  = dt.datetime.now()\n",
    "print(\"India Timezone:\", my_timezone.strftime(\"%m-%d-%Y, %H:%M:%S\"))\n",
    "\n",
    "timezone_NY = pytz.timezone('America/New_York')\n",
    "datetime_NY = dt.datetime.now(timezone_NY)\n",
    "print(\"New York Timezone:\", datetime_NY.strftime(\"%m-%d-%Y, %H:%M:%S\"))\n",
    "\n",
    "timezone_London = pytz.timezone('Europe/London') \n",
    "datetime_London = dt.datetime.now(timezone_London)\n",
    "print(\"London Timezone:\", datetime_London.strftime(\"%m-%d-%Y, %H:%M:%S\"))"
   ]
  }
 ],
 "metadata": {
  "interpreter": {
   "hash": "31f2aee4e71d21fbe5cf8b01ff0e069b9275f58929596ceb00d14d90e3e16cd6"
  },
  "kernelspec": {
   "display_name": "Python 3.8.9 64-bit",
   "language": "python",
   "name": "python3"
  },
  "language_info": {
   "codemirror_mode": {
    "name": "ipython",
    "version": 3
   },
   "file_extension": ".py",
   "mimetype": "text/x-python",
   "name": "python",
   "nbconvert_exporter": "python",
   "pygments_lexer": "ipython3",
   "version": "3.8.9"
  },
  "orig_nbformat": 4
 },
 "nbformat": 4,
 "nbformat_minor": 2
}
