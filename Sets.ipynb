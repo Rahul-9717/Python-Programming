{
 "cells": [
  {
   "cell_type": "markdown",
   "metadata": {},
   "source": [
    "#### **Sets**\n",
    "- A set is an unordered collection data type that is unindexed, mutable & has no duplicate elements.\n",
    "- Sets are created with braces & suport multiple data type. Eg : my_set = {True, 2, 3.45, \"Hello\"}"
   ]
  },
  {
   "cell_type": "markdown",
   "metadata": {},
   "source": [
    "##### Creating a set"
   ]
  },
  {
   "cell_type": "code",
   "execution_count": 1,
   "metadata": {},
   "outputs": [
    {
     "name": "stdout",
     "output_type": "stream",
     "text": [
      "{True, 2, 3.45, 'Hello', 'hi'}\n",
      "<class 'set'>\n",
      "{False, 3.14, 'hello', 7}\n",
      "<class 'set'>\n",
      "{'a', 'r', 'v', 'h', 's', 'e'}\n",
      "<class 'set'>\n",
      "{}\n",
      "<class 'dict'>\n",
      "set()\n",
      "<class 'set'>\n"
     ]
    }
   ],
   "source": [
    "# create a set using curly braces {}.\n",
    "my_set = {True, 2, 3.45, \"Hello\", \"hi\"}\n",
    "print(my_set)\n",
    "print(type(my_set))\n",
    "\n",
    "# create a set using set() function & create from an iterable i.e list, tuple & string.\n",
    "my_set_2 = set([\"hello\", 3.14, 7, False])\n",
    "print(my_set_2)\n",
    "print(type(my_set_2))\n",
    "\n",
    "my_set_3 = set (\"sarvesha\")\n",
    "print(my_set_3)\n",
    "print(type(my_set_3))\n",
    "\n",
    "# careful..!!, an empty set cannot be created with {} as this is interpreted as dictionary.\n",
    "my_set_4 = {}\n",
    "print(my_set_4)\n",
    "print(type(my_set_4))\n",
    "\n",
    "# instead use set() method.\n",
    "my_set_4 = set()\n",
    "print(my_set_4)\n",
    "print(type(my_set_4))"
   ]
  },
  {
   "cell_type": "markdown",
   "metadata": {},
   "source": [
    "##### Adding elements in a set"
   ]
  },
  {
   "cell_type": "code",
   "execution_count": 2,
   "metadata": {},
   "outputs": [
    {
     "name": "stdout",
     "output_type": "stream",
     "text": [
      "{True, 42, 'Hello'}\n",
      "{True, 42, 'Hello'}\n"
     ]
    }
   ],
   "source": [
    "# use the add() method to add elements.\n",
    "my_set = set()\n",
    "my_set.add(42)\n",
    "my_set.add(True)\n",
    "my_set.add(\"Hello\")\n",
    "\n",
    "# order does not matter & might differ when printed.\n",
    "print(my_set)\n",
    "\n",
    "# nothing happens when the element is already present.\n",
    "my_set.add(42)\n",
    "print(my_set)"
   ]
  },
  {
   "cell_type": "markdown",
   "metadata": {},
   "source": [
    "##### Removing elements from a set"
   ]
  },
  {
   "cell_type": "code",
   "execution_count": 5,
   "metadata": {},
   "outputs": [
    {
     "name": "stdout",
     "output_type": "stream",
     "text": [
      "{True, 2, 3.45, 'hi'}\n",
      "{True, 2, 'hi'}\n",
      "True\n",
      "{2, 3.45, 'Hello', 'hi'}\n",
      "set()\n"
     ]
    }
   ],
   "source": [
    "# using remove(x) method : raises a KeyError if element is not present in the set.\n",
    "my_set = {True, 2, 3.45, \"Hello\", \"hi\"}\n",
    "my_set.remove(\"Hello\")\n",
    "print(my_set)\n",
    "\n",
    "# using discard(x) method : removes x but does nothing if element is not present in the set.\n",
    "my_set.discard(3.45)\n",
    "print(my_set)\n",
    "\n",
    "# using pop() method : returns & remove a random element from the set.\n",
    "my_set = {True, 2, 3.45, \"Hello\", \"hi\"}\n",
    "print(my_set.pop())\n",
    "print(my_set)\n",
    "\n",
    "# using clear() method : remove all elements from a set & returns an empty set.\n",
    "my_set.clear()\n",
    "print(my_set)"
   ]
  },
  {
   "cell_type": "markdown",
   "metadata": {},
   "source": [
    "##### Set membership test"
   ]
  },
  {
   "cell_type": "code",
   "execution_count": 7,
   "metadata": {},
   "outputs": [
    {
     "name": "stdout",
     "output_type": "stream",
     "text": [
      "True\n",
      "False\n",
      "True\n"
     ]
    }
   ],
   "source": [
    "# check if an element is in the set or not.\n",
    "my_set = {True, 2, 3.45, \"Hello\", \"hi\"}\n",
    "print(\"Hello\" in my_set)\n",
    "print(6.28 in my_set)\n",
    "print(\"hey\" not in my_set)"
   ]
  },
  {
   "cell_type": "markdown",
   "metadata": {},
   "source": [
    "##### Iterating over Sets"
   ]
  },
  {
   "cell_type": "code",
   "execution_count": 11,
   "metadata": {},
   "outputs": [
    {
     "name": "stdout",
     "output_type": "stream",
     "text": [
      "True\n",
      "2\n",
      "3.45\n",
      "Hello\n",
      "hi\n",
      "(0, True)\n",
      "(1, 2)\n",
      "(2, 3.45)\n",
      "(3, 'Hello')\n",
      "(4, 'hi')\n"
     ]
    }
   ],
   "source": [
    "# iterating over a set using for in loop.\n",
    "my_set = {True, 2, 3.45, \"Hello\", \"hi\"}\n",
    "for i in my_set:\n",
    "    print(i)\n",
    "\n",
    "# using enumerate() function, however order is not important.\n",
    "for i in enumerate(my_set):\n",
    "    print(i)    \n"
   ]
  },
  {
   "cell_type": "markdown",
   "metadata": {},
   "source": [
    "##### Union & Intersection of Sets"
   ]
  },
  {
   "cell_type": "code",
   "execution_count": 15,
   "metadata": {},
   "outputs": [
    {
     "name": "stdout",
     "output_type": "stream",
     "text": [
      "{0, 1, 2, 3, 4, 5, 6, 7, 8, 9}\n",
      "{1, 2, 3, 5, 7, 9}\n",
      "set()\n",
      "{1, 3, 5, 7}\n"
     ]
    }
   ],
   "source": [
    "odds = {1, 3, 5, 7, 9}\n",
    "evens = {0, 2, 4, 6, 8}\n",
    "primes = {1, 2, 3, 5, 7}\n",
    "\n",
    "# union() : combine elements from both sets, no duplication.\n",
    "u = odds.union(evens)\n",
    "print(u)\n",
    "u = odds.union(primes)\n",
    "print(u)\n",
    "\n",
    "# intersection() : returns elements that are in both sets. \n",
    "i = odds.intersection(evens)\n",
    "print(i)\n",
    "i = odds.intersection(primes)\n",
    "print(i)"
   ]
  },
  {
   "cell_type": "markdown",
   "metadata": {},
   "source": [
    "##### Difference of Sets"
   ]
  },
  {
   "cell_type": "code",
   "execution_count": 19,
   "metadata": {},
   "outputs": [
    {
     "name": "stdout",
     "output_type": "stream",
     "text": [
      "{4, 5, 6, 7, 8, 9}\n",
      "{10, 11, 12}\n",
      "{4, 5, 6, 7, 8, 9, 10, 11, 12}\n",
      "{4, 5, 6, 7, 8, 9, 10, 11, 12}\n"
     ]
    }
   ],
   "source": [
    "setA = {1, 2, 3, 4, 5, 6, 7, 8, 9}\n",
    "setB = {1, 2, 3, 10, 11, 12}\n",
    "\n",
    "# difference() : returns a set with all the elements from the setA that are not in setB.\n",
    "diff_set = setA.difference(setB)\n",
    "print(diff_set) \n",
    "\n",
    "# & vice-versa i.e. returns a set with all the elements from the setB that are not in setA.\n",
    "diff_set = setB.difference(setA)\n",
    "print(diff_set)\n",
    "\n",
    "# symmetric_difference() : returns a set with all the elements that are in setA & setB but not in both.\n",
    "diff_set = setA.symmetric_difference(setB)\n",
    "print(diff_set)\n",
    "\n",
    "# & vice-versa : will return the same result.\n",
    "diff_set = setB.symmetric_difference(setA)\n",
    "print(diff_set)"
   ]
  },
  {
   "cell_type": "markdown",
   "metadata": {},
   "source": [
    "##### Updating Sets"
   ]
  },
  {
   "cell_type": "code",
   "execution_count": 27,
   "metadata": {},
   "outputs": [
    {
     "name": "stdout",
     "output_type": "stream",
     "text": [
      "{1, 2, 3, 4, 5, 6, 7, 8, 9, 10, 11, 12}\n",
      "{1, 2, 3}\n",
      "{4, 5, 6, 7, 8, 9}\n",
      "{4, 5, 6, 7, 8, 9, 10, 11, 12}\n"
     ]
    }
   ],
   "source": [
    "setA = {1, 2, 3, 4, 5, 6, 7, 8, 9}\n",
    "setB = {1, 2, 3, 10, 11, 12}\n",
    "\n",
    "# update() : updates the set by adding elements from another set or any other collection like list, tuple or string.\n",
    "setA.update(setB)\n",
    "print(setA)\n",
    "\n",
    "# intersection_update() : updates the set by keeping only the elements found in both sets.\n",
    "setA = {1, 2, 3, 4, 5, 6, 7, 8, 9}\n",
    "setB = {1, 2, 3, 10, 11, 12}\n",
    "setA.intersection_update(setB)\n",
    "print(setA)\n",
    "\n",
    "# difference_update() : updates the set by removing elements found in the other set. \n",
    "setA = {1, 2, 3, 4, 5, 6, 7, 8, 9}\n",
    "setB = {1, 2, 3, 10, 11, 12}\n",
    "setA.difference_update(setB)\n",
    "print(setA)\n",
    "\n",
    "# symmetric_difference_update() : updates the set by keeping the elements that are in either sets but not in both.\n",
    "setA = {1, 2, 3, 4, 5, 6, 7, 8, 9}\n",
    "setB = {1, 2, 3, 10, 11, 12}\n",
    "setA.symmetric_difference_update(setB)\n",
    "print(setA)"
   ]
  },
  {
   "cell_type": "markdown",
   "metadata": {},
   "source": [
    "##### Copying Sets"
   ]
  },
  {
   "cell_type": "code",
   "execution_count": 33,
   "metadata": {},
   "outputs": [
    {
     "name": "stdout",
     "output_type": "stream",
     "text": [
      "{1, 2, 3, 4, 5, 6, 7}\n",
      "{1, 2, 3, 4, 5, 6, 7}\n",
      "{1, 2, 3, 4, 5, 6, 7}\n",
      "{1, 2, 3, 4, 5}\n"
     ]
    }
   ],
   "source": [
    "set_org = {1, 2, 3, 4, 5}\n",
    "\n",
    "# be careful..!!, this only copies the references to the set.\n",
    "set_copy = set_org\n",
    "\n",
    "# modifying the above set also affects the original.\n",
    "set_copy.update([3, 4, 5, 6, 7])\n",
    "print(set_copy)\n",
    "print(set_org)\n",
    "\n",
    "# use copy() method to actually copy the set.\n",
    "set_org = {1, 2, 3, 4, 5}\n",
    "set_copy = set_org.copy()\n",
    "\n",
    "# now modifying the copy will not affect the original.\n",
    "set_copy.update([3, 4, 5, 6, 7])\n",
    "print(set_copy)\n",
    "print(set_org)"
   ]
  },
  {
   "cell_type": "markdown",
   "metadata": {},
   "source": [
    "##### Subset, Superset & Disjoint"
   ]
  },
  {
   "cell_type": "code",
   "execution_count": 39,
   "metadata": {},
   "outputs": [
    {
     "name": "stdout",
     "output_type": "stream",
     "text": [
      "False\n",
      "True\n",
      "True\n",
      "False\n",
      "True\n",
      "False\n"
     ]
    }
   ],
   "source": [
    "set_A = {1, 2, 3, 4, 5, 6}\n",
    "set_B = {1, 2, 3}\n",
    "\n",
    "# issubset(set) : Returns True if elements of one set are present in another set.\n",
    "print(set_A.issubset(set_B))\n",
    "print(set_B.issubset(set_A))\n",
    "\n",
    "# issuperset(set) : Returns True if one set contains all the elements of another set.\n",
    "print(set_A.issuperset(set_B))\n",
    "print(set_B.issuperset(set_A)) \n",
    "\n",
    "# isdisjoint(set) : Returns True if both sets have no common elements.\n",
    "set_A = {1, 2, 3, 4, 5, 6}\n",
    "set_B = {1, 2, 3}\n",
    "set_C = {7, 8, 9}\n",
    "print(set_A.isdisjoint(set_C))\n",
    "print(set_A.isdisjoint(set_B)) "
   ]
  },
  {
   "cell_type": "markdown",
   "metadata": {},
   "source": [
    "##### Frozenset\n",
    "- It is just an immutable version of a normal set i.e. elemnts of a frozenset cannot be modified as opposed to a set.\n",
    "- Since frozenset is immutable hence no modification operations such as add, remove, discrad, clear, update etc. can be done.\n"
   ]
  },
  {
   "cell_type": "code",
   "execution_count": 50,
   "metadata": {},
   "outputs": [
    {
     "name": "stdout",
     "output_type": "stream",
     "text": [
      "frozenset({1, 2, 3, 4})\n",
      "<class 'frozenset'>\n",
      "frozenset({1, 2, 3, 4, 5, 7, 8, 9})\n",
      "frozenset({3, 5})\n",
      "frozenset({1, 9, 7})\n",
      "frozenset({1, 2, 4, 7, 8, 9})\n",
      "True\n",
      "True\n",
      "True\n"
     ]
    }
   ],
   "source": [
    "# creation of a frozenset using frozenset(collection) function.\n",
    "frozen_set = frozenset([1, 2, 3, 4])\n",
    "print(frozen_set)\n",
    "print(type(frozen_set))\n",
    "\n",
    "# some of the common set methods applicable to frozenset.\n",
    "odds = frozenset({1, 3, 5, 7, 9})\n",
    "evens = frozenset({2, 3, 4, 5, 8})\n",
    "print(odds.union(evens))\n",
    "print(odds.intersection(evens))\n",
    "print(odds.difference(evens))\n",
    "print(odds.symmetric_difference(evens))\n",
    "\n",
    "A = frozenset([1, 2, 3, 4])\n",
    "B = frozenset([3, 4, 5, 6])\n",
    "C = frozenset([5, 6])\n",
    "print(A.isdisjoint(C))\n",
    "print(C.issubset(B))\n",
    "print(B.issuperset(C))"
   ]
  },
  {
   "cell_type": "code",
   "execution_count": null,
   "metadata": {},
   "outputs": [],
   "source": []
  }
 ],
 "metadata": {
  "interpreter": {
   "hash": "31f2aee4e71d21fbe5cf8b01ff0e069b9275f58929596ceb00d14d90e3e16cd6"
  },
  "kernelspec": {
   "display_name": "Python 3.8.9 64-bit",
   "language": "python",
   "name": "python3"
  },
  "language_info": {
   "codemirror_mode": {
    "name": "ipython",
    "version": 3
   },
   "file_extension": ".py",
   "mimetype": "text/x-python",
   "name": "python",
   "nbconvert_exporter": "python",
   "pygments_lexer": "ipython3",
   "version": "3.8.9"
  },
  "orig_nbformat": 4
 },
 "nbformat": 4,
 "nbformat_minor": 2
}
