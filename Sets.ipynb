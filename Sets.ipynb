{
 "cells": [
  {
   "cell_type": "markdown",
   "metadata": {},
   "source": [
    "#### **Sets**\n",
    "- A set is an unordered collection data type that is unindexed, mutable & has no duplicate elements.\n",
    "- Sets are created with braces & suport multiple data type. Eg : my_set = {True, 2, 3.45, \"Hello\"}"
   ]
  },
  {
   "cell_type": "markdown",
   "metadata": {},
   "source": [
    "##### Creating a set"
   ]
  },
  {
   "cell_type": "code",
   "execution_count": 1,
   "metadata": {},
   "outputs": [
    {
     "name": "stdout",
     "output_type": "stream",
     "text": [
      "{True, 2, 3.45, 'Hello', 'hi'}\n",
      "<class 'set'>\n",
      "{False, 3.14, 'hello', 7}\n",
      "<class 'set'>\n",
      "{'a', 'r', 'v', 'h', 's', 'e'}\n",
      "<class 'set'>\n",
      "{}\n",
      "<class 'dict'>\n",
      "set()\n",
      "<class 'set'>\n"
     ]
    }
   ],
   "source": [
    "# create a set using curly braces {}.\n",
    "my_set = {True, 2, 3.45, \"Hello\", \"hi\"}\n",
    "print(my_set)\n",
    "print(type(my_set))\n",
    "\n",
    "# create a set using set() function & create from an iterable i.e list, tuple & string.\n",
    "my_set_2 = set([\"hello\", 3.14, 7, False])\n",
    "print(my_set_2)\n",
    "print(type(my_set_2))\n",
    "\n",
    "my_set_3 = set (\"sarvesha\")\n",
    "print(my_set_3)\n",
    "print(type(my_set_3))\n",
    "\n",
    "# careful..!!, an empty set cannot be created with {} as this is interpreted as dictionary.\n",
    "my_set_4 = {}\n",
    "print(my_set_4)\n",
    "print(type(my_set_4))\n",
    "\n",
    "# instead use set() method.\n",
    "my_set_4 = set()\n",
    "print(my_set_4)\n",
    "print(type(my_set_4))"
   ]
  },
  {
   "cell_type": "markdown",
   "metadata": {},
   "source": [
    "##### Adding elements in a set"
   ]
  },
  {
   "cell_type": "code",
   "execution_count": 2,
   "metadata": {},
   "outputs": [
    {
     "name": "stdout",
     "output_type": "stream",
     "text": [
      "{True, 42, 'Hello'}\n",
      "{True, 42, 'Hello'}\n"
     ]
    }
   ],
   "source": [
    "# use the add() method to add elements.\n",
    "my_set = set()\n",
    "my_set.add(42)\n",
    "my_set.add(True)\n",
    "my_set.add(\"Hello\")\n",
    "\n",
    "# order does not matter & might differ when printed.\n",
    "print(my_set)\n",
    "\n",
    "# nothing happens when the element is already present.\n",
    "my_set.add(42)\n",
    "print(my_set)"
   ]
  },
  {
   "cell_type": "markdown",
   "metadata": {},
   "source": [
    "##### Removing elements from a set"
   ]
  },
  {
   "cell_type": "code",
   "execution_count": 5,
   "metadata": {},
   "outputs": [
    {
     "name": "stdout",
     "output_type": "stream",
     "text": [
      "{True, 2, 3.45, 'hi'}\n",
      "{True, 2, 'hi'}\n",
      "True\n",
      "{2, 3.45, 'Hello', 'hi'}\n",
      "set()\n"
     ]
    }
   ],
   "source": [
    "# using remove(x) method : raises a KeyError if element is not present in the set.\n",
    "my_set = {True, 2, 3.45, \"Hello\", \"hi\"}\n",
    "my_set.remove(\"Hello\")\n",
    "print(my_set)\n",
    "\n",
    "# using discard(x) method : removes x but does nothing if element is not present in the set.\n",
    "my_set.discard(3.45)\n",
    "print(my_set)\n",
    "\n",
    "# using pop() method : returns & remove a random element from the set.\n",
    "my_set = {True, 2, 3.45, \"Hello\", \"hi\"}\n",
    "print(my_set.pop())\n",
    "print(my_set)\n",
    "\n",
    "# using clear() method : remove all elements from a set & returns an empty set.\n",
    "my_set.clear()\n",
    "print(my_set)"
   ]
  },
  {
   "cell_type": "markdown",
   "metadata": {},
   "source": [
    "##### Set membership test"
   ]
  },
  {
   "cell_type": "code",
   "execution_count": 7,
   "metadata": {},
   "outputs": [
    {
     "name": "stdout",
     "output_type": "stream",
     "text": [
      "True\n",
      "False\n",
      "True\n"
     ]
    }
   ],
   "source": [
    "# check if an element is in the set or not.\n",
    "my_set = {True, 2, 3.45, \"Hello\", \"hi\"}\n",
    "print(\"Hello\" in my_set)\n",
    "print(6.28 in my_set)\n",
    "print(\"hey\" not in my_set)"
   ]
  },
  {
   "cell_type": "markdown",
   "metadata": {},
   "source": [
    "##### Iterating over Sets"
   ]
  },
  {
   "cell_type": "code",
   "execution_count": 11,
   "metadata": {},
   "outputs": [
    {
     "name": "stdout",
     "output_type": "stream",
     "text": [
      "True\n",
      "2\n",
      "3.45\n",
      "Hello\n",
      "hi\n",
      "(0, True)\n",
      "(1, 2)\n",
      "(2, 3.45)\n",
      "(3, 'Hello')\n",
      "(4, 'hi')\n"
     ]
    }
   ],
   "source": [
    "# iterating over a set using for in loop.\n",
    "my_set = {True, 2, 3.45, \"Hello\", \"hi\"}\n",
    "for i in my_set:\n",
    "    print(i)\n",
    "\n",
    "# using enumerate() function, however order is not important.\n",
    "for i in enumerate(my_set):\n",
    "    print(i)    \n"
   ]
  },
  {
   "cell_type": "markdown",
   "metadata": {},
   "source": [
    "##### Union & Intersection of Sets"
   ]
  },
  {
   "cell_type": "code",
   "execution_count": 15,
   "metadata": {},
   "outputs": [
    {
     "name": "stdout",
     "output_type": "stream",
     "text": [
      "{0, 1, 2, 3, 4, 5, 6, 7, 8, 9}\n",
      "{1, 2, 3, 5, 7, 9}\n",
      "set()\n",
      "{1, 3, 5, 7}\n"
     ]
    }
   ],
   "source": [
    "odds = {1, 3, 5, 7, 9}\n",
    "evens = {0, 2, 4, 6, 8}\n",
    "primes = {1, 2, 3, 5, 7}\n",
    "\n",
    "# union() : combine elements from both sets, no duplication.\n",
    "u = odds.union(evens)\n",
    "print(u)\n",
    "u = odds.union(primes)\n",
    "print(u)\n",
    "\n",
    "# intersection() : returns elements that are in both sets. \n",
    "i = odds.intersection(evens)\n",
    "print(i)\n",
    "i = odds.intersection(primes)\n",
    "print(i)"
   ]
  },
  {
   "cell_type": "markdown",
   "metadata": {},
   "source": [
    "##### Difference of Sets"
   ]
  },
  {
   "cell_type": "code",
   "execution_count": 17,
   "metadata": {},
   "outputs": [
    {
     "name": "stdout",
     "output_type": "stream",
     "text": [
      "{4, 5, 6, 7, 8, 9}\n",
      "{10, 11, 12}\n"
     ]
    }
   ],
   "source": [
    "setA = {1, 2, 3, 4, 5, 6, 7, 8, 9}\n",
    "setB = {1, 2, 3, 10, 11, 12}\n",
    "\n",
    "# difference() : returns a set with all the elements from the setA that are not in setB.\n",
    "diff_set = setA.difference(setB)\n",
    "print(diff_set) \n",
    "\n",
    "# & vice-versa i.e. returns a set with all the elements from the setB that are not in setA.\n",
    "diff_set = setB.difference(setA)\n",
    "print(diff_set)\n",
    "\n",
    "# symmetric_difference() : returns a set with all the elements that are in setA & setB but not in both.\n"
   ]
  },
  {
   "cell_type": "code",
   "execution_count": null,
   "metadata": {},
   "outputs": [],
   "source": []
  }
 ],
 "metadata": {
  "interpreter": {
   "hash": "31f2aee4e71d21fbe5cf8b01ff0e069b9275f58929596ceb00d14d90e3e16cd6"
  },
  "kernelspec": {
   "display_name": "Python 3.8.9 64-bit",
   "language": "python",
   "name": "python3"
  },
  "language_info": {
   "codemirror_mode": {
    "name": "ipython",
    "version": 3
   },
   "file_extension": ".py",
   "mimetype": "text/x-python",
   "name": "python",
   "nbconvert_exporter": "python",
   "pygments_lexer": "ipython3",
   "version": "3.8.9"
  },
  "orig_nbformat": 4
 },
 "nbformat": 4,
 "nbformat_minor": 2
}
