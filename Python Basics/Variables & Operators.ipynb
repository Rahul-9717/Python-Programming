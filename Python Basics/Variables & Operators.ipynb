{
 "cells": [
  {
   "cell_type": "markdown",
   "metadata": {},
   "source": [
    "#### **Variables & Operators in Python**"
   ]
  },
  {
   "cell_type": "markdown",
   "metadata": {},
   "source": [
    "##### Operators in Python\n",
    "- The operators in Python are broadly classified into following categories i.e. **Arithmetic, Assignment, Comparison & Logical**."
   ]
  },
  {
   "cell_type": "markdown",
   "metadata": {},
   "source": [
    "##### Arithmetic Operators\n",
    "- The various arithmetic operators supported by Python include : addition('+'), subtraction('-'), Multiplication('*'), Division('/'), Floor Division('//'), Modulo('%') & Exponent('**')."
   ]
  },
  {
   "cell_type": "code",
   "execution_count": 2,
   "metadata": {},
   "outputs": [
    {
     "name": "stdout",
     "output_type": "stream",
     "text": [
      "12\n",
      "8\n",
      "20\n",
      "5.0\n",
      "5\n",
      "1\n",
      "100\n"
     ]
    }
   ],
   "source": [
    "# here are a few examples.\n",
    "print(10 + 2)  # returns the sum of two numbers.\n",
    "print(10 - 2)  # returns the difference of two numbers.\n",
    "print(10 * 2)  # returns the product of two numbers.\n",
    "print(10 / 2)  # returns a float value as the result.\n",
    "print(10 // 2) # returns an integer value as the result.\n",
    "print(10 % 3)  # returns the remainder of the division.\n",
    "print(10 ** 2) # returns a number raised to the power of another number."
   ]
  },
  {
   "cell_type": "code",
   "execution_count": 5,
   "metadata": {},
   "outputs": [
    {
     "name": "stdout",
     "output_type": "stream",
     "text": [
      "4.666666666666667\n",
      "38.0\n",
      "33\n"
     ]
    }
   ],
   "source": [
    "# arithmetic calculations follow the BODMAS rule which is followed in mathematics for performing aritmetic calculations.\n",
    "print(((3 + 4) * (11 - 5)) / (3 ** 2))\n",
    "print((34 + 56 + 24) / 3)\n",
    "print(18*7 - (8*6 + 5*9))"
   ]
  },
  {
   "cell_type": "markdown",
   "metadata": {},
   "source": [
    "##### Variables in Python\n",
    "- A variable is like a named location for storing data in the computer memory.\n",
    "- One can think of a variable as a container that holds data & that data can be changed in a variable.\n",
    "- In Python , we don't actually assign values to the variables, instead we give the reference of the object(i.e. value) to the variable."
   ]
  },
  {
   "cell_type": "code",
   "execution_count": 7,
   "metadata": {},
   "outputs": [
    {
     "name": "stdout",
     "output_type": "stream",
     "text": [
      "10\n",
      "<class 'int'>\n",
      "4.5\n",
      "<class 'float'>\n",
      "True\n",
      "<class 'bool'>\n",
      "Hello\n",
      "<class 'str'>\n",
      "[1, 2, 3, 4]\n",
      "<class 'list'>\n",
      "(1, 2, 3)\n",
      "<class 'tuple'>\n",
      "{'Name': 'Rahul', 'Age': 37}\n",
      "<class 'dict'>\n",
      "{1, 2, 3, 4}\n",
      "<class 'set'>\n"
     ]
    }
   ],
   "source": [
    "# we can assign value pertaining to any data type to a variable i.e. integer, float, bool, string, list, set, tuple, dictionary.\n",
    "# we can check the data type of the value stored in a variable by using the type() function.\n",
    "\n",
    "my_int = 10\n",
    "print(my_int)\n",
    "print(type(my_int))\n",
    "\n",
    "my_float = 4.5\n",
    "print(my_float)\n",
    "print(type(my_float))\n",
    "\n",
    "my_bool = True\n",
    "print(my_bool)\n",
    "print(type(my_bool))\n",
    "\n",
    "my_str = \"Hello\"\n",
    "print(my_str)\n",
    "print(type(my_str))\n",
    "\n",
    "my_list = [1, 2, 3, 4]\n",
    "print(my_list)\n",
    "print(type(my_list))\n",
    "\n",
    "my_tup = (1, 2, 3)\n",
    "print(my_tup)\n",
    "print(type(my_tup))\n",
    "\n",
    "my_dict = {\"Name\" : \"Rahul\", \"Age\" : 37}\n",
    "print(my_dict)\n",
    "print(type(my_dict))\n",
    "\n",
    "my_set = {1, 2, 3, 4}\n",
    "print(my_set)\n",
    "print(type(my_set))"
   ]
  },
  {
   "cell_type": "code",
   "execution_count": 8,
   "metadata": {},
   "outputs": [
    {
     "name": "stdout",
     "output_type": "stream",
     "text": [
      "apple.com\n",
      "samsung.com\n"
     ]
    }
   ],
   "source": [
    "# we can change the value that is assigned to a variable.\n",
    "website = \"apple.com\"\n",
    "print(website)\n",
    "\n",
    "website = \"samsung.com\"\n",
    "print(website)"
   ]
  },
  {
   "cell_type": "code",
   "execution_count": 9,
   "metadata": {},
   "outputs": [
    {
     "name": "stdout",
     "output_type": "stream",
     "text": [
      "10\n",
      "8.7\n",
      "Hello\n"
     ]
    }
   ],
   "source": [
    "# we can also assign multiple values to multiple variables at once.\n",
    "x, y, z = 10, 8.7, \"Hello\"\n",
    "print(x)\n",
    "print(y)\n",
    "print(z)"
   ]
  },
  {
   "cell_type": "code",
   "execution_count": 10,
   "metadata": {},
   "outputs": [
    {
     "name": "stdout",
     "output_type": "stream",
     "text": [
      "Hello\n",
      "Hello\n",
      "Hello\n"
     ]
    }
   ],
   "source": [
    "# we can also assign same value to multiple variables at once.\n",
    "x = y = z = \"Hello\"\n",
    "print(x)\n",
    "print(y)\n",
    "print(z)"
   ]
  },
  {
   "cell_type": "code",
   "execution_count": 12,
   "metadata": {},
   "outputs": [
    {
     "name": "stdout",
     "output_type": "stream",
     "text": [
      "13\n",
      "7\n",
      "30\n",
      "3.3333333333333335\n",
      "3\n",
      "1\n",
      "1000\n"
     ]
    }
   ],
   "source": [
    "# we can also perform various arithmetic operations with variables.\n",
    "x = 10\n",
    "y = 3\n",
    "\n",
    "print(x + y)\n",
    "print(x - y)\n",
    "print(x * y)\n",
    "print(x / y)\n",
    "print(x // y)\n",
    "print(x % y)\n",
    "print(x ** y)"
   ]
  },
  {
   "cell_type": "markdown",
   "metadata": {},
   "source": [
    "##### Rules for naming variables\n",
    "- Variable names should have combination of letters in uppercase (A-Z) or lowercase (a-z) or digits(0-9) or an underscore(_).\n",
    "- A variable should be representative of the data it is assigned to eg: *country_population = 23000000*, clearly this variable represents the population of a coumtry.\n",
    "- never use special symbol like !, @, #, $, % etc & also don't start a variable with a digit. eg: *1_variable* is an invalid variable name while *variable_1* is a valid one.\n",
    "- In case a variable name contains two or more words , use underscore to separate them, this format is known as snake case. eg: *my_name, my_country_pop*.\n",
    "- There are certain reserved keywords in Python which cannot be used whiule naming a variable. "
   ]
  },
  {
   "cell_type": "code",
   "execution_count": 23,
   "metadata": {},
   "outputs": [
    {
     "name": "stdout",
     "output_type": "stream",
     "text": [
      "['False', 'None', 'True', 'and', 'as', 'assert', 'async', 'await', 'break', 'class', 'continue', 'def', 'del', 'elif', 'else', 'except', 'finally', 'for', 'from', 'global', 'if', 'import', 'in', 'is', 'lambda', 'nonlocal', 'not', 'or', 'pass', 'raise', 'return', 'try', 'while', 'with', 'yield']\n"
     ]
    }
   ],
   "source": [
    "# in order to get the list of keywords reserved in Python.\n",
    "import keyword\n",
    "print(keyword.kwlist)"
   ]
  },
  {
   "cell_type": "markdown",
   "metadata": {},
   "source": [
    "##### Assignment Operators\n",
    "- the most common assignment operators include =, +=, -=, *=, /=, %=, //=, **= ."
   ]
  },
  {
   "cell_type": "code",
   "execution_count": 15,
   "metadata": {},
   "outputs": [
    {
     "name": "stdout",
     "output_type": "stream",
     "text": [
      "10\n",
      "12\n",
      "8\n",
      "20\n",
      "5.5\n",
      "5\n",
      "1\n",
      "100\n"
     ]
    }
   ],
   "source": [
    "# here are examples demonstrating the usage of each of them.\n",
    "x = 10\n",
    "print(x)\n",
    "\n",
    "x = 10\n",
    "x += 2 # same as x = x + 2.\n",
    "print(x)\n",
    "\n",
    "x = 10\n",
    "x -= 2 # same as x = x - 2.\n",
    "print(x)\n",
    "\n",
    "x = 10\n",
    "x *= 2 # same as x = x * 2.\n",
    "print(x)\n",
    "\n",
    "x = 11\n",
    "x /= 2 # same as x = x / 2.\n",
    "print(x)\n",
    "\n",
    "x = 11\n",
    "x //= 2 # same as x = x // 2.\n",
    "print(x)\n",
    "\n",
    "x = 11\n",
    "x %= 2 # same as x = x % 2.\n",
    "print(x)\n",
    "\n",
    "x = 10\n",
    "x **= 2 # same as x = x ** 2.\n",
    "print(x)"
   ]
  },
  {
   "cell_type": "markdown",
   "metadata": {},
   "source": [
    "##### Comparison Operators\n",
    "- These are used to compare between two values & returns True if the condition is met or False if the condition is not met.\n",
    "- The various used compariosn operators are : **less than (<), greater than (>), less than or equal to (<=), greater than or equal to (>=), equal to (==), not equal to (!=)**."
   ]
  },
  {
   "cell_type": "code",
   "execution_count": 17,
   "metadata": {},
   "outputs": [
    {
     "name": "stdout",
     "output_type": "stream",
     "text": [
      "True\n",
      "False\n",
      "True\n",
      "False\n",
      "False\n",
      "True\n"
     ]
    }
   ],
   "source": [
    "# here are examples demonstrating the usage of each of them.\n",
    "x = 12\n",
    "y = 15\n",
    "\n",
    "print(x < y)\n",
    "print(x > y)\n",
    "print(x <= y)\n",
    "print(x >= y)\n",
    "print(x == y) # note that equal to operator uses double equal to == as = refers to the assigment operator.\n",
    "print(x != y)"
   ]
  },
  {
   "cell_type": "markdown",
   "metadata": {},
   "source": [
    "##### Logical Operators\n",
    "- Logical operators also return True or False based on a combination of two conditions.\n",
    "_ The various logical operators are : **and , or, not**."
   ]
  },
  {
   "cell_type": "code",
   "execution_count": 22,
   "metadata": {},
   "outputs": [
    {
     "name": "stdout",
     "output_type": "stream",
     "text": [
      "True\n",
      "True\n",
      "False\n",
      "True\n"
     ]
    }
   ],
   "source": [
    "# and : Evaluates to True if all the provided conditions are True, otherwise will return False.\n",
    "x = 12\n",
    "y = 15\n",
    "print((x < y) and (x!=y))\n",
    "\n",
    "# or : Evaluates to True if either one the provided conditions is True, otherwise will return False.\n",
    "print((x > y) or (x!=y))\n",
    "\n",
    "# not : Evaluates to True of the provided conditions are False & vice-versa.\n",
    "print(not((x > y) or (x!=y)))\n",
    "print(not((x > y) and (x!=y)))"
   ]
  },
  {
   "cell_type": "markdown",
   "metadata": {},
   "source": [
    "##### Type Conversion\n",
    "- We can convert between different data types  by using various type conversion functions like int(), float(), str() etc."
   ]
  },
  {
   "cell_type": "code",
   "execution_count": 25,
   "metadata": {},
   "outputs": [
    {
     "name": "stdout",
     "output_type": "stream",
     "text": [
      "50.0\n",
      "<class 'float'>\n",
      "13\n",
      "<class 'int'>\n",
      "5.5\n",
      "<class 'float'>\n",
      "35\n",
      "<class 'str'>\n",
      "45\n",
      "<class 'int'>\n"
     ]
    }
   ],
   "source": [
    "# here are some examples of type conversion.\n",
    "x = float(50)\n",
    "print(x)\n",
    "print(type(x))\n",
    "\n",
    "x = int(13.6)\n",
    "print(x)\n",
    "print(type(x))\n",
    "\n",
    "x = float(\"5.5\")\n",
    "print(x)\n",
    "print(type(x))\n",
    "\n",
    "x = str(35)\n",
    "print(x)\n",
    "print(type(x))\n",
    "\n",
    "x = int(\"45\")\n",
    "print(x)\n",
    "print(type(x))"
   ]
  },
  {
   "cell_type": "code",
   "execution_count": 29,
   "metadata": {},
   "outputs": [
    {
     "name": "stdout",
     "output_type": "stream",
     "text": [
      "{10, 20, 30}\n",
      "<class 'set'>\n",
      "(50, 60, 70)\n",
      "<class 'tuple'>\n",
      "['R', 'a', 'h', 'u', 'l']\n",
      "<class 'list'>\n",
      "{1: 2, 4: 5}\n",
      "<class 'dict'>\n",
      "{10: 20, 30: 40}\n",
      "<class 'dict'>\n"
     ]
    }
   ],
   "source": [
    "# we can also convert one sequence data type to another one.\n",
    "x = set([10, 20, 30])\n",
    "print(x)\n",
    "print(type(x))\n",
    "\n",
    "x = tuple({50, 60, 70})\n",
    "print(x)\n",
    "print(type(x))\n",
    "\n",
    "x = list(\"Rahul\")\n",
    "print(x)\n",
    "print(type(x))\n",
    "\n",
    "x = dict([[1, 2], [4, 5]])\n",
    "print(x)\n",
    "print(type(x))\n",
    "\n",
    "x = dict([(10, 20), (30, 40)])\n",
    "print(x)\n",
    "print(type(x))"
   ]
  },
  {
   "cell_type": "code",
   "execution_count": 31,
   "metadata": {},
   "outputs": [
    {
     "name": "stdout",
     "output_type": "stream",
     "text": [
      "454.5\n",
      "<class 'float'>\n",
      "691\n",
      "<class 'int'>\n"
     ]
    }
   ],
   "source": [
    "# There are instances where Python automatically converts one data type to another data type.\n",
    "# here's an example.\n",
    "num_1 = 450\n",
    "num_2 = 4.5\n",
    "new_num = num_1 + num_2 # here num_1 which was of integer data type is converted into float data type in order to perform the addition operation.\n",
    "print(new_num)\n",
    "print(type(new_num))\n",
    "\n",
    "# However there will be instances where we have to explicitly perform the type conversion.\n",
    "# here's an example.\n",
    "my_num = 457\n",
    "my_str = \"234\"\n",
    "# result = my_num + my_str --> now if we straight excute this code then Python will throw a type error.\n",
    "result = my_num + int(my_str)\n",
    "print(result)\n",
    "print(type(result))"
   ]
  },
  {
   "cell_type": "markdown",
   "metadata": {},
   "source": [
    "##### User Input\n",
    "- In order to allow flexibility, sometimes the input is taken from the user & in Python we have input() function for this purpose.\n",
    "- By default Python interprets the input given by the user as a string, so we need to use type conversion functions along with input() to convert the data type."
   ]
  },
  {
   "cell_type": "code",
   "execution_count": 32,
   "metadata": {},
   "outputs": [
    {
     "name": "stdout",
     "output_type": "stream",
     "text": [
      "The Full Name is: Rahul Arora\n"
     ]
    }
   ],
   "source": [
    "# here are a few examples to demonstrate this.\n",
    "x = input(\"Enter your First Name:\")\n",
    "y = input(\"Enter your Last Name:\")\n",
    "result = x + \" \" + y\n",
    "print(\"The Full Name is:\", result)"
   ]
  },
  {
   "cell_type": "code",
   "execution_count": 37,
   "metadata": {},
   "outputs": [
    {
     "name": "stdout",
     "output_type": "stream",
     "text": [
      "The result is: 15\n",
      "<class 'int'>\n",
      "The result is: 30.150000000000002\n",
      "<class 'float'>\n"
     ]
    }
   ],
   "source": [
    "# in order to see result having specific data type.\n",
    "x = int(input(\"Enter the value of x:\"))\n",
    "y = int(input(\"Enter the value of y:\"))\n",
    "result = x + y\n",
    "print(\"The result is:\", result)\n",
    "print(type(result))\n",
    "\n",
    "# let us see another example.\n",
    "x = float(input(\"Enter the value of x:\"))\n",
    "y = float(input(\"Enter the value of y:\"))\n",
    "result = x * y\n",
    "print(\"The result is:\", result)\n",
    "print(type(result))"
   ]
  }
 ],
 "metadata": {
  "interpreter": {
   "hash": "31f2aee4e71d21fbe5cf8b01ff0e069b9275f58929596ceb00d14d90e3e16cd6"
  },
  "kernelspec": {
   "display_name": "Python 3.8.9 64-bit",
   "language": "python",
   "name": "python3"
  },
  "language_info": {
   "codemirror_mode": {
    "name": "ipython",
    "version": 3
   },
   "file_extension": ".py",
   "mimetype": "text/x-python",
   "name": "python",
   "nbconvert_exporter": "python",
   "pygments_lexer": "ipython3",
   "version": "3.8.9"
  },
  "orig_nbformat": 4
 },
 "nbformat": 4,
 "nbformat_minor": 2
}
