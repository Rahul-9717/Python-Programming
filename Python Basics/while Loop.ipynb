{
 "cells": [
  {
   "cell_type": "markdown",
   "metadata": {},
   "source": [
    "#### **Loops in Python**\n",
    "- Looping / Iteration is the process of performing a ceratin of actions repeteadly until a certain condition is fulfilled.\n",
    "- The iteration statements are also known as Loops or Looping statements.\n",
    "- There are two types of iterations or loops in Python : **While Loop & For Loop**."
   ]
  },
  {
   "cell_type": "markdown",
   "metadata": {},
   "source": [
    "##### While Loop\n",
    "- It is a conditional loop that will repeat the instructions as long as the condition remains True.\n",
    "- It is generally used in case we don't know beforehand on how many times iterations are required.\n",
    "- The loop is entered once the test condition evaluates to True & loop will continue to run as long as the test condition is True.\n",
    "- The loop is exited once the test condition evaluates to False."
   ]
  },
  {
   "cell_type": "code",
   "execution_count": 2,
   "metadata": {},
   "outputs": [
    {
     "name": "stdout",
     "output_type": "stream",
     "text": [
      "1\n",
      "2\n",
      "3\n",
      "4\n",
      "5\n",
      "6\n",
      "7\n",
      "8\n",
      "9\n"
     ]
    }
   ],
   "source": [
    "# syntax of while loop.\n",
    "'''\n",
    "intialization expression\n",
    "while test_expression:\n",
    "    body of loop\n",
    "    ............\n",
    "    ............\n",
    "    update expression\n",
    "'''\n",
    "\n",
    "# let's first explain the above syntax with a simple example.\n",
    "n = 1\n",
    "while n < 10:  # here the loop will continue to print the value of the variable n as long as the value of n is less than 10. Once n reaches 10 will exit the loop.\n",
    "    print(n)\n",
    "    n += 1     # here it is important to increase the value of n as failing to do so will result in an infinite loop which will never end. Be careful..!!"
   ]
  },
  {
   "cell_type": "code",
   "execution_count": 13,
   "metadata": {},
   "outputs": [
    {
     "name": "stdout",
     "output_type": "stream",
     "text": [
      "Hello, How are you..?\n",
      "Hello, How are you..?\n",
      "Hello, How are you..?\n",
      "Hello, How are you..?\n",
      "Hello, How are you..?\n",
      "Nice to meet you..!!\n"
     ]
    }
   ],
   "source": [
    "# we can also while loop along with else statement.\n",
    "i = 0\n",
    "while i < 5:\n",
    "    print(\"Hello, How are you..?\")\n",
    "    i += 1\n",
    "else:\n",
    "    print(\"Nice to meet you..!!\")    "
   ]
  },
  {
   "cell_type": "markdown",
   "metadata": {},
   "source": [
    "##### let us see more examples showcasing application of while loop."
   ]
  },
  {
   "cell_type": "code",
   "execution_count": 6,
   "metadata": {},
   "outputs": [
    {
     "name": "stdout",
     "output_type": "stream",
     "text": [
      "The sum of first 15 natural numbers is 105\n",
      "1 3 6 10 15 21 28 36 45 55 66 78 91 105 "
     ]
    }
   ],
   "source": [
    "# to add the sum of first n natural numbers.\n",
    "n = int(input(\"Enter the value of n:\"))\n",
    "sum = 0\n",
    "i = 1\n",
    "while i < n:\n",
    "    sum = sum + i\n",
    "    i += 1\n",
    "print(f\"The sum of first {n} natural numbers is {sum}\")    \n",
    "\n",
    "# if we want to see a series of prgression on the sum.\n",
    "n = 15\n",
    "sum = 0\n",
    "i = 1\n",
    "while i < n:\n",
    "    sum = sum + i\n",
    "    print(sum, end=\" \")\n",
    "    i += 1"
   ]
  },
  {
   "cell_type": "code",
   "execution_count": 9,
   "metadata": {},
   "outputs": [
    {
     "name": "stdout",
     "output_type": "stream",
     "text": [
      "5 x 1 = 5\n",
      "5 x 2 = 10\n",
      "5 x 3 = 15\n",
      "5 x 4 = 20\n",
      "5 x 5 = 25\n",
      "5 x 6 = 30\n",
      "5 x 7 = 35\n",
      "5 x 8 = 40\n",
      "5 x 9 = 45\n",
      "5 x 10 = 50\n"
     ]
    }
   ],
   "source": [
    "# to create a multiplication table of a number.\n",
    "num = int(input(\"Enter the number:\"))\n",
    "i = 1\n",
    "while i <= 10:\n",
    "    result = num * i\n",
    "    print(f\"{num} x {i} = {result}\")\n",
    "    i += 1"
   ]
  },
  {
   "cell_type": "code",
   "execution_count": 12,
   "metadata": {},
   "outputs": [
    {
     "name": "stdout",
     "output_type": "stream",
     "text": [
      "5 x 10 = 50\n",
      "5 x 9 = 45\n",
      "5 x 8 = 40\n",
      "5 x 7 = 35\n",
      "5 x 6 = 30\n",
      "5 x 5 = 25\n",
      "5 x 4 = 20\n",
      "5 x 3 = 15\n",
      "5 x 2 = 10\n",
      "5 x 1 = 5\n"
     ]
    }
   ],
   "source": [
    "# we can create a reverse multiplication table as well.\n",
    "num = 5\n",
    "i = 10\n",
    "while i >= 1:\n",
    "    result = num * i\n",
    "    print(f\"{num} x {i} = {result}\")\n",
    "    i -= 1"
   ]
  },
  {
   "cell_type": "code",
   "execution_count": 17,
   "metadata": {},
   "outputs": [
    {
     "name": "stdout",
     "output_type": "stream",
     "text": [
      "0 1 1 2 3 5 8 13 21 34 "
     ]
    }
   ],
   "source": [
    "# to print the fibonacci sequence upto a certain nth term.\n",
    "nth_term = int(input(\"Enter the nth term:\"))\n",
    "n1 = 0\n",
    "n2 = 1\n",
    "i = 0\n",
    "while i < nth_term:\n",
    "    print(n1, end=\" \")\n",
    "    n_next = n1 + n2\n",
    "    n1 = n2\n",
    "    n2 = n_next\n",
    "    i += 1"
   ]
  },
  {
   "cell_type": "code",
   "execution_count": 4,
   "metadata": {},
   "outputs": [
    {
     "name": "stdout",
     "output_type": "stream",
     "text": [
      "The result is 343\n"
     ]
    }
   ],
   "source": [
    "# to calculate the power of a number i.e. num raised to a certain power.\n",
    "num = 7\n",
    "pow = 3\n",
    "result = 1\n",
    "while pow != 0:\n",
    "    result *= num \n",
    "    pow -= 1\n",
    "print(f\"The result is {result}\")    "
   ]
  },
  {
   "cell_type": "code",
   "execution_count": 23,
   "metadata": {},
   "outputs": [
    {
     "name": "stdout",
     "output_type": "stream",
     "text": [
      "The reverse of 5678 is 8765\n"
     ]
    }
   ],
   "source": [
    "# to reverse a number.\n",
    "num = int(input(\"Enter the number:\"))\n",
    "rev_num = 0\n",
    "temp_num = num\n",
    "while temp_num != 0:\n",
    "    dig = temp_num % 10\n",
    "    rev_num = rev_num * 10 + dig\n",
    "    temp_num //= 10\n",
    "print(f\"The reverse of {num} is {rev_num}\")    "
   ]
  },
  {
   "cell_type": "code",
   "execution_count": 12,
   "metadata": {},
   "outputs": [
    {
     "name": "stdout",
     "output_type": "stream",
     "text": [
      "1634 is an armstrong number..!!\n"
     ]
    }
   ],
   "source": [
    "# check if a given number is an armstrong number i.e. eg : 371 = 3*3*3 + 7*7*7 + 1*1*1 which comes out to be 371 i.e. the result is the number itself.\n",
    "num = int(input(\"Enter the number:\"))\n",
    "pow = len(str(num))\n",
    "sum = 0\n",
    "temp_num = num\n",
    "while temp_num > 0:\n",
    "    dig = temp_num % 10\n",
    "    sum += dig ** pow\n",
    "    temp_num //= 10\n",
    "if num == sum:\n",
    "    print(f\"{num} is an armstrong number..!!\")\n",
    "else:\n",
    "    print(f\"{num} is not an armstrong number..!!\")        "
   ]
  },
  {
   "cell_type": "code",
   "execution_count": 22,
   "metadata": {},
   "outputs": [
    {
     "name": "stdout",
     "output_type": "stream",
     "text": [
      "Existing List: ['Hello,', 'My', 'name', 'is', 'Rahul', 'Arora']\n",
      "New List: ['Hello,', 'My', 'name', 'is', 'Rahul', 'Arora']\n"
     ]
    }
   ],
   "source": [
    "# to create a new list from an existing list.\n",
    "my_list = \"Hello, My name is Rahul Arora\".split()\n",
    "print(\"Existing List:\",my_list)\n",
    "new_list = []\n",
    "i = 0\n",
    "while len(new_list) < len(my_list):\n",
    "    new_list.append(my_list[i])\n",
    "    i += 1\n",
    "print(\"New List:\",new_list)    "
   ]
  }
 ],
 "metadata": {
  "interpreter": {
   "hash": "31f2aee4e71d21fbe5cf8b01ff0e069b9275f58929596ceb00d14d90e3e16cd6"
  },
  "kernelspec": {
   "display_name": "Python 3.8.9 64-bit",
   "language": "python",
   "name": "python3"
  },
  "language_info": {
   "codemirror_mode": {
    "name": "ipython",
    "version": 3
   },
   "file_extension": ".py",
   "mimetype": "text/x-python",
   "name": "python",
   "nbconvert_exporter": "python",
   "pygments_lexer": "ipython3",
   "version": "3.8.9"
  },
  "orig_nbformat": 4
 },
 "nbformat": 4,
 "nbformat_minor": 2
}
