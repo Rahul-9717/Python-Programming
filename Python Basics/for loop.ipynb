{
 "cells": [
  {
   "cell_type": "markdown",
   "metadata": {},
   "source": [
    "#### **Loops in Python**\n",
    "- Looping / Iteration is the process of performing a ceratin of actions repeteadly until a certain condition is fulfilled.\n",
    "- The iteration statements are also known as Loops or Looping statements.\n",
    "- There are two types of iterations or loops in Python : **While Loop & For Loop**."
   ]
  },
  {
   "cell_type": "markdown",
   "metadata": {},
   "source": [
    "##### range() function\n",
    "- This function returns a sequence of numbers, starting from 0 by default & increments by 1 by default & stops before a specified number.\n",
    "- Syntax : **range(Start, Stop, Step)**. Value specified as a stop argument is not included.\n",
    "- eg : range(10) will generate values from 0 to 9, range(5, 10) generates values from 5 to 9, range (5, 15, 3) generates values from 5 to 14 in a step of 3 i.e. 5, 8, 11, 14."
   ]
  },
  {
   "cell_type": "markdown",
   "metadata": {},
   "source": [
    "##### for loop\n",
    "- It is generally used in case we know beforehand on how many times iterations are required.\n",
    "- for loop is basically designed in order to iterate over a sequence of items.\n",
    "- the sequence of items can be a range of numbers, list, tuple, string or a dictionary.\n",
    "- for loop processes the items of any sequence one by one."
   ]
  },
  {
   "cell_type": "code",
   "execution_count": 61,
   "metadata": {},
   "outputs": [
    {
     "name": "stdout",
     "output_type": "stream",
     "text": [
      "0\n",
      "1\n",
      "2\n",
      "3\n",
      "4\n",
      "1 3 5 7 9 0\n",
      "1\n",
      "2\n",
      "3\n",
      "4\n",
      "All items done..!!\n"
     ]
    }
   ],
   "source": [
    "# syntax of a for loop.\n",
    "'''\n",
    "for variable in <sequence>:\n",
    "    statement(s) to repeat\n",
    "'''\n",
    "# <sequence> determines how many times the loop will get repeated.\n",
    "# inside the loop the variable is assigned a first value in the sequence & all the statements in the body of for loop are executed with that assigned value.\n",
    "# next the loop variable is assigned a next value from the sequence & agin the statements in the body of for loop are executed with that new value.\n",
    "# this is repeated until all the values in the sequence are processed.\n",
    "\n",
    "# using a for loop for iterating over a range of numbers.\n",
    "for i in range(5):\n",
    "    print(i)\n",
    "\n",
    "for i in range(1, 10, 2):\n",
    "    print(i, end=\" \")\n",
    "\n",
    "# for loop can also be used in conjunction with else statement.\n",
    "for i in range(5):\n",
    "    print(i)\n",
    "else:\n",
    "    print(\"All items done..!!\")    "
   ]
  },
  {
   "cell_type": "code",
   "execution_count": 14,
   "metadata": {},
   "outputs": [
    {
     "name": "stdout",
     "output_type": "stream",
     "text": [
      "10\n",
      "12\n",
      "14\n",
      "16\n",
      "18\n",
      "6\n",
      "7\n",
      "8\n",
      "9\n",
      "10\n",
      "11\n",
      "12\n",
      "13\n",
      "14\n",
      "5.0\n",
      "5.5\n",
      "6.0\n",
      "6.5\n",
      "7.0\n",
      "7.5\n",
      "8.0\n",
      "8.5\n",
      "9.0\n",
      "9.5\n",
      "10.0\n"
     ]
    }
   ],
   "source": [
    "# we can also perform some basic aritmetic operations while iterating through a range of numbers.\n",
    "for i in range(5, 10): \n",
    "    print(i * 2)\n",
    "\n",
    "for i in range(1, 10): \n",
    "    print(i + 5)   \n",
    "\n",
    "for i in range(10, 21):\n",
    "    print(i / 2)"
   ]
  },
  {
   "cell_type": "code",
   "execution_count": 13,
   "metadata": {},
   "outputs": [
    {
     "name": "stdout",
     "output_type": "stream",
     "text": [
      "R\n",
      "a\n",
      "h\n",
      "u\n",
      "l\n",
      "(0, 'R')\n",
      "(1, 'a')\n",
      "(2, 'h')\n",
      "(3, 'u')\n",
      "(4, 'l')\n",
      "(5, ' ')\n",
      "(6, 'A')\n",
      "(7, 'r')\n",
      "(8, 'o')\n",
      "(9, 'r')\n",
      "(10, 'a')\n"
     ]
    }
   ],
   "source": [
    "# using a for loop for iterating over a string.\n",
    "my_str = \"Rahul\"\n",
    "for i in my_str:\n",
    "    print(i)\n",
    "\n",
    "# we can also return the corresponding index positions along with the elements using the enumerate() function.\n",
    "my_str = \"Rahul Arora\"\n",
    "for i in enumerate(my_str):  # this will return tuples containing the index, value pair for each element of the string.\n",
    "    print(i)"
   ]
  },
  {
   "cell_type": "code",
   "execution_count": 16,
   "metadata": {},
   "outputs": [
    {
     "name": "stdout",
     "output_type": "stream",
     "text": [
      "10\n",
      "20\n",
      "30\n",
      "40\n",
      "50\n",
      "(0, 10)\n",
      "(1, 20)\n",
      "(2, 30)\n",
      "(3, 40)\n",
      "(4, 50)\n"
     ]
    }
   ],
   "source": [
    "# using a for loop for iterating over a list.\n",
    "my_list = [10, 20, 30, 40, 50]\n",
    "for i in my_list:\n",
    "    print(i)\n",
    "\n",
    "# we can also return the corresponding index positions along with the elements using the enumerate() function.\n",
    "my_list = [10, 20, 30, 40, 50]\n",
    "for i in enumerate(my_list):  # this will return tuples containing the index, value pair for each element of the list.\n",
    "    print(i)"
   ]
  },
  {
   "cell_type": "code",
   "execution_count": 23,
   "metadata": {},
   "outputs": [
    {
     "name": "stdout",
     "output_type": "stream",
     "text": [
      "Name Rahul\n",
      "Age 37\n",
      "Gender Male\n",
      "Country India\n",
      "Name\n",
      "Age\n",
      "Gender\n",
      "Country\n",
      "Rahul\n",
      "37\n",
      "Male\n",
      "India\n",
      "Name Rahul\n",
      "Age 37\n",
      "Gender Male\n",
      "Country India\n"
     ]
    }
   ],
   "source": [
    "# using a for loop for iterating over a dictionary.\n",
    "my_dict = {\"Name\": \"Rahul\",\n",
    "           \"Age\" : 37,\n",
    "           \"Gender\": \"Male\",\n",
    "           \"Country\": \"India\"}\n",
    "\n",
    "for key in my_dict:\n",
    "    print(key, my_dict[key])\n",
    "\n",
    "for key in my_dict.keys():\n",
    "    print(key)\n",
    "\n",
    "for value in my_dict.values():\n",
    "    print(value)\n",
    "\n",
    "for key, value in my_dict.items():\n",
    "    print(key, value)    "
   ]
  },
  {
   "cell_type": "markdown",
   "metadata": {},
   "source": [
    "##### Nested for Loop\n",
    "- A loop containing another loop inside its body.\n",
    "- In a nested loop, the innermost loop must terminate before the outer loop.\n",
    "- For each value of the outer loop, the inner loop will be executed."
   ]
  },
  {
   "cell_type": "code",
   "execution_count": 31,
   "metadata": {},
   "outputs": [
    {
     "name": "stdout",
     "output_type": "stream",
     "text": [
      "1 1\n",
      "1 2\n",
      "1 3\n",
      "2 1\n",
      "2 2\n",
      "2 3\n",
      "3 1\n",
      "3 2\n",
      "3 3\n",
      "4 1\n",
      "4 2\n",
      "4 3\n",
      "1 1 1 2 1 3 2 1 2 2 2 3 3 1 3 2 3 3 4 1 4 2 4 3 "
     ]
    }
   ],
   "source": [
    "# let us see an example.\n",
    "for i in range(1, 5):\n",
    "    for j in range(1, 4):\n",
    "        print(i, j)\n",
    "\n",
    "# we can also display the values horizontally.\n",
    "for i in range(1, 5):\n",
    "    for j in range(1, 4):\n",
    "        print(i, j, end=\" \")        "
   ]
  },
  {
   "cell_type": "code",
   "execution_count": 47,
   "metadata": {},
   "outputs": [
    {
     "name": "stdout",
     "output_type": "stream",
     "text": [
      "1 x 1 = 1\t1 x 2 = 2\t1 x 3 = 3\t1 x 4 = 4\t1 x 5 = 5\t1 x 6 = 6\t1 x 7 = 7\t1 x 8 = 8\t1 x 9 = 9\t1 x 10 = 10\t\n",
      "2 x 1 = 2\t2 x 2 = 4\t2 x 3 = 6\t2 x 4 = 8\t2 x 5 = 10\t2 x 6 = 12\t2 x 7 = 14\t2 x 8 = 16\t2 x 9 = 18\t2 x 10 = 20\t\n",
      "3 x 1 = 3\t3 x 2 = 6\t3 x 3 = 9\t3 x 4 = 12\t3 x 5 = 15\t3 x 6 = 18\t3 x 7 = 21\t3 x 8 = 24\t3 x 9 = 27\t3 x 10 = 30\t\n",
      "4 x 1 = 4\t4 x 2 = 8\t4 x 3 = 12\t4 x 4 = 16\t4 x 5 = 20\t4 x 6 = 24\t4 x 7 = 28\t4 x 8 = 32\t4 x 9 = 36\t4 x 10 = 40\t\n",
      "5 x 1 = 5\t5 x 2 = 10\t5 x 3 = 15\t5 x 4 = 20\t5 x 5 = 25\t5 x 6 = 30\t5 x 7 = 35\t5 x 8 = 40\t5 x 9 = 45\t5 x 10 = 50\t\n",
      "6 x 1 = 6\t6 x 2 = 12\t6 x 3 = 18\t6 x 4 = 24\t6 x 5 = 30\t6 x 6 = 36\t6 x 7 = 42\t6 x 8 = 48\t6 x 9 = 54\t6 x 10 = 60\t\n",
      "7 x 1 = 7\t7 x 2 = 14\t7 x 3 = 21\t7 x 4 = 28\t7 x 5 = 35\t7 x 6 = 42\t7 x 7 = 49\t7 x 8 = 56\t7 x 9 = 63\t7 x 10 = 70\t\n",
      "8 x 1 = 8\t8 x 2 = 16\t8 x 3 = 24\t8 x 4 = 32\t8 x 5 = 40\t8 x 6 = 48\t8 x 7 = 56\t8 x 8 = 64\t8 x 9 = 72\t8 x 10 = 80\t\n",
      "9 x 1 = 9\t9 x 2 = 18\t9 x 3 = 27\t9 x 4 = 36\t9 x 5 = 45\t9 x 6 = 54\t9 x 7 = 63\t9 x 8 = 72\t9 x 9 = 81\t9 x 10 = 90\t\n",
      "10 x 1 = 10\t10 x 2 = 20\t10 x 3 = 30\t10 x 4 = 40\t10 x 5 = 50\t10 x 6 = 60\t10 x 7 = 70\t10 x 8 = 80\t10 x 9 = 90\t10 x 10 = 100\t\n"
     ]
    }
   ],
   "source": [
    "# this time let us create a multiplication table for numbers from 1 to 10.\n",
    "for i in range(1, 11):\n",
    "    for j in range(1, 11):\n",
    "        print(f\"{i} x {j} = {i * j}\", end= \"\\t\")\n",
    "    print()    "
   ]
  },
  {
   "cell_type": "code",
   "execution_count": 50,
   "metadata": {},
   "outputs": [
    {
     "name": "stdout",
     "output_type": "stream",
     "text": [
      "2 1 \n",
      "3 1 3 2 \n",
      "4 1 4 2 4 3 \n",
      "5 1 5 2 5 3 5 4 \n",
      "6 1 6 2 6 3 6 4 6 5 \n"
     ]
    }
   ],
   "source": [
    "# let us take another example.\n",
    "for a in range(2, 7):\n",
    "    for b in range(1, a):\n",
    "        print(a, b, end=\" \")\n",
    "    print()    "
   ]
  },
  {
   "cell_type": "code",
   "execution_count": 90,
   "metadata": {},
   "outputs": [
    {
     "name": "stdout",
     "output_type": "stream",
     "text": [
      "* \n",
      "* * \n",
      "* * * \n",
      "* * * * \n",
      "* * * * * \n"
     ]
    }
   ],
   "source": [
    "# let us use the above example to create a pattern.\n",
    "for a in range(2, 7):\n",
    "    for b in range(1, a):\n",
    "        print('*', end=\" \")\n",
    "    print()    "
   ]
  },
  {
   "cell_type": "code",
   "execution_count": 94,
   "metadata": {},
   "outputs": [
    {
     "name": "stdout",
     "output_type": "stream",
     "text": [
      "* * * * * \n",
      "* * * * \n",
      "* * * \n",
      "* * \n",
      "* \n"
     ]
    }
   ],
   "source": [
    "# let us create the reverse of the above pattern.\n",
    "for a in range(6, 1, -1):\n",
    "    for b in range(1, a):\n",
    "        print('*', end=\" \")\n",
    "    print() "
   ]
  },
  {
   "cell_type": "markdown",
   "metadata": {},
   "source": [
    "##### Some more examples on application of for loop."
   ]
  },
  {
   "cell_type": "code",
   "execution_count": 63,
   "metadata": {},
   "outputs": [
    {
     "name": "stdout",
     "output_type": "stream",
     "text": [
      "[1, 2, 3, 4, 5, 6, 7, 8, 9, 10]\n",
      "Sum: 55\n"
     ]
    }
   ],
   "source": [
    "# to find the sum of all numbers that are stored in a list.\n",
    "my_list = list(range(1, 11))\n",
    "print(my_list)\n",
    "\n",
    "sum = 0\n",
    "for i in my_list:\n",
    "    sum += i\n",
    "print(\"Sum:\", sum)    "
   ]
  },
  {
   "cell_type": "code",
   "execution_count": 70,
   "metadata": {},
   "outputs": [
    {
     "name": "stdout",
     "output_type": "stream",
     "text": [
      "['Sapna', 'Sarvesha', 'Python']\n",
      "I love Sapna\n",
      "I love Sarvesha\n",
      "I love Python\n"
     ]
    }
   ],
   "source": [
    "# to iterate through elements in a list by using indexing.\n",
    "my_list = \"Sapna Sarvesha Python\".split()\n",
    "print(my_list)\n",
    "\n",
    "for i in range(len(my_list)):\n",
    "    print(\"I love\", my_list[i])"
   ]
  },
  {
   "cell_type": "code",
   "execution_count": 77,
   "metadata": {},
   "outputs": [
    {
     "name": "stdout",
     "output_type": "stream",
     "text": [
      "{'a': 5}\n"
     ]
    }
   ],
   "source": [
    "# to count the number of a particular character in a string.\n",
    "my_str = \"Hello, how are you, my name is Rahul Arora\"\n",
    "char = input(\"Enter the character:\")\n",
    "my_str = my_str.casefold()\n",
    "count = {}.fromkeys(char, 0)\n",
    "for char in my_str:\n",
    "    if char in count:\n",
    "        count[char] += 1\n",
    "print(count)"
   ]
  },
  {
   "cell_type": "code",
   "execution_count": 83,
   "metadata": {},
   "outputs": [
    {
     "name": "stdout",
     "output_type": "stream",
     "text": [
      "The factorial of 5 is 120\n"
     ]
    }
   ],
   "source": [
    "# to find the factorial of a number.\n",
    "num = int(input(\"Enter the number:\"))\n",
    "fact = 1\n",
    "for i in range(1, num + 1):\n",
    "    fact *= i\n",
    "print(f\"The factorial of {num} is {fact}\")    "
   ]
  },
  {
   "cell_type": "markdown",
   "metadata": {},
   "source": [
    "##### break statement\n",
    "- The break statement terminates the loop in which it is contained & the control goes to the statement immediately after the body of the loop.\n",
    "- In case the break statement is inside a nested loop then it will terminate the innermost loop."
   ]
  },
  {
   "cell_type": "code",
   "execution_count": 20,
   "metadata": {},
   "outputs": [
    {
     "name": "stdout",
     "output_type": "stream",
     "text": [
      "1\n",
      "2\n",
      "3\n",
      "4\n",
      "5\n",
      "6\n",
      "S\n",
      "u\n",
      "p\n",
      "e\n",
      "r\n",
      "Hello\n",
      "my\n",
      "name\n"
     ]
    }
   ],
   "source": [
    "# let us see through some examples.\n",
    "for i in range(1, 10):\n",
    "    if i == 7:  # here the loop is terminated as soon as the if conditions is satisfied.\n",
    "        break\n",
    "    else:    \n",
    "        print(i)\n",
    "\n",
    "my_str = \"Superior\"\n",
    "for i in my_str:\n",
    "    if i == \"i\":\n",
    "        break\n",
    "    else:\n",
    "        print(i)   \n",
    "\n",
    "my_list = \"Hello my name is Rahul Arora\".split()\n",
    "for i in my_list:\n",
    "    if i == 'is':\n",
    "        break\n",
    "    print(i)"
   ]
  },
  {
   "cell_type": "code",
   "execution_count": 8,
   "metadata": {},
   "outputs": [
    {
     "name": "stdout",
     "output_type": "stream",
     "text": [
      "101\n",
      "103\n",
      "107\n",
      "109\n",
      "113\n",
      "127\n",
      "131\n",
      "137\n",
      "139\n",
      "149\n"
     ]
    }
   ],
   "source": [
    "# here is an example showcasing application of break statement in a for loop.\n",
    "# to get all the prime numbers from a certain range of numbers.\n",
    "n1 = 100\n",
    "n2 = 150\n",
    "for num in range(n1, n2 + 1):\n",
    "    if num > 1:\n",
    "        for i in range(2, num):\n",
    "            if num % i == 0:\n",
    "                break\n",
    "        else:\n",
    "            print(num)"
   ]
  },
  {
   "cell_type": "markdown",
   "metadata": {},
   "source": [
    "##### continue statement\n",
    "- The continue statement skips the rest of the code inside a loop for the given iteration only.\n",
    "- Here the loop doesn't terminate rather continues on with the next iteration."
   ]
  },
  {
   "cell_type": "code",
   "execution_count": 19,
   "metadata": {},
   "outputs": [
    {
     "name": "stdout",
     "output_type": "stream",
     "text": [
      "1\n",
      "2\n",
      "4\n",
      "5\n",
      "R\n",
      "a\n",
      "u\n",
      "l\n",
      "Hello\n",
      "my\n",
      "is\n",
      "Rahul\n",
      "Arora\n"
     ]
    }
   ],
   "source": [
    "# let us see through some examples.\n",
    "for i in range(1, 6):\n",
    "    if i == 3:  # here the loop continues after skipping the iteration at 3.\n",
    "        continue\n",
    "    else:    \n",
    "        print(i)\n",
    "\n",
    "my_str = \"Rahul\"\n",
    "for i in my_str:\n",
    "    if i == \"h\":\n",
    "        continue\n",
    "    else:\n",
    "        print(i)\n",
    "\n",
    "my_list = \"Hello my name is Rahul Arora\".split()\n",
    "for i in my_list:\n",
    "    if i == 'name':\n",
    "        continue\n",
    "    print(i)\n",
    "        "
   ]
  },
  {
   "cell_type": "markdown",
   "metadata": {},
   "source": [
    "##### pass statement\n",
    "- The pass statement is basically a null statement & nothing happens when the pass statement is executed inside a loop."
   ]
  },
  {
   "cell_type": "code",
   "execution_count": 21,
   "metadata": {},
   "outputs": [],
   "source": [
    "# let us see through some examples.\n",
    "for i in range(1, 6):\n",
    "    pass   \n",
    "\n",
    "my_str = \"Rahul\"\n",
    "for i in my_str:\n",
    "    pass\n",
    "\n",
    "my_list = \"Hello my name is Rahul Arora\".split()\n",
    "for i in my_list:\n",
    "    pass"
   ]
  }
 ],
 "metadata": {
  "interpreter": {
   "hash": "31f2aee4e71d21fbe5cf8b01ff0e069b9275f58929596ceb00d14d90e3e16cd6"
  },
  "kernelspec": {
   "display_name": "Python 3.8.9 64-bit",
   "language": "python",
   "name": "python3"
  },
  "language_info": {
   "codemirror_mode": {
    "name": "ipython",
    "version": 3
   },
   "file_extension": ".py",
   "mimetype": "text/x-python",
   "name": "python",
   "nbconvert_exporter": "python",
   "pygments_lexer": "ipython3",
   "version": "3.8.9"
  },
  "orig_nbformat": 4
 },
 "nbformat": 4,
 "nbformat_minor": 2
}
