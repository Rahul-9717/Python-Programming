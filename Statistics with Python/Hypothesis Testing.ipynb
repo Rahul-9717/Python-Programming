{
 "cells": [
  {
   "cell_type": "markdown",
   "metadata": {},
   "source": [
    "#### **Hypothesis Testing**"
   ]
  },
  {
   "cell_type": "markdown",
   "metadata": {},
   "source": [
    "##### Anderson - Darling Normality Test\n",
    "- It is a goodness of fit which measures how well the data fits a specified ditribution.\n",
    "- It is most commonly used to determine whether or not the data follows normal distribution.\n",
    "- Usage: When Project Y is Continuous & to check whether Project Y is normal or non-normal.\n",
    "- Null Hypothesis(H0): The Data is normally distributed or it fits in the normal distribution.\n",
    "- Alternate Hypothesis(Ha): The Data is not normally distributed or it doesn't fits in the normal distribution."
   ]
  },
  {
   "cell_type": "code",
   "execution_count": 2,
   "metadata": {},
   "outputs": [
    {
     "data": {
      "text/html": [
       "<div>\n",
       "<style scoped>\n",
       "    .dataframe tbody tr th:only-of-type {\n",
       "        vertical-align: middle;\n",
       "    }\n",
       "\n",
       "    .dataframe tbody tr th {\n",
       "        vertical-align: top;\n",
       "    }\n",
       "\n",
       "    .dataframe thead th {\n",
       "        text-align: right;\n",
       "    }\n",
       "</style>\n",
       "<table border=\"1\" class=\"dataframe\">\n",
       "  <thead>\n",
       "    <tr style=\"text-align: right;\">\n",
       "      <th></th>\n",
       "      <th>Transaction ID</th>\n",
       "      <th>Cycle Time</th>\n",
       "      <th>City</th>\n",
       "      <th>Documented process available</th>\n",
       "      <th>Agent ID</th>\n",
       "      <th>Branch</th>\n",
       "      <th>Tenure</th>\n",
       "      <th>Shift</th>\n",
       "      <th>Day of Week</th>\n",
       "      <th>Week of Month</th>\n",
       "    </tr>\n",
       "  </thead>\n",
       "  <tbody>\n",
       "    <tr>\n",
       "      <th>0</th>\n",
       "      <td>1001</td>\n",
       "      <td>5.75</td>\n",
       "      <td>Del</td>\n",
       "      <td>N</td>\n",
       "      <td>1</td>\n",
       "      <td>CP</td>\n",
       "      <td>625</td>\n",
       "      <td>M</td>\n",
       "      <td>Mon</td>\n",
       "      <td>3</td>\n",
       "    </tr>\n",
       "    <tr>\n",
       "      <th>1</th>\n",
       "      <td>1002</td>\n",
       "      <td>4.61</td>\n",
       "      <td>Del</td>\n",
       "      <td>Y</td>\n",
       "      <td>2</td>\n",
       "      <td>CP</td>\n",
       "      <td>702</td>\n",
       "      <td>M</td>\n",
       "      <td>Tue</td>\n",
       "      <td>4</td>\n",
       "    </tr>\n",
       "    <tr>\n",
       "      <th>2</th>\n",
       "      <td>1003</td>\n",
       "      <td>2.96</td>\n",
       "      <td>Hyd</td>\n",
       "      <td>Y</td>\n",
       "      <td>3</td>\n",
       "      <td>JP</td>\n",
       "      <td>887</td>\n",
       "      <td>M</td>\n",
       "      <td>Thu</td>\n",
       "      <td>5</td>\n",
       "    </tr>\n",
       "    <tr>\n",
       "      <th>3</th>\n",
       "      <td>1004</td>\n",
       "      <td>4.65</td>\n",
       "      <td>Del</td>\n",
       "      <td>N</td>\n",
       "      <td>1</td>\n",
       "      <td>CP</td>\n",
       "      <td>694</td>\n",
       "      <td>M</td>\n",
       "      <td>Tue</td>\n",
       "      <td>3</td>\n",
       "    </tr>\n",
       "    <tr>\n",
       "      <th>4</th>\n",
       "      <td>1005</td>\n",
       "      <td>3.13</td>\n",
       "      <td>Hyd</td>\n",
       "      <td>Y</td>\n",
       "      <td>1</td>\n",
       "      <td>JP</td>\n",
       "      <td>867</td>\n",
       "      <td>M</td>\n",
       "      <td>Wed</td>\n",
       "      <td>1</td>\n",
       "    </tr>\n",
       "  </tbody>\n",
       "</table>\n",
       "</div>"
      ],
      "text/plain": [
       "   Transaction ID  Cycle Time City Documented process available  Agent ID  \\\n",
       "0            1001        5.75  Del                            N         1   \n",
       "1            1002        4.61  Del                            Y         2   \n",
       "2            1003        2.96  Hyd                            Y         3   \n",
       "3            1004        4.65  Del                            N         1   \n",
       "4            1005        3.13  Hyd                            Y         1   \n",
       "\n",
       "  Branch  Tenure Shift Day of Week  Week of Month  \n",
       "0     CP     625     M         Mon              3  \n",
       "1     CP     702     M         Tue              4  \n",
       "2     JP     887     M         Thu              5  \n",
       "3     CP     694     M         Tue              3  \n",
       "4     JP     867     M         Wed              1  "
      ]
     },
     "execution_count": 2,
     "metadata": {},
     "output_type": "execute_result"
    }
   ],
   "source": [
    "# Let us first import a dataset which contains cycle time of money transfer banking transactions in hours.\n",
    "import numpy as np\n",
    "import pandas as pd\n",
    "import scipy.stats as stats\n",
    "import matplotlib.pyplot as plt\n",
    "import seaborn as sns\n",
    "df = pd.read_csv(\"/Users/rahul_arora/Downloads/Cycle Time - Sheet1.csv\")\n",
    "df.head()"
   ]
  },
  {
   "cell_type": "code",
   "execution_count": 3,
   "metadata": {},
   "outputs": [
    {
     "data": {
      "text/plain": [
       "<seaborn.axisgrid.FacetGrid at 0x10de8f370>"
      ]
     },
     "execution_count": 3,
     "metadata": {},
     "output_type": "execute_result"
    },
    {
     "data": {
      "image/png": "[encoded data removed]",
      "text/plain": [
       "<Figure size 360x360 with 1 Axes>"
      ]
     },
     "metadata": {
      "needs_background": "light"
     },
     "output_type": "display_data"
    }
   ],
   "source": [
    "# let us first see through a histogram how the cycle time data is distributed.\n",
    "sns.displot(data=df, x=\"Cycle Time\", kind=\"hist\", kde=True)  # seems like the data is normally distributed as evident by the KDE plot, but will confirm the same through normality test."
   ]
  },
  {
   "cell_type": "code",
   "execution_count": 4,
   "metadata": {},
   "outputs": [
    {
     "name": "stdout",
     "output_type": "stream",
     "text": [
      "AndersonResult(statistic=0.2903419429972729, critical_values=array([0.527, 0.6  , 0.719, 0.839, 0.998]), significance_level=array([15. , 10. ,  5. ,  2.5,  1. ]))\n",
      "Verdict: Fail to reject the null hypothesis\n",
      "The given data is normally distributed at 95% confidence level\n"
     ]
    }
   ],
   "source": [
    "# let us now perform the Anderson_Darling Normality Test.\n",
    "test_result = stats.anderson(df[\"Cycle Time\"], dist=\"norm\")\n",
    "print(test_result)\n",
    "\n",
    "test_statistic = test_result[0]\n",
    "critical_value = test_result[1][2]\n",
    "sig_level = test_result[2][2]\n",
    "\n",
    "if test_statistic > critical_value:\n",
    "    print(\"Verdict: Reject the null hypothesis\")\n",
    "    print(f\"The given data is not normally distributed at {100 - (sig_level):.0f}% confidence level\")\n",
    "else:\n",
    "    print(\"Verdict: Fail to reject the null hypothesis\")\n",
    "    print(f\"The given data is normally distributed at {100 - (sig_level):.0f}% confidence level\")"
   ]
  },
  {
   "cell_type": "code",
   "execution_count": 5,
   "metadata": {},
   "outputs": [
    {
     "name": "stdout",
     "output_type": "stream",
     "text": [
      "Test Statistic: 0.9827470779418945\n",
      "P Value: 0.8442468047142029\n",
      "Verdict: Fail to reject the null hypothesis\n"
     ]
    }
   ],
   "source": [
    "# let us perform another test known as the shapiro wilk test to check for normality.\n",
    "test_result = stats.shapiro(df[\"Cycle Time\"])\n",
    "print(\"Test Statistic:\", test_result[0])\n",
    "print(\"P Value:\", test_result[1])\n",
    "\n",
    "signf_level = 0.05\n",
    "\n",
    "if test_result[1] < signf_level:\n",
    "    print(\"Verdict: Reject the null hypothesis\")\n",
    "else:\n",
    "    print(\"Verdict: Fail to reject the null hypothesis\")   "
   ]
  },
  {
   "cell_type": "code",
   "execution_count": 6,
   "metadata": {},
   "outputs": [
    {
     "data": {
      "text/html": [
       "<div>\n",
       "<style scoped>\n",
       "    .dataframe tbody tr th:only-of-type {\n",
       "        vertical-align: middle;\n",
       "    }\n",
       "\n",
       "    .dataframe tbody tr th {\n",
       "        vertical-align: top;\n",
       "    }\n",
       "\n",
       "    .dataframe thead th {\n",
       "        text-align: right;\n",
       "    }\n",
       "</style>\n",
       "<table border=\"1\" class=\"dataframe\">\n",
       "  <thead>\n",
       "    <tr style=\"text-align: right;\">\n",
       "      <th></th>\n",
       "      <th>AHT</th>\n",
       "    </tr>\n",
       "  </thead>\n",
       "  <tbody>\n",
       "    <tr>\n",
       "      <th>0</th>\n",
       "      <td>2.14990</td>\n",
       "    </tr>\n",
       "    <tr>\n",
       "      <th>1</th>\n",
       "      <td>2.24806</td>\n",
       "    </tr>\n",
       "    <tr>\n",
       "      <th>2</th>\n",
       "      <td>2.69727</td>\n",
       "    </tr>\n",
       "    <tr>\n",
       "      <th>3</th>\n",
       "      <td>3.56381</td>\n",
       "    </tr>\n",
       "    <tr>\n",
       "      <th>4</th>\n",
       "      <td>2.98438</td>\n",
       "    </tr>\n",
       "  </tbody>\n",
       "</table>\n",
       "</div>"
      ],
      "text/plain": [
       "       AHT\n",
       "0  2.14990\n",
       "1  2.24806\n",
       "2  2.69727\n",
       "3  3.56381\n",
       "4  2.98438"
      ]
     },
     "execution_count": 6,
     "metadata": {},
     "output_type": "execute_result"
    }
   ],
   "source": [
    "# let us perform the normality test for another dataset.\n",
    "aht = pd.read_csv(\"/Users/rahul_arora/Downloads/CT Data - Sheet2.csv\")\n",
    "aht.head()"
   ]
  },
  {
   "cell_type": "code",
   "execution_count": 7,
   "metadata": {},
   "outputs": [
    {
     "data": {
      "text/plain": [
       "<seaborn.axisgrid.FacetGrid at 0x12b6b5c70>"
      ]
     },
     "execution_count": 7,
     "metadata": {},
     "output_type": "execute_result"
    },
    {
     "data": {
      "image/png": "[encoded data removed]",
      "text/plain": [
       "<Figure size 360x360 with 1 Axes>"
      ]
     },
     "metadata": {
      "needs_background": "light"
     },
     "output_type": "display_data"
    }
   ],
   "source": [
    "# let us also see visually how the aht is distributed through a histogram.\n",
    "sns.displot(data=aht, x=\"AHT\", kind=\"hist\", kde=True)  # seems like the data is skewed towards right as evident by the KDE plot, but will confirm the same through normality test."
   ]
  },
  {
   "cell_type": "code",
   "execution_count": 8,
   "metadata": {},
   "outputs": [
    {
     "name": "stdout",
     "output_type": "stream",
     "text": [
      "AndersonResult(statistic=0.9772587233244394, critical_values=array([0.537, 0.612, 0.734, 0.856, 1.018]), significance_level=array([15. , 10. ,  5. ,  2.5,  1. ]))\n",
      "Verdict: Reject the null hypothesis\n",
      "The given data is not normally distributed at 95% confidence level\n"
     ]
    }
   ],
   "source": [
    "# now let us perform the normality test.\n",
    "test_result = stats.anderson(aht[\"AHT\"], dist=\"norm\")\n",
    "print(test_result)\n",
    "\n",
    "test_statistic = test_result[0]\n",
    "critical_value = test_result[1][2]\n",
    "sig_level = test_result[2][2]\n",
    "\n",
    "if test_statistic > critical_value:\n",
    "    print(\"Verdict: Reject the null hypothesis\")\n",
    "    print(f\"The given data is not normally distributed at {100 - (sig_level):.0f}% confidence level\")\n",
    "else:\n",
    "    print(\"Verdict: Fail to reject the null hypothesis\")\n",
    "    print(f\"The given data is normally distributed at {100 - (sig_level):.0f}% confidence level\")"
   ]
  },
  {
   "cell_type": "code",
   "execution_count": 9,
   "metadata": {},
   "outputs": [
    {
     "name": "stdout",
     "output_type": "stream",
     "text": [
      "Test Statistic: 0.9121401309967041\n",
      "P Value: 0.0015880848513916135\n",
      "Verdict: Reject the null hypothesis\n"
     ]
    }
   ],
   "source": [
    "# let us also perform the shapiro wilk test to check for normality.\n",
    "aht_data = aht[\"AHT\"]\n",
    "test_result = stats.shapiro(aht)\n",
    "print(\"Test Statistic:\", test_result[0])\n",
    "print(\"P Value:\", test_result[1])\n",
    "\n",
    "signf_level = 0.05\n",
    "\n",
    "if test_result[1] < signf_level:\n",
    "    print(\"Verdict: Reject the null hypothesis\")\n",
    "else:\n",
    "    print(\"Verdict: Fail to reject the null hypothesis\") "
   ]
  },
  {
   "cell_type": "markdown",
   "metadata": {},
   "source": [
    "##### One Sample T-Test\n",
    "- Usage: When Project Y is Continuous & Factor X is Discrete (Y is Normal).\n",
    "- Project Objective: Centering\n",
    "- Test Objective: To compare the mean of a sample with a standard hypothesized value. \n",
    "- Null Hypothesis(H0): μ = standard value\n",
    "- Alternate Hypothesis(Ha): μ != standard value"
   ]
  },
  {
   "cell_type": "code",
   "execution_count": 10,
   "metadata": {},
   "outputs": [
    {
     "data": {
      "text/plain": [
       "0    5.75\n",
       "1    4.61\n",
       "2    2.96\n",
       "3    4.65\n",
       "4    3.13\n",
       "Name: Cycle Time, dtype: float64"
      ]
     },
     "execution_count": 10,
     "metadata": {},
     "output_type": "execute_result"
    }
   ],
   "source": [
    "# here in the above example we are testing a hypothesis whether there is a significant difference between the hypothesized value which is 3 hours & the mean cycle time.\n",
    "# thus HO: Mean Cycle time = 3 Hours & Ha: Mean Cycle Time != 3 Hours\n",
    "# let us now take a subset from the data frame containing only the cycle time data.\n",
    "cycle_time = df[\"Cycle Time\"]\n",
    "cycle_time.head()"
   ]
  },
  {
   "cell_type": "code",
   "execution_count": 11,
   "metadata": {},
   "outputs": [
    {
     "data": {
      "text/plain": [
       "<AxesSubplot:ylabel='Cycle Time'>"
      ]
     },
     "execution_count": 11,
     "metadata": {},
     "output_type": "execute_result"
    },
    {
     "data": {
      "image/png": "[encoded data removed]",
      "text/plain": [
       "<Figure size 432x288 with 1 Axes>"
      ]
     },
     "metadata": {
      "needs_background": "light"
     },
     "output_type": "display_data"
    }
   ],
   "source": [
    "# let us also create the box plot for cycle time data.\n",
    "sns.boxplot(y=cycle_time)"
   ]
  },
  {
   "cell_type": "code",
   "execution_count": 12,
   "metadata": {},
   "outputs": [
    {
     "name": "stdout",
     "output_type": "stream",
     "text": [
      "T-Test Result: Ttest_1sampResult(statistic=6.526673444217735, pvalue=1.797826765712201e-07)\n",
      "Verdict: Reject the null hypothesis\n"
     ]
    }
   ],
   "source": [
    "# now let us perform the One Sample T-Test.\n",
    "test_result = stats.ttest_1samp(cycle_time, popmean=3)\n",
    "alpha = 0.05\n",
    "print(\"T-Test Result:\", test_result)\n",
    "\n",
    "if test_result[1] < alpha:\n",
    "    print(\"Verdict: Reject the null hypothesis\")\n",
    "else:\n",
    "    print(\"Verdict: Fail to reject the null hypothesis\")   \n",
    "\n",
    "# conclusion : here p value comes out to be 0.00000017978 which is way below the significance level i.e alpha value of 0.05, hence we reject the null hypothesis."
   ]
  },
  {
   "cell_type": "markdown",
   "metadata": {},
   "source": [
    "##### Two Sample T Test\n",
    "- Usage: When Project Y is Continuous & Factor X is Discrete (Y is Normal)\n",
    "- Project Objective: Centering\n",
    "- Test Objective: To compare the mean of data taken from two subgroups.\n",
    "- Variance of two samples can be equal or unequal & in both these conditions the approach of performing the test will vary.\n",
    "- Null Hypothesis(H0): μ1 = μ2\n",
    "- Alternate Hypothesis(Ha): μ1 != μ2"
   ]
  },
  {
   "cell_type": "code",
   "execution_count": 13,
   "metadata": {},
   "outputs": [],
   "source": [
    "# now from the above dataset let us test whether there a significant difference in the mean cycle time for transactions that happened in branch located in Delhi,\n",
    "# with the mean cycle time for transactions that happened in branch located in Hyderabad.\n",
    "# let us now create two subsets from the data frame one containing data for cycle time for delhi & other for hyderabad.\n",
    "ct_city = df[[\"Cycle Time\", \"City\"]]\n",
    "ct_del = ct_city[ct_city[\"City\"] == \"Del\"]\n",
    "ct_hyd = ct_city[ct_city[\"City\"] == \"Hyd\"]"
   ]
  },
  {
   "cell_type": "code",
   "execution_count": 14,
   "metadata": {},
   "outputs": [
    {
     "data": {
      "text/plain": [
       "<AxesSubplot:xlabel='City', ylabel='Cycle Time'>"
      ]
     },
     "execution_count": 14,
     "metadata": {},
     "output_type": "execute_result"
    },
    {
     "data": {
      "image/png": "[encoded data removed]",
      "text/plain": [
       "<Figure size 432x288 with 1 Axes>"
      ]
     },
     "metadata": {
      "needs_background": "light"
     },
     "output_type": "display_data"
    }
   ],
   "source": [
    "# let us also create the box plot for cycle time data grouped by city.\n",
    "sns.boxplot(data=ct_city, y=\"Cycle Time\", x=\"City\")  # clearly there is a huge difference in the cycle times for both the cities, however let us statistically confirm the same."
   ]
  },
  {
   "cell_type": "code",
   "execution_count": 15,
   "metadata": {},
   "outputs": [
    {
     "name": "stdout",
     "output_type": "stream",
     "text": [
      "Ttest_indResult(statistic=6.732824703565441, pvalue=1.1353097103588846e-07)\n",
      "Verdict: Reject the null hypothesis\n"
     ]
    }
   ],
   "source": [
    "# now let us perform the Two Sample T-Test assuming equal variances.\n",
    "test_result = stats.ttest_ind(ct_del[\"Cycle Time\"], ct_hyd[\"Cycle Time\"], equal_var=True)\n",
    "alpha = 0.05\n",
    "print(test_result)\n",
    "\n",
    "if test_result[1] < alpha:\n",
    "    print(\"Verdict: Reject the null hypothesis\")\n",
    "else:\n",
    "    print(\"Verdict: Fail to reject the null hypothesis\")\n",
    "\n",
    "# conclusion : here p value comes out to be 0.000000113531 which is way below the significance level i.e alpha value of 0.05, hence we reject the null hypothesis."
   ]
  },
  {
   "cell_type": "code",
   "execution_count": 16,
   "metadata": {},
   "outputs": [
    {
     "name": "stdout",
     "output_type": "stream",
     "text": [
      "Ttest_indResult(statistic=6.874723550564371, pvalue=7.694908298803646e-08)\n",
      "Verdict: Reject the null hypothesis\n"
     ]
    }
   ],
   "source": [
    "# also let us perform the Two Sample T-Test assuming unequal variances.\n",
    "test_result = stats.ttest_ind(ct_del[\"Cycle Time\"], ct_hyd[\"Cycle Time\"], equal_var=False)\n",
    "alpha = 0.05\n",
    "print(test_result)\n",
    "\n",
    "if test_result[1] < alpha:\n",
    "    print(\"Verdict: Reject the null hypothesis\")\n",
    "else:\n",
    "    print(\"Verdict: Fail to reject the null hypothesis\")\n",
    "\n",
    "# conclusion : here p value comes out to be 0.000000076949 which is way below the significance level i.e alpha value of 0.05, hence we reject the null hypothesis."
   ]
  },
  {
   "cell_type": "markdown",
   "metadata": {},
   "source": [
    "##### ANOVA - One Way\n",
    "- Usage: When Project Y is Continuous & Factor X is Discrete (Y is Normal).\n",
    "- Project Objective: Centering\n",
    "- Test Objective: To compare the mean of data taken from more than two subgroups.\n",
    "- Null Hypothesis(H0): All means are equal.\n",
    "- Alternate Hypothesis(Ha): At least one of the mean is different.\n",
    "- Assumption : The variance amongst the sub groups are assumed to be equal."
   ]
  },
  {
   "cell_type": "code",
   "execution_count": 17,
   "metadata": {},
   "outputs": [],
   "source": [
    "# now from the dataset let us test whether there is a difference in the mean cycle time of transactions that happened in morning shift, afternoon shift & evening shift.\n",
    "\n",
    "# let us first install & import the statsmodels library.\n",
    "# %pip install statsmodels\n",
    "\n",
    "import statsmodels.stats.oneway as oneway"
   ]
  },
  {
   "cell_type": "code",
   "execution_count": 18,
   "metadata": {},
   "outputs": [
    {
     "data": {
      "text/plain": [
       "array(['M', 'A', 'E'], dtype=object)"
      ]
     },
     "execution_count": 18,
     "metadata": {},
     "output_type": "execute_result"
    }
   ],
   "source": [
    "# let us now create three subsets from the data frame one containing data for cycle time for morning shift, other for afternoon shift & one for evening shift.\n",
    "ct_shift = df[[\"Cycle Time\", \"Shift\"]]\n",
    "ct_m = ct_shift[ct_shift[\"Shift\"] == \"M\"]\n",
    "ct_a = ct_shift[ct_shift[\"Shift\"] == \"A\"]\n",
    "ct_e = ct_shift[ct_shift[\"Shift\"] == \"E\"]\n",
    "ct_shift[\"Shift\"].unique()"
   ]
  },
  {
   "cell_type": "code",
   "execution_count": 19,
   "metadata": {},
   "outputs": [
    {
     "data": {
      "text/plain": [
       "<AxesSubplot:xlabel='Shift', ylabel='Cycle Time'>"
      ]
     },
     "execution_count": 19,
     "metadata": {},
     "output_type": "execute_result"
    },
    {
     "data": {
      "image/png": "[encoded data removed]",
      "text/plain": [
       "<Figure size 432x288 with 1 Axes>"
      ]
     },
     "metadata": {
      "needs_background": "light"
     },
     "output_type": "display_data"
    }
   ],
   "source": [
    "# let us also create the box plot of the cycle time basis the shifts.\n",
    "sns.boxplot(data=ct_shift, x=\"Shift\", y=\"Cycle Time\")  # there is no significant difference in the cycle times amongst three shifts, let us next confirm the same statistically."
   ]
  },
  {
   "cell_type": "code",
   "execution_count": 20,
   "metadata": {},
   "outputs": [
    {
     "name": "stdout",
     "output_type": "stream",
     "text": [
      "F_onewayResult(statistic=0.18999329815502175, pvalue=0.8278907282649468)\n",
      "Verdict: Fail to reject the null hypothesis\n"
     ]
    }
   ],
   "source": [
    "# let us now perform the ANOVA test.\n",
    "test_result = stats.f_oneway(ct_m[\"Cycle Time\"], ct_a[\"Cycle Time\"], ct_e[\"Cycle Time\"])\n",
    "alpha = 0.05\n",
    "print(test_result)\n",
    "\n",
    "if test_result[1] < alpha:\n",
    "    print(\"Verdict: Reject the null hypothesis\")\n",
    "else:\n",
    "    print(\"Verdict: Fail to reject the null hypothesis\")"
   ]
  },
  {
   "cell_type": "code",
   "execution_count": 21,
   "metadata": {},
   "outputs": [
    {
     "name": "stdout",
     "output_type": "stream",
     "text": [
      "statistic = 0.1899932981550214\n",
      "pvalue = 0.8278907282649468\n",
      "df = (2.0, 32.0)\n",
      "df_num = 2.0\n",
      "df_denom = 32.0\n",
      "nobs_t = 35.0\n",
      "n_groups = 3\n",
      "means = [3.96083333 4.212      4.15846154]\n",
      "nobs = [12. 10. 13.]\n",
      "vars_ = [0.67268106 0.91197333 1.5136641 ]\n",
      "use_var = equal\n",
      "welch_correction = True\n",
      "tuple = (0.1899932981550214, 0.8278907282649468)\n",
      "Verdict: Fail to reject the null hypothesis\n"
     ]
    }
   ],
   "source": [
    "# let us see an alternative way to perform the ANOVA Test.\n",
    "test_result = oneway.anova_oneway((ct_m[\"Cycle Time\"], ct_a[\"Cycle Time\"], ct_e[\"Cycle Time\"]), use_var=\"equal\")\n",
    "alpha = 0.05\n",
    "print(test_result)\n",
    "\n",
    "if test_result[1] < alpha:\n",
    "    print(\"Verdict: Reject the null hypothesis\")\n",
    "else:\n",
    "    print(\"Verdict: Fail to reject the null hypothesis\")"
   ]
  },
  {
   "cell_type": "markdown",
   "metadata": {},
   "source": [
    "##### One Variance Test\n",
    "- Usage: When Project Y is Continuous & Factor X is Discrete.(Y is normal) \n",
    "- Project Objective: Variation\n",
    "- Test Objective: To compare the variance or standard deviation of a sample with a standard value. \n",
    "- Null Hypothesis(H0): σ = standard value\n",
    "- Alternate Hypothesis(Ha): σ ≠ standard value "
   ]
  },
  {
   "cell_type": "code",
   "execution_count": 22,
   "metadata": {},
   "outputs": [
    {
     "data": {
      "text/html": [
       "<div>\n",
       "<style scoped>\n",
       "    .dataframe tbody tr th:only-of-type {\n",
       "        vertical-align: middle;\n",
       "    }\n",
       "\n",
       "    .dataframe tbody tr th {\n",
       "        vertical-align: top;\n",
       "    }\n",
       "\n",
       "    .dataframe thead th {\n",
       "        text-align: right;\n",
       "    }\n",
       "</style>\n",
       "<table border=\"1\" class=\"dataframe\">\n",
       "  <thead>\n",
       "    <tr style=\"text-align: right;\">\n",
       "      <th></th>\n",
       "      <th>Transaction ID</th>\n",
       "      <th>Cycle Time</th>\n",
       "      <th>City</th>\n",
       "      <th>Documented process available</th>\n",
       "      <th>Agent ID</th>\n",
       "      <th>Branch</th>\n",
       "      <th>Tenure</th>\n",
       "      <th>Shift</th>\n",
       "      <th>Day of Week</th>\n",
       "      <th>Week of Month</th>\n",
       "    </tr>\n",
       "  </thead>\n",
       "  <tbody>\n",
       "    <tr>\n",
       "      <th>0</th>\n",
       "      <td>1001</td>\n",
       "      <td>5.75</td>\n",
       "      <td>Del</td>\n",
       "      <td>N</td>\n",
       "      <td>1</td>\n",
       "      <td>CP</td>\n",
       "      <td>625</td>\n",
       "      <td>M</td>\n",
       "      <td>Mon</td>\n",
       "      <td>3</td>\n",
       "    </tr>\n",
       "    <tr>\n",
       "      <th>1</th>\n",
       "      <td>1002</td>\n",
       "      <td>4.61</td>\n",
       "      <td>Del</td>\n",
       "      <td>Y</td>\n",
       "      <td>2</td>\n",
       "      <td>CP</td>\n",
       "      <td>702</td>\n",
       "      <td>M</td>\n",
       "      <td>Tue</td>\n",
       "      <td>4</td>\n",
       "    </tr>\n",
       "    <tr>\n",
       "      <th>2</th>\n",
       "      <td>1003</td>\n",
       "      <td>2.96</td>\n",
       "      <td>Hyd</td>\n",
       "      <td>Y</td>\n",
       "      <td>3</td>\n",
       "      <td>JP</td>\n",
       "      <td>887</td>\n",
       "      <td>M</td>\n",
       "      <td>Thu</td>\n",
       "      <td>5</td>\n",
       "    </tr>\n",
       "    <tr>\n",
       "      <th>3</th>\n",
       "      <td>1004</td>\n",
       "      <td>4.65</td>\n",
       "      <td>Del</td>\n",
       "      <td>N</td>\n",
       "      <td>1</td>\n",
       "      <td>CP</td>\n",
       "      <td>694</td>\n",
       "      <td>M</td>\n",
       "      <td>Tue</td>\n",
       "      <td>3</td>\n",
       "    </tr>\n",
       "    <tr>\n",
       "      <th>4</th>\n",
       "      <td>1005</td>\n",
       "      <td>3.13</td>\n",
       "      <td>Hyd</td>\n",
       "      <td>Y</td>\n",
       "      <td>1</td>\n",
       "      <td>JP</td>\n",
       "      <td>867</td>\n",
       "      <td>M</td>\n",
       "      <td>Wed</td>\n",
       "      <td>1</td>\n",
       "    </tr>\n",
       "  </tbody>\n",
       "</table>\n",
       "</div>"
      ],
      "text/plain": [
       "   Transaction ID  Cycle Time City Documented process available  Agent ID  \\\n",
       "0            1001        5.75  Del                            N         1   \n",
       "1            1002        4.61  Del                            Y         2   \n",
       "2            1003        2.96  Hyd                            Y         3   \n",
       "3            1004        4.65  Del                            N         1   \n",
       "4            1005        3.13  Hyd                            Y         1   \n",
       "\n",
       "  Branch  Tenure Shift Day of Week  Week of Month  \n",
       "0     CP     625     M         Mon              3  \n",
       "1     CP     702     M         Tue              4  \n",
       "2     JP     887     M         Thu              5  \n",
       "3     CP     694     M         Tue              3  \n",
       "4     JP     867     M         Wed              1  "
      ]
     },
     "execution_count": 22,
     "metadata": {},
     "output_type": "execute_result"
    }
   ],
   "source": [
    "# let us first import the banking transactions data.\n",
    "df = pd.read_csv(\"/Users/rahul_arora/Downloads/Cycle Time - Sheet1.csv\")\n",
    "df.head()"
   ]
  },
  {
   "cell_type": "code",
   "execution_count": 23,
   "metadata": {},
   "outputs": [
    {
     "data": {
      "text/plain": [
       "0    5.75\n",
       "1    4.61\n",
       "2    2.96\n",
       "3    4.65\n",
       "4    3.13\n",
       "Name: Cycle Time, dtype: float64"
      ]
     },
     "execution_count": 23,
     "metadata": {},
     "output_type": "execute_result"
    }
   ],
   "source": [
    "# Let us take the subset of cycle time column data from the above data frame.\n",
    "ct = df[\"Cycle Time\"]\n",
    "ct.head()"
   ]
  },
  {
   "cell_type": "code",
   "execution_count": 24,
   "metadata": {},
   "outputs": [
    {
     "name": "stdout",
     "output_type": "stream",
     "text": [
      "Standard Deviation: 1.0025297413807437\n",
      "Count: 35\n",
      "Degree of Freedom: 34\n",
      "Test Statistic: 15.187662222222217\n",
      "51.96599519512189\n",
      "19.806252939214588\n"
     ]
    }
   ],
   "source": [
    "# here in the above example we are testing a hypothesis whether there is a significant difference between the hypothesized std deviation value which is 1.5 hours & the std deviation of cycle time.\n",
    "# thus HO: Std Deviation Cycle time = 1.5 Hours & Ha: Std Deviation Cycle Time != 1.5 Hours\n",
    "# let us first calculate the standard deviation of the cycle time data.\n",
    "ct_std_dev = ct.std()\n",
    "ct_n_val = ct.count()\n",
    "dof = ct_n_val - 1\n",
    "std_sd = 1.5\n",
    "signf_level = 0.05\n",
    "print(\"Standard Deviation:\", ct_std_dev)\n",
    "print(\"Count:\", ct_n_val)\n",
    "print(\"Degree of Freedom:\", dof)\n",
    "\n",
    "# now let us calculate the test statistic value.\n",
    "test_stat = (dof)*(ct_std_dev**2) / (std_sd**2)\n",
    "print(\"Test Statistic:\", test_stat)\n",
    "\n",
    "# now let us calculate the critical values based on significance level.\n",
    "critical_value_1 = stats.chi2.isf((signf_level/2), dof)\n",
    "critical_value_2 = stats.chi2.isf((1-(signf_level/2)), dof)\n",
    "print(critical_value_1)\n",
    "print(critical_value_2)"
   ]
  },
  {
   "cell_type": "markdown",
   "metadata": {},
   "source": [
    "##### Two Variances Test\n",
    "- Usage: When Project Y is Continuous & Factor X is Discrete. \n",
    "- Project Objective: Variation\n",
    "- Test Objective: To compare the variance or standard deviation of two samples or subgroups. \n",
    "- Null Hypothesis(H0): σ1 = σ2 or \n",
    "- Alternate Hypothesis(Ha): σ1 ≠ σ2 "
   ]
  },
  {
   "cell_type": "code",
   "execution_count": 25,
   "metadata": {},
   "outputs": [
    {
     "name": "stdout",
     "output_type": "stream",
     "text": [
      "LeveneResult(statistic=0.5015154291793472, pvalue=0.48380749936188994)\n",
      "0.7266308537770872 0.5711125837637736\n",
      "Verdict: Fail to reject the null hypothesis\n"
     ]
    }
   ],
   "source": [
    "# let us an perform the Two Variances Test to check whether there a significant difference in the cycle time standard deviation for transactions that happened in branch located in Delhi,\n",
    "# with the cycle time standard devaition for transactions that happened in branch located in Hyderabad.\n",
    "data1 = ct_del[\"Cycle Time\"]\n",
    "data2 = ct_hyd[\"Cycle Time\"]\n",
    "\n",
    "signf_level = 0.05\n",
    "datasets_normality = input(\"Are the data sets normally distributed, Yes / No:\")\n",
    "\n",
    "if datasets_normality == \"Yes\":\n",
    "    print(stats.bartlett(data1, data2))\n",
    "    print(data1.std(), data2.std())\n",
    "else:\n",
    "    print(stats.levene(data1, data2))\n",
    "    print(data1.std(), data2.std())    \n",
    "\n",
    "if test_result[1] < signf_level:\n",
    "    print(\"Verdict: Reject the null hypothesis\")\n",
    "else:\n",
    "    print(\"Verdict: Fail to reject the null hypothesis\")"
   ]
  },
  {
   "cell_type": "markdown",
   "metadata": {},
   "source": [
    "##### Test of Equal Variances\n",
    "- Usage: When Project Y is Continuous & Factor X is Discrete. \n",
    "- Project Objective: Variation\n",
    "- Test Objective: To compare the variance or standard deviation of more than two samples or subgroups. \n",
    "- Null Hypothesis(H0): All variances are equal\n",
    "- Alternate Hypothesis(Ha): At-least one variance is different."
   ]
  },
  {
   "cell_type": "code",
   "execution_count": 26,
   "metadata": {},
   "outputs": [
    {
     "name": "stdout",
     "output_type": "stream",
     "text": [
      "LeveneResult(statistic=1.2821357033525596, pvalue=0.29131385919753805)\n",
      "0.8201713605131922 0.9549729490060613 1.230310571589183\n",
      "Verdict: Fail to reject the null hypothesis\n"
     ]
    }
   ],
   "source": [
    "# now from the dataset let us test whether there is a difference in the cycle time standard deviation of transactions that happened in morning shift, afternoon shift & evening shift.\n",
    "ct_shift = df[[\"Cycle Time\", \"Shift\"]]\n",
    "ct_m = ct_shift[ct_shift[\"Shift\"] == \"M\"]\n",
    "ct_a = ct_shift[ct_shift[\"Shift\"] == \"A\"]\n",
    "ct_e = ct_shift[ct_shift[\"Shift\"] == \"E\"]\n",
    "\n",
    "data1 = ct_m[\"Cycle Time\"]\n",
    "data2 = ct_a[\"Cycle Time\"]\n",
    "data3 = ct_e[\"Cycle Time\"]\n",
    "\n",
    "signf_level = 0.05\n",
    "datasets_normality = input(\"Are the data sets normally distributed, Yes / No:\")\n",
    "\n",
    "test_result1 = stats.bartlett(data1, data2, data3)\n",
    "test_result2 = stats.levene(data1, data2, data3)\n",
    "\n",
    "if datasets_normality == \"Yes\":\n",
    "    print(test_result1)\n",
    "    print(data1.std(), data2.std(), data3.std())\n",
    "else:\n",
    "    print(test_result2)\n",
    "    print(data1.std(), data2.std(), data3.std())    \n",
    "\n",
    "if test_result1[1] < signf_level or test_result2[1] < signf_level:\n",
    "    print(\"Verdict: Reject the null hypothesis\")\n",
    "else:\n",
    "    print(\"Verdict: Fail to reject the null hypothesis\")"
   ]
  },
  {
   "cell_type": "code",
   "execution_count": 27,
   "metadata": {},
   "outputs": [
    {
     "data": {
      "text/plain": [
       "<AxesSubplot:xlabel='Cycle Time', ylabel='Shift'>"
      ]
     },
     "execution_count": 27,
     "metadata": {},
     "output_type": "execute_result"
    },
    {
     "data": {
      "image/png": "[encoded data removed]",
      "text/plain": [
       "<Figure size 432x288 with 1 Axes>"
      ]
     },
     "metadata": {
      "needs_background": "light"
     },
     "output_type": "display_data"
    }
   ],
   "source": [
    "# let us also have a look at the box plot for cycle time pertaining to the three shifts.\n",
    "sns.boxplot(data=ct_shift, x=\"Cycle Time\", y=\"Shift\") # as also evident from the overalapping box plots that there is no significant difference in the spread of cycle time. "
   ]
  },
  {
   "cell_type": "markdown",
   "metadata": {},
   "source": [
    "##### One Sample Wilcoxon Test\n",
    "- Usage: When Project Y is Continuous & Factor X is Discrete (Y is Non-Normal).\n",
    "- Project Objective: Centering\n",
    "- Test Objective: To compare the median of a sample with a standard value. \n",
    "- Null Hypothesis(H0): median = standard value.\n",
    "- Alternate Hypothesis(Ha): median ≠ standard value."
   ]
  },
  {
   "cell_type": "code",
   "execution_count": 28,
   "metadata": {},
   "outputs": [
    {
     "data": {
      "text/html": [
       "<div>\n",
       "<style scoped>\n",
       "    .dataframe tbody tr th:only-of-type {\n",
       "        vertical-align: middle;\n",
       "    }\n",
       "\n",
       "    .dataframe tbody tr th {\n",
       "        vertical-align: top;\n",
       "    }\n",
       "\n",
       "    .dataframe thead th {\n",
       "        text-align: right;\n",
       "    }\n",
       "</style>\n",
       "<table border=\"1\" class=\"dataframe\">\n",
       "  <thead>\n",
       "    <tr style=\"text-align: right;\">\n",
       "      <th></th>\n",
       "      <th>AHT</th>\n",
       "    </tr>\n",
       "  </thead>\n",
       "  <tbody>\n",
       "    <tr>\n",
       "      <th>0</th>\n",
       "      <td>2.14990</td>\n",
       "    </tr>\n",
       "    <tr>\n",
       "      <th>1</th>\n",
       "      <td>2.24806</td>\n",
       "    </tr>\n",
       "    <tr>\n",
       "      <th>2</th>\n",
       "      <td>2.69727</td>\n",
       "    </tr>\n",
       "    <tr>\n",
       "      <th>3</th>\n",
       "      <td>3.56381</td>\n",
       "    </tr>\n",
       "    <tr>\n",
       "      <th>4</th>\n",
       "      <td>2.98438</td>\n",
       "    </tr>\n",
       "  </tbody>\n",
       "</table>\n",
       "</div>"
      ],
      "text/plain": [
       "       AHT\n",
       "0  2.14990\n",
       "1  2.24806\n",
       "2  2.69727\n",
       "3  3.56381\n",
       "4  2.98438"
      ]
     },
     "execution_count": 28,
     "metadata": {},
     "output_type": "execute_result"
    }
   ],
   "source": [
    "# let us first import the dataset.\n",
    "aht = pd.read_csv(\"/Users/rahul_arora/Downloads/CT Data - Sheet2.csv\")\n",
    "aht.head()"
   ]
  },
  {
   "cell_type": "code",
   "execution_count": 29,
   "metadata": {},
   "outputs": [
    {
     "name": "stdout",
     "output_type": "stream",
     "text": [
      "Test Statistic: 292.0\n",
      "P Value: 0.0023978917789683196\n",
      "Verdict: Reject the null hypothesis\n"
     ]
    }
   ],
   "source": [
    "# here we are testing a hypothesis whether there is a significant difference between the hypothesized value which is 3 hours & the median cycle time.\n",
    "# thus HO: Median Cycle time = 2.5 Hours & Ha: Median Cycle Time != 2.5 Hours\n",
    "data = aht[\"AHT\"]\n",
    "alpha = 0.05\n",
    "std_val = 2.5\n",
    "\n",
    "test_result = stats.wilcoxon(data - std_val)\n",
    "print(\"Test Statistic:\", test_result[0])\n",
    "print(\"P Value:\", test_result[1])\n",
    "\n",
    "if test_result[1] < alpha:\n",
    "    print(\"Verdict: Reject the null hypothesis\")\n",
    "else:\n",
    "    print(\"Verdict: Fail to reject the null hypothesis\")\n"
   ]
  },
  {
   "cell_type": "markdown",
   "metadata": {},
   "source": [
    "##### Mann Whitney Test\n",
    "- Usage: When Project Y is Continuous & Factor X is Discrete (Y is Non-Normal).\n",
    "- Project Objective: Centering\n",
    "- Test Objective: To compare the median of data taken from two subgroups.\n",
    "- Null Hypothesis(H0): median1 = median2\n",
    "- Alternate Hypothesis(Ha): median1 ≠ median2  "
   ]
  },
  {
   "cell_type": "code",
   "execution_count": 30,
   "metadata": {},
   "outputs": [
    {
     "data": {
      "text/html": [
       "<div>\n",
       "<style scoped>\n",
       "    .dataframe tbody tr th:only-of-type {\n",
       "        vertical-align: middle;\n",
       "    }\n",
       "\n",
       "    .dataframe tbody tr th {\n",
       "        vertical-align: top;\n",
       "    }\n",
       "\n",
       "    .dataframe thead th {\n",
       "        text-align: right;\n",
       "    }\n",
       "</style>\n",
       "<table border=\"1\" class=\"dataframe\">\n",
       "  <thead>\n",
       "    <tr style=\"text-align: right;\">\n",
       "      <th></th>\n",
       "      <th>Emp ID</th>\n",
       "      <th>User Name</th>\n",
       "      <th>Thin Client User ID</th>\n",
       "      <th>Process</th>\n",
       "      <th>Location</th>\n",
       "      <th>Age</th>\n",
       "      <th>Qualification</th>\n",
       "      <th>Marital Status</th>\n",
       "      <th>A.M.</th>\n",
       "      <th>Trainer</th>\n",
       "      <th>...</th>\n",
       "      <th>Month</th>\n",
       "      <th>Date</th>\n",
       "      <th>Total Hours</th>\n",
       "      <th>Bills Processed</th>\n",
       "      <th>AHT</th>\n",
       "      <th>Work Basket - Hrs. Paid</th>\n",
       "      <th>Work Basket/H (Productive Hours)</th>\n",
       "      <th>Capacity Utilization</th>\n",
       "      <th>W/B Error%</th>\n",
       "      <th>Voice Quality Scores</th>\n",
       "    </tr>\n",
       "  </thead>\n",
       "  <tbody>\n",
       "    <tr>\n",
       "      <th>0</th>\n",
       "      <td>17425</td>\n",
       "      <td>MANISH BHAGI</td>\n",
       "      <td>NAVNKUMJHA</td>\n",
       "      <td>Maglum Mortigage</td>\n",
       "      <td>Bangalore</td>\n",
       "      <td>40</td>\n",
       "      <td>B.A</td>\n",
       "      <td>Married</td>\n",
       "      <td>Ajay</td>\n",
       "      <td>Ruhani</td>\n",
       "      <td>...</td>\n",
       "      <td>June</td>\n",
       "      <td>1/6/2010</td>\n",
       "      <td>8.0</td>\n",
       "      <td>167</td>\n",
       "      <td>2.15</td>\n",
       "      <td>20.88</td>\n",
       "      <td>27.91</td>\n",
       "      <td>75%</td>\n",
       "      <td>8.33%</td>\n",
       "      <td>100.00%</td>\n",
       "    </tr>\n",
       "    <tr>\n",
       "      <th>1</th>\n",
       "      <td>9752</td>\n",
       "      <td>PRIYANKA SIROHI</td>\n",
       "      <td>JAIKUMYAD</td>\n",
       "      <td>Maglum Mortigage</td>\n",
       "      <td>Bangalore</td>\n",
       "      <td>31</td>\n",
       "      <td>B.A</td>\n",
       "      <td>Married</td>\n",
       "      <td>Ajay</td>\n",
       "      <td>Ruhani</td>\n",
       "      <td>...</td>\n",
       "      <td>June</td>\n",
       "      <td>1/6/2010</td>\n",
       "      <td>8.0</td>\n",
       "      <td>152</td>\n",
       "      <td>2.25</td>\n",
       "      <td>19.00</td>\n",
       "      <td>26.69</td>\n",
       "      <td>71%</td>\n",
       "      <td>0.00%</td>\n",
       "      <td>100.00%</td>\n",
       "    </tr>\n",
       "    <tr>\n",
       "      <th>2</th>\n",
       "      <td>17378</td>\n",
       "      <td>SARVAGAYAM</td>\n",
       "      <td>HARSKUMSIN</td>\n",
       "      <td>Maglum Mortigage</td>\n",
       "      <td>Bangalore</td>\n",
       "      <td>27</td>\n",
       "      <td>B.A</td>\n",
       "      <td>Married</td>\n",
       "      <td>Ajay</td>\n",
       "      <td>Ruhani</td>\n",
       "      <td>...</td>\n",
       "      <td>June</td>\n",
       "      <td>1/6/2010</td>\n",
       "      <td>8.0</td>\n",
       "      <td>127</td>\n",
       "      <td>2.70</td>\n",
       "      <td>15.88</td>\n",
       "      <td>22.24</td>\n",
       "      <td>71%</td>\n",
       "      <td>0.00%</td>\n",
       "      <td>100.00%</td>\n",
       "    </tr>\n",
       "    <tr>\n",
       "      <th>3</th>\n",
       "      <td>16235</td>\n",
       "      <td>ZAFAR KHAN</td>\n",
       "      <td>JYOTAHL</td>\n",
       "      <td>Maglum Mortigage</td>\n",
       "      <td>Bangalore</td>\n",
       "      <td>34</td>\n",
       "      <td>B.A</td>\n",
       "      <td>Married</td>\n",
       "      <td>Monica</td>\n",
       "      <td>Kishore</td>\n",
       "      <td>...</td>\n",
       "      <td>June</td>\n",
       "      <td>1/6/2010</td>\n",
       "      <td>8.0</td>\n",
       "      <td>82</td>\n",
       "      <td>3.56</td>\n",
       "      <td>10.25</td>\n",
       "      <td>16.84</td>\n",
       "      <td>61%</td>\n",
       "      <td>0.00%</td>\n",
       "      <td>100.00%</td>\n",
       "    </tr>\n",
       "    <tr>\n",
       "      <th>4</th>\n",
       "      <td>9716</td>\n",
       "      <td>MANISHA BANSAL</td>\n",
       "      <td>ALOKNATYAD</td>\n",
       "      <td>Maglum Mortigage</td>\n",
       "      <td>Bangalore</td>\n",
       "      <td>27</td>\n",
       "      <td>B.A</td>\n",
       "      <td>Married</td>\n",
       "      <td>Pardeep</td>\n",
       "      <td>Sudesh</td>\n",
       "      <td>...</td>\n",
       "      <td>June</td>\n",
       "      <td>1/6/2010</td>\n",
       "      <td>8.0</td>\n",
       "      <td>71</td>\n",
       "      <td>2.98</td>\n",
       "      <td>8.88</td>\n",
       "      <td>20.10</td>\n",
       "      <td>44%</td>\n",
       "      <td>0.00%</td>\n",
       "      <td>100.00%</td>\n",
       "    </tr>\n",
       "  </tbody>\n",
       "</table>\n",
       "<p>5 rows × 23 columns</p>\n",
       "</div>"
      ],
      "text/plain": [
       "   Emp ID        User Name Thin Client User ID           Process   Location  \\\n",
       "0   17425     MANISH BHAGI          NAVNKUMJHA  Maglum Mortigage  Bangalore   \n",
       "1    9752  PRIYANKA SIROHI           JAIKUMYAD  Maglum Mortigage  Bangalore   \n",
       "2   17378       SARVAGAYAM          HARSKUMSIN  Maglum Mortigage  Bangalore   \n",
       "3   16235       ZAFAR KHAN             JYOTAHL  Maglum Mortigage  Bangalore   \n",
       "4    9716   MANISHA BANSAL          ALOKNATYAD  Maglum Mortigage  Bangalore   \n",
       "\n",
       "   Age Qualification Marital Status     A.M.  Trainer  ... Month      Date  \\\n",
       "0   40           B.A        Married     Ajay   Ruhani  ...  June  1/6/2010   \n",
       "1   31           B.A        Married     Ajay   Ruhani  ...  June  1/6/2010   \n",
       "2   27           B.A        Married     Ajay   Ruhani  ...  June  1/6/2010   \n",
       "3   34           B.A        Married   Monica  Kishore  ...  June  1/6/2010   \n",
       "4   27           B.A        Married  Pardeep   Sudesh  ...  June  1/6/2010   \n",
       "\n",
       "  Total Hours Bills Processed   AHT  Work Basket - Hrs. Paid  \\\n",
       "0         8.0             167  2.15                    20.88   \n",
       "1         8.0             152  2.25                    19.00   \n",
       "2         8.0             127  2.70                    15.88   \n",
       "3         8.0              82  3.56                    10.25   \n",
       "4         8.0              71  2.98                     8.88   \n",
       "\n",
       "   Work Basket/H (Productive Hours)  Capacity Utilization  W/B Error%  \\\n",
       "0                             27.91                   75%       8.33%   \n",
       "1                             26.69                   71%       0.00%   \n",
       "2                             22.24                   71%       0.00%   \n",
       "3                             16.84                   61%       0.00%   \n",
       "4                             20.10                   44%       0.00%   \n",
       "\n",
       "   Voice Quality Scores  \n",
       "0               100.00%  \n",
       "1               100.00%  \n",
       "2               100.00%  \n",
       "3               100.00%  \n",
       "4               100.00%  \n",
       "\n",
       "[5 rows x 23 columns]"
      ]
     },
     "execution_count": 30,
     "metadata": {},
     "output_type": "execute_result"
    }
   ],
   "source": [
    "# let us first import the dataset.\n",
    "df = pd.read_csv(\"/Users/rahul_arora/Downloads/Final data for BO plus Voice process.xls - Data.csv\")\n",
    "df.head()"
   ]
  },
  {
   "cell_type": "code",
   "execution_count": 31,
   "metadata": {},
   "outputs": [],
   "source": [
    "# let us now create a subset of data on which the test is to be performed.\n",
    "subset = df[[\"AHT\", \"Marital Status\"]]\n",
    "data1 = subset[subset[\"Marital Status\"] == \"Married\"]\n",
    "data2 = subset[subset[\"Marital Status\"] == \"Unmarried\"]"
   ]
  },
  {
   "cell_type": "code",
   "execution_count": 32,
   "metadata": {},
   "outputs": [
    {
     "name": "stdout",
     "output_type": "stream",
     "text": [
      "Test Statistic: 1331170.5\n",
      "P Value: 0.0017710894640086718\n",
      "Verdict: Reject the null hypothesis\n"
     ]
    }
   ],
   "source": [
    "# let us now perform the Mann Whitney Test.\n",
    "# here we are testing whether is a significant difference between the median handling time taken by agents who are married compared to those who are unmarried.\n",
    "test_result = stats.mannwhitneyu(data1[\"AHT\"], data2[\"AHT\"])\n",
    "print(\"Test Statistic:\", test_result[0])\n",
    "print(\"P Value:\", test_result[1])\n",
    "\n",
    "if test_result[1] < alpha:\n",
    "    print(\"Verdict: Reject the null hypothesis\")\n",
    "else:\n",
    "    print(\"Verdict: Fail to reject the null hypothesis\")"
   ]
  },
  {
   "cell_type": "markdown",
   "metadata": {},
   "source": [
    "##### Mood's Median Test\n",
    "- Usage: When Project Y is Continuous & Factor X is Discrete (Y is Non-Normal).\n",
    "- Project Objective: Centering\n",
    "- Test Objective: To compare the median of data taken from two subgroups.\n",
    "- Null Hypothesis(H0): All medians are equal.\n",
    "- Alternate Hypothesis(Ha): Atleast one median is different."
   ]
  },
  {
   "cell_type": "code",
   "execution_count": 33,
   "metadata": {},
   "outputs": [],
   "source": [
    "# let us consider the above voice process data set in order to test whether there is a significant difference in median handling time taken amongst teams trained by different trainers.\n",
    "# let us first create a subset of data on which the test is to be performed.\n",
    "subset = df[[\"AHT\", \"Trainer\"]]\n",
    "data1 = subset[subset[\"Trainer\"] == \"Ruhani\"]\n",
    "data2 = subset[subset[\"Trainer\"] == \"Kishore\"]\n",
    "data3 = subset[subset[\"Trainer\"] == \"Sudesh\"]\n",
    "data4 = subset[subset[\"Trainer\"] == \"Varun\"]\n",
    "data5 = subset[subset[\"Trainer\"] == \"Vinay\"]\n",
    "data6 = subset[subset[\"Trainer\"] == \"Lalit\"]\n",
    "data7 = subset[subset[\"Trainer\"] == \"Gagan\"]\n",
    "data8 = subset[subset[\"Trainer\"] == \"Praveen\"]"
   ]
  },
  {
   "cell_type": "code",
   "execution_count": 34,
   "metadata": {},
   "outputs": [
    {
     "name": "stdout",
     "output_type": "stream",
     "text": [
      "Test Statistic: 51.53130974777393\n",
      "P Value: 7.221638610243628e-09\n",
      "Grand Median: 2.67\n",
      "N <= Grand Median: [164 213 199 207 235 206 257 183]\n",
      "N > Grand Median: [275 231 245 157 203 191 199 206]\n",
      "Verdict: Reject the null hypothesis\n"
     ]
    }
   ],
   "source": [
    "# now let us perform the Moods Median Test.\n",
    "signf_level = 0.05\n",
    "\n",
    "test_result = stats.median_test(data1[\"AHT\"], data2[\"AHT\"], data3[\"AHT\"], data4[\"AHT\"], data5[\"AHT\"], data6[\"AHT\"], data7[\"AHT\"], data8[\"AHT\"])\n",
    "print(\"Test Statistic:\", test_result[0])\n",
    "print(\"P Value:\", test_result[1])\n",
    "print(\"Grand Median:\", test_result[2])\n",
    "print(\"N <= Grand Median:\", test_result[3][0])\n",
    "print(\"N > Grand Median:\", test_result[3][1])\n",
    "\n",
    "if test_result[1] < alpha:\n",
    "    print(\"Verdict: Reject the null hypothesis\")\n",
    "else:\n",
    "    print(\"Verdict: Fail to reject the null hypothesis\")"
   ]
  },
  {
   "cell_type": "markdown",
   "metadata": {},
   "source": [
    "##### One Proportion \n",
    "- Usage: When Project Y is Discrete (Category) & Factor X is Discrete. \n",
    "- Test Objective: To compare the proportion of an event in a sample with a standard value. \n",
    "- Null Hypothesis(H0): Proportion = standard value\n",
    "- Alternate Hypothesis(Ha): Proportion ≠ standard value"
   ]
  },
  {
   "cell_type": "code",
   "execution_count": 35,
   "metadata": {},
   "outputs": [
    {
     "data": {
      "text/html": [
       "<div>\n",
       "<style scoped>\n",
       "    .dataframe tbody tr th:only-of-type {\n",
       "        vertical-align: middle;\n",
       "    }\n",
       "\n",
       "    .dataframe tbody tr th {\n",
       "        vertical-align: top;\n",
       "    }\n",
       "\n",
       "    .dataframe thead th {\n",
       "        text-align: right;\n",
       "    }\n",
       "</style>\n",
       "<table border=\"1\" class=\"dataframe\">\n",
       "  <thead>\n",
       "    <tr style=\"text-align: right;\">\n",
       "      <th></th>\n",
       "      <th>Defective</th>\n",
       "      <th>Definition</th>\n",
       "    </tr>\n",
       "  </thead>\n",
       "  <tbody>\n",
       "    <tr>\n",
       "      <th>0</th>\n",
       "      <td>0</td>\n",
       "      <td>Within 60 days</td>\n",
       "    </tr>\n",
       "    <tr>\n",
       "      <th>1</th>\n",
       "      <td>0</td>\n",
       "      <td>Within 60 days</td>\n",
       "    </tr>\n",
       "    <tr>\n",
       "      <th>2</th>\n",
       "      <td>0</td>\n",
       "      <td>Within 60 days</td>\n",
       "    </tr>\n",
       "    <tr>\n",
       "      <th>3</th>\n",
       "      <td>0</td>\n",
       "      <td>Within 60 days</td>\n",
       "    </tr>\n",
       "    <tr>\n",
       "      <th>4</th>\n",
       "      <td>1</td>\n",
       "      <td>Defective</td>\n",
       "    </tr>\n",
       "  </tbody>\n",
       "</table>\n",
       "</div>"
      ],
      "text/plain": [
       "   Defective      Definition\n",
       "0          0  Within 60 days\n",
       "1          0  Within 60 days\n",
       "2          0  Within 60 days\n",
       "3          0  Within 60 days\n",
       "4          1       Defective"
      ]
     },
     "execution_count": 35,
     "metadata": {},
     "output_type": "execute_result"
    }
   ],
   "source": [
    "# let's first import the dataset.\n",
    "df = pd.read_csv(\"/Users/rahul_arora/Downloads/Pre-Post Analysis.xlsx - Sheet2.csv\")\n",
    "df.head()"
   ]
  },
  {
   "cell_type": "code",
   "execution_count": 36,
   "metadata": {},
   "outputs": [
    {
     "name": "stdout",
     "output_type": "stream",
     "text": [
      "Total Samples: 120\n",
      "Defective Samples: 26\n",
      "Proportion: 0.21666666666666667\n",
      "P Value: 0.6481381089976687\n",
      "Verdict: Fail to reject the null hypothesis\n"
     ]
    }
   ],
   "source": [
    "# here in this case we will test whether there is a significant difference between the error proportion calculated for the dataset & the hypothesized standard value which is taken as 0.2.\n",
    "# let us now create the subset of the data on which the test needs to be performed.\n",
    "data = df[\"Defective\"]\n",
    "signf_level = 0.05\n",
    "\n",
    "# let us now calculate the proportion of defectives from the dataset.\n",
    "total_count = data.count()\n",
    "def_count = data[data == 1].count()\n",
    "prop_calc = def_count / total_count\n",
    "print(\"Total Samples:\", total_count)\n",
    "print(\"Defective Samples:\", def_count)\n",
    "print(\"Proportion:\", prop_calc)\n",
    "\n",
    "# now let us perform the One Proportion Test.\n",
    "test_result = stats.binom_test(def_count, total_count, p=0.2)\n",
    "print(\"P Value:\", test_result)\n",
    "\n",
    "if test_result < signf_level:\n",
    "    print(\"Verdict: Reject the null hypothesis\")\n",
    "else:\n",
    "    print(\"Verdict: Fail to reject the null hypothesis\")"
   ]
  },
  {
   "cell_type": "code",
   "execution_count": 37,
   "metadata": {},
   "outputs": [
    {
     "name": "stdout",
     "output_type": "stream",
     "text": [
      "                Defective\n",
      "Definition               \n",
      "Defective              26\n",
      "Within 60 days         94\n",
      "P Value: [0.64813811]\n",
      "Verdict: Fail to reject the null hypothesis\n"
     ]
    }
   ],
   "source": [
    "# there is another alternative way to perform the above test.\n",
    "grouped_data = df.groupby(\"Definition\").count()\n",
    "signf_level = 0.05\n",
    "print(grouped_data)\n",
    "test_result = stats.binom_test(grouped_data, p=0.2)\n",
    "print(\"P Value:\", test_result)\n",
    "\n",
    "if test_result < signf_level:\n",
    "    print(\"Verdict: Reject the null hypothesis\")\n",
    "else:\n",
    "    print(\"Verdict: Fail to reject the null hypothesis\")"
   ]
  },
  {
   "cell_type": "markdown",
   "metadata": {},
   "source": [
    "##### Two Proportions Test\n",
    "- Usage: When Project Y is Discrete (Category) & Factor X is Discrete. \n",
    "- Test Objective: To compare the proportion of an event between two samples or subgroups.\n",
    "- Null Hypothesis(H0): Proportion 1 = Proportion 2 \n",
    "- Alternate Hypothesis(Ha): Proportion 1 ≠ Proportion 2"
   ]
  },
  {
   "cell_type": "code",
   "execution_count": 38,
   "metadata": {},
   "outputs": [
    {
     "data": {
      "text/html": [
       "<div>\n",
       "<style scoped>\n",
       "    .dataframe tbody tr th:only-of-type {\n",
       "        vertical-align: middle;\n",
       "    }\n",
       "\n",
       "    .dataframe tbody tr th {\n",
       "        vertical-align: top;\n",
       "    }\n",
       "\n",
       "    .dataframe thead th {\n",
       "        text-align: right;\n",
       "    }\n",
       "</style>\n",
       "<table border=\"1\" class=\"dataframe\">\n",
       "  <thead>\n",
       "    <tr style=\"text-align: right;\">\n",
       "      <th></th>\n",
       "      <th>TAT with Tax Issue</th>\n",
       "      <th>TAT without Tax Issue</th>\n",
       "    </tr>\n",
       "  </thead>\n",
       "  <tbody>\n",
       "    <tr>\n",
       "      <th>0</th>\n",
       "      <td>0</td>\n",
       "      <td>0</td>\n",
       "    </tr>\n",
       "    <tr>\n",
       "      <th>1</th>\n",
       "      <td>0</td>\n",
       "      <td>0</td>\n",
       "    </tr>\n",
       "    <tr>\n",
       "      <th>2</th>\n",
       "      <td>0</td>\n",
       "      <td>0</td>\n",
       "    </tr>\n",
       "    <tr>\n",
       "      <th>3</th>\n",
       "      <td>0</td>\n",
       "      <td>0</td>\n",
       "    </tr>\n",
       "    <tr>\n",
       "      <th>4</th>\n",
       "      <td>0</td>\n",
       "      <td>0</td>\n",
       "    </tr>\n",
       "  </tbody>\n",
       "</table>\n",
       "</div>"
      ],
      "text/plain": [
       "   TAT with Tax Issue  TAT without Tax Issue\n",
       "0                   0                      0\n",
       "1                   0                      0\n",
       "2                   0                      0\n",
       "3                   0                      0\n",
       "4                   0                      0"
      ]
     },
     "execution_count": 38,
     "metadata": {},
     "output_type": "execute_result"
    }
   ],
   "source": [
    "# let us first import the dataset.\n",
    "df = pd.read_csv(\"/Users/rahul_arora/Downloads/Analyze - Sheet2.csv\")\n",
    "df.head()"
   ]
  },
  {
   "cell_type": "code",
   "execution_count": 39,
   "metadata": {},
   "outputs": [
    {
     "name": "stdout",
     "output_type": "stream",
     "text": [
      "Total Count for subgroup 1: 180\n",
      "Total Count for subgroup 2: 180\n",
      "Defective count for subgroup 1: 57\n",
      "Defective count for subgroup 2: 23\n",
      "Defective Proportion for Subgroup 1: 0.32\n",
      "Defective Proportion for Subgroup 2: 0.13\n",
      "statistic = 4.3042960267289105\n",
      "pvalue = 1.6751754890081363e-05\n",
      "compare = diff\n",
      "method = score\n",
      "variance = 0.0019257883696138104\n",
      "alternative = two-sided\n",
      "prop1_null = 0.2222222222222222\n",
      "prop2_null = 0.2222222222222222\n",
      "tuple = (4.3042960267289105, 1.6751754890081363e-05)\n",
      "diff = 0.18888888888888888\n",
      "ratio = 2.4782608695652173\n",
      "odds_ratio = 3.1633085896076354\n",
      "value = 0\n",
      "Verdict: Reject the null hypothesis\n"
     ]
    }
   ],
   "source": [
    "# now we will test whether there is significant difference between the TAT miss proportion for invoices having tax issues & the ones which are not having any tax issue.\n",
    "\n",
    "# let us first import the proportion module from the statsmodels library.\n",
    "from statsmodels.stats import proportion\n",
    "\n",
    "# let us now create subsets from the above data & calculate the defective counts & proportions.\n",
    "data1 = df[\"TAT with Tax Issue\"]\n",
    "data2 = df[\"TAT without Tax Issue\"]\n",
    "signf_level = 0.05\n",
    "\n",
    "total_count1 = data1.count()\n",
    "print(\"Total Count for subgroup 1:\", total_count1)\n",
    "\n",
    "total_count2 = data2.count()\n",
    "print(\"Total Count for subgroup 2:\", total_count2)\n",
    "\n",
    "def_count1 = data1[data1 == 1].count()\n",
    "print(\"Defective count for subgroup 1:\", def_count1)\n",
    "\n",
    "def_count2 = data2[data2 == 1].count()\n",
    "print(\"Defective count for subgroup 2:\", def_count2)\n",
    "\n",
    "def_prop1 = round((def_count1 / total_count1), 2)\n",
    "print(\"Defective Proportion for Subgroup 1:\", def_prop1)\n",
    "\n",
    "def_prop2 = round((def_count2 / total_count2), 2)\n",
    "print(\"Defective Proportion for Subgroup 2:\", def_prop2)\n",
    "\n",
    "# let us now perform the Two Proportion Test.\n",
    "test_result = proportion.test_proportions_2indep(def_count1, total_count1, def_count2, total_count2, method=\"score\")\n",
    "print(test_result)\n",
    "\n",
    "if test_result[1] < signf_level:\n",
    "    print(\"Verdict: Reject the null hypothesis\")\n",
    "else:\n",
    "    print(\"Verdict: Fail to reject the null hypothesis\")"
   ]
  },
  {
   "cell_type": "markdown",
   "metadata": {},
   "source": [
    "##### Chi_Squared test\n",
    "- Usage: When Project Y is Discrete (Categorical) & Factor X is Discrete (Categorical). \n",
    "- Test Objective: To compare the proportion of an event between more than two samples or subgroups.\n",
    "- Null Hypothesis(H0): Proportion 1 = Proportion 2 = Proportion 3\n",
    "- Alternate Hypothesis(Ha): Proportion 1 ≠ Proportion 2 ≠ Proportion 3"
   ]
  },
  {
   "cell_type": "code",
   "execution_count": 40,
   "metadata": {},
   "outputs": [
    {
     "data": {
      "text/html": [
       "<div>\n",
       "<style scoped>\n",
       "    .dataframe tbody tr th:only-of-type {\n",
       "        vertical-align: middle;\n",
       "    }\n",
       "\n",
       "    .dataframe tbody tr th {\n",
       "        vertical-align: top;\n",
       "    }\n",
       "\n",
       "    .dataframe thead th {\n",
       "        text-align: right;\n",
       "    }\n",
       "</style>\n",
       "<table border=\"1\" class=\"dataframe\">\n",
       "  <thead>\n",
       "    <tr style=\"text-align: right;\">\n",
       "      <th></th>\n",
       "      <th>Invoice No</th>\n",
       "      <th>Defectives</th>\n",
       "      <th>Analyst Name</th>\n",
       "      <th>Analyst Experience</th>\n",
       "      <th>Product Type</th>\n",
       "      <th>Customer</th>\n",
       "      <th>Tax Issue</th>\n",
       "      <th>Customer Region</th>\n",
       "      <th>Customer Address</th>\n",
       "      <th>Unnamed: 9</th>\n",
       "      <th>Unnamed: 10</th>\n",
       "    </tr>\n",
       "  </thead>\n",
       "  <tbody>\n",
       "    <tr>\n",
       "      <th>0</th>\n",
       "      <td>420765</td>\n",
       "      <td>0</td>\n",
       "      <td>ABC</td>\n",
       "      <td>1.2</td>\n",
       "      <td>A</td>\n",
       "      <td>Individual</td>\n",
       "      <td>Y</td>\n",
       "      <td>Asia</td>\n",
       "      <td>Correct</td>\n",
       "      <td>0.0</td>\n",
       "      <td>Within 60 Days</td>\n",
       "    </tr>\n",
       "    <tr>\n",
       "      <th>1</th>\n",
       "      <td>420789</td>\n",
       "      <td>1</td>\n",
       "      <td>DEF</td>\n",
       "      <td>1.8</td>\n",
       "      <td>B</td>\n",
       "      <td>Government</td>\n",
       "      <td>Y</td>\n",
       "      <td>US</td>\n",
       "      <td>Correct</td>\n",
       "      <td>1.0</td>\n",
       "      <td>More than 60 Days</td>\n",
       "    </tr>\n",
       "    <tr>\n",
       "      <th>2</th>\n",
       "      <td>420819</td>\n",
       "      <td>1</td>\n",
       "      <td>GHI</td>\n",
       "      <td>2.0</td>\n",
       "      <td>B</td>\n",
       "      <td>Individual</td>\n",
       "      <td>Y</td>\n",
       "      <td>Europe</td>\n",
       "      <td>Incorrect</td>\n",
       "      <td>NaN</td>\n",
       "      <td>NaN</td>\n",
       "    </tr>\n",
       "    <tr>\n",
       "      <th>3</th>\n",
       "      <td>420675</td>\n",
       "      <td>0</td>\n",
       "      <td>JKL</td>\n",
       "      <td>2.4</td>\n",
       "      <td>A</td>\n",
       "      <td>Individual</td>\n",
       "      <td>N</td>\n",
       "      <td>Europe</td>\n",
       "      <td>Incorrect</td>\n",
       "      <td>NaN</td>\n",
       "      <td>NaN</td>\n",
       "    </tr>\n",
       "    <tr>\n",
       "      <th>4</th>\n",
       "      <td>420167</td>\n",
       "      <td>0</td>\n",
       "      <td>MNO</td>\n",
       "      <td>3.2</td>\n",
       "      <td>C</td>\n",
       "      <td>Corporate</td>\n",
       "      <td>N</td>\n",
       "      <td>US</td>\n",
       "      <td>Incorrect</td>\n",
       "      <td>NaN</td>\n",
       "      <td>NaN</td>\n",
       "    </tr>\n",
       "  </tbody>\n",
       "</table>\n",
       "</div>"
      ],
      "text/plain": [
       "   Invoice No  Defectives Analyst Name  Analyst Experience Product Type  \\\n",
       "0      420765           0          ABC                 1.2            A   \n",
       "1      420789           1          DEF                 1.8            B   \n",
       "2      420819           1          GHI                 2.0            B   \n",
       "3      420675           0          JKL                 2.4            A   \n",
       "4      420167           0          MNO                 3.2            C   \n",
       "\n",
       "     Customer Tax Issue Customer Region Customer Address  Unnamed: 9  \\\n",
       "0  Individual         Y            Asia          Correct         0.0   \n",
       "1  Government         Y              US          Correct         1.0   \n",
       "2  Individual         Y          Europe        Incorrect         NaN   \n",
       "3  Individual         N          Europe        Incorrect         NaN   \n",
       "4   Corporate         N              US        Incorrect         NaN   \n",
       "\n",
       "         Unnamed: 10  \n",
       "0     Within 60 Days  \n",
       "1  More than 60 Days  \n",
       "2                NaN  \n",
       "3                NaN  \n",
       "4                NaN  "
      ]
     },
     "execution_count": 40,
     "metadata": {},
     "output_type": "execute_result"
    }
   ],
   "source": [
    "# Let us first import a dataset.\n",
    "df = pd.read_csv(\"/Users/rahul_arora/Downloads/Analyze.xls - Sheet1.csv\")\n",
    "df.head()"
   ]
  },
  {
   "cell_type": "code",
   "execution_count": 41,
   "metadata": {},
   "outputs": [
    {
     "data": {
      "text/html": [
       "<div>\n",
       "<style scoped>\n",
       "    .dataframe tbody tr th:only-of-type {\n",
       "        vertical-align: middle;\n",
       "    }\n",
       "\n",
       "    .dataframe tbody tr th {\n",
       "        vertical-align: top;\n",
       "    }\n",
       "\n",
       "    .dataframe thead th {\n",
       "        text-align: right;\n",
       "    }\n",
       "</style>\n",
       "<table border=\"1\" class=\"dataframe\">\n",
       "  <thead>\n",
       "    <tr style=\"text-align: right;\">\n",
       "      <th>Customer Region</th>\n",
       "      <th>Asia</th>\n",
       "      <th>Europe</th>\n",
       "      <th>US</th>\n",
       "    </tr>\n",
       "    <tr>\n",
       "      <th>Defectives</th>\n",
       "      <th></th>\n",
       "      <th></th>\n",
       "      <th></th>\n",
       "    </tr>\n",
       "  </thead>\n",
       "  <tbody>\n",
       "    <tr>\n",
       "      <th>0</th>\n",
       "      <td>2</td>\n",
       "      <td>6</td>\n",
       "      <td>8</td>\n",
       "    </tr>\n",
       "    <tr>\n",
       "      <th>1</th>\n",
       "      <td>6</td>\n",
       "      <td>4</td>\n",
       "      <td>4</td>\n",
       "    </tr>\n",
       "  </tbody>\n",
       "</table>\n",
       "</div>"
      ],
      "text/plain": [
       "Customer Region  Asia  Europe  US\n",
       "Defectives                       \n",
       "0                   2       6   8\n",
       "1                   6       4   4"
      ]
     },
     "execution_count": 41,
     "metadata": {},
     "output_type": "execute_result"
    }
   ],
   "source": [
    "# here we will test whether there is a significant difference in terms of TAT miss proportion amongst customers belonging to Asia, US & Europe regions.\n",
    "data_table = df.pivot_table(index=\"Defectives\", columns=\"Customer Region\", aggfunc=\"count\")[\"Invoice No\"]\n",
    "data_table"
   ]
  },
  {
   "cell_type": "code",
   "execution_count": 42,
   "metadata": {},
   "outputs": [
    {
     "name": "stdout",
     "output_type": "stream",
     "text": [
      "Test Statistic: 3.62\n",
      "P Value: 0.164\n",
      "Degrees of Freedom: 2\n",
      "Expected Value: [[4.26666667 5.33333333 6.4       ]\n",
      " [3.73333333 4.66666667 5.6       ]]\n",
      "Verdict: Fail to reject the null hypothesis\n"
     ]
    }
   ],
   "source": [
    "# now let us perform the Chi Squared Test.\n",
    "signf_level = 0.05\n",
    "\n",
    "test_result = stats.chi2_contingency(data_table)\n",
    "print(f\"Test Statistic: {test_result[0]:.2f}\")\n",
    "print(f\"P Value: {test_result[1]:.3f}\")\n",
    "print(f\"Degrees of Freedom: {test_result[2]}\")\n",
    "print(\"Expected Value:\", test_result[3])\n",
    "\n",
    "if test_result[1] < signf_level:\n",
    "    print(\"Verdict: Reject the null hypothesis\")\n",
    "else:\n",
    "    print(\"Verdict: Fail to reject the null hypothesis\")"
   ]
  },
  {
   "cell_type": "markdown",
   "metadata": {},
   "source": [
    "##### Correlation Test\n",
    "- Usage: When both Project Y & Factor X are Continuous. \n",
    "- Project Objective: Centering & Variation\n",
    "- Test Objective: To check for linear relationship between two variables.\n",
    "- Null Hypothesis(H0): There is no linear realtionship between two variables.\n",
    "- Alternate Hypothesis(Ha): There is a linear relationship between two variables."
   ]
  },
  {
   "cell_type": "code",
   "execution_count": 43,
   "metadata": {},
   "outputs": [
    {
     "data": {
      "text/html": [
       "<div>\n",
       "<style scoped>\n",
       "    .dataframe tbody tr th:only-of-type {\n",
       "        vertical-align: middle;\n",
       "    }\n",
       "\n",
       "    .dataframe tbody tr th {\n",
       "        vertical-align: top;\n",
       "    }\n",
       "\n",
       "    .dataframe thead th {\n",
       "        text-align: right;\n",
       "    }\n",
       "</style>\n",
       "<table border=\"1\" class=\"dataframe\">\n",
       "  <thead>\n",
       "    <tr style=\"text-align: right;\">\n",
       "      <th></th>\n",
       "      <th>Transaction ID</th>\n",
       "      <th>Cycle Time</th>\n",
       "      <th>City</th>\n",
       "      <th>Documented process available</th>\n",
       "      <th>Agent ID</th>\n",
       "      <th>Branch</th>\n",
       "      <th>Tenure</th>\n",
       "      <th>Shift</th>\n",
       "      <th>Day of Week</th>\n",
       "      <th>Week of Month</th>\n",
       "    </tr>\n",
       "  </thead>\n",
       "  <tbody>\n",
       "    <tr>\n",
       "      <th>0</th>\n",
       "      <td>1001</td>\n",
       "      <td>5.75</td>\n",
       "      <td>Del</td>\n",
       "      <td>N</td>\n",
       "      <td>1</td>\n",
       "      <td>CP</td>\n",
       "      <td>625</td>\n",
       "      <td>M</td>\n",
       "      <td>Mon</td>\n",
       "      <td>3</td>\n",
       "    </tr>\n",
       "    <tr>\n",
       "      <th>1</th>\n",
       "      <td>1002</td>\n",
       "      <td>4.61</td>\n",
       "      <td>Del</td>\n",
       "      <td>Y</td>\n",
       "      <td>2</td>\n",
       "      <td>CP</td>\n",
       "      <td>702</td>\n",
       "      <td>M</td>\n",
       "      <td>Tue</td>\n",
       "      <td>4</td>\n",
       "    </tr>\n",
       "    <tr>\n",
       "      <th>2</th>\n",
       "      <td>1003</td>\n",
       "      <td>2.96</td>\n",
       "      <td>Hyd</td>\n",
       "      <td>Y</td>\n",
       "      <td>3</td>\n",
       "      <td>JP</td>\n",
       "      <td>887</td>\n",
       "      <td>M</td>\n",
       "      <td>Thu</td>\n",
       "      <td>5</td>\n",
       "    </tr>\n",
       "    <tr>\n",
       "      <th>3</th>\n",
       "      <td>1004</td>\n",
       "      <td>4.65</td>\n",
       "      <td>Del</td>\n",
       "      <td>N</td>\n",
       "      <td>1</td>\n",
       "      <td>CP</td>\n",
       "      <td>694</td>\n",
       "      <td>M</td>\n",
       "      <td>Tue</td>\n",
       "      <td>3</td>\n",
       "    </tr>\n",
       "    <tr>\n",
       "      <th>4</th>\n",
       "      <td>1005</td>\n",
       "      <td>3.13</td>\n",
       "      <td>Hyd</td>\n",
       "      <td>Y</td>\n",
       "      <td>1</td>\n",
       "      <td>JP</td>\n",
       "      <td>867</td>\n",
       "      <td>M</td>\n",
       "      <td>Wed</td>\n",
       "      <td>1</td>\n",
       "    </tr>\n",
       "  </tbody>\n",
       "</table>\n",
       "</div>"
      ],
      "text/plain": [
       "   Transaction ID  Cycle Time City Documented process available  Agent ID  \\\n",
       "0            1001        5.75  Del                            N         1   \n",
       "1            1002        4.61  Del                            Y         2   \n",
       "2            1003        2.96  Hyd                            Y         3   \n",
       "3            1004        4.65  Del                            N         1   \n",
       "4            1005        3.13  Hyd                            Y         1   \n",
       "\n",
       "  Branch  Tenure Shift Day of Week  Week of Month  \n",
       "0     CP     625     M         Mon              3  \n",
       "1     CP     702     M         Tue              4  \n",
       "2     JP     887     M         Thu              5  \n",
       "3     CP     694     M         Tue              3  \n",
       "4     JP     867     M         Wed              1  "
      ]
     },
     "execution_count": 43,
     "metadata": {},
     "output_type": "execute_result"
    }
   ],
   "source": [
    "# Let us first import a dataset.\n",
    "df = pd.read_csv(\"/Users/rahul_arora/Downloads/Cycle Time - Sheet1.csv\")\n",
    "df.head()"
   ]
  },
  {
   "cell_type": "code",
   "execution_count": 44,
   "metadata": {},
   "outputs": [
    {
     "data": {
      "text/plain": [
       "<AxesSubplot:xlabel='Tenure', ylabel='Cycle Time'>"
      ]
     },
     "execution_count": 44,
     "metadata": {},
     "output_type": "execute_result"
    },
    {
     "data": {
      "image/png": "[encoded data removed]",
      "text/plain": [
       "<Figure size 432x288 with 1 Axes>"
      ]
     },
     "metadata": {
      "needs_background": "light"
     },
     "output_type": "display_data"
    }
   ],
   "source": [
    "# now we will see whether there is a linear relationship between two cycle time & agent tenure.\n",
    "\n",
    "# let us first plot a scatter plot between cycle time & agent tenure.\n",
    "sns.scatterplot(data=df, y=\"Cycle Time\", x=\"Tenure\") # seems like there is a negative relationship between cycle time & agent tenure i.e. cycle time decreases with increase in agent tenure.\n",
    "# however will confirm the same through correlation."
   ]
  },
  {
   "cell_type": "code",
   "execution_count": 45,
   "metadata": {},
   "outputs": [
    {
     "name": "stdout",
     "output_type": "stream",
     "text": [
      "Pearson Coefficient: -0.960\n",
      "P Value: 0.000\n",
      "Verdict: Reject the null hypothesis\n"
     ]
    }
   ],
   "source": [
    "# let us first create the subsets from the above data frame.\n",
    "data1 = df[\"Cycle Time\"]\n",
    "data2 = df[\"Tenure\"]\n",
    "\n",
    "# let us now perform the correlation.\n",
    "signf_level = 0.05\n",
    "test_result = stats.pearsonr(data1, data2)\n",
    "print(f\"Pearson Coefficient: {test_result[0]:.3f}\")\n",
    "print(f\"P Value: {test_result[1]:.3f}\")\n",
    "\n",
    "if test_result[1] < signf_level:\n",
    "    print(\"Verdict: Reject the null hypothesis\")\n",
    "else:\n",
    "    print(\"Verdict: Fail to reject the null hypothesis\")"
   ]
  },
  {
   "cell_type": "markdown",
   "metadata": {},
   "source": [
    "##### Simple Linear Regression \n",
    "- Usage: When both Project Y & Factor X are Continuous. \n",
    "- Project Objective: Centering & Variation\n",
    "- Test Objective: To study the relationship b/w two variables & also how much % variation in one variable is explained by the other variable.\n",
    "- Null Hypothesis(H0): There is no significant relationship between two variables.\n",
    "- Alternate Hypothesis(Ha): There is no significant relationship between two variables."
   ]
  },
  {
   "cell_type": "code",
   "execution_count": 46,
   "metadata": {},
   "outputs": [
    {
     "data": {
      "text/html": [
       "<table class=\"simpletable\">\n",
       "<caption>OLS Regression Results</caption>\n",
       "<tr>\n",
       "  <th>Dep. Variable:</th>       <td>Cycle Time</td>    <th>  R-squared:         </th> <td>   0.922</td>\n",
       "</tr>\n",
       "<tr>\n",
       "  <th>Model:</th>                   <td>OLS</td>       <th>  Adj. R-squared:    </th> <td>   0.919</td>\n",
       "</tr>\n",
       "<tr>\n",
       "  <th>Method:</th>             <td>Least Squares</td>  <th>  F-statistic:       </th> <td>   388.3</td>\n",
       "</tr>\n",
       "<tr>\n",
       "  <th>Date:</th>             <td>Wed, 23 Feb 2022</td> <th>  Prob (F-statistic):</th> <td>8.06e-20</td>\n",
       "</tr>\n",
       "<tr>\n",
       "  <th>Time:</th>                 <td>19:39:43</td>     <th>  Log-Likelihood:    </th> <td> -4.6762</td>\n",
       "</tr>\n",
       "<tr>\n",
       "  <th>No. Observations:</th>      <td>    35</td>      <th>  AIC:               </th> <td>   13.35</td>\n",
       "</tr>\n",
       "<tr>\n",
       "  <th>Df Residuals:</th>          <td>    33</td>      <th>  BIC:               </th> <td>   16.46</td>\n",
       "</tr>\n",
       "<tr>\n",
       "  <th>Df Model:</th>              <td>     1</td>      <th>                     </th>     <td> </td>   \n",
       "</tr>\n",
       "<tr>\n",
       "  <th>Covariance Type:</th>      <td>nonrobust</td>    <th>                     </th>     <td> </td>   \n",
       "</tr>\n",
       "</table>\n",
       "<table class=\"simpletable\">\n",
       "<tr>\n",
       "     <td></td>       <th>coef</th>     <th>std err</th>      <th>t</th>      <th>P>|t|</th>  <th>[0.025</th>    <th>0.975]</th>  \n",
       "</tr>\n",
       "<tr>\n",
       "  <th>const</th>  <td>   12.3397</td> <td>    0.421</td> <td>   29.336</td> <td> 0.000</td> <td>   11.484</td> <td>   13.196</td>\n",
       "</tr>\n",
       "<tr>\n",
       "  <th>Tenure</th> <td>   -0.0109</td> <td>    0.001</td> <td>  -19.704</td> <td> 0.000</td> <td>   -0.012</td> <td>   -0.010</td>\n",
       "</tr>\n",
       "</table>\n",
       "<table class=\"simpletable\">\n",
       "<tr>\n",
       "  <th>Omnibus:</th>       <td> 6.528</td> <th>  Durbin-Watson:     </th> <td>   1.540</td>\n",
       "</tr>\n",
       "<tr>\n",
       "  <th>Prob(Omnibus):</th> <td> 0.038</td> <th>  Jarque-Bera (JB):  </th> <td>   6.131</td>\n",
       "</tr>\n",
       "<tr>\n",
       "  <th>Skew:</th>          <td> 0.535</td> <th>  Prob(JB):          </th> <td>  0.0466</td>\n",
       "</tr>\n",
       "<tr>\n",
       "  <th>Kurtosis:</th>      <td> 4.749</td> <th>  Cond. No.          </th> <td>6.63e+03</td>\n",
       "</tr>\n",
       "</table><br/><br/>Notes:<br/>[1] Standard Errors assume that the covariance matrix of the errors is correctly specified.<br/>[2] The condition number is large, 6.63e+03. This might indicate that there are<br/>strong multicollinearity or other numerical problems."
      ],
      "text/plain": [
       "<class 'statsmodels.iolib.summary.Summary'>\n",
       "\"\"\"\n",
       "                            OLS Regression Results                            \n",
       "==============================================================================\n",
       "Dep. Variable:             Cycle Time   R-squared:                       0.922\n",
       "Model:                            OLS   Adj. R-squared:                  0.919\n",
       "Method:                 Least Squares   F-statistic:                     388.3\n",
       "Date:                Wed, 23 Feb 2022   Prob (F-statistic):           8.06e-20\n",
       "Time:                        19:39:43   Log-Likelihood:                -4.6762\n",
       "No. Observations:                  35   AIC:                             13.35\n",
       "Df Residuals:                      33   BIC:                             16.46\n",
       "Df Model:                           1                                         \n",
       "Covariance Type:            nonrobust                                         \n",
       "==============================================================================\n",
       "                 coef    std err          t      P>|t|      [0.025      0.975]\n",
       "------------------------------------------------------------------------------\n",
       "const         12.3397      0.421     29.336      0.000      11.484      13.196\n",
       "Tenure        -0.0109      0.001    -19.704      0.000      -0.012      -0.010\n",
       "==============================================================================\n",
       "Omnibus:                        6.528   Durbin-Watson:                   1.540\n",
       "Prob(Omnibus):                  0.038   Jarque-Bera (JB):                6.131\n",
       "Skew:                           0.535   Prob(JB):                       0.0466\n",
       "Kurtosis:                       4.749   Cond. No.                     6.63e+03\n",
       "==============================================================================\n",
       "\n",
       "Notes:\n",
       "[1] Standard Errors assume that the covariance matrix of the errors is correctly specified.\n",
       "[2] The condition number is large, 6.63e+03. This might indicate that there are\n",
       "strong multicollinearity or other numerical problems.\n",
       "\"\"\""
      ]
     },
     "execution_count": 46,
     "metadata": {},
     "output_type": "execute_result"
    }
   ],
   "source": [
    "# now from the above data let us test whether there is a significant relationship between cycle time & agent tenure.\n",
    "# let us first import the statsmodels.api library.\n",
    "import statsmodels.api as sm\n",
    "\n",
    "# let us now create the subsets of data for dependent & independent variable.\n",
    "y_data = df[\"Cycle Time\"]\n",
    "x_data = df[\"Tenure\"]\n",
    "x_stat = sm.add_constant(x_data)\n",
    "\n",
    "reg_summary = sm.OLS(y_data, x_stat).fit()\n",
    "reg_summary.summary()"
   ]
  },
  {
   "cell_type": "markdown",
   "metadata": {},
   "source": [
    "##### Logistic Regression\n",
    "- Usage: When Project Y is Discrete (Binary) & Factor X is Continuous.\n",
    "- Test Objective: To check whether there is a significant relationship between two variables.\n",
    "- Null Hypothesis(H0): There is no significant relationship between two variables.\n",
    "- Alternate Hypothesis(Ha): There is a significant relationship between two variables."
   ]
  },
  {
   "cell_type": "code",
   "execution_count": 47,
   "metadata": {},
   "outputs": [
    {
     "data": {
      "text/html": [
       "<div>\n",
       "<style scoped>\n",
       "    .dataframe tbody tr th:only-of-type {\n",
       "        vertical-align: middle;\n",
       "    }\n",
       "\n",
       "    .dataframe tbody tr th {\n",
       "        vertical-align: top;\n",
       "    }\n",
       "\n",
       "    .dataframe thead th {\n",
       "        text-align: right;\n",
       "    }\n",
       "</style>\n",
       "<table border=\"1\" class=\"dataframe\">\n",
       "  <thead>\n",
       "    <tr style=\"text-align: right;\">\n",
       "      <th></th>\n",
       "      <th>Invoice No</th>\n",
       "      <th>Defectives</th>\n",
       "      <th>Analyst Name</th>\n",
       "      <th>Analyst Experience</th>\n",
       "      <th>Product Type</th>\n",
       "      <th>Customer</th>\n",
       "      <th>Tax Issue</th>\n",
       "      <th>Customer Region</th>\n",
       "      <th>Customer Address</th>\n",
       "      <th>Unnamed: 9</th>\n",
       "      <th>Unnamed: 10</th>\n",
       "    </tr>\n",
       "  </thead>\n",
       "  <tbody>\n",
       "    <tr>\n",
       "      <th>0</th>\n",
       "      <td>420765</td>\n",
       "      <td>0</td>\n",
       "      <td>ABC</td>\n",
       "      <td>1.2</td>\n",
       "      <td>A</td>\n",
       "      <td>Individual</td>\n",
       "      <td>Y</td>\n",
       "      <td>Asia</td>\n",
       "      <td>Correct</td>\n",
       "      <td>0.0</td>\n",
       "      <td>Within 60 Days</td>\n",
       "    </tr>\n",
       "    <tr>\n",
       "      <th>1</th>\n",
       "      <td>420789</td>\n",
       "      <td>1</td>\n",
       "      <td>DEF</td>\n",
       "      <td>1.8</td>\n",
       "      <td>B</td>\n",
       "      <td>Government</td>\n",
       "      <td>Y</td>\n",
       "      <td>US</td>\n",
       "      <td>Correct</td>\n",
       "      <td>1.0</td>\n",
       "      <td>More than 60 Days</td>\n",
       "    </tr>\n",
       "    <tr>\n",
       "      <th>2</th>\n",
       "      <td>420819</td>\n",
       "      <td>1</td>\n",
       "      <td>GHI</td>\n",
       "      <td>2.0</td>\n",
       "      <td>B</td>\n",
       "      <td>Individual</td>\n",
       "      <td>Y</td>\n",
       "      <td>Europe</td>\n",
       "      <td>Incorrect</td>\n",
       "      <td>NaN</td>\n",
       "      <td>NaN</td>\n",
       "    </tr>\n",
       "    <tr>\n",
       "      <th>3</th>\n",
       "      <td>420675</td>\n",
       "      <td>0</td>\n",
       "      <td>JKL</td>\n",
       "      <td>2.4</td>\n",
       "      <td>A</td>\n",
       "      <td>Individual</td>\n",
       "      <td>N</td>\n",
       "      <td>Europe</td>\n",
       "      <td>Incorrect</td>\n",
       "      <td>NaN</td>\n",
       "      <td>NaN</td>\n",
       "    </tr>\n",
       "    <tr>\n",
       "      <th>4</th>\n",
       "      <td>420167</td>\n",
       "      <td>0</td>\n",
       "      <td>MNO</td>\n",
       "      <td>3.2</td>\n",
       "      <td>C</td>\n",
       "      <td>Corporate</td>\n",
       "      <td>N</td>\n",
       "      <td>US</td>\n",
       "      <td>Incorrect</td>\n",
       "      <td>NaN</td>\n",
       "      <td>NaN</td>\n",
       "    </tr>\n",
       "  </tbody>\n",
       "</table>\n",
       "</div>"
      ],
      "text/plain": [
       "   Invoice No  Defectives Analyst Name  Analyst Experience Product Type  \\\n",
       "0      420765           0          ABC                 1.2            A   \n",
       "1      420789           1          DEF                 1.8            B   \n",
       "2      420819           1          GHI                 2.0            B   \n",
       "3      420675           0          JKL                 2.4            A   \n",
       "4      420167           0          MNO                 3.2            C   \n",
       "\n",
       "     Customer Tax Issue Customer Region Customer Address  Unnamed: 9  \\\n",
       "0  Individual         Y            Asia          Correct         0.0   \n",
       "1  Government         Y              US          Correct         1.0   \n",
       "2  Individual         Y          Europe        Incorrect         NaN   \n",
       "3  Individual         N          Europe        Incorrect         NaN   \n",
       "4   Corporate         N              US        Incorrect         NaN   \n",
       "\n",
       "         Unnamed: 10  \n",
       "0     Within 60 Days  \n",
       "1  More than 60 Days  \n",
       "2                NaN  \n",
       "3                NaN  \n",
       "4                NaN  "
      ]
     },
     "execution_count": 47,
     "metadata": {},
     "output_type": "execute_result"
    }
   ],
   "source": [
    "# let us first import a dataset.\n",
    "df = pd.read_csv(\"/Users/rahul_arora/Downloads/Analyze.xls - Sheet1.csv\")\n",
    "df.head()"
   ]
  },
  {
   "cell_type": "code",
   "execution_count": 48,
   "metadata": {},
   "outputs": [
    {
     "name": "stdout",
     "output_type": "stream",
     "text": [
      "Optimization terminated successfully.\n",
      "         Current function value: 0.692597\n",
      "         Iterations 3\n"
     ]
    },
    {
     "data": {
      "text/html": [
       "<table class=\"simpletable\">\n",
       "<caption>Logit Regression Results</caption>\n",
       "<tr>\n",
       "  <th>Dep. Variable:</th>      <td>Defectives</td>    <th>  No. Observations:  </th>  <td>    30</td>  \n",
       "</tr>\n",
       "<tr>\n",
       "  <th>Model:</th>                 <td>Logit</td>      <th>  Df Residuals:      </th>  <td>    29</td>  \n",
       "</tr>\n",
       "<tr>\n",
       "  <th>Method:</th>                 <td>MLE</td>       <th>  Df Model:          </th>  <td>     0</td>  \n",
       "</tr>\n",
       "<tr>\n",
       "  <th>Date:</th>            <td>Wed, 23 Feb 2022</td> <th>  Pseudo R-squ.:     </th> <td>-0.002422</td>\n",
       "</tr>\n",
       "<tr>\n",
       "  <th>Time:</th>                <td>19:39:43</td>     <th>  Log-Likelihood:    </th> <td> -20.778</td> \n",
       "</tr>\n",
       "<tr>\n",
       "  <th>converged:</th>             <td>True</td>       <th>  LL-Null:           </th> <td> -20.728</td> \n",
       "</tr>\n",
       "<tr>\n",
       "  <th>Covariance Type:</th>     <td>nonrobust</td>    <th>  LLR p-value:       </th>  <td>   nan</td>  \n",
       "</tr>\n",
       "</table>\n",
       "<table class=\"simpletable\">\n",
       "<tr>\n",
       "           <td></td>             <th>coef</th>     <th>std err</th>      <th>z</th>      <th>P>|z|</th>  <th>[0.025</th>    <th>0.975]</th>  \n",
       "</tr>\n",
       "<tr>\n",
       "  <th>Analyst Experience</th> <td>   -0.0245</td> <td>    0.135</td> <td>   -0.182</td> <td> 0.856</td> <td>   -0.289</td> <td>    0.240</td>\n",
       "</tr>\n",
       "</table>"
      ],
      "text/plain": [
       "<class 'statsmodels.iolib.summary.Summary'>\n",
       "\"\"\"\n",
       "                           Logit Regression Results                           \n",
       "==============================================================================\n",
       "Dep. Variable:             Defectives   No. Observations:                   30\n",
       "Model:                          Logit   Df Residuals:                       29\n",
       "Method:                           MLE   Df Model:                            0\n",
       "Date:                Wed, 23 Feb 2022   Pseudo R-squ.:               -0.002422\n",
       "Time:                        19:39:43   Log-Likelihood:                -20.778\n",
       "converged:                       True   LL-Null:                       -20.728\n",
       "Covariance Type:            nonrobust   LLR p-value:                       nan\n",
       "======================================================================================\n",
       "                         coef    std err          z      P>|z|      [0.025      0.975]\n",
       "--------------------------------------------------------------------------------------\n",
       "Analyst Experience    -0.0245      0.135     -0.182      0.856      -0.289       0.240\n",
       "======================================================================================\n",
       "\"\"\""
      ]
     },
     "execution_count": 48,
     "metadata": {},
     "output_type": "execute_result"
    }
   ],
   "source": [
    "# here we will test whether there is a significant relationship between the probability of getting a defective or not as governed by analyst experience.\n",
    "# let us first create the subsets of data from the above data frame.\n",
    "y_data = df[\"Defectives\"]\n",
    "x_data = df[\"Analyst Experience\"]\n",
    "\n",
    "# let us perform the logistic regression test.\n",
    "log_regr = sm.Logit(y_data, x_data).fit()\n",
    "log_regr.summary()"
   ]
  }
 ],
 "metadata": {
  "interpreter": {
   "hash": "31f2aee4e71d21fbe5cf8b01ff0e069b9275f58929596ceb00d14d90e3e16cd6"
  },
  "kernelspec": {
   "display_name": "Python 3.8.9 64-bit",
   "language": "python",
   "name": "python3"
  },
  "language_info": {
   "codemirror_mode": {
    "name": "ipython",
    "version": 3
   },
   "file_extension": ".py",
   "mimetype": "text/x-python",
   "name": "python",
   "nbconvert_exporter": "python",
   "pygments_lexer": "ipython3",
   "version": "3.8.9"
  },
  "orig_nbformat": 4
 },
 "nbformat": 4,
 "nbformat_minor": 2
}
