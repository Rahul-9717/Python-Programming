{
 "cells": [
  {
   "cell_type": "markdown",
   "metadata": {},
   "source": [
    "#### **Descriptive Statistics using Python**\n",
    "- Decsriptive statistics helps us in understanding the data that is taken into consideration.\n",
    "- It refers to the analysis, summary & presentation of findings related to a data set derived from a sample or entire population.\n",
    "- There are two measures to perform in descriptive statistics i.e. **Measurement of Central Tendency & Measurement of Dispersion**.\n",
    "- Measurement of Central Tendency refers to estimating the average of the data which is taken into consideration eg: Average House price in a location, Average Height of students in a class etc.\n",
    "- There are three measures of central tendency i.e. **Mean, Median & Mode**.\n",
    "- Measurement of Dispersion refers to estimating the spread of the data in consideration eg: Range of House Price in a location or Range of Height of students in a class.  \n",
    "- There are three measures of diepersion i.e. **Range, Variance, Standard Deviation & Inter Quartile Range(IQR)**."
   ]
  },
  {
   "cell_type": "markdown",
   "metadata": {},
   "source": [
    "##### **Measurement of Central Tendency**\n",
    "\n",
    "##### Mean\n",
    "- Mean or Average is calculated by **adding the given values in a data set & then dividing that sum by the count of values**.\n",
    "- eg: Mean of 32, 44, 48, 34, 27 is (32+44+48+34+27)/5 = 37 hence the formula becomes **x-bar = (summation of x)/(count of x)**.\n",
    "- Problem with mean that it is affected by the outliers eg: Mean of 32, 44, 48, 34, 127 is (32+44+48+34+127)/5 = 57\n",
    "\n",
    "##### Median\n",
    "- Median is basically the **middle value in a data set when the data set is arranged in ascending or descending order**.\n",
    "- Median divides data into two equal parts.\n",
    "- If the number of values in a data set is odd, then median is the middle most value in the data set.\n",
    "- If the number of values in a data set are even, then median is the average of the two middle values in the data set.\n",
    "- Eg : Median of 32, 44, 48, 34, 27 arranged sequence will be 27, 32, 34, 44, 48 so here since number of values are 5 i.e. odd so median is the middle most value i.e. 34.\n",
    "- Eg : Median of 27, 30, 32, 34, 42, 44, so here the number of values are 6 i.e. even, thus the median = (32+34)/2 = 33.\n",
    "- Compared to Mean, Median is not affected by the extreme values so eg: median of 27, 32, 34, 44, 168 will remain 34 i.e. the middlemost value."
   ]
  },
  {
   "cell_type": "markdown",
   "metadata": {},
   "source": [
    "##### **Measurement of Dispersion**\n",
    "\n",
    "##### Range\n",
    "- Range is the difference between the maximum value & the minimum value in a data set i.e. **Range = Max - Min**.\n",
    "- Eg : Range of 32, 44, 48, 34, 27 is Range = 48 - 27 = 21.\n",
    "- Like Mean, Range is also affected by extreme values eg: range of 27, 44, 48, 34, 127 is Range = 127 - 27 = 100. \n",
    "\n",
    "##### Variance\n",
    "- Variance is the **sum of squared differences between mean value & the individual values in a data set divided by the total count of values**.\n",
    "- Eg : To calculate the Variance of 104, 98, 90, 104, 104.\n",
    "- First calculate the mean i.e. mean = (104+98+90+104+104) = 100.\n",
    "- Next calculate how far each individual value is from the mean value i.e. (104-100), (98-100), (90-100), (104-100), (104-100) which comes out to be 4, -2, -10, 4, 4.\n",
    "- Now square the numbers i.e. (4)^2, (-2)^2, (-10)^2, (4)^2, (4)^2 which comes out to be 16, 4, 100, 16, 16.\n",
    "- Now take the mean of the squared numbers i.e. Variance = (16+4+100+16+16)/5 = 30.4.\n",
    "\n",
    "##### Standard Deviation\n",
    "- It denotes the spread of the data values in a dataset from its mean value & is calculated as the **square root of variance**.\n",
    "- Eg : In the variance example above , Standard Deviation = Sqrt(30.4) = 5.51.\n",
    "- There are two formulas to calculate the standard deviation i.e. one for the sample & one for the entire population.\n",
    "- **Sample Standard Deviation = (Sum of squared differences of mean & individual values) / (n-1)** & **Population Standard Deviation = (Sum of squared differences of mean & individual values) / N**.\n",
    "\n",
    "##### Quartiles\n",
    "- Just like Median which divides the data into two parts, we have Quartiles which **divide the data into four parts**.\n",
    "- By splitting the data into four parts, we get three points of splits which are known as Quartiles.\n",
    "- The first point of split is known as **First Quartile(Q1)**, the second one **Median/Second quartile(Q2)** & third one is the **Third Quartile(Q3)**.\n",
    "- Eg : In the given data set (27, 30, 32, 34, 42, 44, 48), Q1 = 30, Q2 = 34, Q3 = 48.\n",
    "\n",
    "##### InterQuartile Range(IQR)\n",
    "- Inter-Quartile Range or IQR for a given data set is the difference between the value in the First Quartile & the value in the Third quartile in that data set i.e. **IQR = (Q3 - Q1)**.\n",
    "- Eg : In the given data set (27, 30, 32, 34, 42, 44, 48), Q1 = 30, Q3 = 44 thus IQR = 44 - 30 = 14.\n",
    "\n",
    "##### Quantiles\n",
    "- If we divide the data into n parts, then we will get **(n-1) points of splits which are known as Quantiles**.\n",
    "- Examples of Quartiles are Deciles which divide data into 10 parts thus we have 9 points of split or 9 deciles & Percentiles which divide data into 100 equal parts thus giving 99 percentiles."
   ]
  },
  {
   "cell_type": "code",
   "execution_count": 1,
   "metadata": {},
   "outputs": [
    {
     "data": {
      "text/plain": [
       "[1, 2, 3, 4, 5, 6, 7, 8, 9, 10, 5]"
      ]
     },
     "execution_count": 1,
     "metadata": {},
     "output_type": "execute_result"
    }
   ],
   "source": [
    "# now let us first consider a list of numbers.\n",
    "my_data = [1, 2, 3, 4, 5, 6, 7, 8, 9, 10, 5]\n",
    "my_data"
   ]
  },
  {
   "cell_type": "code",
   "execution_count": 2,
   "metadata": {},
   "outputs": [
    {
     "data": {
      "text/plain": [
       "60"
      ]
     },
     "execution_count": 2,
     "metadata": {},
     "output_type": "execute_result"
    }
   ],
   "source": [
    "# to calculate the sum of all the numbers in the list, we will use the in-built sum() function in Python.\n",
    "sum(my_data)"
   ]
  },
  {
   "cell_type": "code",
   "execution_count": 3,
   "metadata": {},
   "outputs": [
    {
     "data": {
      "text/plain": [
       "11"
      ]
     },
     "execution_count": 3,
     "metadata": {},
     "output_type": "execute_result"
    }
   ],
   "source": [
    "# to calculate the count of values in the list, we will use the in-built len() function in Python.\n",
    "len(my_data)"
   ]
  },
  {
   "cell_type": "code",
   "execution_count": 4,
   "metadata": {},
   "outputs": [
    {
     "data": {
      "text/plain": [
       "5.454545454545454"
      ]
     },
     "execution_count": 4,
     "metadata": {},
     "output_type": "execute_result"
    }
   ],
   "source": [
    "# now we can calculate the mean of the given data.\n",
    "my_mean = sum(my_data) / len(my_data)\n",
    "my_mean"
   ]
  },
  {
   "cell_type": "code",
   "execution_count": 5,
   "metadata": {},
   "outputs": [],
   "source": [
    "# in order to make the above calculation simpler we will import the statistics package in order to calculate all the measures of central tendency as well as dispersion.\n",
    "import statistics"
   ]
  },
  {
   "cell_type": "code",
   "execution_count": 6,
   "metadata": {},
   "outputs": [
    {
     "data": {
      "text/plain": [
       "5.454545454545454"
      ]
     },
     "execution_count": 6,
     "metadata": {},
     "output_type": "execute_result"
    }
   ],
   "source": [
    "# now in order to find the mean of the above data set.\n",
    "statistics.mean(my_data)"
   ]
  },
  {
   "cell_type": "code",
   "execution_count": 7,
   "metadata": {},
   "outputs": [
    {
     "data": {
      "text/plain": [
       "5"
      ]
     },
     "execution_count": 7,
     "metadata": {},
     "output_type": "execute_result"
    }
   ],
   "source": [
    "# in order to calculate the median of the above data set.\n",
    "statistics.median(my_data)"
   ]
  },
  {
   "cell_type": "code",
   "execution_count": 8,
   "metadata": {},
   "outputs": [
    {
     "data": {
      "text/plain": [
       "5"
      ]
     },
     "execution_count": 8,
     "metadata": {},
     "output_type": "execute_result"
    }
   ],
   "source": [
    "# we can also find the mode of the data set.\n",
    "statistics.mode(my_data)"
   ]
  },
  {
   "cell_type": "code",
   "execution_count": 9,
   "metadata": {},
   "outputs": [
    {
     "data": {
      "text/plain": [
       "9"
      ]
     },
     "execution_count": 9,
     "metadata": {},
     "output_type": "execute_result"
    }
   ],
   "source": [
    "# in order to find out the range.\n",
    "max(my_data) - min(my_data)  # since there is no method for range available in the statistics module."
   ]
  },
  {
   "cell_type": "code",
   "execution_count": 10,
   "metadata": {},
   "outputs": [
    {
     "data": {
      "text/plain": [
       "2.8762349126466136"
      ]
     },
     "execution_count": 10,
     "metadata": {},
     "output_type": "execute_result"
    }
   ],
   "source": [
    "# in order to find out the standard deviation for the given data set.\n",
    "statistics.stdev(my_data)  # default value in statistics module is the sample standard deviation."
   ]
  },
  {
   "cell_type": "code",
   "execution_count": 11,
   "metadata": {},
   "outputs": [
    {
     "data": {
      "text/plain": [
       "8.272727272727273"
      ]
     },
     "execution_count": 11,
     "metadata": {},
     "output_type": "execute_result"
    }
   ],
   "source": [
    "# we can also find the variance.\n",
    "statistics.variance(my_data)"
   ]
  },
  {
   "cell_type": "code",
   "execution_count": 12,
   "metadata": {},
   "outputs": [
    {
     "data": {
      "text/plain": [
       "[3.0, 5.0, 8.0]"
      ]
     },
     "execution_count": 12,
     "metadata": {},
     "output_type": "execute_result"
    }
   ],
   "source": [
    "# now let us find out the quartiles, this is done by calling the quantile method of the statistics module.\n",
    "quart = statistics.quantiles(my_data)  # by default the quantile method return the Q1, median & Q3 values(n=4).\n",
    "quart  # this returns a list containing Q1, Median & Q3."
   ]
  },
  {
   "cell_type": "code",
   "execution_count": 13,
   "metadata": {},
   "outputs": [
    {
     "data": {
      "text/plain": [
       "5.0"
      ]
     },
     "execution_count": 13,
     "metadata": {},
     "output_type": "execute_result"
    }
   ],
   "source": [
    "# now in order to find the IQR for the given data set we can leverage list indexing.\n",
    "quart[2] - quart[0]"
   ]
  },
  {
   "cell_type": "code",
   "execution_count": 14,
   "metadata": {},
   "outputs": [
    {
     "data": {
      "text/plain": [
       "[1.2, 2.4, 3.6, 4.8, 5.0, 6.2, 7.4, 8.6, 9.8]"
      ]
     },
     "execution_count": 14,
     "metadata": {},
     "output_type": "execute_result"
    }
   ],
   "source": [
    "# in order to calculate the deciles for the given data set.\n",
    "statistics.quantiles(my_data, n=10)  \n",
    "# similarly we can also calculate the percentiles by passing n=100."
   ]
  },
  {
   "cell_type": "code",
   "execution_count": 15,
   "metadata": {},
   "outputs": [
    {
     "data": {
      "text/plain": [
       "array([96, 12, 82, 71, 64, 88, 76, 10, 78, 41,  5, 64, 41, 61, 93, 65,  6,\n",
       "       13, 94, 41, 50, 84,  9, 30, 60, 35, 45, 73, 20, 11, 77, 96, 88,  1,\n",
       "       74,  9, 63, 37, 84, 29, 64,  8, 11, 53, 57, 39, 74, 53, 19, 72, 16,\n",
       "       45,  1, 13, 18, 76, 80, 98, 94, 25, 37, 64, 20, 36, 31, 11, 61, 21,\n",
       "       28,  9, 87, 27, 88, 47, 48, 55, 87, 10, 46,  3, 19, 59, 93, 12, 11,\n",
       "       95, 36, 29,  4, 84, 85, 48, 15, 70, 61, 70, 52,  7, 89, 72])"
      ]
     },
     "execution_count": 15,
     "metadata": {},
     "output_type": "execute_result"
    }
   ],
   "source": [
    "# in practical scenarios we will getting a very large data set which will be more complex than the above data set.\n",
    "# so here we will be levaraging the NumPy module to calculate the descriptive statistics mesaures.\n",
    "# let us first import the numoy module.\n",
    "import numpy as np\n",
    "\n",
    "# now let us create a 1d array containing 100 random values ranging from 1 to 100.\n",
    "np.random.seed(101)\n",
    "arr = np.random.randint(1, 100, 100)\n",
    "arr"
   ]
  },
  {
   "cell_type": "code",
   "execution_count": 16,
   "metadata": {},
   "outputs": [
    {
     "data": {
      "text/plain": [
       "48.19"
      ]
     },
     "execution_count": 16,
     "metadata": {},
     "output_type": "execute_result"
    }
   ],
   "source": [
    "# now let us calculate the mean of the array.\n",
    "np.mean(arr)"
   ]
  },
  {
   "cell_type": "code",
   "execution_count": 17,
   "metadata": {},
   "outputs": [
    {
     "data": {
      "text/plain": [
       "48.0"
      ]
     },
     "execution_count": 17,
     "metadata": {},
     "output_type": "execute_result"
    }
   ],
   "source": [
    "# also let us calculate the median of the array.\n",
    "np.median(arr)"
   ]
  },
  {
   "cell_type": "code",
   "execution_count": 18,
   "metadata": {},
   "outputs": [
    {
     "data": {
      "text/plain": [
       "29.81432373876691"
      ]
     },
     "execution_count": 18,
     "metadata": {},
     "output_type": "execute_result"
    }
   ],
   "source": [
    "# we can also calculate the standard deviation for the array.\n",
    "np.std(arr)"
   ]
  },
  {
   "cell_type": "code",
   "execution_count": 19,
   "metadata": {},
   "outputs": [
    {
     "data": {
      "text/plain": [
       "888.8939"
      ]
     },
     "execution_count": 19,
     "metadata": {},
     "output_type": "execute_result"
    }
   ],
   "source": [
    "# similarly we can also calculate the variance.\n",
    "np.var(arr)"
   ]
  },
  {
   "cell_type": "code",
   "execution_count": 20,
   "metadata": {},
   "outputs": [
    {
     "data": {
      "text/plain": [
       "ModeResult(mode=array([11]), count=array([4]))"
      ]
     },
     "execution_count": 20,
     "metadata": {},
     "output_type": "execute_result"
    }
   ],
   "source": [
    "# now there is one limitation in numpy i.e. we cannot calculate the mode, so for this we leverage the scipy stats module.\n",
    "import scipy.stats as stats\n",
    "stats.mode(arr) \n",
    "# thus in this case 11 is the mode & it is present in 4 places inside our data set."
   ]
  },
  {
   "cell_type": "code",
   "execution_count": 21,
   "metadata": {},
   "outputs": [
    {
     "data": {
      "text/plain": [
       "array([[96, 12, 82, 71, 64],\n",
       "       [88, 76, 10, 78, 41],\n",
       "       [ 5, 64, 41, 61, 93],\n",
       "       [65,  6, 13, 94, 41],\n",
       "       [50, 84,  9, 30, 60],\n",
       "       [35, 45, 73, 20, 11],\n",
       "       [77, 96, 88,  1, 74],\n",
       "       [ 9, 63, 37, 84, 29],\n",
       "       [64,  8, 11, 53, 57],\n",
       "       [39, 74, 53, 19, 72],\n",
       "       [16, 45,  1, 13, 18],\n",
       "       [76, 80, 98, 94, 25],\n",
       "       [37, 64, 20, 36, 31],\n",
       "       [11, 61, 21, 28,  9],\n",
       "       [87, 27, 88, 47, 48],\n",
       "       [55, 87, 10, 46,  3],\n",
       "       [19, 59, 93, 12, 11],\n",
       "       [95, 36, 29,  4, 84],\n",
       "       [85, 48, 15, 70, 61],\n",
       "       [70, 52,  7, 89, 72]])"
      ]
     },
     "execution_count": 21,
     "metadata": {},
     "output_type": "execute_result"
    }
   ],
   "source": [
    "# now let us convert the above 1D array into a 2D array.\n",
    "arr = arr.reshape(20, 5)\n",
    "arr"
   ]
  },
  {
   "cell_type": "code",
   "execution_count": 22,
   "metadata": {},
   "outputs": [
    {
     "name": "stdout",
     "output_type": "stream",
     "text": [
      "Row-wise Mean: [65.  58.6 52.8 43.8 46.6 36.8 67.2 44.4 38.6 51.4 18.6 74.6 37.6 26.\n",
      " 59.4 40.2 38.8 49.6 55.8 58. ]\n",
      "Column-wise Mean: [53.95 54.35 39.95 47.5  45.2 ]\n",
      "\n",
      "Row-wise Median: [71. 76. 61. 41. 50. 35. 77. 37. 53. 53. 16. 80. 36. 21. 48. 46. 19. 36.\n",
      " 61. 70.]\n",
      "Column-wise Median: [59.5 60.  25.  46.5 44.5]\n",
      "\n",
      "Row-wise Mode: ModeResult(mode=array([[12],\n",
      "       [10],\n",
      "       [ 5],\n",
      "       [ 6],\n",
      "       [ 9],\n",
      "       [11],\n",
      "       [ 1],\n",
      "       [ 9],\n",
      "       [ 8],\n",
      "       [19],\n",
      "       [ 1],\n",
      "       [25],\n",
      "       [20],\n",
      "       [ 9],\n",
      "       [27],\n",
      "       [ 3],\n",
      "       [11],\n",
      "       [ 4],\n",
      "       [15],\n",
      "       [ 7]]), count=array([[1],\n",
      "       [1],\n",
      "       [1],\n",
      "       [1],\n",
      "       [1],\n",
      "       [1],\n",
      "       [1],\n",
      "       [1],\n",
      "       [1],\n",
      "       [1],\n",
      "       [1],\n",
      "       [1],\n",
      "       [1],\n",
      "       [1],\n",
      "       [1],\n",
      "       [1],\n",
      "       [1],\n",
      "       [1],\n",
      "       [1],\n",
      "       [1]]))\n",
      "Column-wise Mode: ModeResult(mode=array([[ 5, 45, 10, 94, 11]]), count=array([[1, 2, 2, 2, 2]]))\n"
     ]
    }
   ],
   "source": [
    "# now let's say we want to calculate the row-wise & column-wise descriptive measures.\n",
    "\n",
    "# Central Tendency\n",
    "print(\"Row-wise Mean:\",np.mean(arr, axis=1))  # this will calculate mean of values for each row of the array. \n",
    "print(\"Column-wise Mean:\",np.mean(arr, axis=0))  # this will calculate mean of values for each column of the array.\n",
    "\n",
    "print(\"\\nRow-wise Median:\",np.median(arr, axis=1))  # this will calculate median of values for each row of the array. \n",
    "print(\"Column-wise Median:\",np.median(arr, axis=0))  # this will calculate median of values for each column of the array. \n",
    "\n",
    "print(\"\\nRow-wise Mode:\",stats.mode(arr, axis=1))  # this will calculate standard deviation of values for each row of the array. \n",
    "print(\"Column-wise Mode:\",stats.mode(arr, axis=0))  # this will calculate standard deviation of values for each column of the array."
   ]
  },
  {
   "cell_type": "code",
   "execution_count": 23,
   "metadata": {},
   "outputs": [
    {
     "name": "stdout",
     "output_type": "stream",
     "text": [
      "\n",
      "Row-wise Stdev: [28.62167011 29.03515111 29.09570415 32.72552521 25.60937328 21.58147354\n",
      " 34.01999412 26.30285156 24.03830277 20.69396047 14.45821566 26.13503396\n",
      " 14.51344205 18.80425484 24.13793695 30.78571097 32.33821269 34.44764143\n",
      " 23.69303695 28.06421209]\n",
      "Column-wise Stdev: [29.98078551 25.59741198 33.36236652 30.39325583 26.5548489 ]\n",
      "\n",
      "Row-wise Variance: [ 819.2   843.04  846.56 1070.96  655.84  465.76 1157.36  691.84  577.84\n",
      "  428.24  209.04  683.04  210.64  353.6   582.64  947.76 1045.76 1186.64\n",
      "  561.36  787.6 ]\n",
      "Column-wise Variance: [ 898.8475  655.2275 1113.0475  923.75    705.16  ]\n"
     ]
    }
   ],
   "source": [
    "# Dispersion\n",
    "print(\"\\nRow-wise Stdev:\",np.std(arr, axis=1))  # this will calculate standard deviation of values for each row of the array. \n",
    "print(\"Column-wise Stdev:\",np.std(arr, axis=0))  # this will calculate standard deviation of values for each column of the array.\n",
    "\n",
    "print(\"\\nRow-wise Variance:\",np.var(arr, axis=1))  # this will calculate variance of values for each row of the array. \n",
    "print(\"Column-wise Variance:\",np.var(arr, axis=0))  # this will calculate variance of values for each column of the array."
   ]
  },
  {
   "cell_type": "code",
   "execution_count": 24,
   "metadata": {},
   "outputs": [
    {
     "data": {
      "text/html": [
       "<div>\n",
       "<style scoped>\n",
       "    .dataframe tbody tr th:only-of-type {\n",
       "        vertical-align: middle;\n",
       "    }\n",
       "\n",
       "    .dataframe tbody tr th {\n",
       "        vertical-align: top;\n",
       "    }\n",
       "\n",
       "    .dataframe thead th {\n",
       "        text-align: right;\n",
       "    }\n",
       "</style>\n",
       "<table border=\"1\" class=\"dataframe\">\n",
       "  <thead>\n",
       "    <tr style=\"text-align: right;\">\n",
       "      <th></th>\n",
       "      <th>Car</th>\n",
       "      <th>Model</th>\n",
       "      <th>Volume</th>\n",
       "      <th>Weight</th>\n",
       "      <th>CO2</th>\n",
       "    </tr>\n",
       "  </thead>\n",
       "  <tbody>\n",
       "    <tr>\n",
       "      <th>0</th>\n",
       "      <td>Toyoty</td>\n",
       "      <td>Aygo</td>\n",
       "      <td>1.0</td>\n",
       "      <td>790</td>\n",
       "      <td>99</td>\n",
       "    </tr>\n",
       "    <tr>\n",
       "      <th>1</th>\n",
       "      <td>Mitsubishi</td>\n",
       "      <td>Space Star</td>\n",
       "      <td>1.2</td>\n",
       "      <td>1160</td>\n",
       "      <td>95</td>\n",
       "    </tr>\n",
       "    <tr>\n",
       "      <th>2</th>\n",
       "      <td>Skoda</td>\n",
       "      <td>Citigo</td>\n",
       "      <td>1.0</td>\n",
       "      <td>929</td>\n",
       "      <td>95</td>\n",
       "    </tr>\n",
       "    <tr>\n",
       "      <th>3</th>\n",
       "      <td>Fiat</td>\n",
       "      <td>500</td>\n",
       "      <td>0.9</td>\n",
       "      <td>865</td>\n",
       "      <td>90</td>\n",
       "    </tr>\n",
       "    <tr>\n",
       "      <th>4</th>\n",
       "      <td>Mini</td>\n",
       "      <td>Cooper</td>\n",
       "      <td>1.5</td>\n",
       "      <td>1140</td>\n",
       "      <td>105</td>\n",
       "    </tr>\n",
       "  </tbody>\n",
       "</table>\n",
       "</div>"
      ],
      "text/plain": [
       "          Car       Model  Volume  Weight  CO2\n",
       "0      Toyoty        Aygo     1.0     790   99\n",
       "1  Mitsubishi  Space Star     1.2    1160   95\n",
       "2       Skoda      Citigo     1.0     929   95\n",
       "3        Fiat         500     0.9     865   90\n",
       "4        Mini      Cooper     1.5    1140  105"
      ]
     },
     "execution_count": 24,
     "metadata": {},
     "output_type": "execute_result"
    }
   ],
   "source": [
    "# similarly we can calculate descriptive statistics measures in a data frames be leveraging the pandas module.\n",
    "import pandas as pd\n",
    "df = pd.read_csv(\"/Users/rahul_arora/Downloads/cars2.csv\")\n",
    "df.head()"
   ]
  },
  {
   "cell_type": "code",
   "execution_count": 25,
   "metadata": {},
   "outputs": [
    {
     "name": "stdout",
     "output_type": "stream",
     "text": [
      "Mean:\n",
      " Volume       1.611111\n",
      "Weight    1292.277778\n",
      "CO2        102.027778\n",
      "dtype: float64\n",
      "\n",
      "Median:\n",
      " Volume       1.6\n",
      "Weight    1329.0\n",
      "CO2         99.0\n",
      "dtype: float64\n",
      "\n",
      "Mode:\n",
      "    Volume  Weight  CO2\n",
      "0     1.6    1365   99\n"
     ]
    }
   ],
   "source": [
    "# let us now calculate the descriptive statistics measures for all the numerical data columns of the data frame.\n",
    "\n",
    "# Central Tendency\n",
    "print(\"Mean:\\n\", df[[\"Volume\", \"Weight\", \"CO2\"]].mean())\n",
    "print(\"\\nMedian:\\n\", df[[\"Volume\", \"Weight\", \"CO2\"]].median())\n",
    "print(\"\\nMode:\\n\", df[[\"Volume\", \"Weight\", \"CO2\"]].mode())"
   ]
  },
  {
   "cell_type": "code",
   "execution_count": 26,
   "metadata": {},
   "outputs": [
    {
     "name": "stdout",
     "output_type": "stream",
     "text": [
      "\n",
      "Standard Deviation:\n",
      " Volume      0.388975\n",
      "Weight    242.123889\n",
      "CO2         7.454571\n",
      "dtype: float64\n",
      "\n",
      "Min:\n",
      " Volume      0.9\n",
      "Weight    790.0\n",
      "CO2        90.0\n",
      "dtype: float64\n",
      "\n",
      "Max:\n",
      " Volume       2.5\n",
      "Weight    1746.0\n",
      "CO2        120.0\n",
      "dtype: float64\n"
     ]
    }
   ],
   "source": [
    "# Dispersion\n",
    "print(\"\\nStandard Deviation:\\n\", df[[\"Volume\", \"Weight\", \"CO2\"]].std())\n",
    "print(\"\\nMin:\\n\", df[[\"Volume\", \"Weight\", \"CO2\"]].min())\n",
    "print(\"\\nMax:\\n\", df[[\"Volume\", \"Weight\", \"CO2\"]].max())"
   ]
  },
  {
   "cell_type": "code",
   "execution_count": 27,
   "metadata": {},
   "outputs": [
    {
     "data": {
      "text/html": [
       "<div>\n",
       "<style scoped>\n",
       "    .dataframe tbody tr th:only-of-type {\n",
       "        vertical-align: middle;\n",
       "    }\n",
       "\n",
       "    .dataframe tbody tr th {\n",
       "        vertical-align: top;\n",
       "    }\n",
       "\n",
       "    .dataframe thead th {\n",
       "        text-align: right;\n",
       "    }\n",
       "</style>\n",
       "<table border=\"1\" class=\"dataframe\">\n",
       "  <thead>\n",
       "    <tr style=\"text-align: right;\">\n",
       "      <th></th>\n",
       "      <th>Volume</th>\n",
       "      <th>Weight</th>\n",
       "      <th>CO2</th>\n",
       "    </tr>\n",
       "  </thead>\n",
       "  <tbody>\n",
       "    <tr>\n",
       "      <th>count</th>\n",
       "      <td>36.000000</td>\n",
       "      <td>36.000000</td>\n",
       "      <td>36.000000</td>\n",
       "    </tr>\n",
       "    <tr>\n",
       "      <th>mean</th>\n",
       "      <td>1.611111</td>\n",
       "      <td>1292.277778</td>\n",
       "      <td>102.027778</td>\n",
       "    </tr>\n",
       "    <tr>\n",
       "      <th>std</th>\n",
       "      <td>0.388975</td>\n",
       "      <td>242.123889</td>\n",
       "      <td>7.454571</td>\n",
       "    </tr>\n",
       "    <tr>\n",
       "      <th>min</th>\n",
       "      <td>0.900000</td>\n",
       "      <td>790.000000</td>\n",
       "      <td>90.000000</td>\n",
       "    </tr>\n",
       "    <tr>\n",
       "      <th>25%</th>\n",
       "      <td>1.475000</td>\n",
       "      <td>1117.250000</td>\n",
       "      <td>97.750000</td>\n",
       "    </tr>\n",
       "    <tr>\n",
       "      <th>50%</th>\n",
       "      <td>1.600000</td>\n",
       "      <td>1329.000000</td>\n",
       "      <td>99.000000</td>\n",
       "    </tr>\n",
       "    <tr>\n",
       "      <th>75%</th>\n",
       "      <td>2.000000</td>\n",
       "      <td>1418.250000</td>\n",
       "      <td>105.000000</td>\n",
       "    </tr>\n",
       "    <tr>\n",
       "      <th>max</th>\n",
       "      <td>2.500000</td>\n",
       "      <td>1746.000000</td>\n",
       "      <td>120.000000</td>\n",
       "    </tr>\n",
       "  </tbody>\n",
       "</table>\n",
       "</div>"
      ],
      "text/plain": [
       "          Volume       Weight         CO2\n",
       "count  36.000000    36.000000   36.000000\n",
       "mean    1.611111  1292.277778  102.027778\n",
       "std     0.388975   242.123889    7.454571\n",
       "min     0.900000   790.000000   90.000000\n",
       "25%     1.475000  1117.250000   97.750000\n",
       "50%     1.600000  1329.000000   99.000000\n",
       "75%     2.000000  1418.250000  105.000000\n",
       "max     2.500000  1746.000000  120.000000"
      ]
     },
     "execution_count": 27,
     "metadata": {},
     "output_type": "execute_result"
    }
   ],
   "source": [
    "# we can also return all the descriptive statistics measures for all the numerical data columns in the data frame at once.\n",
    "df.describe() "
   ]
  },
  {
   "cell_type": "code",
   "execution_count": 28,
   "metadata": {},
   "outputs": [
    {
     "data": {
      "text/plain": [
       "Mercedes      5\n",
       "Ford          5\n",
       "Skoda         4\n",
       "Audi          3\n",
       "BMW           3\n",
       "Opel          3\n",
       "Volvo         3\n",
       "VW            1\n",
       "Mitsubishi    1\n",
       "Hyundai       1\n",
       "Suzuki        1\n",
       "Honda         1\n",
       "Hundai        1\n",
       "Mini          1\n",
       "Fiat          1\n",
       "Mazda         1\n",
       "Toyoty        1\n",
       "Name: Car, dtype: int64"
      ]
     },
     "execution_count": 28,
     "metadata": {},
     "output_type": "execute_result"
    }
   ],
   "source": [
    "# we can get the count of the values of the categorical data columns in the data frame.\n",
    "df[\"Car\"].value_counts()"
   ]
  },
  {
   "cell_type": "code",
   "execution_count": 29,
   "metadata": {},
   "outputs": [
    {
     "data": {
      "text/html": [
       "<div>\n",
       "<style scoped>\n",
       "    .dataframe tbody tr th:only-of-type {\n",
       "        vertical-align: middle;\n",
       "    }\n",
       "\n",
       "    .dataframe tbody tr th {\n",
       "        vertical-align: top;\n",
       "    }\n",
       "\n",
       "    .dataframe thead th {\n",
       "        text-align: right;\n",
       "    }\n",
       "</style>\n",
       "<table border=\"1\" class=\"dataframe\">\n",
       "  <thead>\n",
       "    <tr style=\"text-align: right;\">\n",
       "      <th></th>\n",
       "      <th>Volume</th>\n",
       "      <th>Weight</th>\n",
       "      <th>CO2</th>\n",
       "    </tr>\n",
       "    <tr>\n",
       "      <th>Car</th>\n",
       "      <th></th>\n",
       "      <th></th>\n",
       "      <th></th>\n",
       "    </tr>\n",
       "  </thead>\n",
       "  <tbody>\n",
       "    <tr>\n",
       "      <th>Audi</th>\n",
       "      <td>1.866667</td>\n",
       "      <td>1455.000000</td>\n",
       "      <td>105.666667</td>\n",
       "    </tr>\n",
       "    <tr>\n",
       "      <th>BMW</th>\n",
       "      <td>1.733333</td>\n",
       "      <td>1486.666667</td>\n",
       "      <td>107.000000</td>\n",
       "    </tr>\n",
       "    <tr>\n",
       "      <th>Fiat</th>\n",
       "      <td>0.900000</td>\n",
       "      <td>865.000000</td>\n",
       "      <td>90.000000</td>\n",
       "    </tr>\n",
       "    <tr>\n",
       "      <th>Ford</th>\n",
       "      <td>1.540000</td>\n",
       "      <td>1274.200000</td>\n",
       "      <td>100.000000</td>\n",
       "    </tr>\n",
       "    <tr>\n",
       "      <th>Honda</th>\n",
       "      <td>1.600000</td>\n",
       "      <td>1252.000000</td>\n",
       "      <td>94.000000</td>\n",
       "    </tr>\n",
       "    <tr>\n",
       "      <th>Hundai</th>\n",
       "      <td>1.600000</td>\n",
       "      <td>1326.000000</td>\n",
       "      <td>97.000000</td>\n",
       "    </tr>\n",
       "    <tr>\n",
       "      <th>Hyundai</th>\n",
       "      <td>1.100000</td>\n",
       "      <td>980.000000</td>\n",
       "      <td>99.000000</td>\n",
       "    </tr>\n",
       "    <tr>\n",
       "      <th>Mazda</th>\n",
       "      <td>2.200000</td>\n",
       "      <td>1280.000000</td>\n",
       "      <td>104.000000</td>\n",
       "    </tr>\n",
       "    <tr>\n",
       "      <th>Mercedes</th>\n",
       "      <td>1.940000</td>\n",
       "      <td>1439.000000</td>\n",
       "      <td>105.600000</td>\n",
       "    </tr>\n",
       "    <tr>\n",
       "      <th>Mini</th>\n",
       "      <td>1.500000</td>\n",
       "      <td>1140.000000</td>\n",
       "      <td>105.000000</td>\n",
       "    </tr>\n",
       "    <tr>\n",
       "      <th>Mitsubishi</th>\n",
       "      <td>1.200000</td>\n",
       "      <td>1160.000000</td>\n",
       "      <td>95.000000</td>\n",
       "    </tr>\n",
       "    <tr>\n",
       "      <th>Opel</th>\n",
       "      <td>1.733333</td>\n",
       "      <td>1387.666667</td>\n",
       "      <td>101.666667</td>\n",
       "    </tr>\n",
       "    <tr>\n",
       "      <th>Skoda</th>\n",
       "      <td>1.400000</td>\n",
       "      <td>1143.000000</td>\n",
       "      <td>97.000000</td>\n",
       "    </tr>\n",
       "    <tr>\n",
       "      <th>Suzuki</th>\n",
       "      <td>1.300000</td>\n",
       "      <td>990.000000</td>\n",
       "      <td>101.000000</td>\n",
       "    </tr>\n",
       "    <tr>\n",
       "      <th>Toyoty</th>\n",
       "      <td>1.000000</td>\n",
       "      <td>790.000000</td>\n",
       "      <td>99.000000</td>\n",
       "    </tr>\n",
       "    <tr>\n",
       "      <th>VW</th>\n",
       "      <td>1.000000</td>\n",
       "      <td>929.000000</td>\n",
       "      <td>105.000000</td>\n",
       "    </tr>\n",
       "    <tr>\n",
       "      <th>Volvo</th>\n",
       "      <td>1.866667</td>\n",
       "      <td>1561.333333</td>\n",
       "      <td>108.333333</td>\n",
       "    </tr>\n",
       "  </tbody>\n",
       "</table>\n",
       "</div>"
      ],
      "text/plain": [
       "              Volume       Weight         CO2\n",
       "Car                                          \n",
       "Audi        1.866667  1455.000000  105.666667\n",
       "BMW         1.733333  1486.666667  107.000000\n",
       "Fiat        0.900000   865.000000   90.000000\n",
       "Ford        1.540000  1274.200000  100.000000\n",
       "Honda       1.600000  1252.000000   94.000000\n",
       "Hundai      1.600000  1326.000000   97.000000\n",
       "Hyundai     1.100000   980.000000   99.000000\n",
       "Mazda       2.200000  1280.000000  104.000000\n",
       "Mercedes    1.940000  1439.000000  105.600000\n",
       "Mini        1.500000  1140.000000  105.000000\n",
       "Mitsubishi  1.200000  1160.000000   95.000000\n",
       "Opel        1.733333  1387.666667  101.666667\n",
       "Skoda       1.400000  1143.000000   97.000000\n",
       "Suzuki      1.300000   990.000000  101.000000\n",
       "Toyoty      1.000000   790.000000   99.000000\n",
       "VW          1.000000   929.000000  105.000000\n",
       "Volvo       1.866667  1561.333333  108.333333"
      ]
     },
     "execution_count": 29,
     "metadata": {},
     "output_type": "execute_result"
    }
   ],
   "source": [
    "# We can also create descriptive statistics measures pertaining to a defined grouping for all the numerical data columns of the data frame.\n",
    "df.groupby(\"Car\").mean()"
   ]
  }
 ],
 "metadata": {
  "interpreter": {
   "hash": "31f2aee4e71d21fbe5cf8b01ff0e069b9275f58929596ceb00d14d90e3e16cd6"
  },
  "kernelspec": {
   "display_name": "Python 3.8.9 64-bit",
   "language": "python",
   "name": "python3"
  },
  "language_info": {
   "codemirror_mode": {
    "name": "ipython",
    "version": 3
   },
   "file_extension": ".py",
   "mimetype": "text/x-python",
   "name": "python",
   "nbconvert_exporter": "python",
   "pygments_lexer": "ipython3",
   "version": "3.8.9"
  },
  "orig_nbformat": 4
 },
 "nbformat": 4,
 "nbformat_minor": 2
}
