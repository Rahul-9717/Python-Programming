{
 "cells": [
  {
   "cell_type": "markdown",
   "metadata": {},
   "source": [
    "#### **Tuples**\n",
    "- A tuple is a collection of objects which is ordered & immutable i.e. we cannot add or change the elements of a tuple.\n",
    "- Tuples consists of elements having different data type enclosed in round brackets separated by comma. Eg : my_tuple = (1, 2.34, True, \"New York\")\n",
    "- Since tuple are immutable, iterating thorugh a tuple is slightly faster than with list.\n",
    "- Tuples with their immutable lements can be used as key for a dictionary which is not possible with lists."
   ]
  },
  {
   "cell_type": "markdown",
   "metadata": {},
   "source": [
    "##### Creating a Tuple"
   ]
  },
  {
   "cell_type": "code",
   "execution_count": 1,
   "metadata": {},
   "outputs": [
    {
     "name": "stdout",
     "output_type": "stream",
     "text": [
      "('Max', 28, 'New York', 3.45, True)\n",
      "<class 'tuple'>\n",
      "('Max', 28, 'New York', 3.45, True)\n",
      "<class 'tuple'>\n",
      "('Max', 28, 'New York', 3.45, True)\n",
      "<class 'tuple'>\n",
      "(25,)\n",
      "<class 'tuple'>\n"
     ]
    }
   ],
   "source": [
    "# creating tuple using parentheses.\n",
    "tuple_1 = (\"Max\", 28, \"New York\", 3.45, True)\n",
    "# creating tuple without using parentheses.\n",
    "tuple_2 = \"Max\", 28, \"New York\", 3.45, True\n",
    "# creating tuple by converting an iterable(list, dict, string) using the tuple() function.\n",
    "tuple_3 = tuple([\"Max\", 28, \"New York\", 3.45, True])\n",
    "# special case : a tuple with only one element needs to have a comma at the end, otherwise it will not be recognized as a tuple.\n",
    "tuple_4 = (25,)\n",
    "print(tuple_1)\n",
    "print(type(tuple_1))\n",
    "print(tuple_2)\n",
    "print(type(tuple_2))\n",
    "print(tuple_3)\n",
    "print(type(tuple_3))\n",
    "print(tuple_4)\n",
    "print(type(tuple_4))"
   ]
  },
  {
   "cell_type": "markdown",
   "metadata": {},
   "source": [
    "##### Acessing elements of a Tuple"
   ]
  },
  {
   "cell_type": "code",
   "execution_count": 5,
   "metadata": {},
   "outputs": [
    {
     "name": "stdout",
     "output_type": "stream",
     "text": [
      "Max\n",
      "3.45\n",
      "True\n",
      "New York\n"
     ]
    }
   ],
   "source": [
    "# accessing the tuple lements by referring to the index number, the indices start at 0.\n",
    "my_tuple = (\"Max\", 28, \"New York\", 3.45, True)\n",
    "print(my_tuple[0])\n",
    "print(my_tuple[3])\n",
    "\n",
    "# using negative indexing to access the tuple elements, -1 refers to the last element, -2 to the second last & so on.\n",
    "print(my_tuple[-1]) \n",
    "print(my_tuple[-3])"
   ]
  },
  {
   "cell_type": "markdown",
   "metadata": {},
   "source": [
    "##### Slicing of a Tuple"
   ]
  },
  {
   "cell_type": "code",
   "execution_count": 10,
   "metadata": {},
   "outputs": [
    {
     "name": "stdout",
     "output_type": "stream",
     "text": [
      "(2, 3, 4)\n",
      "(3, 4, 5, 6, 7, 8, 9, 10)\n",
      "(1, 2, 3, 4)\n",
      "(1, 3, 5, 7, 9)\n",
      "(10, 9, 8, 7, 6, 5, 4, 3, 2, 1)\n"
     ]
    }
   ],
   "source": [
    "# accesing sub-parts of the tuple with the use of colon(:), just as with strings & lists.\n",
    "# variable[start index:end index:step] Note that the end index is not included.\n",
    "my_tuple = (1, 2, 3, 4, 5, 6, 7, 8, 9, 10)\n",
    "print(my_tuple[1:4]) # index number 4 is not included.\n",
    "print(my_tuple[2:]) # until the end.\n",
    "print(my_tuple[:4]) # from begiining till index position 3.\n",
    "print(my_tuple[::2]) # start to end with very second item.\n",
    "print(my_tuple[::-1]) # reversing the tuple."
   ]
  },
  {
   "cell_type": "markdown",
   "metadata": {},
   "source": [
    "##### Deleting a Tuple"
   ]
  },
  {
   "cell_type": "code",
   "execution_count": 14,
   "metadata": {},
   "outputs": [],
   "source": [
    "# deleting a tuple using del keyword.\n",
    "my_tuple = (1, 2, 3, 4, 5, 6, 7, 8, 9, 10)\n",
    "del my_tuple\n",
    "# print(my_tuple) NameError: name 'my_tuple' is not defined."
   ]
  },
  {
   "cell_type": "markdown",
   "metadata": {},
   "source": [
    "##### Iterating over a Tuple"
   ]
  },
  {
   "cell_type": "code",
   "execution_count": 25,
   "metadata": {},
   "outputs": [
    {
     "name": "stdout",
     "output_type": "stream",
     "text": [
      "1 2 3 4 5 6 7 8 9 10 "
     ]
    }
   ],
   "source": [
    "# iterating over a tuple using for in loop.\n",
    "my_tuple = (1, 2, 3, 4, 5, 6, 7, 8, 9, 10)\n",
    "for i in my_tuple:\n",
    "    print(i, end=\" \")\n",
    "   "
   ]
  },
  {
   "cell_type": "code",
   "execution_count": 26,
   "metadata": {},
   "outputs": [
    {
     "name": "stdout",
     "output_type": "stream",
     "text": [
      "(0, 1) (1, 2) (2, 3) (3, 4) (4, 5) (5, 6) (6, 7) (7, 8) (8, 9) (9, 10) "
     ]
    }
   ],
   "source": [
    "# returning the index position along with the element using enumerate() function.\n",
    "for i in enumerate(my_tuple):\n",
    "    print(i, end=\" \") "
   ]
  },
  {
   "cell_type": "code",
   "execution_count": 20,
   "metadata": {},
   "outputs": [
    {
     "name": "stdout",
     "output_type": "stream",
     "text": [
      "0 1\n",
      "1 2\n",
      "2 3\n",
      "3 4\n",
      "4 5\n",
      "5 6\n",
      "6 7\n",
      "7 8\n",
      "8 9\n",
      "9 10\n"
     ]
    }
   ],
   "source": [
    "# iterating over a tuple using range() function.\n",
    "for i in range(len(my_tuple)):\n",
    "    print(i, my_tuple[i])"
   ]
  },
  {
   "cell_type": "markdown",
   "metadata": {},
   "source": [
    "##### Tuple membership test"
   ]
  },
  {
   "cell_type": "code",
   "execution_count": 24,
   "metadata": {},
   "outputs": [
    {
     "name": "stdout",
     "output_type": "stream",
     "text": [
      "True\n",
      "False\n",
      "True\n"
     ]
    }
   ],
   "source": [
    "# check if an element exists in a tuple or not.\n",
    "my_tuple = (\"Max\", 28, \"New York\", 3.45, True)\n",
    "print(\"New York\" in my_tuple)\n",
    "print(59 in my_tuple)\n",
    "print(\"US\" not in my_tuple)"
   ]
  },
  {
   "cell_type": "markdown",
   "metadata": {},
   "source": [
    "##### Useful Tuple methods"
   ]
  },
  {
   "cell_type": "code",
   "execution_count": 31,
   "metadata": {},
   "outputs": [
    {
     "name": "stdout",
     "output_type": "stream",
     "text": [
      "5\n",
      "2\n",
      "3\n"
     ]
    }
   ],
   "source": [
    "my_tuple = ('a','p','p','l','e')\n",
    "\n",
    "# len() : returns the number of elements in a tuple.\n",
    "print(len(my_tuple))\n",
    "\n",
    "# count() : returns the number of occurrences of a particular element. \n",
    "print(my_tuple.count('p'))\n",
    "\n",
    "# index() : returns the index position of the first occurrence of an element.\n",
    "print(my_tuple.index('l'))"
   ]
  },
  {
   "cell_type": "code",
   "execution_count": 33,
   "metadata": {},
   "outputs": [
    {
     "name": "stdout",
     "output_type": "stream",
     "text": [
      "('a', 2, 'a', 2, 'a', 2, 'a', 2, 'a', 2)\n",
      "(1, 2, 3, 4, 5, 6)\n"
     ]
    }
   ],
   "source": [
    "# repetition of elements in a tuple using * operator.\n",
    "my_tuple = ('a', 2) * 5\n",
    "print(my_tuple)\n",
    "\n",
    "# tuple concatenation using + operator.\n",
    "my_tuple = (1, 2, 3) + (4, 5, 6)\n",
    "print(my_tuple)"
   ]
  },
  {
   "cell_type": "code",
   "execution_count": 36,
   "metadata": {},
   "outputs": [
    {
     "name": "stdout",
     "output_type": "stream",
     "text": [
      "('a', 'b', 'c', 'd')\n",
      "<class 'tuple'>\n",
      "['a', 'b', 'c', 'd']\n",
      "<class 'list'>\n"
     ]
    }
   ],
   "source": [
    "# converting list to a tuple & vice versa.\n",
    "my_list = ['a', 'b', 'c', 'd']\n",
    "list_to_tuple = tuple(my_list)\n",
    "print(list_to_tuple)\n",
    "print(type(list_to_tuple))\n",
    "tuple_to_list = list(list_to_tuple)\n",
    "print(tuple_to_list)\n",
    "print(type(tuple_to_list))\n"
   ]
  },
  {
   "cell_type": "code",
   "execution_count": 37,
   "metadata": {},
   "outputs": [
    {
     "name": "stdout",
     "output_type": "stream",
     "text": [
      "('S', 'a', 'r', 'v', 'e', 's', 'h', 'a')\n",
      "<class 'tuple'>\n"
     ]
    }
   ],
   "source": [
    "# converting string to a tuple\n",
    "string_to_tuple = tuple(\"Sarvesha\")\n",
    "print(string_to_tuple)\n",
    "print(type(string_to_tuple))"
   ]
  },
  {
   "cell_type": "markdown",
   "metadata": {},
   "source": [
    "##### Unpacking Tuple"
   ]
  },
  {
   "cell_type": "code",
   "execution_count": 38,
   "metadata": {},
   "outputs": [
    {
     "name": "stdout",
     "output_type": "stream",
     "text": [
      "Max\n",
      "28\n",
      "New York\n"
     ]
    }
   ],
   "source": [
    "# number of variables have to match the number of tuple elements\n",
    "my_tuple = (\"Max\", 28, \"New York\")\n",
    "name, age, city = my_tuple\n",
    "print(name)\n",
    "print(age)\n",
    "print(city)"
   ]
  },
  {
   "cell_type": "code",
   "execution_count": 39,
   "metadata": {},
   "outputs": [
    {
     "name": "stdout",
     "output_type": "stream",
     "text": [
      "a\n",
      "['b', 'c', 'd']\n",
      "e\n"
     ]
    }
   ],
   "source": [
    "# unpack multiple elements to a list with *\n",
    "my_tuple = ('a', 'b', 'c', 'd', 'e')\n",
    "item_first, *items_between, item_last = my_tuple\n",
    "print(item_first)\n",
    "print(items_between)\n",
    "print(item_last)"
   ]
  },
  {
   "cell_type": "markdown",
   "metadata": {},
   "source": [
    "##### Nested Tuples"
   ]
  },
  {
   "cell_type": "code",
   "execution_count": 45,
   "metadata": {},
   "outputs": [
    {
     "name": "stdout",
     "output_type": "stream",
     "text": [
      "((1, 2), ('age', 'height'), (True, False), (3.14, 6.28))\n",
      "('age', 'height')\n",
      "age\n",
      "(('age', 'height'), (True, False))\n",
      "(True, False)\n",
      "True\n"
     ]
    }
   ],
   "source": [
    "# tuples can contain other tuples (or other container types).\n",
    "my_tuple = ((1, 2), ('age', 'height'), (True, False), (3.14, 6.28))\n",
    "print(my_tuple)\n",
    "print(my_tuple[1])\n",
    "print(my_tuple[1][0])\n",
    "print(my_tuple[1:3])\n",
    "print(my_tuple[1:3][1])\n",
    "print(my_tuple[1:3][1][0])"
   ]
  }
 ],
 "metadata": {
  "interpreter": {
   "hash": "31f2aee4e71d21fbe5cf8b01ff0e069b9275f58929596ceb00d14d90e3e16cd6"
  },
  "kernelspec": {
   "display_name": "Python 3.8.9 64-bit",
   "language": "python",
   "name": "python3"
  },
  "language_info": {
   "codemirror_mode": {
    "name": "ipython",
    "version": 3
   },
   "file_extension": ".py",
   "mimetype": "text/x-python",
   "name": "python",
   "nbconvert_exporter": "python",
   "pygments_lexer": "ipython3",
   "version": "3.8.9"
  },
  "orig_nbformat": 4
 },
 "nbformat": 4,
 "nbformat_minor": 2
}
