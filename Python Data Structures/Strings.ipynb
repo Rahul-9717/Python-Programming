{
 "cells": [
  {
   "cell_type": "markdown",
   "metadata": {},
   "source": [
    "### **Python Strings**\n",
    "- A string is a sequence of characters enclosed by either single, double quotes.\n",
    "- A multiline string is enclosed by either triple single quotes (''') or triple double quotes (\"\"\").\n",
    "- Python strings are immutable which means they cannot be changed after they are created.\n"
   ]
  },
  {
   "cell_type": "markdown",
   "metadata": {},
   "source": [
    "##### String Creation"
   ]
  },
  {
   "cell_type": "code",
   "execution_count": 60,
   "metadata": {},
   "outputs": [
    {
     "name": "stdout",
     "output_type": "stream",
     "text": [
      "Hello World\n",
      "Hello World\n",
      "I'm a programmer\n"
     ]
    }
   ],
   "source": [
    "# using single or double quotes\n",
    "my_string = 'Hello World'\n",
    "print(my_string)\n",
    "my_string = \"Hello World\"\n",
    "print(my_string)\n",
    "my_string = \"I'm a programmer\"\n",
    "print(my_string)"
   ]
  },
  {
   "cell_type": "code",
   "execution_count": 61,
   "metadata": {},
   "outputs": [
    {
     "name": "stdout",
     "output_type": "stream",
     "text": [
      "I'm a \"programmer\"\n",
      "I'm a 'programmer'\n"
     ]
    }
   ],
   "source": [
    "# escaping backslash\n",
    "my_string = 'I\\'m a \"programmer\"'\n",
    "print(my_string)\n",
    "my_string = 'I\\'m a \\'programmer\\''\n",
    "print(my_string)"
   ]
  },
  {
   "cell_type": "code",
   "execution_count": 62,
   "metadata": {},
   "outputs": [
    {
     "name": "stdout",
     "output_type": "stream",
     "text": [
      "Hello,\n",
      "How are you doing?\n"
     ]
    }
   ],
   "source": [
    "# triple quotes for multiline strings\n",
    "my_string = \"\"\"Hello,\n",
    "How are you doing?\"\"\"\n",
    "print(my_string)"
   ]
  },
  {
   "cell_type": "code",
   "execution_count": 63,
   "metadata": {},
   "outputs": [
    {
     "name": "stdout",
     "output_type": "stream",
     "text": [
      "Hello World\n"
     ]
    }
   ],
   "source": [
    "# we can also use backslash if we want to continue in the next line\n",
    "my_string = \"Hello \\\n",
    "World\"\n",
    "print(my_string)    "
   ]
  },
  {
   "cell_type": "markdown",
   "metadata": {},
   "source": [
    "##### Accessing characters & substrings"
   ]
  },
  {
   "cell_type": "code",
   "execution_count": 64,
   "metadata": {},
   "outputs": [
    {
     "name": "stdout",
     "output_type": "stream",
     "text": [
      "H\n",
      "e\n",
      "d\n"
     ]
    }
   ],
   "source": [
    "# get character by referring to index - index starts with 0 from left to right & -1 from right to left\n",
    "my_string = \"Hello World\"\n",
    "b = my_string[0] # character at the first index position\n",
    "print(b)\n",
    "b = my_string[1] # character at the second index position\n",
    "print(b)\n",
    "b = my_string[-1] # character at the last index position\n",
    "print(b)"
   ]
  },
  {
   "cell_type": "code",
   "execution_count": 65,
   "metadata": {},
   "outputs": [
    {
     "name": "stdout",
     "output_type": "stream",
     "text": [
      "ell\n",
      "Hello\n",
      "World\n",
      "HloWrd\n",
      "dlroW olleH\n",
      "Hello World\n"
     ]
    }
   ],
   "source": [
    "# substrings with slicing - str[from index:to index:step] here the index specified at the to index is not included\n",
    "b = my_string[1:4]\n",
    "print(b)\n",
    "b = my_string[:5] # from beginning till index position 4\n",
    "print(b)\n",
    "b = my_string[6:] # from index postion 6 until the end\n",
    "print(b)\n",
    "b = my_string[::2] # start to end with every second item\n",
    "print(b)\n",
    "b = my_string[::-1] # reverse the string with a negative step\n",
    "print(b)\n",
    "b = my_string[::] # returns all the elements of the string\n",
    "print(b)"
   ]
  },
  {
   "cell_type": "markdown",
   "metadata": {},
   "source": [
    "##### String concatenation & repetition"
   ]
  },
  {
   "cell_type": "code",
   "execution_count": 66,
   "metadata": {},
   "outputs": [
    {
     "name": "stdout",
     "output_type": "stream",
     "text": [
      "Hello Tom\n"
     ]
    }
   ],
   "source": [
    "# concat string with + operator\n",
    "greeting = \"Hello\"\n",
    "name = \"Tom\"\n",
    "sentence = greeting + \" \" + name\n",
    "print(sentence)"
   ]
  },
  {
   "cell_type": "code",
   "execution_count": 67,
   "metadata": {},
   "outputs": [
    {
     "name": "stdout",
     "output_type": "stream",
     "text": [
      "Hello Hello Hello Hello Hello \n"
     ]
    }
   ],
   "source": [
    "# repeating strings with * operator\n",
    "my_string = \"Hello\"\n",
    "repeated_string = \"Hello \" * 5\n",
    "print(repeated_string)"
   ]
  },
  {
   "cell_type": "markdown",
   "metadata": {},
   "source": [
    "##### String Iteration "
   ]
  },
  {
   "cell_type": "code",
   "execution_count": 68,
   "metadata": {},
   "outputs": [
    {
     "name": "stdout",
     "output_type": "stream",
     "text": [
      "H\n",
      "e\n",
      "l\n",
      "l\n",
      "o\n",
      "(0, 'H')\n",
      "(1, 'e')\n",
      "(2, 'l')\n",
      "(3, 'l')\n",
      "(4, 'o')\n"
     ]
    }
   ],
   "source": [
    "# iterating over a string by using a for in loop\n",
    "my_string = \"Hello\"\n",
    "for i in my_string:\n",
    "    print(i)\n",
    "\n",
    "# iterating over a string using enumerate to return a tuple containing the index number along with the item\n",
    "for i in enumerate(my_string):\n",
    "    print(i) "
   ]
  },
  {
   "cell_type": "markdown",
   "metadata": {},
   "source": [
    "##### String membership test"
   ]
  },
  {
   "cell_type": "code",
   "execution_count": 69,
   "metadata": {},
   "outputs": [
    {
     "name": "stdout",
     "output_type": "stream",
     "text": [
      "Yes\n",
      "Yes\n",
      "Yes\n"
     ]
    }
   ],
   "source": [
    "# to check if a character or substring exists inside a string\n",
    "if \"e\" in \"Hello\":\n",
    "    print(\"Yes\")\n",
    "if \"llo\" in \"Hello\":\n",
    "    print(\"Yes\")    \n",
    "if \"p\" not in \"Hello\":\n",
    "    print(\"Yes\")    "
   ]
  },
  {
   "cell_type": "markdown",
   "metadata": {},
   "source": [
    "##### String Formatting\n",
    "- New Style is with .format() & ols style with % operator\n",
    "- f-Strings is the latest one since Python 3.6, here we can use variables directly inside the braces\n"
   ]
  },
  {
   "cell_type": "code",
   "execution_count": 70,
   "metadata": {},
   "outputs": [
    {
     "name": "stdout",
     "output_type": "stream",
     "text": [
      "Hello Tom and Bob\n",
      "Hello Bob and Tom\n"
     ]
    }
   ],
   "source": [
    "# use braces as placeholders\n",
    "my_string = \"Hello {1} and {0}\".format(\"Bob\", \"Tom\")\n",
    "print(my_string)\n",
    "\n",
    "# the positions are optional for the default order\n",
    "my_string = \"Hello {} and {}\".format(\"Bob\", \"Tom\")\n",
    "print(my_string)"
   ]
  },
  {
   "cell_type": "code",
   "execution_count": 71,
   "metadata": {},
   "outputs": [
    {
     "name": "stdout",
     "output_type": "stream",
     "text": [
      "The integer value is 2\n",
      "The float value is 2.123 and 3.16\n",
      "The float value is 2.123450e+00\n",
      "The binary value is 10\n"
     ]
    }
   ],
   "source": [
    "# string formatting for numbers\n",
    "my_string = \"The integer value is {}\".format(2)\n",
    "print(my_string)\n",
    "\n",
    "# some special format rules for numbers\n",
    "my_string = \"The float value is {0:.3f} and {1:.2f}\".format(2.12345, 3.16457)\n",
    "print(my_string)\n",
    "my_string = \"The float value is {0:e}\".format(2.12345)\n",
    "print(my_string)\n",
    "my_string = \"The binary value is {0:b}\".format(2)\n",
    "print(my_string)\n"
   ]
  },
  {
   "cell_type": "code",
   "execution_count": 72,
   "metadata": {},
   "outputs": [
    {
     "name": "stdout",
     "output_type": "stream",
     "text": [
      "Hello Bob and Tom\n",
      "The decimal value is 3\n",
      "The float value is 3.141593\n",
      "The float value is 3.14\n",
      "The float value is 3.14 and 2.346\n"
     ]
    }
   ],
   "source": [
    "# old style formatting by using % operator\n",
    "print(\"Hello %s and %s\"%(\"Bob\", \"Tom\")) # must be a tuple for multiple arguments\n",
    "num = 3.14159265359\n",
    "print(\"The decimal value is %d\"%num)\n",
    "print(\"The float value is %f\"%num) # for float values returns upto 6 decimal places by default\n",
    "print(\"The float value is %.2f\"%num)\n",
    "print(\"The float value is %.2f and %.3f\"%(3.14156, 2.34567))\n"
   ]
  },
  {
   "cell_type": "code",
   "execution_count": 73,
   "metadata": {},
   "outputs": [
    {
     "name": "stdout",
     "output_type": "stream",
     "text": [
      "Hello, my name is Rahul and I am 37 years old.\n",
      "Pi is 3.142\n",
      "The double of Pi is 6.28318\n"
     ]
    }
   ],
   "source": [
    "# formatting using f-strings\n",
    "name = \"Rahul\"\n",
    "age = 37\n",
    "my_string = f\"Hello, my name is {name} and I am {age} years old.\"\n",
    "print(my_string)\n",
    "\n",
    "pi = 3.14159\n",
    "my_string = f\"Pi is {pi:.3f}\"\n",
    "print(my_string)\n",
    "\n",
    "# f-strings are evaluated at runtime, which allows expressions\n",
    "my_string = f\"The double of Pi is {pi*2}\"\n",
    "print(my_string)"
   ]
  },
  {
   "cell_type": "markdown",
   "metadata": {},
   "source": [
    "##### String Methods"
   ]
  },
  {
   "cell_type": "code",
   "execution_count": 74,
   "metadata": {},
   "outputs": [
    {
     "name": "stdout",
     "output_type": "stream",
     "text": [
      "Hello\n",
      "Hello\n",
      "example\n"
     ]
    }
   ],
   "source": [
    "# strip([chars]) : returns a copy of the string with the leading & trailing characters removed.\n",
    "# The chars argument is a string specifying a set of characters to be removed, defaults to removing whitespace.\n",
    "\n",
    "# removing whitespace\n",
    "my_string = \"   Hello   \".strip()\n",
    "print(my_string)\n",
    "\n",
    "# removing a specified character\n",
    "my_string = \"####Hello####\".strip(\"#\")\n",
    "print(my_string)\n",
    "\n",
    "# removing combination of characters\n",
    "my_string = 'www.example.com'.strip('cmow.')\n",
    "print(my_string)"
   ]
  },
  {
   "cell_type": "code",
   "execution_count": 75,
   "metadata": {},
   "outputs": [
    {
     "name": "stdout",
     "output_type": "stream",
     "text": [
      "Hello   \n",
      "   Hello\n",
      "ee!\n"
     ]
    }
   ],
   "source": [
    "# lstrip([chars]) : returns a copy of the string with leading characters removed.\n",
    "# rstrip([chars]) : returns a copy of the string with lagging characters removed.\n",
    "\n",
    "my_string = \"   Hello   \".lstrip()\n",
    "print(my_string)\n",
    "my_string = \"   Hello   \".rstrip()\n",
    "print(my_string)\n",
    "\n",
    "# removing combination of characters\n",
    "my_string = \"Arthur:  three!\".lstrip(\"Arthur:  \") # removes all the occurrences of the passed chars string. \n",
    "print(my_string)\n"
   ]
  },
  {
   "cell_type": "code",
   "execution_count": 76,
   "metadata": {},
   "outputs": [
    {
     "name": "stdout",
     "output_type": "stream",
     "text": [
      "Hello, how are you and how have you been\n"
     ]
    }
   ],
   "source": [
    "# replace('old', 'new') : returns a copy of the string with all occurrences of old substring replaced by new.\n",
    "\n",
    "my_string = \"Hello, who are you and who have you been\"\n",
    "s = my_string.replace(\"who\", \"how\") # this replacement is case sensitive.\n",
    "print(s)\n"
   ]
  },
  {
   "cell_type": "code",
   "execution_count": 77,
   "metadata": {},
   "outputs": [
    {
     "name": "stdout",
     "output_type": "stream",
     "text": [
      "['string', 'methods', 'in', 'python']\n",
      "['string', 'methods in python']\n",
      "['string methods in', 'python']\n"
     ]
    }
   ],
   "source": [
    "# split(sep, maxsplit) : returns a list of the words in the string, using sep as a delimiter string. By default splits basis the whitespace between substrings\n",
    "# If maxsplit is given, at most maxsplit are done, the rightmost ones.\n",
    "# however if we use rsplit(sep, maxsplit), the split will start from leftmost ones.\n",
    "\n",
    "my_string = \"string methods in python\"\n",
    "my_list = my_string.split()\n",
    "print(my_list)\n",
    "\n",
    "my_list = my_string.split(\" \", maxsplit=1)\n",
    "print(my_list)\n",
    "\n",
    "my_list = my_string.rsplit(\" \", maxsplit=1)\n",
    "print(my_list)"
   ]
  },
  {
   "cell_type": "code",
   "execution_count": 78,
   "metadata": {},
   "outputs": [
    {
     "name": "stdout",
     "output_type": "stream",
     "text": [
      "string methods in python\n"
     ]
    }
   ],
   "source": [
    "# join() : returns a string which is concatenation of the strings in iterable.\n",
    "list_of_strings = [\"string\", \"methods\", \"in\", \"python\"]\n",
    "my_string = \" \".join(list_of_strings)\n",
    "print(my_string)"
   ]
  },
  {
   "cell_type": "code",
   "execution_count": 79,
   "metadata": {},
   "outputs": [
    {
     "name": "stdout",
     "output_type": "stream",
     "text": [
      "STRING METHODS IN PYTHON\n",
      "True\n"
     ]
    }
   ],
   "source": [
    "# upper() : returns a copy of the string with all the cased characters converted to uppercase.\n",
    "my_string = \"string methods in python\"\n",
    "my_string_uppercase = my_string.upper()\n",
    "print(my_string_uppercase)\n",
    "\n",
    "# isupper() : checks if the string only consists of uppercase characters.\n",
    "print(my_string_uppercase.isupper())"
   ]
  },
  {
   "cell_type": "code",
   "execution_count": 80,
   "metadata": {},
   "outputs": [
    {
     "name": "stdout",
     "output_type": "stream",
     "text": [
      "string methods in python\n",
      "True\n"
     ]
    }
   ],
   "source": [
    "# lower() : returns a copy of the string with all the cased characters converted to uppercase.\n",
    "my_string = \"StrinG MeThoDs iN pYthOn\"\n",
    "my_string_lowercase = my_string.lower()\n",
    "print(my_string_lowercase)\n",
    "\n",
    "# islower() : checks if the string only consists of lowercase characters.\n",
    "print(my_string_lowercase.islower())"
   ]
  },
  {
   "cell_type": "code",
   "execution_count": 81,
   "metadata": {},
   "outputs": [
    {
     "name": "stdout",
     "output_type": "stream",
     "text": [
      "String methods in python\n"
     ]
    }
   ],
   "source": [
    "# capitalize() : Returns a copy of the string with first character capitalized & rest lowercased.\n",
    "my_string = \"string methods in python\"\n",
    "my_string_capitalized = my_string.capitalize()\n",
    "print(my_string_capitalized)"
   ]
  },
  {
   "cell_type": "code",
   "execution_count": 82,
   "metadata": {},
   "outputs": [
    {
     "name": "stdout",
     "output_type": "stream",
     "text": [
      "True False True\n",
      "False True True\n",
      "False False True\n"
     ]
    }
   ],
   "source": [
    "# isalpha() : Returns True if all characters in the string are alphabetic, otherwise False.\n",
    "# isnumeric() : Returns True if all characters in the string are numeric, otherwise False.\n",
    "# isalnum() : Returns True if all characters in the string are alphanumeric, otherwise False.\n",
    "\n",
    "s = 'python'\n",
    "print(s.isalpha(), s.isnumeric(), s.isalnum())\n",
    "s = '123'\n",
    "print(s.isalpha(), s.isnumeric(), s.isalnum())\n",
    "s = 'python123'\n",
    "print(s.isalpha(), s.isnumeric(), s.isalnum())"
   ]
  },
  {
   "cell_type": "code",
   "execution_count": 84,
   "metadata": {},
   "outputs": [
    {
     "name": "stdout",
     "output_type": "stream",
     "text": [
      "2\n",
      "3\n"
     ]
    }
   ],
   "source": [
    "# count([start, end]) : returns the number of non-overalapping occurrences of substring in the given range.\n",
    "my_string = 'Hello World'\n",
    "print(my_string.count('o'))\n",
    "print(my_string.count('l'))"
   ]
  },
  {
   "cell_type": "code",
   "execution_count": 98,
   "metadata": {},
   "outputs": [
    {
     "name": "stdout",
     "output_type": "stream",
     "text": [
      "1\n",
      "5\n",
      "10\n",
      "14\n"
     ]
    }
   ],
   "source": [
    "# find([start:end]) : returns the lowest index in the string where substring is found within the slice.\n",
    "my_string = \"Machine Learning\"\n",
    "idx = my_string.find('a') \n",
    "print(idx)\n",
    "idx = my_string.find('n') # returns the index of the next occurrence of 'a'\n",
    "print(idx)\n",
    "\n",
    "# rfind([start:end]) : returns the highest index in the string where substring is found within the slice.\n",
    "idx = my_string.rfind('a') \n",
    "print(idx)\n",
    "idx = my_string.rfind('n') # returns the index of the next occurrence of 'a'\n",
    "print(idx)"
   ]
  },
  {
   "cell_type": "code",
   "execution_count": 100,
   "metadata": {},
   "outputs": [
    {
     "name": "stdout",
     "output_type": "stream",
     "text": [
      "True\n",
      "True\n"
     ]
    }
   ],
   "source": [
    "# startswith(prefix) : returns True if string starts with the specified prefix, otherwise False.\n",
    "my_string = \"Patrick is a good guy\"\n",
    "s = my_string.startswith('Pat') # case sensitive\n",
    "print(s)\n",
    "\n",
    "# endswith(suffix) : returns True if string starts with the specified suffix, otherwise False.\n",
    "my_string = \"Patrick is a good guy\"\n",
    "s = my_string.endswith('guy') # case sensitive\n",
    "print(s)\n"
   ]
  },
  {
   "cell_type": "code",
   "execution_count": 103,
   "metadata": {},
   "outputs": [
    {
     "name": "stdout",
     "output_type": "stream",
     "text": [
      "('Patrick ', 'is', ' a good guy')\n",
      "('Patrick is a good guy', '', '')\n"
     ]
    }
   ],
   "source": [
    "# partition(seperator) : splits the string at the first occurrence of separator.\n",
    "# returns a tuple containing the part before the separator, the separator itself & the part after the separator.\n",
    "# if the separator is not found, returns a tuple containing the string itself, followed by two empty strings.\n",
    "my_string = \"Patrick is a good guy\"\n",
    "parts = my_string.partition('is')\n",
    "print(parts)\n",
    "parts = my_string.partition('was')\n",
    "print(parts)"
   ]
  },
  {
   "cell_type": "code",
   "execution_count": 106,
   "metadata": {},
   "outputs": [
    {
     "name": "stdout",
     "output_type": "stream",
     "text": [
      "------Python is awesome-------\n",
      "Python is awesome-------------\n",
      "-------------Python is awesome\n"
     ]
    }
   ],
   "source": [
    "# center(fillchar) : returns a center aligned string, padding is done using the specified fillchar (default is space).\n",
    "my_string = \"Python is awesome\"\n",
    "s = my_string.center(30, '-')\n",
    "print(s)\n",
    "\n",
    "# ljust(fillchar) : returns a left aligned string, padding is done using the specified fillchar (default is space).\n",
    "my_string = \"Python is awesome\"\n",
    "s = my_string.ljust(30, '-')\n",
    "print(s)\n",
    "\n",
    "# rjust(fillchar) : returns a right aligned string, padding is done using the specified fillchar (default is space).\n",
    "my_string = \"Python is awesome\"\n",
    "s = my_string.rjust(30, '-')\n",
    "print(s)"
   ]
  },
  {
   "cell_type": "code",
   "execution_count": 107,
   "metadata": {},
   "outputs": [
    {
     "name": "stdout",
     "output_type": "stream",
     "text": [
      "hello WORLD\n"
     ]
    }
   ],
   "source": [
    "# swapcase() : returns a copy of the string with uppercase characters converted to lowercase & vice-versa.\n",
    "my_string = \"HELLO world\"\n",
    "s = my_string.swapcase()\n",
    "print(s)"
   ]
  },
  {
   "cell_type": "code",
   "execution_count": 109,
   "metadata": {},
   "outputs": [
    {
     "name": "stdout",
     "output_type": "stream",
     "text": [
      "0000Sarvesha\n",
      "-000Sarvesha\n"
     ]
    }
   ],
   "source": [
    "# zfill() : returns a copy of the string left filled with '0' digits to make a string of length width\n",
    "my_string = \"Sarvesha\"\n",
    "s = my_string.zfill(12)\n",
    "print(s)\n",
    "\n",
    "my_string = \"-Sarvesha\"\n",
    "s = my_string.zfill(12)\n",
    "print(s)"
   ]
  }
 ],
 "metadata": {
  "interpreter": {
   "hash": "31f2aee4e71d21fbe5cf8b01ff0e069b9275f58929596ceb00d14d90e3e16cd6"
  },
  "kernelspec": {
   "display_name": "Python 3.8.9 64-bit",
   "language": "python",
   "name": "python3"
  },
  "language_info": {
   "codemirror_mode": {
    "name": "ipython",
    "version": 3
   },
   "file_extension": ".py",
   "mimetype": "text/x-python",
   "name": "python",
   "nbconvert_exporter": "python",
   "pygments_lexer": "ipython3",
   "version": "3.8.9"
  },
  "orig_nbformat": 4
 },
 "nbformat": 4,
 "nbformat_minor": 2
}
