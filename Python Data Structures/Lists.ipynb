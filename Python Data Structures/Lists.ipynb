{
 "cells": [
  {
   "cell_type": "markdown",
   "metadata": {},
   "source": [
    "### **Lists**\n",
    "- List is a collection data type which is ordered & mutable.\n",
    "- Lists allow duplicate elements.\n",
    "- They are useful for preserving a sequence of data & further iterating over it.\n",
    "- Lists are created with square brackets & allows items having different data types. eg : my_list = [\"Banana\", 2.34, 4, True, \"Cherry\"]"
   ]
  },
  {
   "cell_type": "markdown",
   "metadata": {},
   "source": [
    "##### Creating a list"
   ]
  },
  {
   "cell_type": "code",
   "execution_count": 159,
   "metadata": {},
   "outputs": [
    {
     "name": "stdout",
     "output_type": "stream",
     "text": [
      "['banana', 'cherry', 'apple']\n",
      "[]\n",
      "[5, True, 'apple']\n",
      "[0, 0, 1, 1]\n"
     ]
    }
   ],
   "source": [
    "# creating lists with square brackets.\n",
    "list_1 = ['banana', 'cherry', 'apple']\n",
    "print(list_1)\n",
    "\n",
    "# creating an empty list with the list function.\n",
    "list_2 = list()\n",
    "print(list_2)\n",
    "\n",
    "# lists allows different data types.\n",
    "list_3 = [5, True, 'apple']\n",
    "print(list_3)\n",
    "\n",
    "# lists allow duplicates.\n",
    "list_4 = [0, 0, 1, 1]\n",
    "print(list_4)"
   ]
  },
  {
   "cell_type": "markdown",
   "metadata": {},
   "source": [
    "##### Accessing elements of a list "
   ]
  },
  {
   "cell_type": "code",
   "execution_count": 160,
   "metadata": {},
   "outputs": [
    {
     "name": "stdout",
     "output_type": "stream",
     "text": [
      "banana\n",
      "apple\n",
      "apple\n",
      "cherry\n"
     ]
    }
   ],
   "source": [
    "# accessing the list items by referring to the index number which starts at 0, next index is 1 & so on.\n",
    "item = list_1[0]\n",
    "print(item)\n",
    "item = list_1[2]\n",
    "print(item)\n",
    "\n",
    "# we can also use negative indexing i.e. -1 refers to the last item & -2 to the second last item & so on.\n",
    "item = list_1[-1]\n",
    "print(item)\n",
    "item = list_1[-2]\n",
    "print(item)\n"
   ]
  },
  {
   "cell_type": "code",
   "execution_count": 161,
   "metadata": {},
   "outputs": [
    {
     "name": "stdout",
     "output_type": "stream",
     "text": [
      "[2, 3, 4]\n",
      "[3, 4, 5, 6, 7, 8, 9, 10]\n",
      "[1, 2, 3, 4, 5]\n",
      "[1, 3, 5, 7, 9]\n",
      "[10, 9, 8, 7, 6, 5, 4, 3, 2, 1]\n",
      "[1, 2, 3, 4, 5, 6, 7, 8, 9, 10]\n"
     ]
    }
   ],
   "source": [
    "# accessing sub parts of the list by slicing, just as with strings.\n",
    "# list[startindex:stopindex:step] note that the last index is not included.\n",
    "my_list = [1, 2, 3, 4, 5, 6, 7, 8, 9, 10]\n",
    "print(my_list[1:4])\n",
    "print(my_list[2:]) # index position 2 till the end.\n",
    "print(my_list[:5]) # from the beginning till index number 4 (as 5 not included).\n",
    "print(my_list[::2]) # from the start till end with every alternate item.\n",
    "print(my_list[::-1]) # reversing the list with negative step.\n",
    "b = my_list[:] # copying a list with slicing.\n",
    "print(b)"
   ]
  },
  {
   "cell_type": "markdown",
   "metadata": {},
   "source": [
    "##### Changing items of a list"
   ]
  },
  {
   "cell_type": "code",
   "execution_count": 162,
   "metadata": {},
   "outputs": [
    {
     "name": "stdout",
     "output_type": "stream",
     "text": [
      "Original list: ['banana', 'cherry', 'apple']\n",
      "Altered list: ['banana', 'cherry', 'lemon']\n",
      "[11, 12, 13, 4, 5, 6, 7, 8, 9, 10]\n"
     ]
    }
   ],
   "source": [
    "# lists can be altered after their creation.\n",
    "list_1 = ['banana', 'cherry', 'apple']\n",
    "print(\"Original list:\",list_1)\n",
    "list_1[2] = 'lemon'\n",
    "print(\"Altered list:\",list_1)\n",
    "\n",
    "# replacing subparts of the list.\n",
    "my_list = [1, 2, 3, 4, 5, 6, 7, 8, 9, 10]\n",
    "my_list[0:3] = [11, 12, 13]\n",
    "print(my_list)"
   ]
  },
  {
   "cell_type": "markdown",
   "metadata": {},
   "source": [
    "##### Useful List Methods"
   ]
  },
  {
   "cell_type": "code",
   "execution_count": 163,
   "metadata": {},
   "outputs": [
    {
     "name": "stdout",
     "output_type": "stream",
     "text": [
      "3\n"
     ]
    }
   ],
   "source": [
    "# len(list) : to get the number of elements in a list.\n",
    "my_list = ['banana', 'cherry', 'apple']\n",
    "print(len(my_list))"
   ]
  },
  {
   "cell_type": "code",
   "execution_count": 164,
   "metadata": {},
   "outputs": [
    {
     "name": "stdout",
     "output_type": "stream",
     "text": [
      "['banana', 'cherry', 'apple', 'orange']\n",
      "['banana', 'blueberry', 'cherry', 'apple', 'orange']\n",
      "['banana', 'cherry', 'apple', 'pineapple', 'mango']\n"
     ]
    }
   ],
   "source": [
    "# append(element) : adds an element to the end of the list.\n",
    "my_list = ['banana', 'cherry', 'apple']\n",
    "my_list.append('orange')\n",
    "print(my_list)\n",
    "\n",
    "# insert(index, element) : adds an element at the specified position.\n",
    "my_list.insert(1, 'blueberry')\n",
    "print(my_list)\n",
    "\n",
    "# extend() : adds iterable elements to the end of the list.\n",
    "my_list = ['banana', 'cherry', 'apple']\n",
    "my_list.extend(['pineapple', 'mango'])\n",
    "print(my_list)"
   ]
  },
  {
   "cell_type": "code",
   "execution_count": 165,
   "metadata": {},
   "outputs": [
    {
     "name": "stdout",
     "output_type": "stream",
     "text": [
      "['banana', 'blueberry', 'cherry', 'apple']\n",
      "['banana', 'blueberry', 'apple']\n",
      "[]\n"
     ]
    }
   ],
   "source": [
    "# pop(index) : removes & returns the item at the given position, default is the last item.\n",
    "my_list = ['banana', 'blueberry', 'cherry', 'apple', 'orange']\n",
    "my_list.pop()\n",
    "print(my_list)\n",
    "\n",
    "# remove(element) : removes the specified element from the list.\n",
    "my_list.remove(\"cherry\")\n",
    "print(my_list)\n",
    "\n",
    "# clear() : removes all the elements from the list, returns an empty list.\n",
    "my_list.clear() \n",
    "print(my_list)"
   ]
  },
  {
   "cell_type": "code",
   "execution_count": 166,
   "metadata": {},
   "outputs": [
    {
     "name": "stdout",
     "output_type": "stream",
     "text": [
      "['orange', 'apple', 'cherry', 'blueberry', 'banana']\n",
      "['apple', 'banana', 'blueberry', 'cherry', 'orange']\n",
      "['orange', 'cherry', 'blueberry', 'banana', 'apple']\n",
      "['apple', 'banana', 'cherry', 'orange']\n"
     ]
    }
   ],
   "source": [
    "# reverse() : reverse the elements in the list.\n",
    "my_list = ['banana', 'blueberry', 'cherry', 'apple', 'orange']\n",
    "my_list.reverse()\n",
    "print(my_list)\n",
    "\n",
    "# sort() : sort list elements in ascending (or descending) order.\n",
    "my_list.sort()\n",
    "print(my_list)\n",
    "my_list.sort(reverse=True)\n",
    "print(my_list)\n",
    "\n",
    "# use sorted() to get a new list & leave the original unaffected, sorted() works on any iterable type, not just lists.\n",
    "my_list = ['banana', 'cherry', 'apple', 'orange']\n",
    "new_list = sorted(my_list)\n",
    "print(new_list)"
   ]
  },
  {
   "cell_type": "code",
   "execution_count": 167,
   "metadata": {},
   "outputs": [
    {
     "name": "stdout",
     "output_type": "stream",
     "text": [
      "2\n",
      "3\n"
     ]
    }
   ],
   "source": [
    "# count() : counts the number of occurrences of an element in a list.\n",
    "my_list = ['banana', 'blueberry', 'cherry', 'apple', 'orange', 'cherry']\n",
    "print(my_list.count('cherry'))\n",
    "\n",
    "# index(element) : returns the index position of an element in the list.\n",
    "print(my_list.index('apple'))"
   ]
  },
  {
   "cell_type": "markdown",
   "metadata": {},
   "source": [
    "##### List concatenation & repetition"
   ]
  },
  {
   "cell_type": "code",
   "execution_count": 168,
   "metadata": {},
   "outputs": [
    {
     "name": "stdout",
     "output_type": "stream",
     "text": [
      "[0, 0, 0, 0, 0]\n",
      "[0, 0, 0, 0, 0, 'banana', 'cherry', 'apple']\n",
      "['H', 'e', 'l', 'l', 'o']\n"
     ]
    }
   ],
   "source": [
    "# creating list with repeated elements.\n",
    "list_with_zeroes = [0] * 5\n",
    "print(list_with_zeroes)\n",
    "\n",
    "my_list = ['banana', 'cherry', 'apple']\n",
    "\n",
    "# concatenation of lists.\n",
    "concat_list = list_with_zeroes + my_list\n",
    "print(concat_list)\n",
    "\n",
    "# converting string to list.\n",
    "string_to_list = list('Hello')\n",
    "print(string_to_list)"
   ]
  },
  {
   "cell_type": "markdown",
   "metadata": {},
   "source": [
    "##### Copying a list"
   ]
  },
  {
   "cell_type": "code",
   "execution_count": 169,
   "metadata": {},
   "outputs": [
    {
     "name": "stdout",
     "output_type": "stream",
     "text": [
      "['banana', 'cherry', 'apple', True]\n",
      "['banana', 'cherry', 'apple', True]\n",
      "['banana', 'cherry', 'apple', True]\n",
      "['banana', 'cherry', 'apple']\n"
     ]
    }
   ],
   "source": [
    "list_org = ['banana', 'cherry', 'apple']\n",
    "\n",
    "# this just copies the reference to the list, so be careful..!!\n",
    "list_copy = list_org\n",
    "# now modifying the copy also affects the original.\n",
    "list_copy.append(True)\n",
    "print(list_copy)\n",
    "print(list_org)\n",
    "\n",
    "# use copy() or list(x) to actually copy the list, slicing also works as explained earlier.\n",
    "list_org = ['banana', 'cherry', 'apple']\n",
    "list_copy = list_org.copy()\n",
    "# list_copy = list(list_org)\n",
    "# list_copy = list_org[:]\n",
    "list_copy.append(True)\n",
    "print(list_copy)\n",
    "print(list_org)"
   ]
  },
  {
   "cell_type": "markdown",
   "metadata": {},
   "source": [
    "##### Iteration over list"
   ]
  },
  {
   "cell_type": "code",
   "execution_count": 170,
   "metadata": {},
   "outputs": [
    {
     "name": "stdout",
     "output_type": "stream",
     "text": [
      "banana\n",
      "blueberry\n",
      "cherry\n",
      "apple\n",
      "orange\n"
     ]
    }
   ],
   "source": [
    "# iterating over a list using for in loop.\n",
    "my_list = ['banana', 'blueberry', 'cherry', 'apple', 'orange']\n",
    "for i in my_list:\n",
    "    print(i)"
   ]
  },
  {
   "cell_type": "code",
   "execution_count": 171,
   "metadata": {},
   "outputs": [
    {
     "name": "stdout",
     "output_type": "stream",
     "text": [
      "(0, 'banana')\n",
      "(1, 'blueberry')\n",
      "(2, 'cherry')\n",
      "(3, 'apple')\n",
      "(4, 'orange')\n"
     ]
    }
   ],
   "source": [
    "# returning the index along with element using enumerate() function.\n",
    "for i in enumerate(my_list):\n",
    "    print(i)"
   ]
  },
  {
   "cell_type": "code",
   "execution_count": 172,
   "metadata": {},
   "outputs": [
    {
     "name": "stdout",
     "output_type": "stream",
     "text": [
      "banana\n",
      "blueberry\n",
      "cherry\n",
      "apple\n",
      "orange\n"
     ]
    }
   ],
   "source": [
    "# list iteration using range() function.\n",
    "my_list = ['banana', 'blueberry', 'cherry', 'apple', 'orange']\n",
    "for i in range(len(my_list)):\n",
    "    print(my_list[i]) "
   ]
  },
  {
   "cell_type": "markdown",
   "metadata": {},
   "source": [
    "##### List membership test"
   ]
  },
  {
   "cell_type": "code",
   "execution_count": 173,
   "metadata": {},
   "outputs": [
    {
     "name": "stdout",
     "output_type": "stream",
     "text": [
      "yes\n",
      "True\n",
      "False\n",
      "True\n"
     ]
    }
   ],
   "source": [
    "# check if an element exists in a list\n",
    "if 'banana' in my_list:\n",
    "    print('yes')\n",
    "else:\n",
    "    print('no')\n",
    "\n",
    "# we can also check as shown below.\n",
    "print('banana' in my_list) \n",
    "print('mango' in my_list)\n",
    "print('mango' not in my_list)   "
   ]
  },
  {
   "cell_type": "markdown",
   "metadata": {},
   "source": [
    "##### Nested Lists"
   ]
  },
  {
   "cell_type": "code",
   "execution_count": 174,
   "metadata": {},
   "outputs": [
    {
     "name": "stdout",
     "output_type": "stream",
     "text": [
      "[[1, 2], ['mango', 'banana']]\n"
     ]
    }
   ],
   "source": [
    "# nested list : list within a list.\n",
    "nested_list = [[1, 2], ['mango', 'banana']]\n",
    "print(nested_list)"
   ]
  },
  {
   "cell_type": "code",
   "execution_count": 175,
   "metadata": {},
   "outputs": [
    {
     "name": "stdout",
     "output_type": "stream",
     "text": [
      "[1, 2]\n",
      "['mango', 'banana']\n",
      "2\n",
      "mango\n"
     ]
    }
   ],
   "source": [
    "# indexing in nested lists.\n",
    "print(nested_list[0]) # returns the list at index position 0.\n",
    "print(nested_list[1]) # returns the list at index position 1.\n",
    "print(nested_list[0][1]) # returns the item at the index position 1 within the list at the index postion 0 inside the nested list.\n",
    "print(nested_list[1][0]) # returns the item at the index position 0 within the list at the index postion 1 inside the nested list."
   ]
  },
  {
   "cell_type": "code",
   "execution_count": 176,
   "metadata": {},
   "outputs": [
    {
     "name": "stdout",
     "output_type": "stream",
     "text": [
      "['banana', 'cherry', 'apple']\n",
      "['banana', 'cherry']\n"
     ]
    }
   ],
   "source": [
    "# slicing in nested lists.\n",
    "nested_list = [[1, 2], ['mango', 'banana', 'cherry', 'apple'], [True, False], [3.14, 6.28]]\n",
    "print(nested_list[1][1:]) # returns the list of elements at the index position 1 inside the nested list.\n",
    "print(nested_list[1][1:3]) # returns the elements at index position 1 & 2 of the list at the index position 1 inside the nested list."
   ]
  },
  {
   "cell_type": "markdown",
   "metadata": {},
   "source": [
    "##### List Comprehension\n",
    "- List comprehension is an elegant & concise way to create a new list from an existing list.\n",
    "- It consists of an expression followed by a for statement inside square brackets.\n",
    "- Every list comprehension can be written as a for loop but not every loop can be written as a list comprehension."
   ]
  },
  {
   "cell_type": "code",
   "execution_count": 177,
   "metadata": {},
   "outputs": [
    {
     "name": "stdout",
     "output_type": "stream",
     "text": [
      "['P', 'y', 't', 'h', 'o', 'n']\n",
      "['P', 'y', 't', 'h', 'o', 'n']\n"
     ]
    }
   ],
   "source": [
    "# list comprehension vs for loop.\n",
    "\n",
    "# iterating over a string using for loop.\n",
    "my_list = []\n",
    "my_string = 'Python'\n",
    "for letter in my_string:\n",
    "    my_list.append(letter)\n",
    "print(my_list)    \n",
    "\n",
    "# iterating over a string using list comprehension.\n",
    "my_string = 'Python'\n",
    "# Syntax : [expression for item in list] - whether it receives a string or a tuple, works on it like a list.\n",
    "my_list = [letter for letter in my_string] \n",
    "print(my_list)"
   ]
  },
  {
   "cell_type": "markdown",
   "metadata": {},
   "source": [
    "##### Conditionals in list comprehension"
   ]
  },
  {
   "cell_type": "code",
   "execution_count": 178,
   "metadata": {},
   "outputs": [
    {
     "name": "stdout",
     "output_type": "stream",
     "text": [
      "[2, 4, 6, 8, 10, 12, 14, 16, 18]\n",
      "[10, 20, 30, 40, 50, 60, 70, 80, 90]\n"
     ]
    }
   ],
   "source": [
    "# using if with list comprehension to create an even numbered list.\n",
    "num_list = [x for x in range(1,20) if x%2 == 0]\n",
    "print(num_list)\n",
    "\n",
    "# using nested if with list comprehension to create a list of numbers only divisible by 2 & 5.\n",
    "num_list = [x for x in range(1,100) if x%2 == 0 if x%5 ==0] # similar to using if ondition with AND clause.\n",
    "print(num_list)"
   ]
  },
  {
   "cell_type": "code",
   "execution_count": 179,
   "metadata": {},
   "outputs": [
    {
     "name": "stdout",
     "output_type": "stream",
     "text": [
      "['Odd', 'Even', 'Odd', 'Even', 'Odd', 'Even', 'Odd', 'Even', 'Odd', 'Even']\n"
     ]
    }
   ],
   "source": [
    "# using if-else with list comprehension to create a list consisting of even & odd strings basis certain conditions.\n",
    "my_list = [\"Even\" if i%2 == 0 else \"Odd\" for i in range(1, 11)]\n",
    "print(my_list)"
   ]
  },
  {
   "cell_type": "code",
   "execution_count": 180,
   "metadata": {},
   "outputs": [
    {
     "name": "stdout",
     "output_type": "stream",
     "text": [
      "[[1, 5], [2, 6], [3, 7], [4, 8]]\n",
      "[[1, 3, 5, 7], [2, 4, 6, 8]]\n"
     ]
    }
   ],
   "source": [
    "# nested loops in list comprehension.\n",
    "\n",
    "# transpose of a matrix using for loop.\n",
    "transposed = []\n",
    "matrix = [[1, 2, 3, 4], [5, 6, 7, 8]]\n",
    "for i in range(len(matrix[0])):\n",
    "    transposed_row = []\n",
    "    for row in matrix:\n",
    "        transposed_row.append(row[i])\n",
    "    transposed.append(transposed_row)\n",
    "print(transposed) \n",
    "\n",
    "# transpose of a matrix using list comprehension.\n",
    "matrix = [[1, 2], [3, 4], [5, 6], [7, 8]]\n",
    "transpose = [[row[i] for row in matrix] for i in range(len(matrix[i]))] # here the outer part of the code will be executed first as opposed to for loop.\n",
    "print(transpose)\n"
   ]
  }
 ],
 "metadata": {
  "interpreter": {
   "hash": "31f2aee4e71d21fbe5cf8b01ff0e069b9275f58929596ceb00d14d90e3e16cd6"
  },
  "kernelspec": {
   "display_name": "Python 3.8.9 64-bit",
   "language": "python",
   "name": "python3"
  },
  "language_info": {
   "codemirror_mode": {
    "name": "ipython",
    "version": 3
   },
   "file_extension": ".py",
   "mimetype": "text/x-python",
   "name": "python",
   "nbconvert_exporter": "python",
   "pygments_lexer": "ipython3",
   "version": "3.8.9"
  },
  "orig_nbformat": 4
 },
 "nbformat": 4,
 "nbformat_minor": 2
}
